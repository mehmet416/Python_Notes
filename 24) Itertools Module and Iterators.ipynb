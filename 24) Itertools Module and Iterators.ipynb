{
 "cells": [
  {
   "cell_type": "markdown",
   "id": "72239a05-05e1-42a1-8182-33171a468d04",
   "metadata": {},
   "source": [
    "# ITERTOOLS MODULE AND ITERATORS"
   ]
  },
  {
   "cell_type": "markdown",
   "id": "c76aa7b7-9226-40bf-be67-0419baad7d64",
   "metadata": {},
   "source": [
    "In Python, iterators and iterables are fundamental concepts that play a crucial role in working with sequences of data. They provide a way to traverse through elements in a collection, such as lists, strings, or custom objects. Understanding iterators and iterables is essential for efficient and elegant Python programming."
   ]
  },
  {
   "cell_type": "markdown",
   "id": "0fc46a3b-975d-41f4-b8db-96e4481c931e",
   "metadata": {},
   "source": [
    "Here is a general idea of iterables, iterators and iteration:"
   ]
  },
  {
   "cell_type": "code",
   "execution_count": null,
   "id": "9ff6a9bd-88ee-4ada-8ea3-3fb329bdad66",
   "metadata": {},
   "outputs": [],
   "source": [
    "iterable = [1, 2, 3, 4, 5]\n",
    "for item in iterable:\n",
    "    print(item)\n",
    "# every time for loop works, iterator goes over iterable item like next() method\n",
    "# an analogy for the situation--> bread:iterable, knife:iterator, slicing:iteration"
   ]
  },
  {
   "cell_type": "markdown",
   "id": "346d9a71-3d80-4cee-b9b0-24f8e02ab895",
   "metadata": {},
   "source": [
    "Iterables:\n",
    "\n",
    "* An iterable is an object that can be iterated (looped) over.\n",
    "* Examples of built-in iterables include lists, tuples, strings, dictionaries, and sets.\n",
    "* Custom objects can also be made iterable by implementing the __iter__() method, which returns an iterator."
   ]
  },
  {
   "cell_type": "code",
   "execution_count": 2,
   "id": "4d525ad3-a482-4666-aeab-c391698bc963",
   "metadata": {},
   "outputs": [
    {
     "name": "stdout",
     "output_type": "stream",
     "text": [
      "['__add__', '__class__', '__class_getitem__', '__contains__', '__delattr__', '__delitem__', '__dir__', '__doc__', '__eq__', '__format__', '__ge__', '__getattribute__', '__getitem__', '__getstate__', '__gt__', '__hash__', '__iadd__', '__imul__', '__init__', '__init_subclass__', '__iter__', '__le__', '__len__', '__lt__', '__mul__', '__ne__', '__new__', '__reduce__', '__reduce_ex__', '__repr__', '__reversed__', '__rmul__', '__setattr__', '__setitem__', '__sizeof__', '__str__', '__subclasshook__', 'append', 'clear', 'copy', 'count', 'extend', 'index', 'insert', 'pop', 'remove', 'reverse', 'sort']\n"
     ]
    }
   ],
   "source": [
    "my_list = [1,2,3,4]\n",
    "print(dir(my_list)) # lists are iterable items so that you can reach its items on a for loop."
   ]
  },
  {
   "cell_type": "markdown",
   "id": "4d692d78-80e4-4bc4-af86-44e13e8e5051",
   "metadata": {},
   "source": [
    "Iterators:\n",
    "\n",
    "* An iterator is an object that represents a stream of data and implements the iterator protocol.\n",
    "* It must implement two methods: __iter__() (returns the iterator object itself) and __next__() (returns the next element from the stream).\n",
    "* The __next__() method raises the StopIteration exception when there are no more items to be returned.\n",
    "* Iterators maintain their state, allowing them to remember the current position in the data stream."
   ]
  },
  {
   "cell_type": "code",
   "execution_count": 5,
   "id": "53a7ab05-8eb0-4a09-9b21-38b069c091c5",
   "metadata": {},
   "outputs": [
    {
     "ename": "TypeError",
     "evalue": "'list' object is not an iterator",
     "output_type": "error",
     "traceback": [
      "\u001b[1;31m---------------------------------------------------------------------------\u001b[0m",
      "\u001b[1;31mTypeError\u001b[0m                                 Traceback (most recent call last)",
      "Cell \u001b[1;32mIn[5], line 1\u001b[0m\n\u001b[1;32m----> 1\u001b[0m \u001b[38;5;28;43mnext\u001b[39;49m\u001b[43m(\u001b[49m\u001b[43mmy_list\u001b[49m\u001b[43m)\u001b[49m \u001b[38;5;66;03m# since lists are not iterators, you cannot call the its elements by next method. \u001b[39;00m\n",
      "\u001b[1;31mTypeError\u001b[0m: 'list' object is not an iterator"
     ]
    }
   ],
   "source": [
    "next(my_list) # since lists are not iterators, you cannot call the its elements by next method. "
   ]
  },
  {
   "cell_type": "code",
   "execution_count": 8,
   "id": "c8959c80-3fa0-4afa-ad95-8c63aa5b94d9",
   "metadata": {},
   "outputs": [
    {
     "name": "stdout",
     "output_type": "stream",
     "text": [
      "<list_iterator object at 0x00000258B8BA5CF0>\n",
      "1\n",
      "2\n"
     ]
    }
   ],
   "source": [
    "new_list = iter(my_list)\n",
    "print(new_list)\n",
    "print(next(new_list))\n",
    "print(next(new_list))"
   ]
  },
  {
   "cell_type": "markdown",
   "id": "190f5024-7ac2-43cd-b0a5-a8e65e7ed5a7",
   "metadata": {},
   "source": [
    "Difference:\n",
    "\n",
    "* The key difference between an iterable and an iterator is that an iterable is an object that can be looped over, while an iterator is an object that allows you to traverse the items of an iterable one by one.\n",
    "* Iterables provide a way to create iterators, and iterators are responsible for managing the state of iteration and returning items.\n",
    "* In summary, iterables represent collections of data, and iterators are objects used to access and traverse the items within those collections."
   ]
  },
  {
   "cell_type": "code",
   "execution_count": 11,
   "id": "67c52ca4-8272-42a9-b883-88d4589d9d91",
   "metadata": {},
   "outputs": [
    {
     "name": "stdout",
     "output_type": "stream",
     "text": [
      "1\n",
      "2\n",
      "3\n"
     ]
    },
    {
     "ename": "StopIteration",
     "evalue": "",
     "output_type": "error",
     "traceback": [
      "\u001b[1;31m---------------------------------------------------------------------------\u001b[0m",
      "\u001b[1;31mStopIteration\u001b[0m                             Traceback (most recent call last)",
      "Cell \u001b[1;32mIn[11], line 7\u001b[0m\n\u001b[0;32m      5\u001b[0m \u001b[38;5;28mprint\u001b[39m(\u001b[38;5;28mnext\u001b[39m(i_nums))\n\u001b[0;32m      6\u001b[0m \u001b[38;5;28mprint\u001b[39m(\u001b[38;5;28mnext\u001b[39m(i_nums))\n\u001b[1;32m----> 7\u001b[0m \u001b[38;5;28mprint\u001b[39m(\u001b[38;5;28;43mnext\u001b[39;49m\u001b[43m(\u001b[49m\u001b[43mi_nums\u001b[49m\u001b[43m)\u001b[49m)\n",
      "\u001b[1;31mStopIteration\u001b[0m: "
     ]
    }
   ],
   "source": [
    "nums = [1,2,3]\n",
    "i_nums = iter(nums)  # i_nums = nums.__iter__() this gives the same result\n",
    "\n",
    "print(next(i_nums))\n",
    "print(next(i_nums))\n",
    "print(next(i_nums))\n",
    "print(next(i_nums))"
   ]
  },
  {
   "cell_type": "code",
   "execution_count": 13,
   "id": "62c6860a-87d9-4fdc-b6a9-35d2735a1f85",
   "metadata": {},
   "outputs": [
    {
     "name": "stdout",
     "output_type": "stream",
     "text": [
      "1\n",
      "2\n",
      "3\n"
     ]
    }
   ],
   "source": [
    "# The iteration process above works like below. Actually it has the same logic as for loop\n",
    "\n",
    "nums = [1,2,3]\n",
    "i_nums = iter(nums)\n",
    "while True:\n",
    "    try:\n",
    "        item = next(i_nums)\n",
    "        print(item)\n",
    "    except StopIteration:\n",
    "        break\n",
    "# for i in nums:\n",
    "#     print(i)"
   ]
  },
  {
   "cell_type": "markdown",
   "id": "b0a37d14-83c1-4469-92ad-781b01137631",
   "metadata": {},
   "source": [
    "Creating Custom Iterables and Iterators:"
   ]
  },
  {
   "cell_type": "code",
   "execution_count": 14,
   "id": "53ffd743-4e8e-44e4-b9f5-1d1d2745846a",
   "metadata": {},
   "outputs": [
    {
     "name": "stdout",
     "output_type": "stream",
     "text": [
      "0\n",
      "1\n",
      "<__main__.MyRange object at 0x00000258B902BF90>\n",
      "[2]\n"
     ]
    }
   ],
   "source": [
    "class MyRange:\n",
    "    def __init__(self, *args):\n",
    "        if len(args) == 1:\n",
    "            self.start = 0\n",
    "            self.end = args[0]\n",
    "        elif len(args) == 2:\n",
    "            self.start = args[0]\n",
    "            self.end = args[1]\n",
    "        else:\n",
    "            raise ValueError(\"MyRange expects 1 or 2 arguments\")\n",
    "\n",
    "    def __iter__(self):\n",
    "        return self\n",
    "    def __next__(self):\n",
    "        if self.start == None:\n",
    "            self.start = 0\n",
    "        current = self.start\n",
    "        if current >= self.end:\n",
    "            raise StopIteration\n",
    "        self.start += 1\n",
    "        return current\n",
    "nums = MyRange(3)\n",
    "print(next(nums))\n",
    "print(next(nums))\n",
    "\n",
    "print(nums)\n",
    "print(list(nums))\n",
    "for num in nums:\n",
    "    print(num)"
   ]
  },
  {
   "cell_type": "markdown",
   "id": "28c0636c-b673-4995-b664-90f338ef76f0",
   "metadata": {},
   "source": [
    "We can also create an iterator by using generator functions"
   ]
  },
  {
   "cell_type": "code",
   "execution_count": 15,
   "id": "b31036a1-c63e-48f5-915d-2eabc3c01c0c",
   "metadata": {},
   "outputs": [
    {
     "name": "stdout",
     "output_type": "stream",
     "text": [
      "<generator object my_range at 0x00000258B900F850>\n",
      "1\n",
      "2\n"
     ]
    }
   ],
   "source": [
    "def my_range(start, end):\n",
    "    while start < end:\n",
    "        yield start\n",
    "        start += 1\n",
    "\n",
    "nums = my_range(1, 3)\n",
    "print(nums)\n",
    "print(next(nums))\n",
    "print(next(nums))"
   ]
  },
  {
   "cell_type": "markdown",
   "id": "680baab0-e1bc-4260-9250-e28726770ffb",
   "metadata": {},
   "source": [
    "## Itertools Module"
   ]
  },
  {
   "cell_type": "markdown",
   "id": "5695bc15-10f4-40ca-8b53-4bb7d3c8e14a",
   "metadata": {},
   "source": [
    "The itertools module in Python is a standard library module that provides a set of fast, memory-efficient tools for working with iterators, which are objects that generate values on-the-fly. These tools are useful for various types of iteration and combinatorial problems. The itertools module contains functions that allow you to create iterators for common tasks without needing to write custom loops or boilerplate code.\n",
    "\n",
    "Here are some commonly used functions from the itertools module along with examples:"
   ]
  },
  {
   "cell_type": "markdown",
   "id": "e132f317-3faf-4360-abcd-6ecaaaeab311",
   "metadata": {
    "jp-MarkdownHeadingCollapsed": true
   },
   "source": [
    "#### 1) count(start=0, step=1): Generates an infinite sequence of numbers, starting from start with the given step"
   ]
  },
  {
   "cell_type": "code",
   "execution_count": 18,
   "id": "2aaf6601-e4f7-44e7-b64c-5accec6ef30e",
   "metadata": {},
   "outputs": [
    {
     "name": "stdout",
     "output_type": "stream",
     "text": [
      "0\n",
      "1\n",
      "2\n"
     ]
    }
   ],
   "source": [
    "import itertools \n",
    "counter = itertools.count()\n",
    "print(next(counter))\n",
    "print(next(counter))\n",
    "print(next(counter))"
   ]
  },
  {
   "cell_type": "code",
   "execution_count": 19,
   "id": "c1a23a7f-b99c-4094-9b4f-27640e00ec7e",
   "metadata": {},
   "outputs": [
    {
     "name": "stdout",
     "output_type": "stream",
     "text": [
      "1\n",
      "3\n",
      "5\n",
      "7\n",
      "9\n"
     ]
    }
   ],
   "source": [
    "import itertools\n",
    "\n",
    "for i in itertools.count(start=1, step=2):\n",
    "    if i > 10:\n",
    "        break\n",
    "    print(i)"
   ]
  },
  {
   "cell_type": "code",
   "execution_count": 22,
   "id": "79a481aa-8679-4968-a37a-69fcc0624ddc",
   "metadata": {},
   "outputs": [
    {
     "name": "stdout",
     "output_type": "stream",
     "text": [
      "[(0, 100), (1, 200), (2, 300), (3, 400)]\n"
     ]
    }
   ],
   "source": [
    "import itertools\n",
    "counter = itertools.count()\n",
    "data = [100,200,300,400]\n",
    "daily_data = list(zip(counter, data))\n",
    "print(daily_data)"
   ]
  },
  {
   "cell_type": "code",
   "execution_count": 24,
   "id": "d796e061-68a8-4984-b9ec-d6edb87f203f",
   "metadata": {},
   "outputs": [
    {
     "name": "stdout",
     "output_type": "stream",
     "text": [
      "[(0, 100), (1, 200), (2, 300), (3, 400), (4, None), (5, None), (6, None), (7, None), (8, None), (9, None)]\n"
     ]
    }
   ],
   "source": [
    "import itertools\n",
    "data = [100,200,300,400]\n",
    "daily_data = list(itertools.zip_longest(range(10), data))\n",
    "print(daily_data)"
   ]
  },
  {
   "cell_type": "markdown",
   "id": "ae6094e5-563b-42da-8888-a30dd9c41ca5",
   "metadata": {
    "jp-MarkdownHeadingCollapsed": true
   },
   "source": [
    "#### 2) cycle(iterable): Creates an iterator that endlessly repeats the elements of the input iterable."
   ]
  },
  {
   "cell_type": "code",
   "execution_count": 25,
   "id": "14ff2331-004f-4e50-905b-53831a8540d6",
   "metadata": {},
   "outputs": [
    {
     "name": "stdout",
     "output_type": "stream",
     "text": [
      "red\n",
      "green\n",
      "blue\n",
      "red\n",
      "green\n"
     ]
    }
   ],
   "source": [
    "import itertools\n",
    "\n",
    "colors = itertools.cycle(['red', 'green', 'blue'])\n",
    "\n",
    "print(next(colors))\n",
    "print(next(colors))\n",
    "print(next(colors))\n",
    "print(next(colors))\n",
    "print(next(colors))"
   ]
  },
  {
   "cell_type": "markdown",
   "id": "e8347f8f-31f8-4b5e-b9ba-212dfcf516d2",
   "metadata": {
    "jp-MarkdownHeadingCollapsed": true
   },
   "source": [
    "#### 3) repeat(elem, times=None): Generates an iterator that produces the same elem value a specified number of times."
   ]
  },
  {
   "cell_type": "code",
   "execution_count": 27,
   "id": "cbffacb2-364f-4991-9928-d4a0ef0a6511",
   "metadata": {},
   "outputs": [
    {
     "name": "stdout",
     "output_type": "stream",
     "text": [
      "Hello\n",
      "Hello\n",
      "Hello\n"
     ]
    }
   ],
   "source": [
    "import itertools\n",
    "\n",
    "for i in itertools.repeat('Hello', 3):\n",
    "    print(i)\n",
    "\n",
    "# If you do not define how many times, it will run an infinite loop."
   ]
  },
  {
   "cell_type": "code",
   "execution_count": 28,
   "id": "081ac3db-628c-49b8-9ce9-02d1f3cb5d50",
   "metadata": {},
   "outputs": [
    {
     "name": "stdout",
     "output_type": "stream",
     "text": [
      "[0, 1, 4, 9, 16, 25, 36, 49, 64, 81]\n"
     ]
    }
   ],
   "source": [
    "import itertools\n",
    "\n",
    "counter = itertools.repeat(2)\n",
    "square = map(pow, range(10), counter) #map(function, iterable, ...) arguemtns of map are function and iterables\n",
    "print(list(square))\n"
   ]
  },
  {
   "cell_type": "code",
   "execution_count": 29,
   "id": "954ee438-f374-4770-8b78-3f24811fd7eb",
   "metadata": {},
   "outputs": [
    {
     "name": "stdout",
     "output_type": "stream",
     "text": [
      "[0, 1, 4, 9, 16]\n"
     ]
    }
   ],
   "source": [
    "square = itertools.starmap(pow, [(0,2), (1,2), (2,2), (3,2), (4,2)])\n",
    "print(list(square))"
   ]
  },
  {
   "cell_type": "markdown",
   "id": "e70cbc81-1733-47c6-b8d2-b768cda2b346",
   "metadata": {
    "jp-MarkdownHeadingCollapsed": true
   },
   "source": [
    "#### 4) combinations(iterable, r): Generates all possible combinations of r elements from the given iterable"
   ]
  },
  {
   "cell_type": "code",
   "execution_count": 31,
   "id": "47e5d8d3-7acf-4ca2-8ab4-5453c040e879",
   "metadata": {},
   "outputs": [
    {
     "name": "stdout",
     "output_type": "stream",
     "text": [
      "('red', 'green', 'blue')\n",
      "('red', 'green', 'purple')\n",
      "('red', 'blue', 'purple')\n",
      "('green', 'blue', 'purple')\n"
     ]
    }
   ],
   "source": [
    "import itertools\n",
    "\n",
    "colors = ['red', 'green', 'blue', 'purple']\n",
    "combs = itertools.combinations(colors, 3)\n",
    "for comb in combs:\n",
    "    print(comb)"
   ]
  },
  {
   "cell_type": "markdown",
   "id": "2a2e5309-e60e-4d3b-ba57-f0602fd123d7",
   "metadata": {
    "jp-MarkdownHeadingCollapsed": true
   },
   "source": [
    "#### 5) permutations(iterable, r=None): Generates all possible permutations of r elements from the given iterable"
   ]
  },
  {
   "cell_type": "code",
   "execution_count": 32,
   "id": "37e5f103-2462-4e30-9270-07d21d146075",
   "metadata": {},
   "outputs": [
    {
     "name": "stdout",
     "output_type": "stream",
     "text": [
      "(1, 2)\n",
      "(1, 3)\n",
      "(2, 1)\n",
      "(2, 3)\n",
      "(3, 1)\n",
      "(3, 2)\n"
     ]
    }
   ],
   "source": [
    "import itertools\n",
    "\n",
    "numbers = [1, 2, 3]\n",
    "perms = itertools.permutations(numbers, 2)\n",
    "for perm in perms:\n",
    "    print(perm)"
   ]
  },
  {
   "cell_type": "markdown",
   "id": "c353b436-a6bc-4f1b-abaf-db4922239b2f",
   "metadata": {
    "jp-MarkdownHeadingCollapsed": true
   },
   "source": [
    "#### 6) product(*iterables, repeat=1): Generates the Cartesian product of multiple iterables."
   ]
  },
  {
   "cell_type": "code",
   "execution_count": 33,
   "id": "32cd896e-2f9e-4336-b70b-4495462f6938",
   "metadata": {},
   "outputs": [
    {
     "name": "stdout",
     "output_type": "stream",
     "text": [
      "('red', 'small')\n",
      "('red', 'medium')\n",
      "('green', 'small')\n",
      "('green', 'medium')\n",
      "('blue', 'small')\n",
      "('blue', 'medium')\n"
     ]
    }
   ],
   "source": [
    "import itertools\n",
    "\n",
    "colors = ['red', 'green', 'blue']\n",
    "sizes = ['small', 'medium']\n",
    "\n",
    "combinations = itertools.product(colors, sizes)\n",
    "for combo in combinations:\n",
    "    print(combo)"
   ]
  },
  {
   "cell_type": "code",
   "execution_count": 37,
   "id": "fbf42a58-3151-45ae-ba3c-9a782621e38a",
   "metadata": {},
   "outputs": [
    {
     "name": "stdout",
     "output_type": "stream",
     "text": [
      "(1, 1)\n",
      "(1, 2)\n",
      "(1, 3)\n",
      "(2, 1)\n",
      "(2, 2)\n",
      "(2, 3)\n",
      "(3, 1)\n",
      "(3, 2)\n",
      "(3, 3)\n"
     ]
    }
   ],
   "source": [
    "import itertools\n",
    "\n",
    "numbers = [1, 2, 3]\n",
    "combinations = itertools.product(numbers, repeat=2) # if repeat=3, triple tuples of production will be printed. \n",
    "for combo in combinations:\n",
    "    print(combo)"
   ]
  },
  {
   "cell_type": "markdown",
   "id": "2bbdaa39-402a-4d3f-a7be-c36f9d0aed51",
   "metadata": {
    "jp-MarkdownHeadingCollapsed": true
   },
   "source": [
    "#### Difference Between combinations, permutation, product(), combinations_with_replacement() methods"
   ]
  },
  {
   "cell_type": "code",
   "execution_count": 45,
   "id": "d4189557-1773-4cc3-b979-dfeaadf9b5bf",
   "metadata": {},
   "outputs": [
    {
     "name": "stdout",
     "output_type": "stream",
     "text": [
      "('red', 'green')\n",
      "('red', 'blue')\n",
      "('green', 'blue')\n"
     ]
    }
   ],
   "source": [
    "import itertools\n",
    "\n",
    "colors = ['red', 'green', 'blue']\n",
    "combinations = itertools.combinations(colors, 2)\n",
    "for combo in combinations:\n",
    "    print(combo)\n"
   ]
  },
  {
   "cell_type": "code",
   "execution_count": 44,
   "id": "2f4f5675-c59a-4dae-a556-1bec10ab8281",
   "metadata": {},
   "outputs": [
    {
     "name": "stdout",
     "output_type": "stream",
     "text": [
      "('red', 'green')\n",
      "('red', 'blue')\n",
      "('green', 'red')\n",
      "('green', 'blue')\n",
      "('blue', 'red')\n",
      "('blue', 'green')\n"
     ]
    }
   ],
   "source": [
    "import itertools\n",
    "\n",
    "colors = ['red', 'green', 'blue']\n",
    "combinations = itertools.permutations(colors, 2)\n",
    "for combo in combinations:\n",
    "    print(combo)\n"
   ]
  },
  {
   "cell_type": "code",
   "execution_count": 42,
   "id": "60811345-0d6f-4455-9b5d-0e124ed37475",
   "metadata": {},
   "outputs": [
    {
     "name": "stdout",
     "output_type": "stream",
     "text": [
      "('red', 'red')\n",
      "('red', 'green')\n",
      "('red', 'blue')\n",
      "('green', 'red')\n",
      "('green', 'green')\n",
      "('green', 'blue')\n",
      "('blue', 'red')\n",
      "('blue', 'green')\n",
      "('blue', 'blue')\n"
     ]
    }
   ],
   "source": [
    "import itertools\n",
    "\n",
    "colors = ['red', 'green', 'blue']\n",
    "combinations = itertools.product(colors, repeat=2)\n",
    "for combo in combinations:\n",
    "    print(combo)\n"
   ]
  },
  {
   "cell_type": "code",
   "execution_count": 41,
   "id": "dbd86ab9-6c1f-437c-92cd-4438d6dce842",
   "metadata": {},
   "outputs": [
    {
     "name": "stdout",
     "output_type": "stream",
     "text": [
      "('red', 'red')\n",
      "('red', 'green')\n",
      "('red', 'blue')\n",
      "('green', 'green')\n",
      "('green', 'blue')\n",
      "('blue', 'blue')\n"
     ]
    }
   ],
   "source": [
    "import itertools\n",
    "\n",
    "colors = ['red', 'green', 'blue']\n",
    "combinations = itertools.combinations_with_replacement(colors, 2)\n",
    "for combo in combinations:\n",
    "    print(combo)\n"
   ]
  },
  {
   "cell_type": "markdown",
   "id": "dc2df4ca-8654-48c4-abc3-2801d8ceca13",
   "metadata": {
    "jp-MarkdownHeadingCollapsed": true
   },
   "source": [
    "#### 7) chain(iterable1, iterable2, ...): Combines multiple iterables into a single iterable sequence."
   ]
  },
  {
   "cell_type": "code",
   "execution_count": 47,
   "id": "7952a3a3-5191-4651-af77-83e1bf1d793a",
   "metadata": {},
   "outputs": [
    {
     "name": "stdout",
     "output_type": "stream",
     "text": [
      "1\n",
      "2\n",
      "3\n",
      "a\n",
      "b\n",
      "c\n"
     ]
    }
   ],
   "source": [
    "import itertools\n",
    "\n",
    "numbers = range(1, 4)\n",
    "letters = ['a', 'b', 'c']\n",
    "\n",
    "combined = itertools.chain(numbers, letters)\n",
    "for item in combined:\n",
    "    print(item)\n",
    "    "
   ]
  },
  {
   "cell_type": "markdown",
   "id": "a3dc1400-1888-4c98-bbfa-2a753e007e09",
   "metadata": {},
   "source": [
    "**Why dont't we use simply combined=numbers+letters instead of combined = itertools.chain(numbers, letters)**"
   ]
  },
  {
   "cell_type": "markdown",
   "id": "86e40dd9-e4af-4736-b0a1-072139d28c38",
   "metadata": {},
   "source": [
    "You can indeed use the + operator to concatenate two lists, like combined = numbers + letters, but there are some differences and considerations to keep in mind when deciding whether to use the + operator or itertools.chain()"
   ]
  },
  {
   "cell_type": "markdown",
   "id": "ee02bb8a-35cd-43a6-99e4-817042096624",
   "metadata": {},
   "source": [
    "**Memory Efficiency:** When you use the + operator, a new list is created in memory, and all the elements of both lists are copied into the new list. This can be memory-intensive, especially for large lists. On the other hand, itertools.chain() generates elements on-the-fly without creating a new list, making it more memory-efficient."
   ]
  },
  {
   "cell_type": "markdown",
   "id": "329dc16e-ee77-4d6e-9a09-7376600ab2ff",
   "metadata": {},
   "source": [
    "**Laziness:** itertools.chain() is a generator, which means it generates values one at a time as you iterate over it. This is advantageous when you're dealing with large data sets or when you want to optimize memory usage. The + operator creates a new list immediately, regardless of whether you need all the elements at once."
   ]
  },
  {
   "cell_type": "markdown",
   "id": "eabd64ed-1b26-498f-b6cd-8e8621629c25",
   "metadata": {
    "jp-MarkdownHeadingCollapsed": true
   },
   "source": [
    "#### 8) islice() function from the itertools module allows you to create an iterator that returns selected elements from the input iterable, similar to slicing a list. It provides more memory-efficient slicing for large iterables, as it produces elements on-the-fly without creating a new list in memory."
   ]
  },
  {
   "cell_type": "markdown",
   "id": "3bd6dc40-ed6b-4af1-a9cd-58d2956a1532",
   "metadata": {},
   "source": [
    "The islice() function takes the following arguments:\n",
    "\n",
    "* iterable: The input iterable from which you want to select elements.\n",
    "* start: The starting index of the slice.\n",
    "* stop: The stopping index of the slice (exclusive).\n",
    "* step (optional): The step size between selected elements. Default is 1."
   ]
  },
  {
   "cell_type": "markdown",
   "id": "e0b34bc0-5725-4014-b1ee-cad7d1417b78",
   "metadata": {},
   "source": [
    "**NOTE:** Taking an iterable and only one argument represents how many items to itertate  \n",
    "Here are some examples of using islice():"
   ]
  },
  {
   "cell_type": "code",
   "execution_count": 2,
   "id": "6e2ccf4d-3a9a-40c2-81c1-21f6bdfad1ac",
   "metadata": {},
   "outputs": [
    {
     "name": "stdout",
     "output_type": "stream",
     "text": [
      "[2, 3, 4, 5, 6, 7]\n",
      "[4, 5]\n",
      "[2, 6, 10, 14, 18]\n",
      "world\n",
      "[5, 6, 7, 8, 9, 10, 11, 12, 13, 14]\n"
     ]
    }
   ],
   "source": [
    "import itertools\n",
    "\n",
    "# Example 1: Slicing a range of numbers\n",
    "numbers = range(10)\n",
    "selected_numbers = itertools.islice(numbers, 2, 8)\n",
    "print(list(selected_numbers))  # Output: [2, 3, 4, 5, 6, 7]\n",
    "\n",
    "# Example 2: Slicing a range of numbers with one argument\n",
    "numbers = range(4,10)\n",
    "selected_numbers = itertools.islice(numbers, 2)\n",
    "print(list(selected_numbers))  # Output: [4, 5]\n",
    "\n",
    "# Example 3: Slicing with step\n",
    "even_numbers = range(0, 20, 2)\n",
    "selected_even_numbers = itertools.islice(even_numbers, 1, 10, 2)\n",
    "print(list(selected_even_numbers))  # Output: [2, 6, 10, 14, 18]\n",
    "\n",
    "# Example 4: Slicing a string\n",
    "text = \"Hello, world!\"\n",
    "selected_chars = itertools.islice(text, 7, 12)\n",
    "print(''.join(selected_chars))  # Output: \"world\"\n",
    "\n",
    "# Example 5: Slicing an infinite iterator\n",
    "counter = itertools.count()\n",
    "selected_counter = itertools.islice(counter, 5, 15)\n",
    "print(list(selected_counter))  # Output: [5, 6, 7, 8, 9, 10, 11, 12, 13, 14]\n"
   ]
  },
  {
   "cell_type": "markdown",
   "id": "c0c645c6-97b1-428c-bad0-6a0a79132b69",
   "metadata": {
    "jp-MarkdownHeadingCollapsed": true
   },
   "source": [
    "#### 9) accumulate(iterable, func=operator.add): Generates accumulated values from an iterable using a provided function."
   ]
  },
  {
   "cell_type": "code",
   "execution_count": 6,
   "id": "2cb91d99-8a4b-4423-9908-ab4433806fab",
   "metadata": {},
   "outputs": [
    {
     "name": "stdout",
     "output_type": "stream",
     "text": [
      "[1, 3, 6, 10, 15]\n",
      "[2, 6, 24, 120]\n",
      "[1, 5, 11, 19, 29]\n",
      "[1, 3, 6, 10]\n"
     ]
    }
   ],
   "source": [
    "import itertools\n",
    "\n",
    "# Example 1: Calculating the running sum\n",
    "numbers = [1, 2, 3, 4, 5]\n",
    "running_sum = itertools.accumulate(numbers)\n",
    "print(list(running_sum))  # Output: [1, 3, 6, 10, 15]\n",
    "\n",
    "# Example 2: Calculating the cumulative product\n",
    "import operator\n",
    "numbers = [2, 3, 4, 5]\n",
    "cumulative_product = itertools.accumulate(numbers, operator.mul)\n",
    "print(list(cumulative_product))  # Output: [2, 6, 24, 120]\n",
    "\n",
    "# Example 3: Custom accumulation function\n",
    "def custom_accumulate(a, b):\n",
    "    return a + 2 * b\n",
    "\n",
    "values = [1, 2, 3, 4, 5]\n",
    "custom_accumulated = itertools.accumulate(values, custom_accumulate)\n",
    "print(list(custom_accumulated))  # Output: [1, 5, 11, 19, 29]\n",
    "\n",
    "# Example 4: Accumulating strings\n",
    "def custom(a, b):\n",
    "    if str(a).isalpha() and str(b).isalpha():\n",
    "        return len(b) + len(a)\n",
    "    elif str(b).isalpha():\n",
    "        return a + len(b)\n",
    "\n",
    "strings = [\"a\", \"bb\", \"ccc\", \"dddd\"]\n",
    "string_lengths = itertools.accumulate(strings, custom)\n",
    "strings[0] = len(strings[0])\n",
    "print(list(string_lengths))  # Output: [1, 3, 6, 10]\n"
   ]
  },
  {
   "cell_type": "markdown",
   "id": "5e265945-efb3-4c12-b4e6-6e7db17a384d",
   "metadata": {
    "jp-MarkdownHeadingCollapsed": true
   },
   "source": [
    "#### 10) groupby() function from the itertools module groups consecutive elements of an iterable based on a key function. It returns an iterator of (key, group) pairs where each key is the value returned by the key function and each group is an iterator over the elements that share the same key."
   ]
  },
  {
   "cell_type": "code",
   "execution_count": 7,
   "id": "27c6f348-4ec4-4680-bb24-d8a35739f8c8",
   "metadata": {},
   "outputs": [
    {
     "name": "stdout",
     "output_type": "stream",
     "text": [
      "Key: False, Group: [1]\n",
      "Key: True, Group: [2]\n",
      "Key: False, Group: [3]\n",
      "Key: True, Group: [4]\n",
      "Key: False, Group: [5]\n",
      "Key: True, Group: [6]\n",
      "Key: False, Group: [7]\n",
      "Key: True, Group: [8]\n",
      "Key: False, Group: [9]\n",
      "Key: 5, Group: ['apple']\n",
      "Key: 6, Group: ['banana']\n",
      "Key: 4, Group: ['kiwi']\n",
      "Key: 5, Group: ['grape']\n",
      "Key: 4, Group: ['pear']\n",
      "Key: 6, Group: ['orange']\n"
     ]
    }
   ],
   "source": [
    "import itertools\n",
    "\n",
    "# Example 1: Grouping consecutive numbers by even and odd\n",
    "numbers = [1, 2, 3, 4, 5, 6, 7, 8, 9]\n",
    "grouped_numbers = itertools.groupby(numbers, lambda x: x % 2 == 0)\n",
    "for key, group in grouped_numbers:\n",
    "    print(f\"Key: {key}, Group: {list(group)}\")\n",
    "\n",
    "# Output:\n",
    "# Key: False, Group: [1]\n",
    "# Key: True, Group: [2]\n",
    "# Key: False, Group: [3]\n",
    "# Key: True, Group: [4]\n",
    "# Key: False, Group: [5]\n",
    "# Key: True, Group: [6]\n",
    "# Key: False, Group: [7]\n",
    "# Key: True, Group: [8]\n",
    "# Key: False, Group: [9]\n",
    "\n",
    "# Example 2: Grouping strings by their lengths\n",
    "strings = [\"apple\", \"banana\", \"kiwi\", \"grape\", \"pear\", \"orange\"]\n",
    "grouped_strings = itertools.groupby(strings, lambda x: len(x))\n",
    "for key, group in grouped_strings:\n",
    "    print(f\"Key: {key}, Group: {list(group)}\")\n",
    "\n",
    "# Output:\n",
    "# Key: 5, Group: ['apple', 'kiwi', 'grape']\n",
    "# Key: 6, Group: ['banana']\n",
    "# Key: 4, Group: ['pear']\n",
    "# Key: 6, Group: ['orange']\n"
   ]
  },
  {
   "cell_type": "code",
   "execution_count": 8,
   "id": "6ef7d11b-289b-4dc1-811a-6e626a6c8b85",
   "metadata": {},
   "outputs": [
    {
     "name": "stdout",
     "output_type": "stream",
     "text": [
      "City: London\n",
      "  Name: Sam, Salary: 2000\n",
      "  Name: Tom, Salary: 1000\n",
      "City: Moscow\n",
      "  Name: Max, Salary: 2000\n",
      "  Name: Alex, Salary: 3000\n",
      "City: New York\n",
      "  Name: John, Salary: 1000\n",
      "  Name: Kate, Salary: 1000\n",
      "  Name: Bob, Salary: 3000\n"
     ]
    }
   ],
   "source": [
    "import itertools\n",
    "\n",
    "people = [\n",
    "    {\"name\": \"John\", \"city\": \"New York\", \"salary\": 1000},\n",
    "    {\"name\": \"Max\", \"city\": \"Moscow\", \"salary\": 2000},\n",
    "    {\"name\": \"Alex\", \"city\": \"Moscow\", \"salary\": 3000},\n",
    "    {\"name\": \"Sam\", \"city\": \"London\", \"salary\": 2000},\n",
    "    {\"name\": \"Kate\", \"city\": \"New York\", \"salary\": 1000},\n",
    "    {\"name\": \"Tom\", \"city\": \"London\", \"salary\": 1000},\n",
    "    {\"name\": \"Bob\", \"city\": \"New York\", \"salary\": 3000},\n",
    "]\n",
    "\n",
    "# Sort the list by the key function\n",
    "people.sort(key=lambda x: x[\"city\"])\n",
    "\n",
    "# Define the key function\n",
    "def get_key(item):\n",
    "    return item[\"city\"]\n",
    "\n",
    "# Group and list people by city\n",
    "grouped_people = itertools.groupby(people, get_key)\n",
    "\n",
    "for city, group in grouped_people:\n",
    "    print(f\"City: {city}\")\n",
    "    for person in group:\n",
    "        print(f\"  Name: {person['name']}, Salary: {person['salary']}\")\n"
   ]
  },
  {
   "cell_type": "markdown",
   "id": "7f7ece59-1ae2-4d00-9e3d-de6a293631d7",
   "metadata": {
    "jp-MarkdownHeadingCollapsed": true
   },
   "source": [
    "#### 11) tee(iterable, n=2): Creates n independent iterators from a single input iterator."
   ]
  },
  {
   "cell_type": "code",
   "execution_count": 9,
   "id": "8d52d837-2e3f-49e7-8a5a-60970c81d22d",
   "metadata": {},
   "outputs": [
    {
     "name": "stdout",
     "output_type": "stream",
     "text": [
      "[1, 2, 3, 4, 5]\n",
      "[1, 2, 3, 4, 5]\n"
     ]
    }
   ],
   "source": [
    "import itertools\n",
    "\n",
    "# Example 1: Creating two independent iterators\n",
    "numbers = [1, 2, 3, 4, 5]\n",
    "iter1, iter2 = itertools.tee(numbers, 2)\n",
    "\n",
    "print(list(iter1))  # Output: [1, 2, 3, 4, 5]\n",
    "print(list(iter2))  # Output: [1, 2, 3, 4, 5]"
   ]
  }
 ],
 "metadata": {
  "kernelspec": {
   "display_name": "Python 3 (ipykernel)",
   "language": "python",
   "name": "python3"
  },
  "language_info": {
   "codemirror_mode": {
    "name": "ipython",
    "version": 3
   },
   "file_extension": ".py",
   "mimetype": "text/x-python",
   "name": "python",
   "nbconvert_exporter": "python",
   "pygments_lexer": "ipython3",
   "version": "3.11.2"
  }
 },
 "nbformat": 4,
 "nbformat_minor": 5
}
