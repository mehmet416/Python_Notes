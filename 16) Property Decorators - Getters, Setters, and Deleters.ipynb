{
 "cells": [
  {
   "cell_type": "markdown",
   "id": "ea0afe7c-5e42-4afc-b2e6-ebf659d33aee",
   "metadata": {},
   "source": [
    "# PROPERTY DECORATORS - GETTERS, SETTERS AND DELETERS"
   ]
  },
  {
   "cell_type": "markdown",
   "id": "049d3c3d-a8af-4336-92e3-c6ab8956a479",
   "metadata": {},
   "source": [
    "In Python, property decorators are a way to control the access and modification of class attributes. They allow us to define getter, setter, and deleter methods for attributes, giving us more control over the attribute's behavior."
   ]
  },
  {
   "cell_type": "code",
   "execution_count": 9,
   "id": "a4bb7b70-4fee-4cb0-a618-5d264e9d2147",
   "metadata": {},
   "outputs": [
    {
     "name": "stdout",
     "output_type": "stream",
     "text": [
      "John\n",
      "John Smith\n",
      "John.Smith@email.com\n"
     ]
    }
   ],
   "source": [
    "class Employee:\n",
    "    def __init__(self, first, last):\n",
    "        self.first = first\n",
    "        self.last = last\n",
    "        self.email = first + \".\" + last + \"@email.com\"\n",
    "\n",
    "    def fullname(self):\n",
    "        return f\"{self.first} {self.last}\"\n",
    "\n",
    "\n",
    "emp1 = Employee(\"John\", \"Smith\")\n",
    "print(emp1.first)\n",
    "print(emp1.fullname())\n",
    "print(emp1.email)"
   ]
  },
  {
   "cell_type": "code",
   "execution_count": 11,
   "id": "be94766b-6480-472b-bb05-4da337050f92",
   "metadata": {},
   "outputs": [
    {
     "name": "stdout",
     "output_type": "stream",
     "text": [
      "Jim\n",
      "Jim Smith\n",
      "John.Smith@email.com\n"
     ]
    }
   ],
   "source": [
    "emp1.first = \"Jim\"\n",
    "print(emp1.first)\n",
    "print(emp1.fullname())\n",
    "print(emp1.email)   # since email defined on the first input we provide, it did not change. To solve the problem, we can define an email function"
   ]
  },
  {
   "cell_type": "code",
   "execution_count": 16,
   "id": "1cb05b2b-61fd-42ee-8c7c-078fb564d73d",
   "metadata": {},
   "outputs": [
    {
     "name": "stdout",
     "output_type": "stream",
     "text": [
      "John\n",
      "John Smith\n",
      "John.Smith@email.com\n",
      "Jim\n",
      "Jim Smith\n",
      "Jim.Smith@email.com\n"
     ]
    }
   ],
   "source": [
    "class Employee:\n",
    "    def __init__(self, first, last):\n",
    "        self.first = first\n",
    "        self.last = last\n",
    "\n",
    "    def email(self):\n",
    "        return self.first + \".\" + self.last + \"@email.com\"\n",
    "    \n",
    "    def fullname(self):\n",
    "        return f\"{self.first} {self.last}\"\n",
    "\n",
    "\n",
    "emp1 = Employee(\"John\", \"Smith\")\n",
    "print(emp1.first)\n",
    "print(emp1.fullname())\n",
    "print(emp1.email())\n",
    "\n",
    "\n",
    "emp1.first = \"Jim\"\n",
    "print(emp1.first)\n",
    "print(emp1.fullname())\n",
    "print(emp1.email()) "
   ]
  },
  {
   "cell_type": "code",
   "execution_count": 15,
   "id": "ffbc2137-7fb8-434f-8192-61f295e11926",
   "metadata": {},
   "outputs": [],
   "source": [
    "# it seems we handled the problem but as you can see when we call email, we must use paranthesis."
   ]
  },
  {
   "cell_type": "markdown",
   "id": "b2626335-9956-4879-9740-7529a214a28e",
   "metadata": {},
   "source": [
    "### Getter Method (@property):\n",
    "\n",
    "The @property decorator is used to create a read-only property. It allows us to access an attribute as if it were a normal attribute, but the value is returned from the getter method."
   ]
  },
  {
   "cell_type": "code",
   "execution_count": 20,
   "id": "2843084e-08b2-4ede-84ba-6f21b2668649",
   "metadata": {},
   "outputs": [
    {
     "name": "stdout",
     "output_type": "stream",
     "text": [
      "John\n",
      "John Smith\n",
      "John.Smith@email.com\n",
      "Jim\n",
      "Jim Smith\n",
      "Jim.Smith@email.com\n"
     ]
    }
   ],
   "source": [
    "class Employee:\n",
    "    def __init__(self, first, last):\n",
    "        self.first = first\n",
    "        self.last = last\n",
    "    @property\n",
    "    def email(self):\n",
    "        return self.first + \".\" + self.last + \"@email.com\"\n",
    "    @property\n",
    "    def fullname(self):\n",
    "        return f\"{self.first} {self.last}\"\n",
    "\n",
    "\n",
    "emp1 = Employee(\"John\", \"Smith\")\n",
    "print(emp1.first)\n",
    "print(emp1.fullname)\n",
    "print(emp1.email)\n",
    "\n",
    "\n",
    "emp1.first = \"Jim\"\n",
    "print(emp1.first)\n",
    "print(emp1.fullname)\n",
    "print(emp1.email) "
   ]
  },
  {
   "cell_type": "markdown",
   "id": "b9a8fb51-5315-4cf4-b5f1-470c8941e8cc",
   "metadata": {},
   "source": [
    "### Setter Method (@<\"attribute_name\">.setter):\n",
    "\n",
    "The @<attribute_name>.setter decorator is used to create a setter method for an attribute. It allows us to set the value of the attribute using a method rather than direct assignment."
   ]
  },
  {
   "cell_type": "code",
   "execution_count": 22,
   "id": "e4c3ca8c-7a4e-4d03-9c0a-606e5a666176",
   "metadata": {},
   "outputs": [
    {
     "name": "stdout",
     "output_type": "stream",
     "text": [
      "John\n",
      "John Smith\n",
      "John.Smith@email.com\n"
     ]
    },
    {
     "ename": "AttributeError",
     "evalue": "property 'fullname' of 'Employee' object has no setter",
     "output_type": "error",
     "traceback": [
      "\u001b[1;31m---------------------------------------------------------------------------\u001b[0m",
      "\u001b[1;31mAttributeError\u001b[0m                            Traceback (most recent call last)",
      "Cell \u001b[1;32mIn[22], line 17\u001b[0m\n\u001b[0;32m     15\u001b[0m \u001b[38;5;28mprint\u001b[39m(emp1\u001b[38;5;241m.\u001b[39mfullname)\n\u001b[0;32m     16\u001b[0m \u001b[38;5;28mprint\u001b[39m(emp1\u001b[38;5;241m.\u001b[39memail)\n\u001b[1;32m---> 17\u001b[0m \u001b[43memp1\u001b[49m\u001b[38;5;241;43m.\u001b[39;49m\u001b[43mfullname\u001b[49m \u001b[38;5;241m=\u001b[39m \u001b[38;5;124m\"\u001b[39m\u001b[38;5;124mJim Carrey\u001b[39m\u001b[38;5;124m\"\u001b[39m\n\u001b[0;32m     19\u001b[0m \u001b[38;5;28mprint\u001b[39m(emp1\u001b[38;5;241m.\u001b[39mfirst)\n\u001b[0;32m     20\u001b[0m \u001b[38;5;28mprint\u001b[39m(emp1\u001b[38;5;241m.\u001b[39mfullname)\n",
      "\u001b[1;31mAttributeError\u001b[0m: property 'fullname' of 'Employee' object has no setter"
     ]
    }
   ],
   "source": [
    "class Employee:\n",
    "    def __init__(self, first, last):\n",
    "        self.first = first\n",
    "        self.last = last\n",
    "    @property\n",
    "    def email(self):\n",
    "        return self.first + \".\" + self.last + \"@email.com\"\n",
    "    @property\n",
    "    def fullname(self):\n",
    "        return f\"{self.first} {self.last}\"\n",
    "\n",
    "\n",
    "emp1 = Employee(\"John\", \"Smith\")\n",
    "print(emp1.first)\n",
    "print(emp1.fullname)\n",
    "print(emp1.email)\n",
    "emp1.fullname = \"Jim Carrey\"\n",
    "\n",
    "print(emp1.first)\n",
    "print(emp1.fullname)\n",
    "print(emp1.email) "
   ]
  },
  {
   "cell_type": "code",
   "execution_count": 24,
   "id": "5fca9570-214b-41bc-bae8-fe615aa73404",
   "metadata": {},
   "outputs": [
    {
     "name": "stdout",
     "output_type": "stream",
     "text": [
      "John\n",
      "John Smith\n",
      "John.Smith@email.com\n",
      "Jim\n",
      "Jim Carrey\n",
      "Jim.Carrey@email.com\n"
     ]
    }
   ],
   "source": [
    "# to solve the problem, define a setter for fullname function.\n",
    "class Employee:\n",
    "    def __init__(self, first, last):\n",
    "        self.first = first\n",
    "        self.last = last\n",
    "    @property\n",
    "    def email(self):\n",
    "        return self.first + \".\" + self.last + \"@email.com\"\n",
    "    @property\n",
    "    def fullname(self):\n",
    "        return f\"{self.first} {self.last}\"\n",
    "    @fullname.setter\n",
    "    def fullname(self, name):\n",
    "        first, last = name.split(\" \")\n",
    "        self.first = first\n",
    "        self.last = last\n",
    "\n",
    "emp1 = Employee(\"John\", \"Smith\")\n",
    "print(emp1.first)\n",
    "print(emp1.fullname)\n",
    "print(emp1.email)\n",
    "emp1.fullname = \"Jim Carrey\"\n",
    "\n",
    "print(emp1.first)\n",
    "print(emp1.fullname)\n",
    "print(emp1.email) "
   ]
  },
  {
   "cell_type": "markdown",
   "id": "6a2b359f-f0d0-4f88-b71f-f9c059754928",
   "metadata": {},
   "source": [
    "### Deleter Method (@<\"attribute_name\">.deleter):\n",
    "\n",
    "The @<attribute_name>.deleter decorator is used to create a deleter method for an attribute. It allows us to delete the attribute using a method."
   ]
  },
  {
   "cell_type": "code",
   "execution_count": 27,
   "id": "454dd184-4551-4471-8b36-f4e2a47c6b23",
   "metadata": {},
   "outputs": [
    {
     "name": "stdout",
     "output_type": "stream",
     "text": [
      "John\n",
      "John Smith\n",
      "John.Smith@email.com\n",
      "Delete Name!\n",
      "None\n",
      "None None\n"
     ]
    }
   ],
   "source": [
    "class Employee:\n",
    "    def __init__(self, first, last):\n",
    "        self.first = first\n",
    "        self.last = last\n",
    "    @property\n",
    "    def email(self):\n",
    "        return self.first + \".\" + self.last + \"@email.com\"\n",
    "    @property\n",
    "    def fullname(self):\n",
    "        return f\"{self.first} {self.last}\"\n",
    "    @fullname.deleter\n",
    "    def fullname(self):\n",
    "        print(\"Delete Name!\")\n",
    "        self.first = None\n",
    "        self.last = None\n",
    "\n",
    "emp1 = Employee(\"John\", \"Smith\")\n",
    "print(emp1.first)\n",
    "print(emp1.fullname)\n",
    "print(emp1.email)\n",
    "del emp1.fullname\n",
    "\n",
    "print(emp1.first)\n",
    "print(emp1.fullname)"
   ]
  },
  {
   "cell_type": "code",
   "execution_count": null,
   "id": "005d9e58-6f66-4a1b-965b-5886ccc07d00",
   "metadata": {},
   "outputs": [],
   "source": [
    "# All methods in one example"
   ]
  },
  {
   "cell_type": "code",
   "execution_count": null,
   "id": "ec2afc38-1962-4e73-a0db-7a16d7e3070d",
   "metadata": {},
   "outputs": [],
   "source": [
    "class Employee:\n",
    "    def __init__(self, first_name, last_name):\n",
    "        self._first_name = first_name\n",
    "        self._last_name = last_name\n",
    "\n",
    "    # Getter method using @property decorator\n",
    "    @property\n",
    "    def full_name(self):\n",
    "        return f\"{self._first_name} {self._last_name}\"\n",
    "\n",
    "    # Setter method using @<attribute_name>.setter decorator\n",
    "    @full_name.setter\n",
    "    def full_name(self, name):\n",
    "        first, last = name.split(\" \")\n",
    "        self._first_name = first\n",
    "        self._last_name = last\n",
    "\n",
    "    # Deleter method using @<attribute_name>.deleter decorator\n",
    "    @full_name.deleter\n",
    "    def full_name(self):\n",
    "        print(\"Deleting full name...\")\n",
    "        self._first_name = None\n",
    "        self._last_name = None\n",
    "\n",
    "\n",
    "# Example:\n",
    "emp = Employee(\"John\", \"Doe\")\n",
    "\n",
    "# Using the getter\n",
    "print(emp.full_name)  # Output: John Doe\n",
    "\n",
    "# Using the setter\n",
    "emp.full_name = \"Jane Smith\"\n",
    "print(emp.full_name)  # Output: Jane Smith\n",
    "\n",
    "# Using the deleter\n",
    "del emp.full_name  # Output: Deleting full name...\n",
    "print(emp.full_name)  # Output: None None"
   ]
  }
 ],
 "metadata": {
  "kernelspec": {
   "display_name": "Python 3 (ipykernel)",
   "language": "python",
   "name": "python3"
  },
  "language_info": {
   "codemirror_mode": {
    "name": "ipython",
    "version": 3
   },
   "file_extension": ".py",
   "mimetype": "text/x-python",
   "name": "python",
   "nbconvert_exporter": "python",
   "pygments_lexer": "ipython3",
   "version": "3.11.2"
  }
 },
 "nbformat": 4,
 "nbformat_minor": 5
}
