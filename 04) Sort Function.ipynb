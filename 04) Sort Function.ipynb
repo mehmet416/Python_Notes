{
 "cells": [
  {
   "cell_type": "markdown",
   "id": "f39572f8-b230-429f-ba60-e96acfcd4dc3",
   "metadata": {},
   "source": [
    "## SORT FUNCTION"
   ]
  },
  {
   "cell_type": "code",
   "execution_count": 1,
   "id": "8967d3b7-a75f-466b-a89b-6fd7dd3c2c28",
   "metadata": {},
   "outputs": [
    {
     "name": "stdout",
     "output_type": "stream",
     "text": [
      "[1, 2, 3, 5, 6, 8]\n"
     ]
    }
   ],
   "source": [
    "my_list = [6,3,1,2,8,5]\n",
    "my_list.sort()\n",
    "print(my_list)"
   ]
  },
  {
   "cell_type": "code",
   "execution_count": 3,
   "id": "ac25e841-73a7-41e4-8b5b-27a67a8d4663",
   "metadata": {},
   "outputs": [
    {
     "name": "stdout",
     "output_type": "stream",
     "text": [
      "[6, 3, 1, 2, 8, 5]\n",
      "[1, 2, 3, 5, 6, 8]\n",
      "[6, 3, 1, 2, 8, 5]\n",
      "[1, 2, 3, 5, 6]\n"
     ]
    }
   ],
   "source": [
    "my_list = [6,3,1,2,8,5]\n",
    "new_list= sorted(my_list)\n",
    "print(my_list)\n",
    "print(new_list)\n",
    "new_list.pop()\n",
    "print(my_list)\n",
    "print(new_list)\n",
    "#sorted method creates a sorted copy of original list."
   ]
  },
  {
   "cell_type": "code",
   "execution_count": 4,
   "id": "d94b1a46-193c-4619-b41e-2378299e0a7f",
   "metadata": {},
   "outputs": [
    {
     "name": "stdout",
     "output_type": "stream",
     "text": [
      "[8, 6, 5, 3, 2, 1]\n"
     ]
    }
   ],
   "source": [
    "my_list = [6,3,1,2,8,5]\n",
    "new_list= sorted(my_list, reverse=True)\n",
    "print(new_list)"
   ]
  },
  {
   "cell_type": "code",
   "execution_count": 5,
   "id": "e213043c-77a7-475d-a270-a72c933b9070",
   "metadata": {},
   "outputs": [
    {
     "ename": "AttributeError",
     "evalue": "'tuple' object has no attribute 'sort'",
     "output_type": "error",
     "traceback": [
      "\u001b[1;31m---------------------------------------------------------------------------\u001b[0m",
      "\u001b[1;31mAttributeError\u001b[0m                            Traceback (most recent call last)",
      "Cell \u001b[1;32mIn[5], line 2\u001b[0m\n\u001b[0;32m      1\u001b[0m my_tuple\u001b[38;5;241m=\u001b[39m(\u001b[38;5;241m2\u001b[39m,\u001b[38;5;241m3\u001b[39m,\u001b[38;5;241m7\u001b[39m,\u001b[38;5;241m4\u001b[39m,\u001b[38;5;241m9\u001b[39m,\u001b[38;5;241m6\u001b[39m)\n\u001b[1;32m----> 2\u001b[0m \u001b[43mmy_tuple\u001b[49m\u001b[38;5;241;43m.\u001b[39;49m\u001b[43msort\u001b[49m()\n",
      "\u001b[1;31mAttributeError\u001b[0m: 'tuple' object has no attribute 'sort'"
     ]
    }
   ],
   "source": [
    "# since tuples cannot be mutated, we cannot sort them.\n",
    "my_tuple=(2,3,7,4,9,6)\n",
    "my_tuple.sort()"
   ]
  },
  {
   "cell_type": "code",
   "execution_count": 8,
   "id": "30fedacd-82a6-49bc-877b-ca37b05854b6",
   "metadata": {},
   "outputs": [
    {
     "name": "stdout",
     "output_type": "stream",
     "text": [
      "['bruce', 'logan', 'peter', 'wade']\n"
     ]
    }
   ],
   "source": [
    "my_dict = {\"wade\":\"deadpool\", \"bruce\":\"batman\", \"peter\":\"spiderman\",\"logan\":\"wolverine\"}\n",
    "new_dict = sorted(my_dict)\n",
    "print(new_dict) \n",
    "# sorted(my_dict) this parameter sorts the list according to key items."
   ]
  },
  {
   "cell_type": "markdown",
   "id": "73b1720d-b5a3-4439-a85d-e2eaeb63549d",
   "metadata": {},
   "source": [
    "#### KEY PARAMETER : The \"key\" parameter is commonly used in functions such as sorted(), min(), max(), and list.sort() to customize the sorting behavior. It allows you to provide a function that takes an element as input and returns a value based on which the elements will be sorted.\n"
   ]
  },
  {
   "cell_type": "code",
   "execution_count": 9,
   "id": "40f8e0ef-3132-49c6-8860-71d90f2e08dd",
   "metadata": {},
   "outputs": [
    {
     "name": "stdout",
     "output_type": "stream",
     "text": [
      "['date', 'apple', 'banana', 'cherry']\n"
     ]
    }
   ],
   "source": [
    "fruits = [\"apple\", \"banana\", \"cherry\", \"date\"]\r\n",
    "\r\n",
    "# Sort the fruits based on the length of their names\r\n",
    "sorted_fruits = sorted(fruits, key=len)\r\n",
    "print(sorted_fruits)\r\n",
    "# Output: ['date', 'apple', 'banana', 'chery']\r\n"
   ]
  },
  {
   "cell_type": "code",
   "execution_count": 11,
   "id": "ac31ef9b-4a86-48b0-9e90-a0eae01e1451",
   "metadata": {},
   "outputs": [
    {
     "name": "stdout",
     "output_type": "stream",
     "text": [
      "['banana', 'cherry', 'apple', 'date']\n"
     ]
    }
   ],
   "source": [
    "#we can also add reverse method.\n",
    "fruits = [\"apple\", \"banana\", \"cherry\", \"date\"]\n",
    "\n",
    "# Sort the fruits based on the length of their names\n",
    "sorted_fruits = sorted(fruits, key=len,reverse= True)\n",
    "print(sorted_fruits)"
   ]
  },
  {
   "cell_type": "code",
   "execution_count": 12,
   "id": "dd0be8be-265d-4ac1-9e55-69b709e3a91f",
   "metadata": {},
   "outputs": [
    {
     "name": "stdout",
     "output_type": "stream",
     "text": [
      "[1, 2, 3, -4, -5, -6]\n"
     ]
    }
   ],
   "source": [
    "nums = [-6,-5,-4,1,2,3]\n",
    "s_nums = sorted(nums, key=abs)\n",
    "print(s_nums)"
   ]
  },
  {
   "cell_type": "code",
   "execution_count": 26,
   "id": "3837f3f3-0d1f-46a3-9bdb-c8d7601809bb",
   "metadata": {},
   "outputs": [
    {
     "name": "stdout",
     "output_type": "stream",
     "text": [
      "[(174, 60), (176, 65), (176, 65), (181, 62), (190, 85), (192, 77)]\n",
      "[(174, 60), (181, 62), (176, 65), (176, 65), (192, 77), (190, 85)]\n"
     ]
    }
   ],
   "source": [
    "# sort a list of tuples according to their first and second items.\n",
    "len_weig =[(176,65),(176,65),(181,62),(174,60),(192,77),(190,85)]\n",
    "s_len = sorted(len_weig, key= lambda x:x[0])\n",
    "print(s_len)\n",
    "s_weig = sorted(len_weig, key= lambda x:x[1])\n",
    "print(s_weig)"
   ]
  },
  {
   "cell_type": "code",
   "execution_count": 27,
   "id": "bd351897-47f5-4d75-a8f1-c75180c7ac0d",
   "metadata": {},
   "outputs": [
    {
     "name": "stdout",
     "output_type": "stream",
     "text": [
      "[(Carl,37, $7000), (John,43, $9000), (Sarah,29, $8000)]\n"
     ]
    }
   ],
   "source": [
    "class Employee():\n",
    "    def __init__(self, name, age, salary):\n",
    "        self.name = name\n",
    "        self.age = age\n",
    "        self.salary = salary\n",
    "    def __repr__(self):\n",
    "        return \"({},{}, ${})\".format(self.name,self.age,self.salary)\n",
    "e1 = Employee(\"Carl\",37,7000)\n",
    "e2 = Employee(\"Sarah\",29,8000)\n",
    "e3 = Employee(\"John\",43,9000)\n",
    "def e_sort(emp):\n",
    "    return emp.name\n",
    "# if we do not define a e_sort function, sorted give out the unorderable error since we do not put a condition on it \n",
    "employees = [e1,e2,e3]\n",
    "s_employees = sorted(employees, key=e_sort)\n",
    "print(s_employees)"
   ]
  },
  {
   "cell_type": "code",
   "execution_count": 28,
   "id": "c9eec094-2b20-4ef4-bce0-3e8ce6cb5c0c",
   "metadata": {},
   "outputs": [
    {
     "name": "stdout",
     "output_type": "stream",
     "text": [
      "[(Sarah,29, $8000), (Carl,37, $7000), (John,43, $9000)]\n"
     ]
    }
   ],
   "source": [
    "def e_sort(emp):\n",
    "    return emp.age\n",
    "# now it orders according to ages.\n",
    "employees = [e1,e2,e3]\n",
    "s_employees = sorted(employees, key=e_sort)\n",
    "print(s_employees)"
   ]
  },
  {
   "cell_type": "code",
   "execution_count": 29,
   "id": "1bc45a4d-8351-4a0b-80f5-c10ce0fe5934",
   "metadata": {},
   "outputs": [
    {
     "name": "stdout",
     "output_type": "stream",
     "text": [
      "[(John,43, $9000), (Sarah,29, $8000), (Carl,37, $7000)]\n"
     ]
    }
   ],
   "source": [
    "def e_sort(emp):\n",
    "    return emp.salary\n",
    "# now it orders according to salaries.\n",
    "employees = [e1,e2,e3]\n",
    "s_employees = sorted(employees, key=e_sort, reverse= True)\n",
    "print(s_employees)"
   ]
  },
  {
   "cell_type": "code",
   "execution_count": 30,
   "id": "99c6fd6e-7444-484c-b26e-ac857f8680df",
   "metadata": {},
   "outputs": [
    {
     "name": "stdout",
     "output_type": "stream",
     "text": [
      "[(Carl,37, $7000), (John,43, $9000), (Sarah,29, $8000)]\n"
     ]
    }
   ],
   "source": [
    "# also we can use lambda method instead of defining a function\n",
    "s_employees = sorted(employees, key=lambda e: e.name)\n",
    "print(s_employees)"
   ]
  },
  {
   "cell_type": "code",
   "execution_count": null,
   "id": "6c32fc6d-5648-4cbe-aa09-276c0398c436",
   "metadata": {},
   "outputs": [],
   "source": []
  }
 ],
 "metadata": {
  "kernelspec": {
   "display_name": "Python 3 (ipykernel)",
   "language": "python",
   "name": "python3"
  },
  "language_info": {
   "codemirror_mode": {
    "name": "ipython",
    "version": 3
   },
   "file_extension": ".py",
   "mimetype": "text/x-python",
   "name": "python",
   "nbconvert_exporter": "python",
   "pygments_lexer": "ipython3",
   "version": "3.11.2"
  }
 },
 "nbformat": 4,
 "nbformat_minor": 5
}
