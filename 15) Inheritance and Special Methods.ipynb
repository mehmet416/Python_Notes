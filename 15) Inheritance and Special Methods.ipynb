{
 "cells": [
  {
   "cell_type": "markdown",
   "id": "822bd4a0-9d1f-4d9a-860f-1b1dc34dcda0",
   "metadata": {},
   "source": [
    "# INHERITANCE AND SPECIAL METHODS"
   ]
  },
  {
   "cell_type": "markdown",
   "id": "389c8a99-d4d1-466d-a04b-b904823ee598",
   "metadata": {},
   "source": [
    "Inheritance is a fundamental concept in object-oriented programming, allowing a new class (subclass) to inherit properties and methods from an existing class (superclass). It promotes code reusability and helps create a hierarchical relationship between classes."
   ]
  },
  {
   "cell_type": "code",
   "execution_count": 15,
   "id": "a12fdd63-cd5f-4488-a726-70c360f873e7",
   "metadata": {},
   "outputs": [
    {
     "name": "stdout",
     "output_type": "stream",
     "text": [
      "Help on class Developer in module __main__:\n",
      "\n",
      "class Developer(Employee)\n",
      " |  Developer(first, last, pay)\n",
      " |  \n",
      " |  Method resolution order:\n",
      " |      Developer\n",
      " |      Employee\n",
      " |      builtins.object\n",
      " |  \n",
      " |  Methods inherited from Employee:\n",
      " |  \n",
      " |  __init__(self, first, last, pay)\n",
      " |      Initialize self.  See help(type(self)) for accurate signature.\n",
      " |  \n",
      " |  apply_raise(self)\n",
      " |  \n",
      " |  fullname(self)\n",
      " |  \n",
      " |  ----------------------------------------------------------------------\n",
      " |  Data descriptors inherited from Employee:\n",
      " |  \n",
      " |  __dict__\n",
      " |      dictionary for instance variables (if defined)\n",
      " |  \n",
      " |  __weakref__\n",
      " |      list of weak references to the object (if defined)\n",
      " |  \n",
      " |  ----------------------------------------------------------------------\n",
      " |  Data and other attributes inherited from Employee:\n",
      " |  \n",
      " |  raise_amt = 1.04\n",
      "\n",
      "None\n"
     ]
    }
   ],
   "source": [
    "class Employee:\n",
    "    raise_amt = 1.04\n",
    "    def __init__(self, first, last, pay):\n",
    "        self.first = first\n",
    "        self.last = last\n",
    "        self.pay = pay\n",
    "        self.email = self.first+self.last+\"@email.com\"\n",
    "    def fullname(self):\n",
    "        return f\"{self.first} {self.last}\"\n",
    "    def apply_raise(self):\n",
    "        self.pay = int(self.pay*self.raise_amt)\n",
    "class Developer(Employee):\n",
    "    pass\n",
    "dev1 = Developer(\"John\", \"Alice\", 5000 )\n",
    "dev2 = Developer(\"Test\", \"User\", 6000 )\n",
    "print(help(Developer))"
   ]
  },
  {
   "cell_type": "code",
   "execution_count": 16,
   "id": "2efcb128-cae6-42db-a43c-b26bca2ba394",
   "metadata": {},
   "outputs": [
    {
     "name": "stdout",
     "output_type": "stream",
     "text": [
      "John Alice\n",
      "Test User\n"
     ]
    }
   ],
   "source": [
    "print(dev1.fullname())\n",
    "print(dev2.fullname())"
   ]
  },
  {
   "cell_type": "code",
   "execution_count": 17,
   "id": "52e1a7ca-49d6-4378-93da-0b5e55e1a5e5",
   "metadata": {},
   "outputs": [
    {
     "name": "stdout",
     "output_type": "stream",
     "text": [
      "5000\n",
      "5200\n"
     ]
    }
   ],
   "source": [
    "print(dev1.pay)\n",
    "dev1.apply_raise()\n",
    "print(dev1.pay)"
   ]
  },
  {
   "cell_type": "markdown",
   "id": "7f117974-6e97-4f40-a6a5-93b9b6a46c97",
   "metadata": {},
   "source": [
    "### Creating a Subclass<br>\n",
    "The Student class inherits from Person using parentheses in the class definition. In the __init__ method, we call super().__init__(name, age) to initialize the superclass attributes."
   ]
  },
  {
   "cell_type": "code",
   "execution_count": 21,
   "id": "d95b7289-21ad-4b24-8709-82f66774daeb",
   "metadata": {},
   "outputs": [],
   "source": [
    "class Developer(Employee):\n",
    "    def __init__(self,first,last,pay,pro_language):\n",
    "        super().__init__(first,last,pay)\n",
    "        self.pro_language = pro_language"
   ]
  },
  {
   "cell_type": "markdown",
   "id": "4ba45ef7-f594-4a76-b9e0-3f70eb2cbf99",
   "metadata": {},
   "source": [
    "There is an alternative way to use inherited initializing properties which gives the same result as super().__init__ method"
   ]
  },
  {
   "cell_type": "code",
   "execution_count": 18,
   "id": "6acdbc3d-f5a3-46e3-9fe9-1123bdc66771",
   "metadata": {},
   "outputs": [],
   "source": [
    "# def __init__(self,first,last,pay,pro_language):\n",
    "#         Employee.__init__(self,first,last,pay)\n",
    "#         self.pro_language = pro_language \n",
    "# this also gives the same result as above"
   ]
  },
  {
   "cell_type": "code",
   "execution_count": 59,
   "id": "23bfb3dd-56b2-4c03-a6ed-6a7172287be1",
   "metadata": {},
   "outputs": [],
   "source": [
    "dev1 = Developer(\"John\", \"Alice\", 5000, \"Python\" )\n",
    "dev2 = Developer(\"Test\", \"User\", 6000 ,\"Java\")"
   ]
  },
  {
   "cell_type": "code",
   "execution_count": 84,
   "id": "338dd752-507d-41bc-864e-af44907890a1",
   "metadata": {},
   "outputs": [
    {
     "name": "stdout",
     "output_type": "stream",
     "text": [
      "SueSmith@email.com\n"
     ]
    }
   ],
   "source": [
    "class Manager(Employee):\n",
    "    def __init__(self,first,last,pay,employees=None):\n",
    "        super().__init__(first,last,pay)\n",
    "        if employees is None:\n",
    "            self.employees = []\n",
    "        else:\n",
    "            self.employees = employees\n",
    "   \n",
    "    def add_emp(self, emp):\n",
    "        if emp not in self.employees:\n",
    "            self.employees.append(emp)\n",
    "    \n",
    "    def remove_emp(self, emp):\n",
    "        if emp in self.employees:\n",
    "            self.employees.remove(emp)\n",
    "    \n",
    "    def print_employees(self):\n",
    "        for emp in self.employees:\n",
    "            print(emp.fullname())\n",
    "\n",
    "mgr1 = Manager(\"Sue\", \"Smith\", 90000, [dev1])\n",
    "print(mgr1.email)\n",
    "        "
   ]
  },
  {
   "cell_type": "code",
   "execution_count": 85,
   "id": "b88b6afc-4579-43d1-a0d9-d1553a1495f4",
   "metadata": {},
   "outputs": [
    {
     "name": "stdout",
     "output_type": "stream",
     "text": [
      "John Alice\n",
      "None\n"
     ]
    }
   ],
   "source": [
    "print(mgr1.print_employees())"
   ]
  },
  {
   "cell_type": "code",
   "execution_count": 86,
   "id": "e54a98d6-4baf-4b5a-a64b-2ce5fcd2ebdb",
   "metadata": {},
   "outputs": [
    {
     "name": "stdout",
     "output_type": "stream",
     "text": [
      "John Alice\n",
      "Test User\n",
      "None\n"
     ]
    }
   ],
   "source": [
    "mgr1.add_emp(dev2)\n",
    "print(mgr1.print_employees())"
   ]
  },
  {
   "cell_type": "code",
   "execution_count": 87,
   "id": "d5e67642-c182-4a8d-8e6d-c0f5b1b3a3da",
   "metadata": {},
   "outputs": [
    {
     "name": "stdout",
     "output_type": "stream",
     "text": [
      "John Alice\n",
      "None\n"
     ]
    }
   ],
   "source": [
    "mgr1.remove_emp(dev2)\n",
    "print(mgr1.print_employees())"
   ]
  },
  {
   "cell_type": "markdown",
   "id": "7d32db0f-b859-4102-b184-483c4452b650",
   "metadata": {},
   "source": [
    "### isinstance() Function:\n",
    "\n",
    "The isinstance() function is used to determine whether an object is an instance of a particular class or its subclass. It returns True if the object is an instance of the specified class or any of its derived classes, otherwise, it returns False."
   ]
  },
  {
   "cell_type": "code",
   "execution_count": 92,
   "id": "ab9af682-21f2-491e-8cd0-752ae3dc62f8",
   "metadata": {},
   "outputs": [
    {
     "name": "stdout",
     "output_type": "stream",
     "text": [
      "True\n"
     ]
    }
   ],
   "source": [
    "print(isinstance(mgr1, Manager))"
   ]
  },
  {
   "cell_type": "code",
   "execution_count": 91,
   "id": "54a9576b-a647-4e5d-a31d-434bcda6350a",
   "metadata": {},
   "outputs": [
    {
     "name": "stdout",
     "output_type": "stream",
     "text": [
      "True\n"
     ]
    }
   ],
   "source": [
    "print(isinstance(mgr1, Employee))"
   ]
  },
  {
   "cell_type": "code",
   "execution_count": 94,
   "id": "e16a8de1-7dc2-4257-8f83-6241efe9f032",
   "metadata": {},
   "outputs": [
    {
     "name": "stdout",
     "output_type": "stream",
     "text": [
      "False\n"
     ]
    }
   ],
   "source": [
    "print(isinstance(mgr1, Developer))"
   ]
  },
  {
   "cell_type": "markdown",
   "id": "88ae00b1-68cb-4dd8-8a94-4cd5c8339f78",
   "metadata": {},
   "source": [
    "### issubclass() Function:\n",
    "\n",
    "The issubclass() function is used to check whether a given class is a subclass of another class. It returns True if the first class is a subclass of the second class, otherwise, it returns False."
   ]
  },
  {
   "cell_type": "code",
   "execution_count": 96,
   "id": "36fe462d-9ded-4916-97e4-40a579e798af",
   "metadata": {},
   "outputs": [
    {
     "name": "stdout",
     "output_type": "stream",
     "text": [
      "True\n"
     ]
    }
   ],
   "source": [
    "print(issubclass(Manager, Employee))"
   ]
  },
  {
   "cell_type": "code",
   "execution_count": 97,
   "id": "510efce4-806b-44be-9568-0c1c2bff5d9c",
   "metadata": {},
   "outputs": [
    {
     "name": "stdout",
     "output_type": "stream",
     "text": [
      "False\n"
     ]
    }
   ],
   "source": [
    "print(issubclass(Manager, Developer))"
   ]
  },
  {
   "cell_type": "code",
   "execution_count": 99,
   "id": "d96104d0-f8dc-4bf5-a1bd-e738296ef1f9",
   "metadata": {},
   "outputs": [
    {
     "name": "stdout",
     "output_type": "stream",
     "text": [
      "True\n"
     ]
    }
   ],
   "source": [
    "print(issubclass(Manager, object)) #all classes are subclasses of the object class"
   ]
  },
  {
   "cell_type": "markdown",
   "id": "21501853-331f-4153-b031-0284eb1e2b69",
   "metadata": {},
   "source": [
    "# Special (Magic/Dunder) Methods"
   ]
  },
  {
   "cell_type": "markdown",
   "id": "1b61c40f-9204-496a-91b2-64ae477d8b34",
   "metadata": {},
   "source": [
    "In Python, special methods are also known as magic or dunder (double underscore) methods.<br>\n",
    "They allow classes to emulate built-in behavior and provide functionality for various operations like comparison, arithmetic, string representation, etc."
   ]
  },
  {
   "cell_type": "markdown",
   "id": "2fc0233b-781f-423c-ae3f-e9b335f5627c",
   "metadata": {},
   "source": [
    "### Common Special Methods:\n",
    "\n",
    "_ _init_ _(self, ...): Constructor method that initializes a new instance of the class.\n",
    "\n",
    "_ _repr_ _(self): String representation of the object, used for debugging and development.\n",
    "\n",
    "_ _str_ _(self): String representation of the object, used for displaying information to end-users."
   ]
  },
  {
   "cell_type": "code",
   "execution_count": 109,
   "id": "7a238622-bb2f-4e79-bbf5-e673e72eb76b",
   "metadata": {},
   "outputs": [],
   "source": [
    "class Employee:\n",
    "    def __init__(self, first_name, last_name, salary):\n",
    "        self.first_name = first_name\n",
    "        self.last_name = last_name\n",
    "        self.salary = salary\n",
    "\n",
    "    def __repr__(self):\n",
    "        return f\"Employee('{self.first_name}', '{self.last_name}', {self.salary})\"\n",
    "\n",
    "    # def __str__(self):\n",
    "    #     return f\"{self.first_name} {self.last_name} - ${self.salary}\""
   ]
  },
  {
   "cell_type": "code",
   "execution_count": 114,
   "id": "a2ff3511-0f22-4d1b-9445-3f4059d09d1c",
   "metadata": {},
   "outputs": [
    {
     "name": "stdout",
     "output_type": "stream",
     "text": [
      "Jack London - $5000\n"
     ]
    }
   ],
   "source": [
    "emp1 = Employee(\"Jack\", \"London\", 5000)\n",
    "print(emp1)  # when we define __str__, it will be called next time when we print something \n",
    "# if both are defined, print function will use _str__ firstly. "
   ]
  },
  {
   "cell_type": "code",
   "execution_count": 118,
   "id": "79785f37-93be-483c-98b6-905b003b9a32",
   "metadata": {},
   "outputs": [],
   "source": [
    "class Employee:\n",
    "    def __init__(self, first_name, last_name, salary):\n",
    "        self.first_name = first_name\n",
    "        self.last_name = last_name\n",
    "        self.salary = salary\n",
    "\n",
    "    def __repr__(self):\n",
    "        return f\"Employee('{self.first_name}', '{self.last_name}', {self.salary})\"\n",
    "\n",
    "    def __str__(self):\n",
    "        return f\"{self.first_name} {self.last_name} - ${self.salary}\""
   ]
  },
  {
   "cell_type": "code",
   "execution_count": 120,
   "id": "410d8685-b356-42a4-b5ae-812e2d0f966a",
   "metadata": {},
   "outputs": [
    {
     "name": "stdout",
     "output_type": "stream",
     "text": [
      "Jack London - $5000\n"
     ]
    }
   ],
   "source": [
    "emp1 = Employee(\"Jack\", \"London\", 5000)\n",
    "print(emp1)"
   ]
  },
  {
   "cell_type": "code",
   "execution_count": 117,
   "id": "cecf126c-ef41-4da7-ad3c-6c0382c94bd3",
   "metadata": {},
   "outputs": [
    {
     "name": "stdout",
     "output_type": "stream",
     "text": [
      "Jack London - $5000\n",
      "Employee('Jack', 'London', 5000)\n"
     ]
    }
   ],
   "source": [
    "print(emp1.__str__())\n",
    "print(emp1.__repr__())"
   ]
  },
  {
   "cell_type": "markdown",
   "id": "477264cf-1d5c-424d-b8a2-0a7a8ff89484",
   "metadata": {},
   "source": [
    "__add__(self, other): Defines behavior for addition when using the '+' operator."
   ]
  },
  {
   "cell_type": "code",
   "execution_count": 123,
   "id": "310f7f5c-e0bb-4d09-b233-643ea795093d",
   "metadata": {},
   "outputs": [],
   "source": [
    "class Employee:\n",
    "    def __init__(self, first_name, last_name, salary):\n",
    "        self.first_name = first_name\n",
    "        self.last_name = last_name\n",
    "        self.salary = salary\n",
    "\n",
    "    def __repr__(self):\n",
    "        return f\"Employee('{self.first_name}', '{self.last_name}', {self.salary})\"\n",
    "\n",
    "    def __str__(self):\n",
    "        return f\"{self.first_name} {self.last_name} - ${self.salary}\"\n",
    "\n",
    "    def __add__(self, other):\n",
    "        return self.salary+other.salary \n",
    "\n",
    "emp1 = Employee(\"Jack\", \"London\", 5000)\n",
    "emp2 = Employee(\"Test\", \"User\", 6000)"
   ]
  },
  {
   "cell_type": "code",
   "execution_count": 124,
   "id": "eac41318-716a-4067-b6d2-c66fb1f46201",
   "metadata": {},
   "outputs": [
    {
     "name": "stdout",
     "output_type": "stream",
     "text": [
      "11000\n"
     ]
    }
   ],
   "source": [
    "print(emp1+emp2)"
   ]
  },
  {
   "cell_type": "markdown",
   "id": "56424a86-3e19-49a6-a955-253445e78e5f",
   "metadata": {},
   "source": [
    "__len__(self): Returns the length of the object when using the len() function."
   ]
  },
  {
   "cell_type": "code",
   "execution_count": 134,
   "id": "6927ba3d-69ac-4ea4-ae40-a68d5bc51626",
   "metadata": {},
   "outputs": [
    {
     "name": "stdout",
     "output_type": "stream",
     "text": [
      "13\n"
     ]
    }
   ],
   "source": [
    "class Employee:\n",
    "    def __init__(self, first_name, last_name, salary):\n",
    "        self.first_name = first_name\n",
    "        self.last_name = last_name\n",
    "        self.salary = salary\n",
    "\n",
    "    def __repr__(self):\n",
    "        return f\"Employee('{self.first_name}', '{self.last_name}', {self.salary})\"\n",
    "\n",
    "    def __str__(self):\n",
    "        return f\"{self.first_name} {self.last_name} - ${self.salary}\"\n",
    "\n",
    "    def __add__(self, other):\n",
    "        return self.salary+other.salary \n",
    "\n",
    "    def full_name(self):\n",
    "        return f\"{self.first_name} , {self.last_name}\"\n",
    "    \n",
    "    def __len__(self):\n",
    "        return len(self.full_name())\n",
    "\n",
    "emp1 = Employee(\"Jack\", \"London\", 5000)\n",
    "print(len(emp1))"
   ]
  },
  {
   "cell_type": "code",
   "execution_count": 135,
   "id": "2deed4d9-b822-4e96-b1d6-6c7f3f48643d",
   "metadata": {},
   "outputs": [],
   "source": [
    "# All examples in one case"
   ]
  },
  {
   "cell_type": "code",
   "execution_count": null,
   "id": "baee1126-1cd8-4b15-b454-16cc6f13238d",
   "metadata": {},
   "outputs": [],
   "source": [
    "class Employee:\n",
    "    def __init__(self, first_name, last_name, salary):\n",
    "        self.first_name = first_name\n",
    "        self.last_name = last_name\n",
    "        self.salary = salary\n",
    "\n",
    "    def __repr__(self):\n",
    "        return f\"Employee('{self.first_name}', '{self.last_name}', {self.salary})\"\n",
    "\n",
    "    def __str__(self):\n",
    "        return f\"{self.first_name} {self.last_name} - ${self.salary}\"\n",
    "\n",
    "    def __add__(self, other):\n",
    "        return self.salary + other.salary\n",
    "\n",
    "    def __len__(self):\n",
    "        return len(self.full_name())\n",
    "\n",
    "    def __getitem__(self, key):\n",
    "        if key == 'first':\n",
    "            return self.first_name\n",
    "        elif key == 'last':\n",
    "            return self.last_name\n",
    "        elif key == 'salary':\n",
    "            return self.salary\n",
    "        else:\n",
    "            raise KeyError(f\"Invalid key: {key}\")\n",
    "\n",
    "    def __contains__(self, item):\n",
    "        return item in self.full_name()\n",
    "\n",
    "    def __call__(self, bonus):\n",
    "        self.salary += bonus\n",
    "\n",
    "    def __eq__(self, other):\n",
    "        return self.salary == other.salary\n",
    "\n",
    "    def full_name(self):\n",
    "        return f\"{self.first_name} {self.last_name}\"\n",
    "\n",
    "\n",
    "# Example 1: Using __repr__ and __str__\n",
    "emp1 = Employee('John', 'Doe', 50000)\n",
    "print(emp1)  # Output: John Doe - $50000\n",
    "print(repr(emp1))  # Output: Employee('John', 'Doe', 50000)\n",
    "\n",
    "# Example 2: Using __add__\n",
    "emp2 = Employee('Jane', 'Smith', 55000)\n",
    "print(emp1 + emp2)  # Output: 105000\n",
    "\n",
    "# Example 3: Using __len__\n",
    "print(len(emp1))  # Output: 8 (length of \"John Doe\")\n",
    "\n",
    "# Example 4: Using __getitem__\n",
    "print(emp1['first'])  # Output: John\n",
    "print(emp1['last'])  # Output: Doe\n",
    "print(emp1['salary'])  # Output: 50000\n",
    "\n",
    "# Example 5: Using __contains__\n",
    "print('John' in emp1)  # Output: True\n",
    "print('Smith' in emp1)  # Output: False\n",
    "\n",
    "# Example 6: Using __call__\n",
    "emp1(5000)  # Adding a bonus of $5000 to emp1's salary\n",
    "\n",
    "# Example 7: Using __eq__\n",
    "emp3 = Employee('Mark', 'Johnson', 50000)\n",
    "emp4 = Employee('Alice', 'Smith', 50000)\n",
    "print(emp1 == emp3)  # Output: True\n",
    "print(emp1 == emp4)  # Output: False\n"
   ]
  }
 ],
 "metadata": {
  "kernelspec": {
   "display_name": "Python 3 (ipykernel)",
   "language": "python",
   "name": "python3"
  },
  "language_info": {
   "codemirror_mode": {
    "name": "ipython",
    "version": 3
   },
   "file_extension": ".py",
   "mimetype": "text/x-python",
   "name": "python",
   "nbconvert_exporter": "python",
   "pygments_lexer": "ipython3",
   "version": "3.11.2"
  }
 },
 "nbformat": 4,
 "nbformat_minor": 5
}
