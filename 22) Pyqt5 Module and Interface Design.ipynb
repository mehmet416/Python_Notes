{
 "cells": [
  {
   "cell_type": "markdown",
   "id": "2597a3dc-b71a-4ef4-9073-6b1edf4e1582",
   "metadata": {},
   "source": [
    "# PYQT5 MODULE AND INTERFACE DESİGN"
   ]
  },
  {
   "cell_type": "markdown",
   "id": "1200b225-ec33-4f56-949d-d8a5e20e15aa",
   "metadata": {},
   "source": [
    "PyQt5 is a Python binding for the Qt application framework, which allows you to create cross-platform desktop applications with a native look and feel. Qt is a popular C++ framework developed by The Qt Company, and PyQt5 enables you to access the Qt libraries from Python, providing a powerful and flexible toolkit for GUI (Graphical User Interface) development."
   ]
  },
  {
   "cell_type": "markdown",
   "id": "7d32ad09-42f1-4278-8477-9719e4121567",
   "metadata": {},
   "source": [
    "### Creating a Basic GUI Application with PyQt5"
   ]
  },
  {
   "cell_type": "markdown",
   "id": "9d638bde-a15e-41f1-b16b-62313b6f527f",
   "metadata": {},
   "source": [
    "In this example, there is a basic structure of a graphical user interface (GUI). Let's find out the structure step by step:"
   ]
  },
  {
   "cell_type": "code",
   "execution_count": null,
   "id": "44eae659-2960-4073-80f2-0a0bd80f54c9",
   "metadata": {},
   "outputs": [],
   "source": [
    "from PyQt5 import QtWidgets\n",
    "from PyQt5.QtWidgets import QApplication, QMainWindow\n",
    "import sys\n",
    "\n",
    "# this function is the basic framework of a gui\n",
    "def window():\n",
    "\n",
    "    app = QApplication(sys.argv)\n",
    "\n",
    "    win = QMainWindow()\n",
    "\n",
    "    # add items and modify your window here\n",
    "    \n",
    "    win.show()\n",
    "\n",
    "    sys.exit(app.exec_())\n",
    "\n",
    "if __name__ == \"__main__\":\n",
    "    window()"
   ]
  },
  {
   "cell_type": "code",
   "execution_count": null,
   "id": "4e6f9293-53dc-44c6-b05d-46c0ebaf2335",
   "metadata": {},
   "outputs": [],
   "source": [
    "from PyQt5 import QtWidgets\n",
    "from PyQt5.QtWidgets import QApplication, QMainWindow\n",
    "import sys\n",
    "# create a window. when user run the function, window will be opened.\n",
    "def window():\n",
    "    # 1- create an object from QApplication Class that takes sys arguments. \n",
    "    app = QApplication(sys.argv)\n",
    "\n",
    "    # 2- create a window from QMainWindow Class. this window will be our table that we add other elements.\n",
    "    win = QMainWindow()\n",
    "   \n",
    "    # 3- name the window\n",
    "    win.setWindowTitle(\"Name of the window\")\n",
    "    # 4- set the position of window\n",
    "    x_pos = 0\n",
    "    y_pos = 0\n",
    "    width = 300\n",
    "    length = 300\n",
    "    win.setGeometry(x_pos, y_pos, width, length)\n",
    "    # 5- add label to the window\n",
    "    label = QtWidgets.QLabel(win)\n",
    "    # 6- name the label\n",
    "    label.setText(\"Hello World\")\n",
    "    # 7- set the position of label\n",
    "    label.move(50, 50)\n",
    "\n",
    "    # 8- show window\n",
    "    win.show()\n",
    "    # 9- execute the app to show window continuously\n",
    "    sys.exit(app.exec_())\n",
    "\n",
    "if __name__ == \"__main__\":\n",
    "    window()"
   ]
  },
  {
   "cell_type": "markdown",
   "id": "8cce05ec-bd92-451e-bce1-74e2c3ce7f49",
   "metadata": {
    "jp-MarkdownHeadingCollapsed": true
   },
   "source": [
    "### Main Window Methods and Their Functions"
   ]
  },
  {
   "cell_type": "markdown",
   "id": "1feae738-40e9-4210-818f-88c3ceaa5482",
   "metadata": {},
   "source": [
    "The QMainWindow in Qt Designer is used to create the main application window for a desktop GUI application. It provides a framework that includes a menu bar, toolbars, and a status bar. It can also have a central widget area where other widgets, such as buttons, labels, or custom widgets, can be placed. QMainWindow is the top-level container that holds the entire GUI of the application."
   ]
  },
  {
   "cell_type": "markdown",
   "id": "a090bf16-bd0f-47a6-bf4b-6364a41e03b6",
   "metadata": {},
   "source": [
    "1) QWidget(): creates a widget that is  a rectangular area on the screen and can be used to create standalone windows or as a container for other widgets."
   ]
  },
  {
   "cell_type": "markdown",
   "id": "06531dd5-57bf-491b-8c61-bbe8828af064",
   "metadata": {},
   "source": [
    "2) QMainWindow(): creates a window designed to be used as the main application window."
   ]
  },
  {
   "cell_type": "markdown",
   "id": "4ae5dea1-50d1-43ca-aa05-9a53a3b60294",
   "metadata": {},
   "source": [
    "Difference between QWidget and QMainWindow: <br>\n",
    "QWidget: It provides basic functionality, such as event handling and painting, but it doesn't have any built-in features like menus or toolbars.<br>\n",
    "QMainWindow: It provides a built-in main menu, status bar, and toolbars, making it suitable for creating typical desktop applications."
   ]
  },
  {
   "cell_type": "markdown",
   "id": "f1d0c5ab-a0b4-4529-93da-8ebba577b472",
   "metadata": {},
   "source": [
    "Here's an example of using QMainWindow with PyQt5 and demonstrating some of its methods:"
   ]
  },
  {
   "cell_type": "code",
   "execution_count": null,
   "id": "c5d7cc34-10bf-441b-8b0d-cc728e1808fa",
   "metadata": {},
   "outputs": [],
   "source": [
    "import sys\n",
    "from PyQt5.QtWidgets import QApplication, QMainWindow, QAction, QLabel, QPushButton\n",
    "\n",
    "class MyMainWindow(QMainWindow):\n",
    "    def __init__(self):\n",
    "        super().__init__()\n",
    "        self.initUI()\n",
    "\n",
    "    def initUI(self):\n",
    "        # Set the title of the main window\n",
    "        self.setWindowTitle(\"My Main Window\")\n",
    "\n",
    "        # Resize the main window\n",
    "        self.resize(400, 300)\n",
    "\n",
    "        # Create a central widget\n",
    "        central_widget = QLabel(\"This is the central widget.\")\n",
    "        self.setCentralWidget(central_widget)\n",
    "\n",
    "        # Create an action for the menu bar\n",
    "        action_exit = QAction(\"Exit\", self)\n",
    "        action_exit.triggered.connect(self.close)\n",
    "\n",
    "        # Create a menu bar and add the action\n",
    "        menu_bar = self.menuBar()\n",
    "        menu_file = menu_bar.addMenu(\"File\")\n",
    "        menu_file.addAction(action_exit)\n",
    "\n",
    "        # Create a toolbar and add an action\n",
    "        tool_bar = self.addToolBar(\"Toolbar\")\n",
    "        action_button = QAction(\"Click Me\", self)\n",
    "        tool_bar.addAction(action_button)\n",
    "\n",
    "        # Create a status bar \n",
    "        # The status bar is a horizontal bar typically located at the bottom of a QMainWindow. \n",
    "        # It is used to display messages, status updates, or other information to the user. \n",
    "        # The status bar can show temporary messages that automatically disappear after a specified duration\n",
    "        status_bar = self.statusBar()\n",
    "        status_bar.showMessage(\"Ready\", 3000)  # Show a message for 3 seconds\n",
    "\n",
    "        # Connect the button action to a function\n",
    "        action_button.triggered.connect(self.on_button_click)\n",
    "\n",
    "    def on_button_click(self):\n",
    "        print(\"Button clicked!\")\n",
    "\n",
    "if __name__ == \"__main__\":\n",
    "    app = QApplication(sys.argv)\n",
    "    window = MyMainWindow()\n",
    "    window.show()\n",
    "    sys.exit(app.exec_())\r\n",
    "    window.show()\r\n",
    "    sys.exit(app.exec_())\r\n"
   ]
  },
  {
   "cell_type": "markdown",
   "id": "c09a3e8b-f8a2-4a0c-9a01-8705e8102b88",
   "metadata": {
    "jp-MarkdownHeadingCollapsed": true
   },
   "source": [
    "### Widget Methods and Their Functions"
   ]
  },
  {
   "cell_type": "markdown",
   "id": "a10ef2e7-5747-4ad8-9d56-1928f698fd92",
   "metadata": {},
   "source": [
    "In PyQt5, a widget is a fundamental graphical element that can be placed on the main application window or other containers like layouts. Widgets are building blocks of the graphical user interface (GUI) and include various elements such as buttons, labels, text boxes, check boxes, radio buttons, and more.\n",
    "\n",
    "Each widget is an instance of a specific PyQt5 widget class, which is derived from the QWidget base class. These widget classes provide the functionality and appearance of the different GUI elements."
   ]
  },
  {
   "cell_type": "markdown",
   "id": "4176d7d2-4cb4-463a-b51a-1ff10bfd1bd6",
   "metadata": {},
   "source": [
    "Here's an example that demonstrates the usage of various widget methods in PyQt5:"
   ]
  },
  {
   "cell_type": "code",
   "execution_count": null,
   "id": "3df30dfc-668d-43d8-9455-f30aa8d5c921",
   "metadata": {},
   "outputs": [],
   "source": [
    "import sys\n",
    "from PyQt5.QtWidgets import QApplication, QWidget, QPushButton, QLabel\n",
    "\n",
    "class MyWidget(QWidget):\n",
    "    def __init__(self):\n",
    "        super().__init__()\n",
    "        self.initUI()\n",
    "\n",
    "    def initUI(self):\n",
    "        # Creating a QPushButton\n",
    "        self.button = QPushButton(\"Click Me\", self)\n",
    "        self.button.setGeometry(50, 50, 100, 30)  # Set position and size\n",
    "\n",
    "        # Creating a QLabel\n",
    "        self.label = QLabel(\"Hello, PyQt5!\", self)\n",
    "        self.label.setGeometry(50, 100, 150, 30)\n",
    "\n",
    "        # Set the text of the QLabel using setText()\n",
    "        self.label.setText(\"Welcome to PyQt5\")\n",
    "\n",
    "        # Connect the QPushButton's clicked signal to on_button_click function\n",
    "        self.button.clicked.connect(self.on_button_click)\n",
    "\n",
    "        # Set the title of the window using setWindowTitle()\n",
    "        self.setWindowTitle(\"Widget Example\")\n",
    "\n",
    "        # Resize the window using resize()\n",
    "        self.resize(300, 200)\n",
    "\n",
    "        # Show the window using show()\n",
    "        self.show()\n",
    "\n",
    "    def on_button_click(self):\n",
    "        # Set a new text for the QLabel using setText()\n",
    "        self.label.setText(\"Button Clicked!\")\n",
    "\n",
    "if __name__ == \"__main__\":\n",
    "    app = QApplication(sys.argv)\n",
    "    window = MyWidget()\n",
    "    sys.exit(app.exec_())\n"
   ]
  },
  {
   "cell_type": "markdown",
   "id": "ac2bea4f-1c6e-4096-915f-6212c87ac4f5",
   "metadata": {},
   "source": [
    "Visibility and Enable/Disable:\n",
    "Widgets can be shown or hidden using the setVisible() method, and their interactivity can be enabled or disabled using the setEnabled() method."
   ]
  },
  {
   "cell_type": "markdown",
   "id": "9902060f-db16-43ae-886a-2bfcd82e5e9b",
   "metadata": {
    "jp-MarkdownHeadingCollapsed": true
   },
   "source": [
    "### Layout Methods and Their Functions"
   ]
  },
  {
   "cell_type": "markdown",
   "id": "6049ce50-af84-4881-a872-25c421c9a8a0",
   "metadata": {},
   "source": [
    "In PyQt5, layouts are an essential mechanism for organizing and arranging widgets within a container (e.g., QMainWindow, QWidget, QDialog). Layouts automatically manage the positioning and resizing of widgets as the window is resized or when new widgets are added or removed."
   ]
  },
  {
   "cell_type": "markdown",
   "id": "4faac232-01a8-4b0c-b655-e0634b939758",
   "metadata": {},
   "source": [
    "1.QVBoxLayout:\n",
    "QVBoxLayout arranges widgets vertically, stacking them one on top of the other.\n",
    "\n",
    "2.QHBoxLayout:\n",
    "QHBoxLayout arranges widgets horizontally, placing them side by side.\n",
    "\n",
    "3.QGridLayout:\n",
    "QGridLayout organizes widgets in a grid, where you can specify the row and column positions of each widget.\n",
    "\n",
    "4.QFormLayout:\n",
    "QFormLayout is designed for form-like layouts, typically used for labeling widgets like QLabels and QLineEdit pairs."
   ]
  },
  {
   "cell_type": "markdown",
   "id": "8f1af316-c6f8-4378-8577-0d5892abf2d3",
   "metadata": {},
   "source": [
    "Here's an example of using QVBoxLayout and QHBoxLayout:"
   ]
  },
  {
   "cell_type": "code",
   "execution_count": null,
   "id": "eb56737b-913a-4740-ac2f-be7af93fbfd2",
   "metadata": {},
   "outputs": [],
   "source": [
    "import sys\n",
    "from PyQt5.QtWidgets import QApplication, QWidget, QVBoxLayout, QHBoxLayout, QPushButton\n",
    "\n",
    "class LayoutExample(QWidget):\n",
    "    def __init__(self):\n",
    "        super().__init__()\n",
    "        self.initUI()\n",
    "\n",
    "    def initUI(self):\n",
    "        # Create a vertical layout\n",
    "        vbox = QVBoxLayout()\n",
    "\n",
    "        # Create buttons\n",
    "        button1 = QPushButton(\"Button 1\")\n",
    "        button2 = QPushButton(\"Button 2\")\n",
    "        button3 = QPushButton(\"Button 3\")\n",
    "\n",
    "        # Add buttons to the vertical layout\n",
    "        vbox.addWidget(button1)\n",
    "        vbox.addWidget(button2)\n",
    "        vbox.addWidget(button3)\n",
    "\n",
    "        # Create a horizontal layout\n",
    "        hbox = QHBoxLayout()\n",
    "\n",
    "        # Create more buttons\n",
    "        button4 = QPushButton(\"Button 4\")\n",
    "        button5 = QPushButton(\"Button 5\")\n",
    "        button6 = QPushButton(\"Button 6\")\n",
    "\n",
    "        # Add buttons to the horizontal layout\n",
    "        hbox.addWidget(button4)\n",
    "        hbox.addWidget(button5)\n",
    "        hbox.addWidget(button6)\n",
    "\n",
    "        # Add the horizontal layout to the vertical layout\n",
    "        vbox.addLayout(hbox)\n",
    "\n",
    "        # Set the main layout for the window\n",
    "        self.setLayout(vbox)\n",
    "\n",
    "        # Set window properties\n",
    "        self.setWindowTitle(\"Layout Example\")\n",
    "        self.resize(300, 200)\n",
    "\n",
    "if __name__ == \"__main__\":\n",
    "    app = QApplication(sys.argv)\n",
    "    window = LayoutExample()\n",
    "    window.show()\n",
    "    sys.exit(app.exec_())\n"
   ]
  },
  {
   "cell_type": "markdown",
   "id": "bc75b4ae-4255-4aab-bb68-09768aac0d1b",
   "metadata": {
    "jp-MarkdownHeadingCollapsed": true
   },
   "source": [
    "### Label Methods and Their Functions"
   ]
  },
  {
   "cell_type": "markdown",
   "id": "00d581b4-027c-45ba-b612-f3a745b8a726",
   "metadata": {},
   "source": [
    "In PyQt5, a label is a simple widget used to display static text or images. Labels provide a way to add text or images to the graphical user interface (GUI) to provide information or context to the user. Labels are instances of the QLabel class in PyQt5."
   ]
  },
  {
   "cell_type": "markdown",
   "id": "4c82f9f2-4b37-4e0a-bdca-94436be83db9",
   "metadata": {},
   "source": [
    "Here's an example that demonstrates various features of QLabel in PyQt5:"
   ]
  },
  {
   "cell_type": "code",
   "execution_count": null,
   "id": "d058dc60-7f57-459e-afed-c08e043dd891",
   "metadata": {},
   "outputs": [],
   "source": [
    "import sys\n",
    "from PyQt5.QtWidgets import QApplication, QLabel, QWidget\n",
    "from PyQt5.QtGui import QPixmap\n",
    "from PyQt5 import QtCore\n",
    "\n",
    "class QLabelExample(QWidget):\n",
    "    def __init__(self):\n",
    "        super().__init__()\n",
    "        self.initUI()\n",
    "\n",
    "    def initUI(self):\n",
    "        # Create the main window\n",
    "        self.setWindowTitle(\"QLabel Example\")\n",
    "        self.resize(400, 300)\n",
    "\n",
    "        # Create a QLabel for displaying text\n",
    "        label_text = QLabel(\"Hello, PyQt5!\", self)\n",
    "        label_text.setGeometry(20, 20, 200, 30)\n",
    "\n",
    "        # Set the alignment of the text within the label\n",
    "        label_text.setAlignment(QtCore.Qt.AlignCenter)\n",
    "\n",
    "        # Enable word wrapping for the text\n",
    "        label_text.setWordWrap(True)\n",
    "\n",
    "        # Set label styling using CSS\n",
    "        label_text.setStyleSheet(\"font-size: 16px; color: blue; background-color: yellow;\")\n",
    "\n",
    "        # Create a QLabel for displaying an image\n",
    "        label_image = QLabel(self)\n",
    "        label_image.setGeometry(20, 60, 200, 200)\n",
    "\n",
    "        # Load and display an image in the label\n",
    "        pixmap = QPixmap(\"path_to_image.png\")\n",
    "        label_image.setPixmap(pixmap)\n",
    "        label_image.setScaledContents(True)  # Scale the image to fit the label\n",
    "\n",
    "        # Create a QLabel with fixed size and custom style\n",
    "        label_fixed_size = QLabel(\"Fixed-size Label\", self)\n",
    "        label_fixed_size.setGeometry(230, 20, 150, 100)\n",
    "        label_fixed_size.setAlignment(QtCore.Qt.AlignCenter)\n",
    "        label_fixed_size.setStyleSheet(\"background-color: lightgray;\")\n",
    "\n",
    "        # Show the main window\n",
    "        self.show()\n",
    "\n",
    "if __name__ == \"__main__\":\n",
    "    app = QApplication(sys.argv)\n",
    "    window = QLabelExample()\n",
    "    sys.exit(app.exec_())"
   ]
  },
  {
   "cell_type": "markdown",
   "id": "5fcdbb84-3743-4925-8742-cc3eed69d7aa",
   "metadata": {
    "jp-MarkdownHeadingCollapsed": true
   },
   "source": [
    "### Text Browser Methods and Their Functions"
   ]
  },
  {
   "cell_type": "markdown",
   "id": "47882882-26e0-4d11-9d2d-c3aee49e38b4",
   "metadata": {},
   "source": [
    "In PyQt5, a QTextBrowser is a widget that allows you to display and interact with rich text content. It is used to render and display HTML-formatted text and can also include hyperlinks that users can click to navigate to other web pages or execute actions within the application."
   ]
  },
  {
   "cell_type": "markdown",
   "id": "4cdb5cf5-3028-4201-901f-b1a8fe100ad9",
   "metadata": {},
   "source": [
    "Here are some key features and usage of QTextBrowser:"
   ]
  },
  {
   "cell_type": "code",
   "execution_count": null,
   "id": "88e683b8-daf9-49ef-9bb7-b696ab5aa2e7",
   "metadata": {},
   "outputs": [],
   "source": [
    "# Displaying HTML Content:\n",
    "# You can use the setHtml() method to set the content of the QTextBrowser to display HTML-formatted text.\n",
    "\n",
    "from PyQt5.QtWidgets import QApplication, QTextBrowser, QWidget\n",
    "\n",
    "app = QApplication([])\n",
    "window = QWidget()\n",
    "\n",
    "text_browser = QTextBrowser(window)\n",
    "text_browser.setHtml(\"<h1>Hello, PyQt5!</h1>\")\n",
    "\n",
    "# Navigating Hyperlinks:\n",
    "# QTextBrowser automatically detects hyperlinks within the HTML content and allows users to click on them. By default, the clicked hyperlinks will open in the default web browser."
   ]
  },
  {
   "cell_type": "code",
   "execution_count": null,
   "id": "b80c7f54-4432-4cc4-86da-0404f889f873",
   "metadata": {},
   "outputs": [],
   "source": [
    "# Displaying Plain Text:\n",
    "# If you want to display plain text without formatting or hyperlinks, you can use the setPlainText() method.\n",
    "\n",
    "text_browser.setPlainText(\"This is plain text.\")"
   ]
  },
  {
   "cell_type": "markdown",
   "id": "c2d636e4-0db5-4ad4-ba4b-2b0484865cf8",
   "metadata": {},
   "source": [
    "Text Interaction:\n",
    "Users can select and copy text from the QTextBrowser, but they cannot edit the content.\n",
    "\n",
    "Scrolling:\n",
    "If the content exceeds the available space, a scroll bar is automatically added to the QTextBrowser, allowing users to scroll through the content."
   ]
  },
  {
   "cell_type": "code",
   "execution_count": null,
   "id": "4a81fad3-bd64-4cdd-89da-63970f078924",
   "metadata": {},
   "outputs": [],
   "source": [
    "# Find Text:\n",
    "# You can search for specific text within the QTextBrowser using the find() method.\n",
    "text_browser.find(\"PyQt5\")"
   ]
  },
  {
   "cell_type": "markdown",
   "id": "483364f6-d9b3-4762-9c76-64cba83132b6",
   "metadata": {},
   "source": [
    "The main difference between QLabel and QTextBrowser in PyQt5 is in their purpose and capabilities:"
   ]
  },
  {
   "cell_type": "markdown",
   "id": "0b53e001-cf24-40f9-ad9d-ea5aef884793",
   "metadata": {},
   "source": [
    "Purpose:\n",
    "\n",
    "QLabel: QLabel is primarily used for displaying static text or images. It is a simple widget for showing text or images on the user interface, and it does not support hyperlinks or rich text formatting like HTML.\n",
    "QTextBrowser: QTextBrowser, on the other hand, is designed to display rich text content, including HTML-formatted text. It supports hyperlinks, formatting, and can display images, tables, lists, and other HTML elements.\n",
    "Text Interaction:\n",
    "\n",
    "QLabel: QLabel does not support text interaction or selection by default. It is mainly used for displaying text or images and does not allow users to copy or interact with the displayed content.\n",
    "QTextBrowser: QTextBrowser allows users to select and copy text from the displayed content. It also supports hyperlinks, so users can click on links to navigate to other pages or execute actions.\n",
    "HTML Support:\n",
    "\n",
    "QLabel: QLabel does not interpret HTML content. If you set HTML-formatted text using setText() or setHtml(), QLabel will display the HTML tags as plain text.\n",
    "QTextBrowser: QTextBrowser can display rich text content, including HTML-formatted text. It interprets and renders HTML tags, allowing you to create more complex and formatted text content.\n",
    "Complexity:\n",
    "\n",
    "QLabel: QLabel is a simple and lightweight widget suitable for displaying basic text or images.\n",
    "QTextBrowser: QTextBrowser is more feature-rich and suitable for displaying more complex text content, such as formatted documentation, web pages, or help content.\n",
    "In summary, if you need to display static text or images without the need for user interaction or complex formatting, you can use QLabel. However, if you want to display rich text content with support for hyperlinks, formatting, and images, QTextBrowser is the appropriate choice."
   ]
  },
  {
   "cell_type": "code",
   "execution_count": null,
   "id": "ba088890-cbcd-4e16-abb5-76d10763c308",
   "metadata": {},
   "outputs": [],
   "source": [
    "import sys\n",
    "from PyQt5.QtWidgets import QApplication, QTextBrowser, QPushButton, QVBoxLayout, QWidget\n",
    "\n",
    "class TextBrowserExample(QWidget):\n",
    "    def __init__(self):\n",
    "        super().__init__()\n",
    "        self.initUI()\n",
    "\n",
    "    def initUI(self):\n",
    "        # Create the main layout\n",
    "        layout = QVBoxLayout()\n",
    "\n",
    "        # Create a QTextBrowser\n",
    "        self.text_browser = QTextBrowser(self)\n",
    "        self.text_browser.setHtml(\"<h1>Hello, PyQt5!</h1><p>This is a QTextBrowser example.</p>\")\n",
    "        layout.addWidget(self.text_browser)\n",
    "\n",
    "        # Create buttons to demonstrate methods\n",
    "        button_set_plain_text = QPushButton(\"Set Plain Text\", self)\n",
    "        button_set_html = QPushButton(\"Set HTML\", self)\n",
    "        button_append_text = QPushButton(\"Append Text\", self)\n",
    "        button_clear = QPushButton(\"Clear\", self)\n",
    "\n",
    "        layout.addWidget(button_set_plain_text)\n",
    "        layout.addWidget(button_set_html)\n",
    "        layout.addWidget(button_append_text)\n",
    "        layout.addWidget(button_clear)\n",
    "\n",
    "        # Connect buttons to their respective functions\n",
    "        button_set_plain_text.clicked.connect(self.set_plain_text)\n",
    "        button_set_html.clicked.connect(self.set_html)\n",
    "        button_append_text.clicked.connect(self.append_text)\n",
    "        button_clear.clicked.connect(self.clear)\n",
    "\n",
    "        self.setLayout(layout)\n",
    "        self.setWindowTitle(\"QTextBrowser Example\")\n",
    "        self.resize(400, 300)\n",
    "\n",
    "    def set_plain_text(self):\n",
    "        self.text_browser.setPlainText(\"This is plain text.\")\n",
    "\n",
    "    def set_html(self):\n",
    "        self.text_browser.setHtml(\"<h2>Rich Text with HTML Formatting</h2><p>You can <a href='https://www.example.com'>click here</a> to visit Example website.</p>\")\n",
    "\n",
    "    def append_text(self):\n",
    "        self.text_browser.append(\"Appended text.\")\n",
    "\n",
    "    def clear(self):\n",
    "        self.text_browser.clear()\n",
    "\n",
    "if __name__ == \"__main__\":\n",
    "    app = QApplication(sys.argv)\n",
    "    window = TextBrowserExample()\n",
    "    window.show()\n",
    "    sys.exit(app.exec_())\n"
   ]
  },
  {
   "cell_type": "markdown",
   "id": "4039fe55-2df0-4175-9432-d89b7eed8aff",
   "metadata": {
    "jp-MarkdownHeadingCollapsed": true
   },
   "source": [
    "### PushButton Methods and Their Functions"
   ]
  },
  {
   "cell_type": "markdown",
   "id": "82597cfa-4509-4561-b0f7-f949420fab82",
   "metadata": {},
   "source": [
    "In PyQt5, a QPushButton is a clickable button widget that provides a way for users to trigger actions or events within the graphical user interface (GUI). Push buttons are commonly used to initiate actions, submit forms, or execute specific functions when clicked."
   ]
  },
  {
   "cell_type": "code",
   "execution_count": null,
   "id": "3e4f549b-cc67-45ee-b62d-385c06479c28",
   "metadata": {},
   "outputs": [],
   "source": [
    "# Creating a QPushButton:\n",
    "# To create a push button in PyQt5, you instantiate the QPushButton class and optionally provide text or an icon for the button.\n",
    "\n",
    "from PyQt5.QtWidgets import QApplication, QPushButton, QWidget\n",
    "\n",
    "app = QApplication([])\n",
    "window = QWidget()\n",
    "\n",
    "button = QPushButton(\"Click Me\", window)"
   ]
  },
  {
   "cell_type": "code",
   "execution_count": null,
   "id": "bdb698e5-ee0c-48be-b7c3-fe6f8196451b",
   "metadata": {},
   "outputs": [],
   "source": [
    "# Button Text:\n",
    "# The text on the button can be set using the setText() method, and it can be retrieved using the text() method.\n",
    "button.setText(\"Click Me\")  # Set button text\n",
    "print(button.text())        # Get button text"
   ]
  },
  {
   "cell_type": "code",
   "execution_count": null,
   "id": "7fa6aee7-e538-4f64-bc45-d4f9960b58b6",
   "metadata": {},
   "outputs": [],
   "source": [
    "# Button Icon:\n",
    "# You can set an icon on the button using the setIcon() method. Icons can be loaded from image files or from the built-in QIcon library.\n",
    "from PyQt5.QtGui import QIcon\n",
    "\n",
    "icon = QIcon(\"path_to_icon.png\")\n",
    "button.setIcon(icon)"
   ]
  },
  {
   "cell_type": "code",
   "execution_count": null,
   "id": "82247aac-4fde-44be-9730-56087f068145",
   "metadata": {},
   "outputs": [],
   "source": [
    "# Button Size:\n",
    "# You can set the size of the button using the setFixedSize() method, or you can let it automatically adjust to its content.\n",
    "button.setFixedSize(100, 30)  # Set a fixed size"
   ]
  },
  {
   "cell_type": "code",
   "execution_count": null,
   "id": "74f49bd3-c41f-4ae5-99c0-d1835b0760ee",
   "metadata": {},
   "outputs": [],
   "source": [
    "# Button Clicked Signal:\n",
    "# QPushButton emits a clicked signal when the button is clicked. You can connect this signal to a custom slot (function) to perform an action when the button is clicked.\n",
    "def on_button_click():\n",
    "    print(\"Button clicked!\")\n",
    "\n",
    "button.clicked.connect(on_button_click)"
   ]
  },
  {
   "cell_type": "code",
   "execution_count": null,
   "id": "f63b450e-5582-411e-b0ec-c8511b4e98c0",
   "metadata": {},
   "outputs": [],
   "source": [
    "# Button State:\n",
    "# A QPushButton can have different states, such as enabled or disabled. You can enable or disable the button using the setEnabled() method.\n",
    "button.setEnabled(False)  # Disable the button"
   ]
  },
  {
   "cell_type": "markdown",
   "id": "8bbbd3ae-781a-44be-9dcf-8d084e212827",
   "metadata": {},
   "source": [
    "Here's an example that demonstrates various methods of QPushButton in PyQt5:"
   ]
  },
  {
   "cell_type": "code",
   "execution_count": null,
   "id": "d898efed-9656-46f4-be22-de562c1dfbc9",
   "metadata": {},
   "outputs": [],
   "source": [
    "import sys\n",
    "from PyQt5.QtWidgets import QApplication, QPushButton, QVBoxLayout, QWidget\n",
    "from PyQt5.QtCore import Qt\n",
    "\n",
    "class QPushButtonExample(QWidget):\n",
    "    def __init__(self):\n",
    "        super().__init__()\n",
    "        self.initUI()\n",
    "\n",
    "    def initUI(self):\n",
    "        # Create the main layout\n",
    "        layout = QVBoxLayout()\n",
    "\n",
    "        # Create a QPushButton\n",
    "        self.button = QPushButton(\"Click Me\", self)\n",
    "        layout.addWidget(self.button)\n",
    "\n",
    "        # Connect the button's clicked signal to the on_button_click function\n",
    "        self.button.clicked.connect(self.on_button_click)\n",
    "\n",
    "        # Set button properties\n",
    "        self.button.setFixedSize(100, 30)  # Set a fixed size\n",
    "        self.button.setStyleSheet(\"font-size: 16px; color: white; background-color: blue;\")\n",
    "\n",
    "        # Set as default button (activated on pressing Enter key)\n",
    "        self.button.setDefault(True)\n",
    "\n",
    "        # Set as auto default button (activated on pressing Enter key only if no other button has focus)\n",
    "        self.button.setAutoDefault(True)\n",
    "\n",
    "        # Disable the button initially\n",
    "        self.button.setEnabled(False)\n",
    "\n",
    "        # Show the main window\n",
    "        self.setLayout(layout)\n",
    "        self.setWindowTitle(\"QPushButton Example\")\n",
    "        self.resize(300, 150)\n",
    "        self.show()\n",
    "\n",
    "    def on_button_click(self):\n",
    "        print(\"Button clicked!\")\n",
    "\n",
    "        # Enable the button when clicked\n",
    "        self.button.setEnabled(True)\n",
    "\n",
    "if __name__ == \"__main__\":\n",
    "    app = QApplication(sys.argv)\n",
    "    window = QPushButtonExample()\n",
    "    sys.exit(app.exec_())"
   ]
  },
  {
   "cell_type": "markdown",
   "id": "ef459120-621e-4ee3-88fc-e7d238d2f76d",
   "metadata": {
    "jp-MarkdownHeadingCollapsed": true
   },
   "source": [
    "###  RadioButton Methods and Their Functions"
   ]
  },
  {
   "cell_type": "markdown",
   "id": "a4e5127f-92d9-45fd-a400-742d7f262763",
   "metadata": {},
   "source": [
    "In PyQt5, a QRadioButton is a type of button widget that allows users to make a single choice from a list of options. Radio buttons are often used in groups, where only one radio button can be selected at a time, and selecting one automatically deselects others within the same group."
   ]
  },
  {
   "cell_type": "code",
   "execution_count": null,
   "id": "81a10317-1737-47ed-86a4-9a5573f08ad9",
   "metadata": {},
   "outputs": [],
   "source": [
    "# Creating a QRadioButton:\n",
    "# To create a radio button in PyQt5, you instantiate the QRadioButton class and optionally provide text or an icon for the button.\n",
    "from PyQt5.QtWidgets import QApplication, QRadioButton, QWidget\n",
    "\n",
    "app = QApplication([])\n",
    "window = QWidget()\n",
    "\n",
    "radio_button = QRadioButton(\"Option 1\", window)\n"
   ]
  },
  {
   "cell_type": "code",
   "execution_count": null,
   "id": "989408bf-c097-47ee-b869-d8bbbea6a867",
   "metadata": {},
   "outputs": [],
   "source": [
    "# Button Text:\n",
    "# The text on the button can be set using the setText() method, and it can be retrieved using the text() method.\n",
    "radio_button.setText(\"Option 1\")  # Set button text\n",
    "print(radio_button.text())        # Get button text\n"
   ]
  },
  {
   "cell_type": "code",
   "execution_count": null,
   "id": "57f044b4-010f-43e5-ba09-f0f0fcf379c4",
   "metadata": {},
   "outputs": [],
   "source": [
    "# Button State:\n",
    "# Radio buttons have two states: selected (checked) or unselected (unchecked). You can check the state using the isChecked() method, \n",
    "# and you can set the state using the setChecked() method.\n",
    "radio_button.setChecked(True)  # Check (select) the button\n"
   ]
  },
  {
   "cell_type": "code",
   "execution_count": null,
   "id": "c4d4d58c-04f4-443d-bc3f-b6cc1c7ecad1",
   "metadata": {},
   "outputs": [],
   "source": [
    "# Button Toggled Signal:\n",
    "# QRadioButton emits a toggled signal when its state changes (selected or deselected). \n",
    "# You can connect this signal to a custom slot (function) to perform an action when the button's state changes.\n",
    "def on_radio_button_toggled(state):\n",
    "    print(f\"Radio button toggled: {state}\")\n",
    "\n",
    "radio_button.toggled.connect(on_radio_button_toggled)\n"
   ]
  },
  {
   "cell_type": "markdown",
   "id": "ac948b3a-cbe0-465d-9be1-ddd66f3e0a32",
   "metadata": {},
   "source": [
    "Here's an example that demonstrates various methods of QRadioButton in PyQt5:"
   ]
  },
  {
   "cell_type": "code",
   "execution_count": null,
   "id": "25c3845e-12f2-4c6d-b39b-5769604226ae",
   "metadata": {},
   "outputs": [],
   "source": [
    "import sys\n",
    "from PyQt5.QtWidgets import QApplication, QRadioButton, QVBoxLayout, QWidget\n",
    "\n",
    "class QRadioButtonExample(QWidget):\n",
    "    def __init__(self):\n",
    "        super().__init__()\n",
    "        self.initUI()\n",
    "\n",
    "    def initUI(self):\n",
    "        # Create the main layout\n",
    "        layout = QVBoxLayout()\n",
    "\n",
    "        # Create three QRadioButtons\n",
    "        self.radio_button1 = QRadioButton(\"Option 1\", self)\n",
    "        self.radio_button2 = QRadioButton(\"Option 2\", self)\n",
    "        self.radio_button3 = QRadioButton(\"Option 3\", self)\n",
    "\n",
    "        layout.addWidget(self.radio_button1)\n",
    "        layout.addWidget(self.radio_button2)\n",
    "        layout.addWidget(self.radio_button3)\n",
    "\n",
    "        # Connect the button's toggled signal to the on_radio_button_toggled function\n",
    "        self.radio_button1.toggled.connect(self.on_radio_button_toggled)\n",
    "        self.radio_button2.toggled.connect(self.on_radio_button_toggled)\n",
    "        self.radio_button3.toggled.connect(self.on_radio_button_toggled)\n",
    "\n",
    "        # Set button properties\n",
    "        self.radio_button1.setChecked(True)  # Set the first button as selected by default\n",
    "\n",
    "        # Show the main window\n",
    "        self.setLayout(layout)\n",
    "        self.setWindowTitle(\"QRadioButton Example\")\n",
    "        self.resize(300, 150)\n",
    "        self.show()\n",
    "\n",
    "    def on_radio_button_toggled(self, state):\n",
    "        # Get the text of the selected radio button\n",
    "        selected_button = self.sender()\n",
    "        if state:\n",
    "            print(f\"Selected option: {selected_button.text()}\")\n",
    "\n",
    "if __name__ == \"__main__\":\n",
    "    app = QApplication(sys.argv)\n",
    "    window = QRadioButtonExample()\n",
    "    sys.exit(app.exec_())"
   ]
  },
  {
   "cell_type": "code",
   "execution_count": null,
   "id": "720ca3e1-01a8-4129-85eb-9f9e3d3f47d4",
   "metadata": {},
   "outputs": [],
   "source": []
  },
  {
   "cell_type": "markdown",
   "id": "3fb693b8-3d65-42dc-bb3a-672f711c18f3",
   "metadata": {
    "jp-MarkdownHeadingCollapsed": true
   },
   "source": [
    "### Checkbox Methods and Their Functions"
   ]
  },
  {
   "cell_type": "markdown",
   "id": "901be50c-c310-40fc-a8b6-dbf745e32663",
   "metadata": {},
   "source": [
    "In PyQt5, a QCheckBox is a widget that provides a simple way to toggle a binary option on or off. It appears as a small box that can be checked (selected) or unchecked (cleared) by the user. Checkboxes are often used to represent options that can be turned on or off independently."
   ]
  },
  {
   "cell_type": "code",
   "execution_count": null,
   "id": "91d315e5-2417-41db-bde4-ce1017876a45",
   "metadata": {},
   "outputs": [],
   "source": [
    "# Creating a QCheckBox:\n",
    "# To create a checkbox in PyQt5, you instantiate the QCheckBox class and optionally provide text or an icon for the checkbox.\n",
    "from PyQt5.QtWidgets import QApplication, QCheckBox, QWidget\n",
    "\n",
    "app = QApplication([])\n",
    "window = QWidget()\n",
    "\n",
    "checkbox = QCheckBox(\"Enable Option\", window)\n"
   ]
  },
  {
   "cell_type": "code",
   "execution_count": null,
   "id": "8e557006-65d7-413d-864a-a1eae75039f1",
   "metadata": {},
   "outputs": [],
   "source": [
    "# Checkbox Text:\n",
    "# The text next to the checkbox can be set using the setText() method, and it can be retrieved using the text() method.\n",
    "checkbox.setText(\"Enable Option\")  # Set checkbox text\n",
    "print(checkbox.text())             # Get checkbox text\n"
   ]
  },
  {
   "cell_type": "code",
   "execution_count": null,
   "id": "c6bf0c00-cd90-481b-ad41-6a7bc79ac559",
   "metadata": {},
   "outputs": [],
   "source": [
    "# Checkbox State:\n",
    "# A QCheckBox can have two states: checked (selected) or unchecked (cleared). \n",
    "# You can check the state using the isChecked() method, and you can set the state using the setChecked() method.\n",
    "checkbox.setChecked(True)  # Check (select) the checkbox\n"
   ]
  },
  {
   "cell_type": "code",
   "execution_count": null,
   "id": "c3193605-516d-446e-b3f4-669562612654",
   "metadata": {},
   "outputs": [],
   "source": [
    "# Checkbox State Change Signal:\n",
    "# QCheckBox emits a stateChanged signal when its state changes (checked or unchecked). \n",
    "# You can connect this signal to a custom slot (function) to perform an action when the checkbox's state changes.\n",
    "def on_checkbox_state_changed(state):\n",
    "    print(\"Checkbox state changed:\", state)\n",
    "\n",
    "checkbox.stateChanged.connect(on_checkbox_state_changed)\n"
   ]
  },
  {
   "cell_type": "markdown",
   "id": "2fecfb46-462e-4ce8-a303-cedd6f854c94",
   "metadata": {},
   "source": [
    "Here's an example that demonstrates various methods of QCheckBox in PyQt5:"
   ]
  },
  {
   "cell_type": "code",
   "execution_count": null,
   "id": "6cb1c750-45f5-4fec-9a6c-da8b7a21302d",
   "metadata": {},
   "outputs": [],
   "source": [
    "import sys\n",
    "from PyQt5.QtWidgets import QApplication, QCheckBox, QVBoxLayout, QWidget\n",
    "\n",
    "class QCheckBoxExample(QWidget):\n",
    "    def __init__(self):\n",
    "        super().__init__()\n",
    "        self.initUI()\n",
    "\n",
    "    def initUI(self):\n",
    "        # Create the main layout\n",
    "        layout = QVBoxLayout()\n",
    "\n",
    "        # Create a QCheckBox\n",
    "        self.checkbox = QCheckBox(\"Enable Option\", self)\n",
    "        layout.addWidget(self.checkbox)\n",
    "\n",
    "        # Connect the checkbox's stateChanged signal to the on_checkbox_state_changed function\n",
    "        self.checkbox.stateChanged.connect(self.on_checkbox_state_changed)\n",
    "\n",
    "        # Set checkbox properties\n",
    "        self.checkbox.setChecked(True)  # Check (select) the checkbox\n",
    "\n",
    "        # Show the main window\n",
    "        self.setLayout(layout)\n",
    "        self.setWindowTitle(\"QCheckBox Example\")\n",
    "        self.resize(300, 150)\n",
    "        self.show()\n",
    "\n",
    "    def on_checkbox_state_changed(self, state):\n",
    "        # Get the text of the checkbox\n",
    "        checkbox_text = self.checkbox.text()\n",
    "\n",
    "        if state == 0:\n",
    "            print(f\"{checkbox_text} is unchecked.\")\n",
    "        elif state == 1:\n",
    "            print(f\"{checkbox_text} is checked.\")\n",
    "        else:\n",
    "            print(f\"{checkbox_text} is in a partially checked state.\")\n",
    "\n",
    "if __name__ == \"__main__\":\n",
    "    app = QApplication(sys.argv)\n",
    "    window = QCheckBoxExample()\n",
    "    sys.exit(app.exec_())\n"
   ]
  },
  {
   "cell_type": "markdown",
   "id": "c9f69606-0e73-4562-9c48-6d057fca6b4a",
   "metadata": {
    "jp-MarkdownHeadingCollapsed": true
   },
   "source": [
    "### List Widget Methods and Their Functions"
   ]
  },
  {
   "cell_type": "markdown",
   "id": "bd7702cd-2001-4c02-9102-85bc6741001b",
   "metadata": {},
   "source": [
    "In PyQt5, a QListWidget is a widget that provides a list view to display a collection of items. Each item in the list can have a text label, an icon, and associated data. List widgets are commonly used to present lists of items where the user can select one or multiple items from the list."
   ]
  },
  {
   "cell_type": "code",
   "execution_count": null,
   "id": "d93c6a78-4fc2-4f9f-878a-41e478bb6133",
   "metadata": {},
   "outputs": [],
   "source": [
    "# Creating a QListWidget:\n",
    "# To create a list widget in PyQt5, you instantiate the QListWidget class and add items to the list using the addItem() method.\n",
    "from PyQt5.QtWidgets import QApplication, QListWidget, QListWidgetItem, QWidget\n",
    "\n",
    "app = QApplication([])\n",
    "window = QWidget()\n",
    "\n",
    "list_widget = QListWidget(window)\n",
    "list_widget.addItem(\"Item 1\")\n",
    "list_widget.addItem(\"Item 2\")\n",
    "list_widget.addItem(\"Item 3\")\n",
    "\n"
   ]
  },
  {
   "cell_type": "code",
   "execution_count": null,
   "id": "01b68415-03e4-45a5-aae2-8b1b78079373",
   "metadata": {},
   "outputs": [],
   "source": [
    "# Adding Items:\n",
    "# You can add items to the list widget using the addItem() method. Alternatively, you can use QListWidgetItem to add items with additional properties such as icons and associated data.\n",
    "item = QListWidgetItem(\"Item with icon\")\n",
    "item.setIcon(QIcon(\"icon.png\"))  # Set an icon for the item\n",
    "item.setData(Qt.UserRole, \"Additional data\")  # Set additional data for the item\n",
    "list_widget.addItem(item)\n"
   ]
  },
  {
   "cell_type": "code",
   "execution_count": null,
   "id": "158bbfcb-a7f6-4f75-a17b-ee01e7a2d86f",
   "metadata": {},
   "outputs": [],
   "source": [
    "# Selecting Items:\n",
    "# By default, you can select one or multiple items in a list widget. The selection mode can be set using the setSelectionMode() method. \n",
    "# Common selection modes are QAbstractItemView.SingleSelection (select one item) and QAbstractItemView.MultiSelection (select multiple items).\n",
    "list_widget.setSelectionMode(QAbstractItemView.MultiSelection)\n"
   ]
  },
  {
   "cell_type": "code",
   "execution_count": null,
   "id": "1c8601c6-c15d-469c-9396-b56dcb79bf28",
   "metadata": {},
   "outputs": [],
   "source": [
    "# Getting Selected Items:\n",
    "# You can retrieve the selected items from the list widget using the selectedItems() method. Each selected item is an instance of QListWidgetItem.\n",
    "selected_items = list_widget.selectedItems()\n",
    "for item in selected_items:\n",
    "    print(item.text())\n"
   ]
  },
  {
   "cell_type": "code",
   "execution_count": null,
   "id": "16f304f1-78c5-41a9-b035-61675a52fb9c",
   "metadata": {},
   "outputs": [],
   "source": [
    "# Handling Item Clicks:\n",
    "# You can connect the itemClicked signal to a custom slot (function) to perform an action when an item in the list is clicked.\n",
    "def on_item_clicked(item):\n",
    "    print(f\"Clicked item: {item.text()}\")\n",
    "\n",
    "list_widget.itemClicked.connect(on_item_clicked)\n"
   ]
  },
  {
   "cell_type": "code",
   "execution_count": null,
   "id": "d6b216e4-53dc-45e0-a2c1-5f22edaf023d",
   "metadata": {},
   "outputs": [],
   "source": [
    "# Removing Items:\n",
    "# You can remove items from the list widget using the takeItem() method.\n",
    "item_to_remove = list_widget.item(1)  # Get the second item\n",
    "list_widget.takeItem(list_widget.row(item_to_remove))  # Remove the item from the list\n"
   ]
  },
  {
   "cell_type": "markdown",
   "id": "e7d5b105-c89f-4554-a268-4525516398b5",
   "metadata": {},
   "source": [
    "Here's an example that demonstrates various methods of QListWidget in PyQt5:"
   ]
  },
  {
   "cell_type": "code",
   "execution_count": null,
   "id": "eaa96fec-f479-4299-8b3b-32371c57b3ce",
   "metadata": {},
   "outputs": [],
   "source": [
    "import sys\n",
    "from PyQt5.QtWidgets import QApplication, QListWidget, QListWidgetItem, QVBoxLayout, QWidget\n",
    "from PyQt5.QtGui import QIcon\n",
    "from PyQt5.QtCore import Qt\n",
    "\n",
    "class QListWidgetExample(QWidget):\n",
    "    def __init__(self):\n",
    "        super().__init__()\n",
    "        self.initUI()\n",
    "\n",
    "    def initUI(self):\n",
    "        # Create the main layout\n",
    "        layout = QVBoxLayout()\n",
    "\n",
    "        # Create a QListWidget\n",
    "        self.list_widget = QListWidget(self)\n",
    "        layout.addWidget(self.list_widget)\n",
    "\n",
    "        # Add items to the list\n",
    "        self.list_widget.addItem(\"Item 1\")\n",
    "        self.list_widget.addItem(\"Item 2\")\n",
    "        self.list_widget.addItem(\"Item 3\")\n",
    "\n",
    "        # Add items with additional properties\n",
    "        item = QListWidgetItem(\"Item with icon\")\n",
    "        item.setIcon(QIcon(\"icon.png\"))  # Set an icon for the item\n",
    "        item.setData(Qt.UserRole, \"Additional data\")  # Set additional data for the item\n",
    "        self.list_widget.addItem(item)\n",
    "\n",
    "        # Set selection mode to multi-selection\n",
    "        self.list_widget.setSelectionMode(QListWidget.MultiSelection)\n",
    "\n",
    "        # Connect the itemClicked signal to the on_item_clicked function\n",
    "        self.list_widget.itemClicked.connect(self.on_item_clicked)\n",
    "\n",
    "        # Remove an item from the list\n",
    "        item_to_remove = self.list_widget.item(1)  # Get the second item\n",
    "        self.list_widget.takeItem(self.list_widget.row(item_to_remove))  # Remove the item from the list\n",
    "\n",
    "        # Set the style sheet for the list widget\n",
    "        self.list_widget.setStyleSheet(\"font-size: 14px; color: black; background-color: lightgray;\")\n",
    "\n",
    "        # Show the main window\n",
    "        self.setLayout(layout)\n",
    "        self.setWindowTitle(\"QListWidget Example\")\n",
    "        self.resize(300, 150)\n",
    "        self.show()\n",
    "\n",
    "    def on_item_clicked(self, item):\n",
    "        # Get the text and additional data of the clicked item\n",
    "        item_text = item.text()\n",
    "        additional_data = item.data(Qt.UserRole)\n",
    "\n",
    "        print(f\"Clicked item: {item_text}\")\n",
    "        print(f\"Additional data: {additional_data}\")\n",
    "\n",
    "if __name__ == \"__main__\":\n",
    "    app = QApplication(sys.argv)\n",
    "    window = QListWidgetExample()\n",
    "    sys.exit(app.exec_())\n"
   ]
  },
  {
   "cell_type": "markdown",
   "id": "4c139949-01e7-481d-8c58-5c78c0f637a3",
   "metadata": {},
   "source": [
    "### Combo Box Methods and Their Functions"
   ]
  },
  {
   "cell_type": "markdown",
   "id": "6dcee894-7824-4434-926a-e50b4fac266e",
   "metadata": {},
   "source": [
    "In PyQt5, a QComboBox is a widget that provides a drop-down list of items from which the user can select one option. It is similar to a list widget, but it takes up less space as it only shows the currently selected item, and the rest of the items are hidden until the user clicks the drop-down arrow."
   ]
  },
  {
   "cell_type": "code",
   "execution_count": null,
   "id": "fdb66239-4c87-4c6a-9557-fab587dac4c9",
   "metadata": {},
   "outputs": [],
   "source": [
    "# Creating a QComboBox:\n",
    "# To create a combo box in PyQt5, you instantiate the QComboBox class and add items to it using the addItem() method.\n",
    "from PyQt5.QtWidgets import QApplication, QComboBox, QWidget\n",
    "\n",
    "app = QApplication([])\n",
    "window = QWidget()\n",
    "\n",
    "combo_box = QComboBox(window)\n",
    "combo_box.addItem(\"Option 1\")\n",
    "combo_box.addItem(\"Option 2\")\n",
    "combo_box.addItem(\"Option 3\")\n"
   ]
  },
  {
   "cell_type": "code",
   "execution_count": null,
   "id": "ed837434-c3fe-40c9-81e5-c0dddbeb621d",
   "metadata": {},
   "outputs": [],
   "source": [
    "# Adding Items:\n",
    "# You can add items to the combo box using the addItem() method. Alternatively, you can use addItems() to add multiple items at once using a list.\n",
    "combo_box.addItems([\"Option 4\", \"Option 5\", \"Option 6\"])\n"
   ]
  },
  {
   "cell_type": "code",
   "execution_count": null,
   "id": "25baa3e5-fa75-4cd3-8939-644462958072",
   "metadata": {},
   "outputs": [],
   "source": [
    "# Selecting an Item:\n",
    "# You can set the currently selected item in the combo box using the setCurrentIndex() method, passing the index of the item you want to select.\n",
    "combo_box.setCurrentIndex(1)  # Selects \"Option 2\"\n"
   ]
  },
  {
   "cell_type": "code",
   "execution_count": null,
   "id": "9496dad2-181f-4141-9c1f-8314e97fc7d0",
   "metadata": {},
   "outputs": [],
   "source": [
    "# Getting Selected Item:\n",
    "# To get the currently selected item, you can use the currentText() method, which returns the text of the selected item.\n",
    "selected_item = combo_box.currentText()\n"
   ]
  },
  {
   "cell_type": "code",
   "execution_count": null,
   "id": "e33f848f-cd61-4a31-8b4c-161523195ebd",
   "metadata": {},
   "outputs": [],
   "source": [
    "# Handling Item Selection:\n",
    "# You can connect the activated or currentIndexChanged signals to a custom slot (function) to perform an action when an item in the combo box is selected.\n",
    "def on_combo_box_activated(text):\n",
    "    print(f\"Activated item: {text}\")\n",
    "\n",
    "combo_box.activated[str].connect(on_combo_box_activated)\n"
   ]
  },
  {
   "cell_type": "code",
   "execution_count": null,
   "id": "b7a4862d-0058-4919-b2a9-5f940847485a",
   "metadata": {},
   "outputs": [],
   "source": [
    "# Removing Items:\n",
    "# You can remove items from the combo box using the removeItem() method, passing the index of the item to be removed.\n",
    "combo_box.removeItem(2)  # Removes \"Option 3\" from the combo box\n"
   ]
  },
  {
   "cell_type": "markdown",
   "id": "8663637c-b3c3-4d33-8846-a9137b1a4c4f",
   "metadata": {},
   "source": [
    "Here's an example that demonstrates various methods of QComboBox in PyQt5:"
   ]
  },
  {
   "cell_type": "code",
   "execution_count": null,
   "id": "25496e45-1cb0-4081-bee5-fd794cf98a8b",
   "metadata": {},
   "outputs": [],
   "source": [
    "import sys\n",
    "from PyQt5.QtWidgets import QApplication, QComboBox, QVBoxLayout, QWidget\n",
    "\n",
    "class QComboBoxExample(QWidget):\n",
    "    def __init__(self):\n",
    "        super().__init__()\n",
    "        self.initUI()\n",
    "\n",
    "    def initUI(self):\n",
    "        # Create the main layout\n",
    "        layout = QVBoxLayout()\n",
    "\n",
    "        # Create a QComboBox\n",
    "        self.combo_box = QComboBox(self)\n",
    "        layout.addWidget(self.combo_box)\n",
    "\n",
    "        # Add items to the combo box\n",
    "        self.combo_box.addItem(\"Option 1\")\n",
    "        self.combo_box.addItem(\"Option 2\")\n",
    "        self.combo_box.addItem(\"Option 3\")\n",
    "\n",
    "        # Add multiple items at once\n",
    "        self.combo_box.addItems([\"Option 4\", \"Option 5\", \"Option 6\"])\n",
    "\n",
    "        # Set the currently selected item\n",
    "        self.combo_box.setCurrentIndex(1)  # Selects \"Option 2\"\n",
    "\n",
    "        # Connect the activated signal to the on_combo_box_activated function\n",
    "        self.combo_box.activated[str].connect(self.on_combo_box_activated)\n",
    "\n",
    "        # Remove an item from the combo box\n",
    "        self.combo_box.removeItem(2)  # Removes \"Option 3\" from the combo box\n",
    "\n",
    "        # Set the style sheet for the combo box\n",
    "        self.combo_box.setStyleSheet(\"font-size: 14px; color: black; background-color: lightgray;\")\n",
    "\n",
    "        # Show the main window\n",
    "        self.setLayout(layout)\n",
    "        self.setWindowTitle(\"QComboBox Example\")\n",
    "        self.resize(300, 150)\n",
    "        self.show()\n",
    "\n",
    "    def on_combo_box_activated(self, text):\n",
    "        print(f\"Activated item: {text}\")\n",
    "\n",
    "if __name__ == \"__main__\":\n",
    "    app = QApplication(sys.argv)\n",
    "    window = QComboBoxExample()\n",
    "    sys.exit(app.exec_())\n"
   ]
  },
  {
   "cell_type": "markdown",
   "id": "8be8bf20-416f-4da2-a032-ef6494f57ce3",
   "metadata": {},
   "source": [
    "### Line Edit Methods and Their Functions"
   ]
  },
  {
   "cell_type": "markdown",
   "id": "7dcdf6c7-348a-4dde-b2ca-a5286e9e154f",
   "metadata": {},
   "source": [
    "In PyQt5, a QLineEdit is a widget that allows the user to enter and edit a single line of plain text. It provides a simple text input field where the user can type alphanumeric characters and other special symbols."
   ]
  },
  {
   "cell_type": "code",
   "execution_count": null,
   "id": "ac1c5092-2ba1-4963-b351-2c2d06fc9a06",
   "metadata": {},
   "outputs": [],
   "source": [
    "# Creating a QLineEdit:\n",
    "# To create a line edit in PyQt5, you instantiate the QLineEdit class and optionally set an initial text using the setText() method.\n",
    "from PyQt5.QtWidgets import QApplication, QLineEdit, QWidget\n",
    "\n",
    "app = QApplication([])\n",
    "window = QWidget()\n",
    "\n",
    "line_edit = QLineEdit(window)\n",
    "line_edit.setText(\"Initial text\")\n"
   ]
  },
  {
   "cell_type": "code",
   "execution_count": null,
   "id": "ffdf2ba4-01f8-472c-8fe1-5591e0dcc1b6",
   "metadata": {},
   "outputs": [],
   "source": [
    "# Getting Text:\n",
    "# To get the text entered by the user, you can use the text() method.\n",
    "user_text = line_edit.text()\n"
   ]
  },
  {
   "cell_type": "code",
   "execution_count": null,
   "id": "545ba439-4088-42a5-9493-184479ac0d6b",
   "metadata": {},
   "outputs": [],
   "source": [
    "# Setting Placeholder Text:\n",
    "# You can set a placeholder text that appears in the line edit when it's empty using the setPlaceholderText() method.\n",
    "line_edit.setPlaceholderText(\"Enter your text here\")\n"
   ]
  },
  {
   "cell_type": "code",
   "execution_count": null,
   "id": "a959a717-ff43-4c52-ab8f-4e165d1aef95",
   "metadata": {},
   "outputs": [],
   "source": [
    "# Input Mask:\n",
    "# You can apply an input mask to the line edit using the setInputMask() method. An input mask restricts the allowed input based on a predefined pattern.\n",
    "line_edit.setInputMask(\"999-999-999\")  # Example of a phone number input mask\n"
   ]
  },
  {
   "cell_type": "code",
   "execution_count": null,
   "id": "6e0d5bed-9868-4f93-b783-37b56fd8059c",
   "metadata": {},
   "outputs": [],
   "source": [
    "# Echo Mode:\n",
    "# The echoMode() method can be used to control how the entered text is displayed. \n",
    "# For example, you can set the line edit to show the entered text as normal characters, password dots, or no display at all.\n",
    "line_edit.setEchoMode(QLineEdit.Password)  # Show password dots instead of actual text\n"
   ]
  },
  {
   "cell_type": "code",
   "execution_count": null,
   "id": "7aa2aab0-2860-4e19-8ae0-845ba368c255",
   "metadata": {},
   "outputs": [],
   "source": [
    "# Character Limit:\n",
    "# You can set a maximum character limit for the line edit using the setMaxLength() method.\n",
    "line_edit.setMaxLength(20)  # Limit the line edit to 20 characters\n"
   ]
  },
  {
   "cell_type": "code",
   "execution_count": null,
   "id": "fe64d507-e610-4ac4-8116-6228bde811ca",
   "metadata": {},
   "outputs": [],
   "source": [
    "# Validation:\n",
    "# You can use regular expressions to validate the input text using the setValidator() method.\n",
    "from PyQt5.QtGui import QRegExpValidator\n",
    "import re\n",
    "\n",
    "regex = re.compile(r\"^[0-9]{3}-[0-9]{2}-[0-9]{4}$\")  # Example: Social Security Number (SSN) format\n",
    "validator = QRegExpValidator(regex)\n",
    "line_edit.setValidator(validator)\n"
   ]
  },
  {
   "cell_type": "code",
   "execution_count": null,
   "id": "cc36fbc8-85d2-45c4-8154-0503862b5cc3",
   "metadata": {},
   "outputs": [],
   "source": [
    "# Clearing and Editing Text:\n",
    "# You can clear the text in the line edit using the clear() method, and you can programmatically edit the text using the setText() method.\n",
    "line_edit.clear()  # Clears the text in the line edit\n",
    "line_edit.setText(\"New text\")  # Sets the text to \"New text\"\n"
   ]
  },
  {
   "cell_type": "markdown",
   "id": "030f6ba7-d5ce-49b3-98f5-4aa48f4221a4",
   "metadata": {},
   "source": [
    "Here's an example that demonstrates various methods of QLineEdit in PyQt5:"
   ]
  },
  {
   "cell_type": "code",
   "execution_count": null,
   "id": "0470f0eb-8737-4ba3-a9be-fbf04e2f2a0c",
   "metadata": {},
   "outputs": [],
   "source": [
    "import sys\n",
    "from PyQt5.QtWidgets import QApplication, QLineEdit, QPushButton, QVBoxLayout, QWidget\n",
    "from PyQt5.QtGui import QRegExpValidator\n",
    "from PyQt5.QtCore import QRegExp\n",
    "\n",
    "class QLineEditExample(QWidget):\n",
    "    def __init__(self):\n",
    "        super().__init__()\n",
    "        self.initUI()\n",
    "\n",
    "    def initUI(self):\n",
    "        # Create the main layout\n",
    "        layout = QVBoxLayout()\n",
    "\n",
    "        # Create a QLineEdit\n",
    "        self.line_edit = QLineEdit(self)\n",
    "        layout.addWidget(self.line_edit)\n",
    "\n",
    "        # Set initial text\n",
    "        self.line_edit.setText(\"Initial text\")\n",
    "\n",
    "        # Set placeholder text\n",
    "        self.line_edit.setPlaceholderText(\"Enter your text here\")\n",
    "\n",
    "        # Apply an input mask (SSN format)\n",
    "        regex = QRegExp(r\"^\\d{3}-\\d{2}-\\d{4}$\")\n",
    "        validator = QRegExpValidator(regex)\n",
    "        self.line_edit.setValidator(validator)\n",
    "\n",
    "        # Set echo mode to Password (show dots instead of actual text)\n",
    "        self.line_edit.setEchoMode(QLineEdit.Password)\n",
    "\n",
    "        # Set maximum character limit\n",
    "        self.line_edit.setMaxLength(20)\n",
    "\n",
    "        # Connect returnPressed signal to on_return_pressed function\n",
    "        self.line_edit.returnPressed.connect(self.on_return_pressed)\n",
    "\n",
    "        # Create a button to clear the text\n",
    "        self.clear_button = QPushButton(\"Clear Text\", self)\n",
    "        self.clear_button.clicked.connect(self.on_clear_button_clicked)\n",
    "        layout.addWidget(self.clear_button)\n",
    "\n",
    "        # Show the main window\n",
    "        self.setLayout(layout)\n",
    "        self.setWindowTitle(\"QLineEdit Example\")\n",
    "        self.resize(300, 150)\n",
    "        self.show()\n",
    "\n",
    "    def on_return_pressed(self):\n",
    "        text = self.line_edit.text()\n",
    "        print(f\"Entered text: {text}\")\n",
    "\n",
    "    def on_clear_button_clicked(self):\n",
    "        self.line_edit.clear()\n",
    "\n",
    "if __name__ == \"__main__\":\n",
    "    app = QApplication(sys.argv)\n",
    "    window = QLineEditExample()\n",
    "    sys.exit(app.exec_())\n"
   ]
  },
  {
   "cell_type": "markdown",
   "id": "0b62cc8a-1d39-46d6-8535-a89499d7f8dd",
   "metadata": {
    "jp-MarkdownHeadingCollapsed": true
   },
   "source": [
    "### Text Edit Methods and Their Functions"
   ]
  },
  {
   "cell_type": "markdown",
   "id": "89bc3012-f13b-4120-b0bc-25f8d938d6ea",
   "metadata": {},
   "source": [
    "In PyQt5, a QTextEdit is a powerful widget that allows the user to edit and display formatted text. It provides a multi-line text editing area that supports rich text formatting, such as bold, italic, underline, colors, alignment, and more. Unlike QLineEdit, which is designed for single-line plain text, QTextEdit is suitable for handling large blocks of text with advanced formatting options."
   ]
  },
  {
   "cell_type": "code",
   "execution_count": null,
   "id": "747f39fd-2534-46b5-b259-1b8500630521",
   "metadata": {},
   "outputs": [],
   "source": [
    "# Creating a QTextEdit:\n",
    "# To create a text edit in PyQt5, you instantiate the QTextEdit class and optionally set an initial text using the setPlainText() method.\n",
    "from PyQt5.QtWidgets import QApplication, QTextEdit, QWidget\n",
    "\n",
    "app = QApplication([])\n",
    "window = QWidget()\n",
    "\n",
    "text_edit = QTextEdit(window)\n",
    "text_edit.setPlainText(\"Initial text\")\n"
   ]
  },
  {
   "cell_type": "code",
   "execution_count": null,
   "id": "d40151c5-4f8f-4b3c-b84b-2e09c899e2d3",
   "metadata": {},
   "outputs": [],
   "source": [
    "# Getting and Setting Text:\n",
    "# To get the text content of the text edit, you can use the toPlainText() method, which returns a plain string without any rich text formatting.\n",
    "# You can set the text content using the setPlainText() method.\n",
    "text = text_edit.toPlainText()\n",
    "text_edit.setPlainText(\"New text\")\n"
   ]
  },
  {
   "cell_type": "code",
   "execution_count": null,
   "id": "de319fe1-9bed-4c88-8ac2-1a9c817cd6eb",
   "metadata": {},
   "outputs": [],
   "source": [
    "# Rich Text Formatting:\n",
    "# QTextEdit supports rich text formatting using HTML-like tags. You can use the setHtml() method to set rich text content.\n",
    "text_edit.setHtml(\"<b>Bold</b> <i>Italic</i> <u>Underline</u>\")\n"
   ]
  },
  {
   "cell_type": "code",
   "execution_count": null,
   "id": "9fb9a39e-2311-42a8-aed2-85888f139df5",
   "metadata": {},
   "outputs": [],
   "source": [
    "# Undo and Redo:\n",
    "# You can use the undo() and redo() methods to undo and redo text changes made in the text edit\n",
    "text_edit.undo()\n",
    "text_edit.redo()\n",
    "\n",
    "# Clearing Text:\n",
    "# To clear the text in the text edit, you can use the clear() method.\n",
    "text_edit.clear()\n"
   ]
  },
  {
   "cell_type": "code",
   "execution_count": null,
   "id": "e1e7e640-4ee5-4139-a6da-1c0448558679",
   "metadata": {},
   "outputs": [],
   "source": [
    "# Appending Text:\n",
    "# You can append new text to the existing content using the append() method.\n",
    "text_edit.append(\"New line of text\")\n"
   ]
  },
  {
   "cell_type": "code",
   "execution_count": null,
   "id": "4b04b2aa-a1ea-49dc-a750-60d435957951",
   "metadata": {},
   "outputs": [],
   "source": [
    "# Scrolling:\n",
    "# You can scroll the text edit programmatically using the verticalScrollBar() and horizontalScrollBar() methods.\n",
    "text_edit.verticalScrollBar().setValue(100)  # Scroll to line 100\n"
   ]
  },
  {
   "cell_type": "markdown",
   "id": "a7f18fbb-8994-4b42-9a9f-770b513613d9",
   "metadata": {},
   "source": [
    "Here's an example that demonstrates various methods of QTextEdit in PyQt5:"
   ]
  },
  {
   "cell_type": "code",
   "execution_count": null,
   "id": "93645641-a51b-47f1-b8d1-f16c17d2d47b",
   "metadata": {},
   "outputs": [],
   "source": [
    "import sys\n",
    "from PyQt5.QtWidgets import QApplication, QTextEdit, QPushButton, QVBoxLayout, QWidget\n",
    "\n",
    "class QTextEditExample(QWidget):\n",
    "    def __init__(self):\n",
    "        super().__init__()\n",
    "        self.initUI()\n",
    "\n",
    "    def initUI(self):\n",
    "        # Create the main layout\n",
    "        layout = QVBoxLayout()\n",
    "\n",
    "        # Create a QTextEdit\n",
    "        self.text_edit = QTextEdit(self)\n",
    "        layout.addWidget(self.text_edit)\n",
    "\n",
    "        # Set initial plain text\n",
    "        self.text_edit.setPlainText(\"Initial text\")\n",
    "\n",
    "        # Set rich text using HTML-like tags\n",
    "        self.text_edit.setHtml(\"<b>Bold</b> <i>Italic</i> <u>Underline</u>\")\n",
    "\n",
    "        # Connect textChanged signal to on_text_changed function\n",
    "        self.text_edit.textChanged.connect(self.on_text_changed)\n",
    "\n",
    "        # Create buttons for undo, redo, clear, and append\n",
    "        self.undo_button = QPushButton(\"Undo\", self)\n",
    "        self.undo_button.clicked.connect(self.text_edit.undo)\n",
    "        layout.addWidget(self.undo_button)\n",
    "\n",
    "        self.redo_button = QPushButton(\"Redo\", self)\n",
    "        self.redo_button.clicked.connect(self.text_edit.redo)\n",
    "        layout.addWidget(self.redo_button)\n",
    "\n",
    "        self.clear_button = QPushButton(\"Clear\", self)\n",
    "        self.clear_button.clicked.connect(self.text_edit.clear)\n",
    "        layout.addWidget(self.clear_button)\n",
    "\n",
    "        self.append_button = QPushButton(\"Append\", self)\n",
    "        self.append_button.clicked.connect(self.on_append_button_clicked)\n",
    "        layout.addWidget(self.append_button)\n",
    "\n",
    "        # Show the main window\n",
    "        self.setLayout(layout)\n",
    "        self.setWindowTitle(\"QTextEdit Example\")\n",
    "        self.resize(400, 200)\n",
    "        self.show()\n",
    "\n",
    "    def on_text_changed(self):\n",
    "        text = self.text_edit.toPlainText()\n",
    "        print(f\"Current text: {text}\")\n",
    "\n",
    "    def on_append_button_clicked(self):\n",
    "        self.text_edit.append(\"New line of text\")\n",
    "\n",
    "if __name__ == \"__main__\":\n",
    "    app = QApplication(sys.argv)\n",
    "    window = QTextEditExample()\n",
    "    sys.exit(app.exec_())\n"
   ]
  }
 ],
 "metadata": {
  "kernelspec": {
   "display_name": "Python 3 (ipykernel)",
   "language": "python",
   "name": "python3"
  },
  "language_info": {
   "codemirror_mode": {
    "name": "ipython",
    "version": 3
   },
   "file_extension": ".py",
   "mimetype": "text/x-python",
   "name": "python",
   "nbconvert_exporter": "python",
   "pygments_lexer": "ipython3",
   "version": "3.11.2"
  }
 },
 "nbformat": 4,
 "nbformat_minor": 5
}
