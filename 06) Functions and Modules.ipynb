{
 "cells": [
  {
   "cell_type": "markdown",
   "id": "94ddd3e8-473a-433f-980f-4a5ac4a0b535",
   "metadata": {},
   "source": [
    "# FUNCTIONS AND SOME IMPORTANT MODULES"
   ]
  },
  {
   "cell_type": "markdown",
   "id": "f8b06120-57a2-47c3-bfd6-9269f4f72a5b",
   "metadata": {},
   "source": [
    "## PROPERTIES OF FUNCTIONS"
   ]
  },
  {
   "cell_type": "code",
   "execution_count": 2,
   "id": "5b257d77-fb49-43a6-aa39-4397fa8df08b",
   "metadata": {},
   "outputs": [
    {
     "name": "stdout",
     "output_type": "stream",
     "text": [
      "Hello, world!\n",
      "Hello, Alice!\n"
     ]
    }
   ],
   "source": [
    "# Default Parameters:\n",
    "# You can assign default values to parameters, making them optional. If an argument is not provided, the default value is used.\n",
    "def greet(name=\"world\"):\n",
    "    print(\"Hello, \" + name + \"!\")\n",
    "\n",
    "greet()          # Output: \"Hello, world!\"\n",
    "greet(\"Alice\")   # Output: \"Hello, Alice!\""
   ]
  },
  {
   "cell_type": "code",
   "execution_count": 3,
   "id": "b7e35975-a25e-4f7a-aac5-78c0152bf0a7",
   "metadata": {},
   "outputs": [
    {
     "name": "stdout",
     "output_type": "stream",
     "text": [
      "apple\n",
      "banana\n",
      "orange\n"
     ]
    }
   ],
   "source": [
    "# Variable Number of Arguments:\n",
    "# Functions can accept a variable number of arguments using the *args syntax. These arguments are treated as a tuple.\n",
    "def print_items(*args):\n",
    "    for item in args:\n",
    "        print(item)\n",
    "\n",
    "print_items(\"apple\", \"banana\", \"orange\")\n",
    "# Output:\n",
    "# \"apple\"\n",
    "# \"banana\"\n",
    "# \"orange\""
   ]
  },
  {
   "cell_type": "code",
   "execution_count": 4,
   "id": "e358c3a6-4391-49a7-a263-808b5a570b9b",
   "metadata": {},
   "outputs": [
    {
     "name": "stdout",
     "output_type": "stream",
     "text": [
      "Hello, Alice!\n",
      "You are 25 years old.\n"
     ]
    }
   ],
   "source": [
    "# Keyword Arguments:\n",
    "# Functions can accept keyword arguments using the **kwargs syntax. These arguments are treated as a dictionary.\n",
    "def greet(**kwargs):\n",
    "    if 'name' in kwargs:\n",
    "        print(\"Hello, \" + kwargs['name'] + \"!\")\n",
    "    if 'age' in kwargs:\n",
    "        print(\"You are \" + str(kwargs['age']) + \" years old.\")\n",
    "\n",
    "greet(name=\"Alice\", age=25)\n",
    "# Output:\n",
    "# \"Hello, Alice!\"\n",
    "# \"You are 25 years old.\""
   ]
  },
  {
   "cell_type": "markdown",
   "id": "0f686fb9-b353-471f-b97d-cd00f29cf73d",
   "metadata": {},
   "source": [
    "## SOME IMPORTANT MODULES"
   ]
  },
  {
   "cell_type": "markdown",
   "id": "b409ba21-3167-479f-a1eb-5a792118af68",
   "metadata": {},
   "source": [
    "### datetime: Provides classes for manipulating dates and times"
   ]
  },
  {
   "cell_type": "code",
   "execution_count": 1,
   "id": "1dec2b22-738f-4bf7-8a0d-349d4ceb65cb",
   "metadata": {},
   "outputs": [
    {
     "name": "stdout",
     "output_type": "stream",
     "text": [
      "Current Date and Time: 2023-07-10 23:51:11.907107\n",
      "Current Date: 2023-07-10\n",
      "Formatted Date and Time: 2023-07-10 23:51:11\n",
      "Tomorrow's Date: 2023-07-11\n"
     ]
    }
   ],
   "source": [
    "import datetime\n",
    "\n",
    "# Get the current date and time\n",
    "current_date_time = datetime.datetime.now()\n",
    "print(\"Current Date and Time:\", current_date_time)\n",
    "\n",
    "# Get the current date\n",
    "current_date = datetime.date.today()\n",
    "print(\"Current Date:\", current_date)\n",
    "\n",
    "# Format a date and time\n",
    "formatted_date = current_date_time.strftime(\"%Y-%m-%d %H:%M:%S\")\n",
    "print(\"Formatted Date and Time:\", formatted_date)\n",
    "\n",
    "# Perform date arithmetic\n",
    "tomorrow = current_date + datetime.timedelta(days=1)\n",
    "print(\"Tomorrow's Date:\", tomorrow)"
   ]
  },
  {
   "cell_type": "markdown",
   "id": "dd79f6ca-e751-4254-9d92-15554976b666",
   "metadata": {},
   "source": [
    "### math: Provides mathematical functions and constants."
   ]
  },
  {
   "cell_type": "code",
   "execution_count": 2,
   "id": "6360441f-b79f-4165-bb57-764f95e8cd7d",
   "metadata": {},
   "outputs": [
    {
     "name": "stdout",
     "output_type": "stream",
     "text": [
      "Square root of 16: 4.0\n",
      "Ceiling value of 3.7: 4\n",
      "Floor value of 3.7: 3\n",
      "Absolute value of -5: 5.0\n",
      "45 degrees in radians: 0.7853981633974483\n",
      "Sin(45): 0.7071067811865476\n",
      "Cos(45): 0.7071067811865476\n"
     ]
    }
   ],
   "source": [
    "import math\n",
    "\n",
    "# Perform basic mathematical operations\n",
    "print(\"Square root of 16:\", math.sqrt(16))\n",
    "print(\"Ceiling value of 3.7:\", math.ceil(3.7))\n",
    "print(\"Floor value of 3.7:\", math.floor(3.7))\n",
    "print(\"Absolute value of -5:\", math.fabs(-5))\n",
    "\n",
    "# Convert degrees to radians\n",
    "degrees = 45\n",
    "radians = math.radians(degrees)\n",
    "print(\"45 degrees in radians:\", radians)\n",
    "\n",
    "# Calculate trigonometric functions\n",
    "sin_value = math.sin(radians)\n",
    "cos_value = math.cos(radians)\n",
    "print(\"Sin(45):\", sin_value)\n",
    "print(\"Cos(45):\", cos_value)"
   ]
  },
  {
   "cell_type": "markdown",
   "id": "ed0c80e6-ce0f-4c2d-8410-2f909caef831",
   "metadata": {},
   "source": [
    "### random: Generates random numbers and selections.\n"
   ]
  },
  {
   "cell_type": "code",
   "execution_count": 3,
   "id": "0b1d6f8b-7c0d-46de-869b-a55f1abc72e7",
   "metadata": {},
   "outputs": [
    {
     "name": "stdout",
     "output_type": "stream",
     "text": [
      "Random Integer between 1 and 10: 5\n",
      "Random Float between 0 and 1: 0.2319394036822664\n",
      "Random Element from List: cherry\n",
      "Shuffled List: ['cherry', 'apple', 'banana']\n"
     ]
    }
   ],
   "source": [
    "import random\n",
    "\n",
    "# Generate a random integer\n",
    "random_integer = random.randint(1, 10)\n",
    "print(\"Random Integer between 1 and 10:\", random_integer)\n",
    "\n",
    "# Generate a random float\n",
    "random_float = random.random()\n",
    "print(\"Random Float between 0 and 1:\", random_float)\n",
    "\n",
    "# Select a random element from a list\n",
    "my_list = ['apple', 'banana', 'cherry']\n",
    "random_element = random.choice(my_list)\n",
    "print(\"Random Element from List:\", random_element)\n",
    "\n",
    "# Shuffle a list randomly\n",
    "random.shuffle(my_list)\n",
    "print(\"Shuffled List:\", my_list)"
   ]
  },
  {
   "cell_type": "markdown",
   "id": "830ba07f-c233-47b2-8eea-b33773028908",
   "metadata": {},
   "source": [
    "### os: Provides functions for interacting with the operating system.\r\n"
   ]
  },
  {
   "cell_type": "code",
   "execution_count": 4,
   "id": "efd8742b-b6c1-445e-ae9c-d8ee2808adc1",
   "metadata": {},
   "outputs": [
    {
     "name": "stdout",
     "output_type": "stream",
     "text": [
      "Current Directory: C:\\Users\\Mehmet Emin\\Desktop\\PYTHON COURSE\\py_Notes\n",
      "New Directory Created: my_folder\n",
      "Renamed my_folder to new_folder\n",
      "Deleted Directory: new_folder\n"
     ]
    }
   ],
   "source": [
    "import os\n",
    "\n",
    "# Get the current working directory\n",
    "current_directory = os.getcwd()\n",
    "print(\"Current Directory:\", current_directory)\n",
    "\n",
    "# Create a new directory\n",
    "new_directory = \"my_folder\"\n",
    "os.mkdir(new_directory)\n",
    "print(\"New Directory Created:\", new_directory)\n",
    "\n",
    "# Rename a file or directory\n",
    "old_name = \"my_folder\"\n",
    "new_name = \"new_folder\"\n",
    "os.rename(old_name, new_name)\n",
    "print(\"Renamed\", old_name, \"to\", new_name)\n",
    "\n",
    "# Delete a file or directory\n",
    "os.rmdir(new_name)\n",
    "print(\"Deleted Directory:\", new_name)"
   ]
  },
  {
   "cell_type": "markdown",
   "id": "30463415-1814-4e31-affb-885f098a6e75",
   "metadata": {},
   "source": [
    "### requests: Allows making HTTP requests.\n"
   ]
  },
  {
   "cell_type": "code",
   "execution_count": null,
   "id": "9861628c-20c1-4e3f-a4ec-e303dcb440a1",
   "metadata": {},
   "outputs": [],
   "source": [
    "import requests\n",
    "\n",
    "# Make a GET request to a URL\n",
    "response = requests.get(\"https://api.example.com/data\")\n",
    "print(\"Status Code:\", response.status_code)\n",
    "print(\"Response Content:\", response.text)\n",
    "\n",
    "# Make a POST request with parameters\n",
    "payload = {'key1': 'value1', 'key2': 'value2'}\n",
    "response = requests.post(\"https://api.example.com/endpoint\", data=payload)\n",
    "print(\"Status Code:\", response.status_code)\n",
    "print(\"Response Content:\", response.text)"
   ]
  },
  {
   "cell_type": "markdown",
   "id": "04f400bd-e87c-4964-ad5f-b5d76899320f",
   "metadata": {},
   "source": [
    "### Pandas: Provides data manipulation and analysis tools, especially for working with structured data."
   ]
  },
  {
   "cell_type": "code",
   "execution_count": null,
   "id": "160b08cd-3bb6-4d74-a48c-3b5ce45a09f0",
   "metadata": {},
   "outputs": [],
   "source": [
    "import pandas as pd\n",
    "\n",
    "# Read data from a CSV file\n",
    "data = pd.read_csv(\"data.csv\")\n",
    "\n",
    "# Perform data analysis and manipulation\n",
    "data.head()  # Display the first few rows of the data\n",
    "data.describe()  # Generate descriptive statistics\n",
    "data.groupby('category').mean()  # Group data by a column and calculate mean"
   ]
  },
  {
   "cell_type": "markdown",
   "id": "8d6bddd7-680a-4f09-bae9-4271f0633aa2",
   "metadata": {},
   "source": [
    "### NumPy: Offers support for large, multi-dimensional arrays and matrices, along with a collection of mathematical functions to operate on them.\n"
   ]
  },
  {
   "cell_type": "code",
   "execution_count": null,
   "id": "53330bc7-eba9-477b-8d1a-b6548d9fb13f",
   "metadata": {},
   "outputs": [],
   "source": [
    "import numpy as np\n",
    "\n",
    "# Create a NumPy array\n",
    "arr = np.array([1, 2, 3, 4, 5])\n",
    "\n",
    "# Perform array operations\n",
    "print(\"Sum:\", np.sum(arr))\n",
    "print(\"Mean:\", np.mean(arr))\n",
    "print(\"Standard Deviation:\", np.std(arr))\n",
    "\n",
    "# Reshape an array\n",
    "reshaped_arr = np.reshape(arr, (2, 3))\n",
    "print(\"Reshaped Array:\", reshaped_arr)"
   ]
  },
  {
   "cell_type": "markdown",
   "id": "dd3878bd-8718-4d1f-bf88-d7aa512043bc",
   "metadata": {},
   "source": [
    "### Matplotlib: Enables data visualization through a wide range of plots and charts.\n"
   ]
  },
  {
   "cell_type": "code",
   "execution_count": 9,
   "id": "76ba3cd5-bb24-4cf2-8241-c2cb1a2f9e7e",
   "metadata": {},
   "outputs": [
    {
     "data": {
      "image/png": "[encoded data removed]",
      "text/plain": [
       "<Figure size 640x480 with 1 Axes>"
      ]
     },
     "metadata": {},
     "output_type": "display_data"
    }
   ],
   "source": [
    "import matplotlib.pyplot as plt\n",
    "\n",
    "# Create a line plot\n",
    "x = [1, 2, 3, 4, 5]\n",
    "y = [2, 4, 6, 8, 10]\n",
    "plt.plot(x, y)\n",
    "plt.xlabel('X')\n",
    "plt.ylabel('Y')\n",
    "plt.title('Line Plot')\n",
    "plt.show()"
   ]
  },
  {
   "cell_type": "markdown",
   "id": "40a9d201-d106-46d9-9e68-b5c379ca4a13",
   "metadata": {},
   "source": [
    "### time: Provides functions for working with time-related operations.\n"
   ]
  },
  {
   "cell_type": "code",
   "execution_count": 10,
   "id": "44dcb412-b162-4519-ba35-40faa90aa115",
   "metadata": {},
   "outputs": [
    {
     "name": "stdout",
     "output_type": "stream",
     "text": [
      "Current Time: 1689024240.1015913\n",
      "Current Local Time: Tue Jul 11 00:24:02 2023\n",
      "Local Time: time.struct_time(tm_year=2023, tm_mon=7, tm_mday=11, tm_hour=0, tm_min=24, tm_sec=0, tm_wday=1, tm_yday=192, tm_isdst=0)\n",
      "Formatted Time: 2023-07-11 00:24:00\n"
     ]
    }
   ],
   "source": [
    "import time\n",
    "\n",
    "# Get the current time in seconds since the epoch\n",
    "current_time = time.time()\n",
    "print(\"Current Time:\", current_time)\n",
    "\n",
    "# Pause the program for a specified number of seconds\n",
    "time.sleep(2)\n",
    "\n",
    "# Get the current time in a readable format\n",
    "current_local_time = time.ctime()\n",
    "print(\"Current Local Time:\", current_local_time)\n",
    "\n",
    "# Convert a time in seconds to a tuple representing local time\n",
    "local_time = time.localtime(current_time)\n",
    "print(\"Local Time:\", local_time)\n",
    "\n",
    "# Format a time tuple into a string\n",
    "formatted_time = time.strftime(\"%Y-%m-%d %H:%M:%S\", local_time)\n",
    "print(\"Formatted Time:\", formatted_time)"
   ]
  },
  {
   "cell_type": "markdown",
   "id": "a82b46e8-3779-46de-b4cd-22df0bc5a6b6",
   "metadata": {},
   "source": [
    "### datetime: Offers classes for manipulating dates and times with additional functionalities.\n"
   ]
  },
  {
   "cell_type": "code",
   "execution_count": 11,
   "id": "b706c911-5888-4e0f-8c22-73667c85ff24",
   "metadata": {},
   "outputs": [
    {
     "name": "stdout",
     "output_type": "stream",
     "text": [
      "Current Date and Time: 2023-07-11 00:24:40.746900\n",
      "Next Day: 2023-07-12 00:24:40.746900\n",
      "Year: 2023\n",
      "Month: 7\n",
      "Day: 11\n",
      "Hour: 0\n",
      "Minute: 24\n",
      "Second: 40\n"
     ]
    }
   ],
   "source": [
    "import datetime\n",
    "\n",
    "# Get the current date and time\n",
    "current_date_time = datetime.datetime.now()\n",
    "print(\"Current Date and Time:\", current_date_time)\n",
    "\n",
    "# Perform arithmetic with dates and times\n",
    "next_day = current_date_time + datetime.timedelta(days=1)\n",
    "print(\"Next Day:\", next_day)\n",
    "\n",
    "# Extract components from a datetime object\n",
    "year = current_date_time.year\n",
    "month = current_date_time.month\n",
    "day = current_date_time.day\n",
    "hour = current_date_time.hour\n",
    "minute = current_date_time.minute\n",
    "second = current_date_time.second\n",
    "print(\"Year:\", year)\n",
    "print(\"Month:\", month)\n",
    "print(\"Day:\", day)\n",
    "print(\"Hour:\", hour)\n",
    "print(\"Minute:\", minute)\n",
    "print(\"Second:\", second)"
   ]
  },
  {
   "cell_type": "markdown",
   "id": "a1036830-6fc4-421d-83f0-180381562e1d",
   "metadata": {},
   "source": [
    "### calendar: Provides functions to work with calendars, such as generating calendars and determining weekdays.\n"
   ]
  },
  {
   "cell_type": "code",
   "execution_count": 12,
   "id": "eda6c2c4-e83b-4bfb-adf1-dbf631be0e70",
   "metadata": {},
   "outputs": [
    {
     "name": "stdout",
     "output_type": "stream",
     "text": [
      "Calendar:\n",
      "     July 2023\n",
      "Mo Tu We Th Fr Sa Su\n",
      "                1  2\n",
      " 3  4  5  6  7  8  9\n",
      "10 11 12 13 14 15 16\n",
      "17 18 19 20 21 22 23\n",
      "24 25 26 27 28 29 30\n",
      "31\n",
      "\n",
      "Is 2024 a leap year? True\n",
      "Weekday of July 10, 2023: Monday\n"
     ]
    }
   ],
   "source": [
    "import calendar\n",
    "\n",
    "# Generate a monthly calendar\n",
    "cal = calendar.month(2023, 7)\n",
    "print(\"Calendar:\")\n",
    "print(cal)\n",
    "\n",
    "# Check if a year is a leap year\n",
    "is_leap = calendar.isleap(2024)\n",
    "print(\"Is 2024 a leap year?\", is_leap)\n",
    "\n",
    "# Determine the weekday of a specific date\n",
    "weekday = calendar.weekday(2023, 7, 10)\n",
    "print(\"Weekday of July 10, 2023:\", calendar.day_name[weekday])"
   ]
  }
 ],
 "metadata": {
  "kernelspec": {
   "display_name": "Python 3 (ipykernel)",
   "language": "python",
   "name": "python3"
  },
  "language_info": {
   "codemirror_mode": {
    "name": "ipython",
    "version": 3
   },
   "file_extension": ".py",
   "mimetype": "text/x-python",
   "name": "python",
   "nbconvert_exporter": "python",
   "pygments_lexer": "ipython3",
   "version": "3.11.2"
  }
 },
 "nbformat": 4,
 "nbformat_minor": 5
}
