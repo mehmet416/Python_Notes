{
 "cells": [
  {
   "cell_type": "markdown",
   "id": "b438f135-a050-43f9-8a86-246874b729e0",
   "metadata": {},
   "source": [
    "# LISTS, TUPLES, SETS AND DICTIONARIES"
   ]
  },
  {
   "cell_type": "markdown",
   "id": "4e90ee7d-ff23-4844-9040-08cfef272ec5",
   "metadata": {},
   "source": [
    "## LIST METHODS"
   ]
  },
  {
   "cell_type": "code",
   "execution_count": 39,
   "id": "e3b007c9-faa7-4f1b-ab91-b3f0f241aebd",
   "metadata": {},
   "outputs": [],
   "source": [
    "#create empty list.\n",
    "new_list=[]\n",
    "new_list= list()"
   ]
  },
  {
   "cell_type": "code",
   "execution_count": 1,
   "id": "1c0bb241-08ab-4382-b907-569c2f150990",
   "metadata": {},
   "outputs": [
    {
     "name": "stdout",
     "output_type": "stream",
     "text": [
      "[1, 2, 3, 4]\n"
     ]
    }
   ],
   "source": [
    "#append() - This method adds an item to the end of the list.\n",
    "my_list = [1, 2, 3]\n",
    "my_list.append(4)\n",
    "print(my_list)  # Output: [1, 2, 3, 4]"
   ]
  },
  {
   "cell_type": "code",
   "execution_count": 2,
   "id": "ec685872-1b0a-49aa-9d43-7c0b7dedce7a",
   "metadata": {},
   "outputs": [
    {
     "name": "stdout",
     "output_type": "stream",
     "text": [
      "[1, 4, 2, 3]\n"
     ]
    }
   ],
   "source": [
    "#insert() - Inserts an element at a specified position in a list. insert(specified position, the element we want to insert)\n",
    "my_list = [1, 2, 3]\n",
    "my_list.insert(1, 4)\n",
    "print(my_list)  # Output: [1, 4, 2, 3]"
   ]
  },
  {
   "cell_type": "code",
   "execution_count": 3,
   "id": "e8e322e1-f256-497f-8736-aeee3ba0b53a",
   "metadata": {},
   "outputs": [
    {
     "name": "stdout",
     "output_type": "stream",
     "text": [
      "[1, 2, 3, 4, 5, 6]\n"
     ]
    }
   ],
   "source": [
    "#extend() - Appends all the elements from another iterable to the end of a list.\n",
    "my_list = [1, 2, 3]\n",
    "another_list = [4, 5, 6]\n",
    "my_list.extend(another_list)\n",
    "print(my_list)  # Output: [1, 2, 3, 4, 5, 6]"
   ]
  },
  {
   "cell_type": "code",
   "execution_count": 4,
   "id": "b6ad4aa6-bac3-47c4-a159-bd9f2e7b55bd",
   "metadata": {},
   "outputs": [
    {
     "name": "stdout",
     "output_type": "stream",
     "text": [
      "[1, 3, 2]\n"
     ]
    }
   ],
   "source": [
    "#remove() - Removes the first occurrence of a specified element from a list.\n",
    "my_list = [1, 2, 3, 2]\n",
    "my_list.remove(2)\n",
    "print(my_list)  # Output: [1, 3, 2]"
   ]
  },
  {
   "cell_type": "code",
   "execution_count": 5,
   "id": "1a482382-482b-439a-9dab-032b49d73872",
   "metadata": {},
   "outputs": [
    {
     "name": "stdout",
     "output_type": "stream",
     "text": [
      "2\n",
      "[1, 3]\n"
     ]
    }
   ],
   "source": [
    "#pop() - Removes and returns the element at a specified position in a list.\n",
    "my_list = [1, 2, 3]\n",
    "popped_element = my_list.pop(1)\n",
    "print(popped_element)  # Output: 2\n",
    "print(my_list)  # Output: [1, 3]"
   ]
  },
  {
   "cell_type": "code",
   "execution_count": 6,
   "id": "d11511c2-9574-4eee-b2ee-b9e0a30f724d",
   "metadata": {},
   "outputs": [
    {
     "name": "stdout",
     "output_type": "stream",
     "text": [
      "1\n"
     ]
    }
   ],
   "source": [
    "#index() - Returns the index of the first occurrence of a specified element in a list.\n",
    "my_list = [1, 2, 3, 2]\n",
    "index = my_list.index(2)\n",
    "print(index)  # Output: 1"
   ]
  },
  {
   "cell_type": "code",
   "execution_count": 7,
   "id": "8339f505-a9e3-4d2b-a8f1-8b5c054d3299",
   "metadata": {},
   "outputs": [
    {
     "name": "stdout",
     "output_type": "stream",
     "text": [
      "[1, 2, 3]\n",
      "[3, 1, 2]\n",
      "[1, 2, 3]\n"
     ]
    }
   ],
   "source": [
    "#sort() - Sorts the elements of a list in ascending order.\n",
    "my_list = [3, 1, 2]\n",
    "my_list.sort()\n",
    "print(my_list)  # Output: [1, 2, 3]\n",
    "\n",
    "#sorted(list) - Sort the elements of a list in ascending order and assign to a new list without changing the original list\n",
    "my_list = [3, 1, 2]\n",
    "new_list= sorted(my_list)\n",
    "print(my_list) # Output: [1, 2, 3]\n",
    "print(new_list) # Output: [1, 2, 3]"
   ]
  },
  {
   "cell_type": "code",
   "execution_count": 8,
   "id": "4a95b543-2215-4d46-ac76-2a001a774359",
   "metadata": {},
   "outputs": [
    {
     "name": "stdout",
     "output_type": "stream",
     "text": [
      "[3, 2, 1]\n"
     ]
    }
   ],
   "source": [
    "#reverse() - Reverses the order of elements in a list.\n",
    "my_list = [1, 2, 3]\n",
    "my_list.reverse()\n",
    "print(my_list)  # Output: [3, 2, 1]"
   ]
  },
  {
   "cell_type": "code",
   "execution_count": 9,
   "id": "85d92564-5353-4d29-8887-3bb6d80b73ec",
   "metadata": {},
   "outputs": [
    {
     "name": "stdout",
     "output_type": "stream",
     "text": [
      "2\n"
     ]
    }
   ],
   "source": [
    "#count() - Returns the number of occurrences of a specified element in a list.\n",
    "my_list = [1, 2, 3, 2]\n",
    "count = my_list.count(2)\n",
    "print(count)  # Output: 2"
   ]
  },
  {
   "cell_type": "code",
   "execution_count": 14,
   "id": "a0f78141-dc40-40be-8f8b-d6868cdf9071",
   "metadata": {},
   "outputs": [
    {
     "name": "stdout",
     "output_type": "stream",
     "text": [
      "[1, 2, 3]\n",
      "[1, 2, 3, 4]\n"
     ]
    }
   ],
   "source": [
    "#copy() - This method returns a shallow copy of the list.\n",
    "list = [1, 2, 3]\n",
    "new_list = list.copy()\n",
    "list.append(4)\n",
    "print(new_list)\n",
    "print(list)"
   ]
  },
  {
   "cell_type": "code",
   "execution_count": 19,
   "id": "76311b80-3a49-4d40-bc72-bbb45805ba77",
   "metadata": {},
   "outputs": [
    {
     "name": "stdout",
     "output_type": "stream",
     "text": [
      "Hello world how are you?\n",
      "H-e-l-l-o\n",
      "apple, banana, orange, grape\n"
     ]
    }
   ],
   "source": [
    "# \"\".join() - This method is called on the separator string and accepts the iterable as its argument.\n",
    "my_list = ['Hello', 'world', 'how', 'are', 'you?']\n",
    "result = ' '.join(my_list)\n",
    "print(result)  #Output: Hello world how are you?\n",
    "\n",
    "my_string = 'Hello'\n",
    "result = '-'.join(my_string)\n",
    "print(result)  #Output: H-e-l-l-o\n",
    "\n",
    "my_list = ['apple', 'banana', 'orange', 'grape']\n",
    "result = ', '.join([item for item in my_list if 'a' in item])\n",
    "print(result)  #Output: apple, banana, orange, grape"
   ]
  },
  {
   "cell_type": "code",
   "execution_count": 22,
   "id": "3e10251b-8c07-482f-a287-ff85702505ee",
   "metadata": {},
   "outputs": [
    {
     "name": "stdout",
     "output_type": "stream",
     "text": [
      "['Hello', 'world,', 'how', 'are', 'you?']\n",
      "['apple', 'banana', 'orange', 'grape']\n",
      "['apple', 'banana', 'orange,grape']\n"
     ]
    }
   ],
   "source": [
    "#split() - This method s used to split a string into a list of substrings based on a specified delimiter. string.split(delimiter, maxsplit)\n",
    "my_string = \"Hello world, how are you?\"\n",
    "result = my_string.split()\n",
    "print(result) #Output: ['Hello', 'world,', 'how', 'are', 'you?']\n",
    "\n",
    "my_string = \"apple,banana,orange,grape\"\n",
    "result = my_string.split(',')\n",
    "print(result) #Output: ['apple', 'banana', 'orange', 'grape']\n",
    "\n",
    "my_string = \"apple,banana,orange,grape\"\n",
    "result = my_string.split(',', maxsplit=2)\n",
    "print(result) #Output: ['apple', 'banana', 'orange,grape']"
   ]
  },
  {
   "cell_type": "markdown",
   "id": "1bd3c7b5-1bde-4b7e-b429-e951e3709027",
   "metadata": {},
   "source": [
    "## TUPLE METHODS"
   ]
  },
  {
   "cell_type": "markdown",
   "id": "38dd26fd-56a2-4bd0-b9f2-440cd211c66d",
   "metadata": {},
   "source": [
    "#### Tuples are immutable set of variables. Unlikely lists, we cannot use \"remove\", \"pop\", \"append\", \"extend\" or \"insert\" methods since they mutate tuples."
   ]
  },
  {
   "cell_type": "markdown",
   "id": "4ebe1393-5d13-4a9a-a3dd-0ac826991a95",
   "metadata": {},
   "source": [
    "#### However, methods like \"count\", \"index\" that do not mutate tuples can be used."
   ]
  },
  {
   "cell_type": "code",
   "execution_count": 41,
   "id": "8b3a62c9-a108-422b-83d4-37f5987116e8",
   "metadata": {},
   "outputs": [],
   "source": [
    "#create empty tuple.\n",
    "new_tuple= ()\n",
    "new_tuple= tuple()"
   ]
  },
  {
   "cell_type": "code",
   "execution_count": 36,
   "id": "08917600-ae6c-4673-ba8e-fb9e1d7304e7",
   "metadata": {},
   "outputs": [],
   "source": [
    "#We can create immutable copy lists by using tuple() method.\n",
    "liste = [1,2,3]\n",
    "new_liste = list(tuple(liste))\n",
    "liste.append(4)\n",
    "print(liste) #Output: [1, 2, 3, 4]\n",
    "print(new_liste)  #Output: [1, 2, 3]"
   ]
  },
  {
   "cell_type": "markdown",
   "id": "249817a1-8095-4674-9d8f-eac7428f23e1",
   "metadata": {},
   "source": [
    "## SET METHODS"
   ]
  },
  {
   "cell_type": "code",
   "execution_count": 40,
   "id": "add6f8ab-40eb-4b01-b25f-80312b337a3c",
   "metadata": {},
   "outputs": [],
   "source": [
    "#create empty set.\n",
    "new_set= {} #This is not right! It is a dict.\n",
    "new_set= set()"
   ]
  },
  {
   "cell_type": "code",
   "execution_count": 1,
   "id": "f71b715f-5b52-4b4d-a6c9-8d102d90f7a6",
   "metadata": {},
   "outputs": [
    {
     "name": "stdout",
     "output_type": "stream",
     "text": [
      "{1, 2, 3, 4}\n"
     ]
    }
   ],
   "source": [
    "#add(): Adds an element to the set.\n",
    "my_set = {1, 2, 3}\n",
    "my_set.add(4)\n",
    "print(my_set)  # Output: {1, 2, 3, 4}"
   ]
  },
  {
   "cell_type": "code",
   "execution_count": 2,
   "id": "aa325149-5c31-4881-8992-c10ac112196d",
   "metadata": {},
   "outputs": [
    {
     "name": "stdout",
     "output_type": "stream",
     "text": [
      "{1, 2, 3, 4, 5, 6}\n"
     ]
    }
   ],
   "source": [
    "#update(): Adds multiple elements to the set.\n",
    "my_set = {1, 2, 3}\n",
    "my_set.update([4, 5, 6])\n",
    "print(my_set)  # Output: {1, 2, 3, 4, 5, 6}"
   ]
  },
  {
   "cell_type": "code",
   "execution_count": 3,
   "id": "2275f2d6-06f6-43a9-b475-a55aa4b990c4",
   "metadata": {},
   "outputs": [
    {
     "name": "stdout",
     "output_type": "stream",
     "text": [
      "{1, 3}\n"
     ]
    }
   ],
   "source": [
    "#remove(): Removes an element from the set. Raises a KeyError if the element is not found.\n",
    "my_set = {1, 2, 3}\n",
    "my_set.remove(2)\n",
    "print(my_set)  # Output: {1, 3}"
   ]
  },
  {
   "cell_type": "code",
   "execution_count": 4,
   "id": "633c11d2-3834-4a8c-97f2-0d73a240a009",
   "metadata": {},
   "outputs": [
    {
     "name": "stdout",
     "output_type": "stream",
     "text": [
      "{1, 3}\n"
     ]
    }
   ],
   "source": [
    "#discard(): Removes an element from the set if it is present, without raising an error if the element is not found.\n",
    "my_set = {1, 2, 3}\n",
    "my_set.discard(2)\n",
    "print(my_set)  # Output: {1, 3}"
   ]
  },
  {
   "cell_type": "code",
   "execution_count": 5,
   "id": "b4c91d0d-6c77-47c0-bd87-887925cba4f8",
   "metadata": {},
   "outputs": [
    {
     "name": "stdout",
     "output_type": "stream",
     "text": [
      "1\n",
      "{2, 3}\n"
     ]
    }
   ],
   "source": [
    "#pop(): Removes and returns an arbitrary element from the set. Raises a KeyError if the set is empty.\n",
    "my_set = {1, 2, 3}\n",
    "removed_element = my_set.pop()\n",
    "print(removed_element)  # Output: 1\n",
    "print(my_set)  # Output: {2, 3}"
   ]
  },
  {
   "cell_type": "code",
   "execution_count": 7,
   "id": "93d6ecd1-ff93-4b3d-8187-12d6d90abd6f",
   "metadata": {},
   "outputs": [
    {
     "name": "stdout",
     "output_type": "stream",
     "text": [
      "set()\n"
     ]
    }
   ],
   "source": [
    "#clear(): Removes all elements from the set, making it an empty set.\n",
    "my_set = {1, 2, 3}\n",
    "my_set.clear()\n",
    "print(my_set)  # Output: set()"
   ]
  },
  {
   "cell_type": "code",
   "execution_count": 8,
   "id": "47007431-48b9-4d29-9f0f-7d2bbc7337bd",
   "metadata": {},
   "outputs": [
    {
     "name": "stdout",
     "output_type": "stream",
     "text": [
      "{1, 2, 3}\n"
     ]
    }
   ],
   "source": [
    "#copy(): Returns a shallow copy of the set.\n",
    "my_set = {1, 2, 3}\n",
    "new_set = my_set.copy()\n",
    "print(new_set)  # Output: {1, 2, 3}"
   ]
  },
  {
   "cell_type": "code",
   "execution_count": 9,
   "id": "c0d43563-4acc-40d8-94b0-9f8e584eec45",
   "metadata": {},
   "outputs": [
    {
     "name": "stdout",
     "output_type": "stream",
     "text": [
      "{1, 2, 3, 4, 5}\n"
     ]
    }
   ],
   "source": [
    "#union(): Returns a new set containing all elements from the set and the specified iterable(s).\n",
    "set1 = {1, 2, 3}\n",
    "set2 = {3, 4, 5}\n",
    "union_set = set1.union(set2)\n",
    "print(union_set)  # Output: {1, 2, 3, 4, 5}"
   ]
  },
  {
   "cell_type": "code",
   "execution_count": 10,
   "id": "70e84abc-47cd-4411-926b-48a76516b7c6",
   "metadata": {},
   "outputs": [
    {
     "name": "stdout",
     "output_type": "stream",
     "text": [
      "{3}\n"
     ]
    }
   ],
   "source": [
    "#intersection(): Returns a new set containing elements that are common to the set and the specified iterable(s).\n",
    "set1 = {1, 2, 3}\n",
    "set2 = {3, 4, 5}\n",
    "intersection_set = set1.intersection(set2)\n",
    "print(intersection_set)  # Output: {3}"
   ]
  },
  {
   "cell_type": "code",
   "execution_count": 12,
   "id": "f591181a-66f4-47b8-ae5e-c9b520021ac4",
   "metadata": {},
   "outputs": [
    {
     "name": "stdout",
     "output_type": "stream",
     "text": [
      "{1, 2, 3}\n",
      "{1, 2, 3}\n"
     ]
    }
   ],
   "source": [
    "#difference(): Returns the set difference between two sets.\n",
    "set1 = {1, 2, 3, 4, 5}\n",
    "set2 = {4, 5, 6, 7}\n",
    "diff_set = set1.difference(set2)\n",
    "print(diff_set)  # Output: {1, 2, 3}\n",
    "\n",
    "#You can also use the \"-\" operator to achieve the same result:\n",
    "set1 = {1, 2, 3, 4, 5}\n",
    "set2 = {4, 5, 6, 7}\n",
    "diff_set = set1 - set2\n",
    "print(diff_set)  # Output: {1, 2, 3}"
   ]
  },
  {
   "cell_type": "markdown",
   "id": "65fa76d0-59ba-42d7-af94-bec5fef41d26",
   "metadata": {},
   "source": [
    "## DICTIONARY METHODS"
   ]
  },
  {
   "cell_type": "code",
   "execution_count": 14,
   "id": "1337d67a-3018-4378-b616-671d308f5d0b",
   "metadata": {},
   "outputs": [],
   "source": [
    "#create empty dict.\n",
    "new_dict= {}\n",
    "new_dict= dict()\n",
    "\n",
    "# You can create a dictionary by enclosing key-value pairs in curly braces {} or by using the dict() constructor.\n",
    "my_dict = {\"key1\": \"value1\", \"key2\": \"value2\"}\n",
    "another_dict = dict(key1=\"value1\", key2=\"value2\")"
   ]
  },
  {
   "cell_type": "code",
   "execution_count": 19,
   "id": "3bc61b5b-8bd0-4a26-9580-987bcb53ea84",
   "metadata": {},
   "outputs": [
    {
     "name": "stdout",
     "output_type": "stream",
     "text": [
      "dict_keys(['name', 'age', 'occupation'])\n",
      "dict_values(['John Doe', 30, 'Software Engineer'])\n",
      "dict_items([('name', 'John Doe'), ('age', 30), ('occupation', 'Software Engineer')])\n",
      "['name', 'age', 'occupation']\n"
     ]
    }
   ],
   "source": [
    "dict = {'name': 'John Doe', 'age': 30, 'occupation': 'Software Engineer'}\n",
    "\n",
    "# Get the keys of the dictionary\n",
    "print(dict.keys())\n",
    "# ['name', 'age', 'occupation']\n",
    "\n",
    "# Get the values of the dictionary\n",
    "print(dict.values())\n",
    "# ['John Doe', 30, 'Software Engineer']\n",
    "\n",
    "# Get the key-value pairs of the dictionary\n",
    "print(dict.items())\n",
    "# [('name', 'John Doe'), ('age', 30), ('occupation', 'Software Engineer')]\n",
    "\n",
    "# To uslist(dict.values()e these lists as a new list, you must assign a new list.\n",
    "keys=list(dict.keys())\n",
    "values= list(dict.values())\n",
    "items=list(dict.items())\n",
    "print(keys)"
   ]
  },
  {
   "cell_type": "code",
   "execution_count": 20,
   "id": "d178ee36-804e-45e3-bfda-3d4a02aa28d7",
   "metadata": {},
   "outputs": [
    {
     "name": "stdout",
     "output_type": "stream",
     "text": [
      "John Doe\n",
      "Software Engineer\n"
     ]
    }
   ],
   "source": [
    "# Get the value associated with the key 'name'\n",
    "print(dict.get('name'))\n",
    "# John Doe\n",
    "\n",
    "# Get the value associated with the key 'occupation', if it does not exist, return 'Student'\n",
    "print(dict.get('occupation', 'Student'))\n",
    "# Software Engineer"
   ]
  },
  {
   "cell_type": "code",
   "execution_count": 21,
   "id": "689c3eba-426f-45b3-be3f-60438b708007",
   "metadata": {},
   "outputs": [
    {
     "name": "stdout",
     "output_type": "stream",
     "text": [
      "John\n"
     ]
    }
   ],
   "source": [
    "# You can access values in a dictionary using their corresponding keys.\n",
    "my_dict = {\"name\": \"John\", \"age\": 30}\n",
    "print(my_dict[\"name\"])  # Output: \"John\""
   ]
  },
  {
   "cell_type": "code",
   "execution_count": 22,
   "id": "b0554a57-1f08-499a-94ca-736a3bab39b2",
   "metadata": {},
   "outputs": [],
   "source": [
    "# You can add or modify items in a dictionary using the assignment operator (=).\n",
    "my_dict = {\"name\": \"John\", \"age\": 30}\n",
    "my_dict[\"city\"] = \"New York\"  # Adding a new item\n",
    "my_dict[\"age\"] = 31  # Modifying an existing item"
   ]
  },
  {
   "cell_type": "code",
   "execution_count": 24,
   "id": "ba6c90d8-8c50-4102-9a7c-cedeee7ccd11",
   "metadata": {},
   "outputs": [
    {
     "name": "stdout",
     "output_type": "stream",
     "text": [
      "{'name': 'John Doe', 'age': 30, 'occupation': 'Software Engineer', 'city': 'New York', 'state': 'New York'}\n"
     ]
    }
   ],
   "source": [
    "# You can modify or add more than one items in a dictionary using uptade() method.\n",
    "dict2 = {'city': 'New York', 'state': 'New York'}\n",
    "dict.update(dict2)\n",
    "print(dict)"
   ]
  },
  {
   "cell_type": "code",
   "execution_count": 25,
   "id": "6aeca7c6-2f70-43f9-a698-ad3da5caf1c3",
   "metadata": {},
   "outputs": [
    {
     "data": {
      "text/plain": [
       "'John'"
      ]
     },
     "execution_count": 25,
     "metadata": {},
     "output_type": "execute_result"
    }
   ],
   "source": [
    "#You can remove items from a dictionary using the del keyword or the pop() method.\n",
    "my_dict = {\"name\": \"John\", \"age\": 30}\n",
    "del my_dict[\"age\"]  # Removing a specific item\n",
    "my_dict.pop(\"name\")  # Removing and returning a specific item"
   ]
  },
  {
   "cell_type": "code",
   "execution_count": 29,
   "id": "61ddd16f-f734-4def-aab2-41cb751cefd1",
   "metadata": {},
   "outputs": [
    {
     "name": "stdout",
     "output_type": "stream",
     "text": [
      "name\n",
      "age\n",
      "courses\n"
     ]
    }
   ],
   "source": [
    "student = {\"name\":\"john\", \"age\":25,\"courses\":[\"math\",\"compSci\"]}\n",
    "\n",
    "for key in student:\n",
    "    print(key)"
   ]
  },
  {
   "cell_type": "code",
   "execution_count": 33,
   "id": "516efa4f-af75-4c77-bbd1-0fc0c18996e0",
   "metadata": {},
   "outputs": [
    {
     "name": "stdout",
     "output_type": "stream",
     "text": [
      "name=john\n",
      "age=25\n",
      "courses=['math', 'compSci']\n"
     ]
    }
   ],
   "source": [
    "for key,value in student.items():\n",
    "    print(key,value, sep=\"=\")"
   ]
  },
  {
   "cell_type": "code",
   "execution_count": 34,
   "id": "f5abfbe7-0916-4e23-881a-cb7cd9a81f51",
   "metadata": {},
   "outputs": [],
   "source": [
    "# If you want to access to a key by using its value, use this method.\n",
    "def find_key(dictionary, value):\n",
    "    for key, val in dictionary.items():\n",
    "        if val==value:\n",
    "            return key\n",
    "    raise ValueError(\"Value not found in the dictionary\")"
   ]
  }
 ],
 "metadata": {
  "kernelspec": {
   "display_name": "Python 3 (ipykernel)",
   "language": "python",
   "name": "python3"
  },
  "language_info": {
   "codemirror_mode": {
    "name": "ipython",
    "version": 3
   },
   "file_extension": ".py",
   "mimetype": "text/x-python",
   "name": "python",
   "nbconvert_exporter": "python",
   "pygments_lexer": "ipython3",
   "version": "3.11.2"
  }
 },
 "nbformat": 4,
 "nbformat_minor": 5
}
