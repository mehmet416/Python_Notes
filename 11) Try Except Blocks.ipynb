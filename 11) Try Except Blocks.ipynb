{
 "cells": [
  {
   "cell_type": "markdown",
   "id": "18c7d45d-ea69-4767-aebb-ce8e3208b1a2",
   "metadata": {},
   "source": [
    "# TRY EXCEPT BLOCKS"
   ]
  },
  {
   "cell_type": "markdown",
   "id": "54af452b-2669-467c-8205-698f3bd2816c",
   "metadata": {},
   "source": [
    "### try and except blocks are used to handle exceptions. Exceptions are errors that occur during the execution of a program. They can be caused by a variety of things, such as invalid input, division by zero, and so on.\n",
    "\n",
    "The try block is used to execute a piece of code that might potentially raise an exception. The except block is used to handle the exception if it is raised."
   ]
  },
  {
   "cell_type": "code",
   "execution_count": 15,
   "id": "b60f0096-100a-46d2-b645-90db305a68f4",
   "metadata": {},
   "outputs": [
    {
     "name": "stdin",
     "output_type": "stream",
     "text": [
      "Enter a number:  wfd\n"
     ]
    },
    {
     "name": "stdout",
     "output_type": "stream",
     "text": [
      "Invalid input. Please enter a valid number.\n"
     ]
    }
   ],
   "source": [
    "try:\n",
    "  number = int(input(\"Enter a number: \"))\n",
    "  \n",
    "except Exception:\n",
    "    print(\"Invalid input. Please enter a valid number.\")\n",
    "else:\n",
    "    print(\"The number you entered is:\", number)\n",
    "    "
   ]
  },
  {
   "cell_type": "markdown",
   "id": "3dbefd1c-9c15-45fc-a39a-a0422fc8675e",
   "metadata": {},
   "source": [
    "### If the code in the try block raises a ZeroDivisionError exception, the except block will be executed. The except block will not be executed if the try block does not raise an exception.\n",
    "\n",
    "The except block can also be used to provide custom error messages. For example, the following code provides a custom error message if the ValueError exception is raised:"
   ]
  },
  {
   "cell_type": "code",
   "execution_count": 16,
   "id": "a750eaf3-c1eb-4caf-bb21-78e22aedfd26",
   "metadata": {},
   "outputs": [
    {
     "name": "stdin",
     "output_type": "stream",
     "text": [
      "Enter a number:  asd\n"
     ]
    },
    {
     "name": "stdout",
     "output_type": "stream",
     "text": [
      "Invalid input. Please enter a valid number. invalid literal for int() with base 10: 'asd'\n",
      "The program continues.\n"
     ]
    }
   ],
   "source": [
    "try:\n",
    "  number = int(input(\"Enter a number: \"))\n",
    "except ValueError as e:\n",
    "  print(\"Invalid input. Please enter a valid number.\", e)\n",
    "\n",
    "print(\"The program continues.\")"
   ]
  },
  {
   "cell_type": "markdown",
   "id": "cceb34c7-dff2-465d-a177-8b13a6819cd6",
   "metadata": {},
   "source": [
    "You can have multiple except blocks after a try block to catch different types of exceptions and handle them accordingly. Additionally, you can include a generic except block at the end to catch any unhandled exceptions or perform a general error handling routine."
   ]
  },
  {
   "cell_type": "code",
   "execution_count": null,
   "id": "863d801d-a61a-499f-b9fd-7cb7fdb0c09b",
   "metadata": {},
   "outputs": [],
   "source": [
    "try:\n",
    "    # Code that may raise exceptions\n",
    "except SpecificExceptionType:\n",
    "    # Handling code for SpecificExceptionType\n",
    "except AnotherExceptionType:\n",
    "    # Handling code for AnotherExceptionType\n",
    "except Exception:\n",
    "    # Handling code for all other exceptions"
   ]
  },
  {
   "cell_type": "markdown",
   "id": "3ecb0692-752c-402a-8359-e8a5abbe44cb",
   "metadata": {},
   "source": [
    "### else and finally blocks"
   ]
  },
  {
   "cell_type": "code",
   "execution_count": null,
   "id": "fe98989c-55f0-4b54-9a5c-96a6c69c5e65",
   "metadata": {},
   "outputs": [],
   "source": [
    "# else block:\n",
    "# The else block is optional and follows the try and except blocks.\n",
    "# Code inside the else block is executed if no exceptions occur within the try block.\n",
    "# It is typically used for code that should run only when the try block completes successfully, without any exceptions being raised.\n",
    "\n",
    "# finally block:\n",
    "# The finally block is optional and follows the try and except blocks.\n",
    "# Code inside the finally block is always executed, regardless of whether an exception occurred or was caught.\n",
    "# It is commonly used for cleanup operations, such as closing files or releasing resources, that need to occur regardless of exceptions."
   ]
  },
  {
   "cell_type": "code",
   "execution_count": 18,
   "id": "9af1d8cb-7134-4fb9-ab43-72a24f4b7408",
   "metadata": {},
   "outputs": [
    {
     "name": "stdin",
     "output_type": "stream",
     "text": [
      "Enter the numerator:  12\n",
      "Enter the denominator:  4\n"
     ]
    },
    {
     "name": "stdout",
     "output_type": "stream",
     "text": [
      "The division result is: 3.0\n",
      "Thank you for using the division calculator.\n"
     ]
    }
   ],
   "source": [
    "try:\n",
    "    numerator = int(input(\"Enter the numerator: \"))\n",
    "    denominator = int(input(\"Enter the denominator: \"))\n",
    "    result = numerator / denominator\n",
    "except ValueError:\n",
    "    print(\"Error: Invalid input. Please enter integers.\")\n",
    "except ZeroDivisionError:\n",
    "    print(\"Error: Cannot divide by zero.\")\n",
    "else:\n",
    "    print(\"The division result is:\", result)\n",
    "finally:\n",
    "    print(\"Thank you for using the division calculator.\")"
   ]
  },
  {
   "cell_type": "markdown",
   "id": "3e279514-31c2-48f6-a0c4-a51ae21728eb",
   "metadata": {},
   "source": [
    "### raise block"
   ]
  },
  {
   "cell_type": "markdown",
   "id": "9293e925-06dd-497e-8a61-00479b06effc",
   "metadata": {},
   "source": [
    "The raise statement in Python is used to raise exceptions manually. It allows you to generate and throw exceptions in your code based on specific conditions or criteria. Here's an explanation of how the raise block works:"
   ]
  },
  {
   "cell_type": "markdown",
   "id": "d643a203-d552-4c44-b421-c95d4526ca3f",
   "metadata": {},
   "source": [
    "### 1- Raising Built-in Exceptions:\n",
    "You can use the raise statement to raise built-in exceptions provided by Python, such as ValueError, TypeError, KeyError, etc.\n",
    "To raise a built-in exception, simply use the raise statement followed by the exception class and an optional error message."
   ]
  },
  {
   "cell_type": "code",
   "execution_count": 21,
   "id": "724b4807-07da-4aa6-b434-a2bf111e5934",
   "metadata": {},
   "outputs": [
    {
     "name": "stdout",
     "output_type": "stream",
     "text": [
      "Denominator cannot be zero.\n"
     ]
    }
   ],
   "source": [
    "def divide_numbers(numerator, denominator):\n",
    "    if denominator == 0:\n",
    "        raise ValueError(\"Denominator cannot be zero.\")\n",
    "    return numerator / denominator\n",
    "\n",
    "try:\n",
    "    result = divide_numbers(10, 0)\n",
    "except ValueError as e:\n",
    "    print(e)  # Output: Denominator cannot be zero."
   ]
  },
  {
   "cell_type": "markdown",
   "id": "93552041-7001-4fa4-8571-e09729512d82",
   "metadata": {},
   "source": [
    "### 2-Raising Custom Exceptions:\n",
    "You can also define and raise your own custom exceptions by creating a new exception class.\n",
    "To raise a custom exception, create an instance of your custom exception class and raise it using the raise statement."
   ]
  },
  {
   "cell_type": "code",
   "execution_count": 22,
   "id": "ba89230b-6d24-4837-a198-8c34a5a8ef77",
   "metadata": {},
   "outputs": [
    {
     "name": "stdout",
     "output_type": "stream",
     "text": [
      "Value cannot be negative.\n"
     ]
    }
   ],
   "source": [
    "class CustomException(Exception):\n",
    "    pass\n",
    "\n",
    "def check_value(value):\n",
    "    if value < 0:\n",
    "        raise CustomException(\"Value cannot be negative.\")\n",
    "\n",
    "try:\n",
    "    check_value(-5)\n",
    "except CustomException as e:\n",
    "    print(e)  # Output: Value cannot be negative."
   ]
  },
  {
   "cell_type": "markdown",
   "id": "0deda095-436a-4a6a-8981-9559ae87b0d8",
   "metadata": {},
   "source": [
    "### Division Calculator Example"
   ]
  },
  {
   "cell_type": "code",
   "execution_count": 25,
   "id": "f04eec4c-0983-4bab-9a71-6dbcc9e32aed",
   "metadata": {},
   "outputs": [
    {
     "name": "stdin",
     "output_type": "stream",
     "text": [
      "Enter the numerator:  fge\n"
     ]
    },
    {
     "name": "stdout",
     "output_type": "stream",
     "text": [
      "Error: Invalid input. Please enter an integer.\n"
     ]
    },
    {
     "name": "stdin",
     "output_type": "stream",
     "text": [
      "Enter the numerator:  12\n",
      "Enter the denominator:  df\n"
     ]
    },
    {
     "name": "stdout",
     "output_type": "stream",
     "text": [
      "Error: Invalid input. Please enter an integer for the denominator.\n"
     ]
    },
    {
     "name": "stdin",
     "output_type": "stream",
     "text": [
      "Enter the denominator:  0\n"
     ]
    },
    {
     "name": "stdout",
     "output_type": "stream",
     "text": [
      "Error: Cannot divide by zero.\n"
     ]
    },
    {
     "name": "stdin",
     "output_type": "stream",
     "text": [
      "Enter the denominator:  4\n"
     ]
    },
    {
     "name": "stdout",
     "output_type": "stream",
     "text": [
      "The division result is: 3\n"
     ]
    }
   ],
   "source": [
    "while True:\n",
    "    try:\n",
    "        numerator = int(input(\"Enter the numerator: \"))\n",
    "        break\n",
    "    except ValueError:\n",
    "        print(\"Error: Invalid input. Please enter an integer.\")\n",
    "\n",
    "while True:\n",
    "    try:\n",
    "        denominator = int(input(\"Enter the denominator: \"))\n",
    "        result = numerator / denominator\n",
    "        print(\"The division result is:\", int(result))\n",
    "        break\n",
    "    except ValueError:\n",
    "        print(\"Error: Invalid input. Please enter an integer for the denominator.\")\n",
    "    except ZeroDivisionError:\n",
    "        print(\"Error: Cannot divide by zero.\")"
   ]
  }
 ],
 "metadata": {
  "kernelspec": {
   "display_name": "Python 3 (ipykernel)",
   "language": "python",
   "name": "python3"
  },
  "language_info": {
   "codemirror_mode": {
    "name": "ipython",
    "version": 3
   },
   "file_extension": ".py",
   "mimetype": "text/x-python",
   "name": "python",
   "nbconvert_exporter": "python",
   "pygments_lexer": "ipython3",
   "version": "3.11.2"
  }
 },
 "nbformat": 4,
 "nbformat_minor": 5
}
