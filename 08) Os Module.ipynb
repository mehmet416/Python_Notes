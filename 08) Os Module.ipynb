{
 "cells": [
  {
   "cell_type": "markdown",
   "id": "b833447d-11d1-4214-819c-2926786b1c4f",
   "metadata": {},
   "source": [
    "# OS MODULE METHODS"
   ]
  },
  {
   "cell_type": "markdown",
   "id": "04462108-f261-4aa3-bd99-f0e6e59e3507",
   "metadata": {},
   "source": [
    "### Here are some important and useful methods of the os module in Python, along with examples:"
   ]
  },
  {
   "cell_type": "code",
   "execution_count": 22,
   "id": "bb09a060-dab5-4aac-8864-0c720c8771bd",
   "metadata": {},
   "outputs": [
    {
     "name": "stdout",
     "output_type": "stream",
     "text": [
      "Current working directory: C:\\Users\\Mehmet Emin\\Desktop\\PYTHON COURSE\\py_notes\n"
     ]
    }
   ],
   "source": [
    "#  os.getcwd(): This method returns the current working directory. For example:\n",
    "import os\n",
    "\n",
    "current_dir = os.getcwd()\n",
    "print(\"Current working directory:\", current_dir)"
   ]
  },
  {
   "cell_type": "code",
   "execution_count": null,
   "id": "c1d27402-deee-4f3a-b33f-d464c5a06b0d",
   "metadata": {},
   "outputs": [],
   "source": [
    "# os.chdir(): This method changes the current directory to the argument we give as a path.\n",
    "import os\n",
    "\n",
    "# Get the current working directory\n",
    "current_dir = os.getcwd()\n",
    "print(\"Current working directory:\", current_dir)\n",
    "\n",
    "# Change the current working directory to a new directory\n",
    "new_dir = \"/path/to/new/directory\"\n",
    "os.chdir(new_dir)\n",
    "\n",
    "# Get the updated current working directory\n",
    "updated_dir = os.getcwd()\n",
    "print(\"Updated working directory:\", updated_dir)"
   ]
  },
  {
   "cell_type": "code",
   "execution_count": 25,
   "id": "d64028b0-2beb-4593-b60a-2db2b21778e2",
   "metadata": {},
   "outputs": [],
   "source": [
    "# os.rename(): Changes the name of first file as an argument to the second name as given.\n",
    "import os\n",
    "current_dir = os.getcwd()\n",
    "os.rename(\"09) Os Module.ipynb\", \"os module.jbynb\")"
   ]
  },
  {
   "cell_type": "code",
   "execution_count": 4,
   "id": "531376e9-ce4a-4c63-9d34-d8615abf47d0",
   "metadata": {},
   "outputs": [
    {
     "name": "stdout",
     "output_type": "stream",
     "text": [
      "File list:\n",
      ".ipynb_checkpoints\n",
      "01) Strings, Integers and Floats.ipynb\n",
      "02) Lists, Tuples, Sets and Dicts.ipynb\n",
      "03) Local and Global Variables.ipynb\n",
      "04) Sort Function.ipynb\n",
      "05) Comprehensions and Generator Expressions.ipynb\n",
      "06) Functions and Modules.ipynb\n",
      "08) Operations on Files.ipynb\n",
      "09) Os Module.ipynb\n",
      "10) Random Module.ipynb\n",
      "11) Re Module.ipynb\n",
      "12) Try Except Blocks.ipynb\n",
      "13) Generator Expressions.ipynb\n",
      "14) Decorators.ipynb\n",
      "15) Classes.ipynb\n",
      "16) Inheritance and Special Methods.ipynb\n",
      "17) Property Decorators - Getters, Setters, and Deleters.ipynb\n",
      "18) Other Embedded Functions.ipynb\n",
      "19) Time-Datemtime-Calendar Modules.ipynb\n",
      "Binary Tree.py\n",
      "Linked Lists.ipynb\n",
      "Linked Lists.py\n",
      "Sqlite3.ipynb\n",
      "Useful Python Methods.ipynb\n"
     ]
    }
   ],
   "source": [
    "#  os.listdir(path): This method lists the files and directories in the specified path. For example:\n",
    "import os\n",
    "\n",
    "dir_path = \"/Users/Mehmet Emin/Desktop/PYTHON COURSE/py_notes\"\n",
    "\n",
    "file_list = os.listdir(dir_path)\n",
    "print(\"File list:\")\n",
    "for file_name in file_list:\n",
    "    print(file_name)"
   ]
  },
  {
   "cell_type": "code",
   "execution_count": 7,
   "id": "471487a8-7d9b-4a46-a203-a5f0ee4285b1",
   "metadata": {},
   "outputs": [
    {
     "name": "stdout",
     "output_type": "stream",
     "text": [
      "New directory created: /Users/Mehmet Emin/Desktop/test_folder\n"
     ]
    }
   ],
   "source": [
    "#  os.mkdir(path): This method creates a new directory in the specified path. For example:\n",
    "import os\n",
    "\n",
    "test_file = \"/Users/Mehmet Emin/Desktop/test_folder\"\n",
    "\n",
    "os.mkdir(test_file)\n",
    "print(\"New directory created:\", test_file)"
   ]
  },
  {
   "cell_type": "code",
   "execution_count": 17,
   "id": "eb2770cd-74b6-499f-8ab7-ced8de6a6022",
   "metadata": {},
   "outputs": [
    {
     "name": "stdout",
     "output_type": "stream",
     "text": [
      "New directories created\n"
     ]
    }
   ],
   "source": [
    "#  os.makedirs(path): This method creates a new directory but unlike mkdir, it can create multiple directories.\n",
    "import os\n",
    "\n",
    "current_dir = os.getcwd()\n",
    "\n",
    "os.makedirs(\"test1/test2\")\n",
    "print(\"New directories created\")"
   ]
  },
  {
   "cell_type": "code",
   "execution_count": 18,
   "id": "adc6c8e0-bbba-457c-a8ab-17bbdfad5a60",
   "metadata": {},
   "outputs": [
    {
     "name": "stdout",
     "output_type": "stream",
     "text": [
      "test2 removed\n",
      "test1 removed\n"
     ]
    }
   ],
   "source": [
    "# os.rmdir: This method removes the deeper directory from current directory.\n",
    "import os \n",
    "current_dir = os.getcwd()\n",
    "os.rmdir(\"test1/test2\")\n",
    "print(\"test2 removed\")\n",
    "os.rmdir(\"test1\")\n",
    "print(\"test1 removed\")"
   ]
  },
  {
   "cell_type": "code",
   "execution_count": null,
   "id": "93d55c1a-b969-4563-84ff-3677accd3eb2",
   "metadata": {},
   "outputs": [],
   "source": [
    "#  os.removedirs(path): This method removes a new directory but unlike rmdir, it can remove multiple directories.\n",
    "import os\n",
    "\n",
    "current_dir = os.getcwd()\n",
    "\n",
    "os.removedirs(\"test1/test2\")\n",
    "print(\"New directories removed\")"
   ]
  },
  {
   "cell_type": "code",
   "execution_count": null,
   "id": "9d345538-6b99-4b5f-b085-8f52d789bf4e",
   "metadata": {},
   "outputs": [],
   "source": [
    "# os.remove(path): This method deletes the specified file. For example:\n",
    "import os\n",
    "\n",
    "file_path = \"/Users/Mehmet Emin/Desktop/test_folder\"\n",
    "\n",
    "os.remove(file_path)\n",
    "print(\"File deleted:\", file_path)"
   ]
  },
  {
   "cell_type": "code",
   "execution_count": null,
   "id": "3c2234a9-396d-43a9-8796-55f25cd408c9",
   "metadata": {},
   "outputs": [],
   "source": [
    "#  os.path.join(path, *paths): This method joins one or more path components intelligently. It automatically handles the correct path separator based on the operating system.\n",
    "import os\n",
    "\n",
    "path1 = \"/home/user/\"\n",
    "path2 = \"files\"\n",
    "file_name = \"file.txt\"\n",
    "\n",
    "file_path = os.path.join(path1, path2, file_name)\n",
    "print(\"Complete file path:\", file_path)"
   ]
  },
  {
   "cell_type": "code",
   "execution_count": 12,
   "id": "eb28b9a0-e386-456b-a854-370468c81ce4",
   "metadata": {},
   "outputs": [
    {
     "name": "stdout",
     "output_type": "stream",
     "text": [
      "Path does not exist: /home/user/files/file.txt\n"
     ]
    }
   ],
   "source": [
    "#  os.path.exists(path): This method checks whether a path exists or not. It returns True if the path exists and False otherwise. For example:\n",
    "import os\n",
    "\n",
    "path = \"/home/user/files/file.txt\"\n",
    "\n",
    "if os.path.exists(path):\n",
    "    print(\"Path exists:\", path)\n",
    "else:\n",
    "    print(\"Path does not exist:\", path)"
   ]
  },
  {
   "cell_type": "code",
   "execution_count": 13,
   "id": "c4938ec5-eb9c-4c7c-a879-3f0da09f0491",
   "metadata": {},
   "outputs": [
    {
     "name": "stdout",
     "output_type": "stream",
     "text": [
      "Path is not a directory: /home/user/files/\n"
     ]
    }
   ],
   "source": [
    "# os.path.isdir(path): This method checks whether the given path is a directory or not. It returns True if the path is a directory and False otherwise. For example:\n",
    "import os\n",
    "\n",
    "path = \"/home/user/files/\"\n",
    "\n",
    "if os.path.isdir(path):\n",
    "    print(\"Path is a directory:\", path)\n",
    "else:\n",
    "    print(\"Path is not a directory:\", path)"
   ]
  },
  {
   "cell_type": "code",
   "execution_count": 14,
   "id": "d0fcf485-95ba-4204-b45f-062f09af2fda",
   "metadata": {},
   "outputs": [
    {
     "name": "stdout",
     "output_type": "stream",
     "text": [
      "Path is not a file: /home/user/files/file.txt\n"
     ]
    }
   ],
   "source": [
    "# os.path.isfile(path): This method checks whether the given path is a file or not. It returns True if the path is a file and False otherwise. For example:\n",
    "import os\n",
    "\n",
    "path = \"/home/user/files/file.txt\"\n",
    "\n",
    "if os.path.isfile(path):\n",
    "    print(\"Path is a file:\", path)\n",
    "else:\n",
    "    print(\"Path is not a file:\", path)"
   ]
  },
  {
   "cell_type": "code",
   "execution_count": 28,
   "id": "f824b580-167e-407f-a9db-d37eafbb58fa",
   "metadata": {},
   "outputs": [
    {
     "name": "stdout",
     "output_type": "stream",
     "text": [
      "os.stat_result(st_mode=33206, st_ino=67553994410563451, st_dev=2262723107, st_nlink=1, st_uid=0, st_gid=0, st_size=11588, st_atime=1690722795, st_mtime=1690722795, st_ctime=1690722555)\n"
     ]
    }
   ],
   "source": [
    "# os.stat(): This methods gives detailed information about a file.\n",
    "import os\n",
    "print (os.stat(\"09) Os Module.ipynb\"))"
   ]
  },
  {
   "cell_type": "code",
   "execution_count": 32,
   "id": "ed5d4d97-87fa-4b4f-b239-be3bdf55c4fc",
   "metadata": {},
   "outputs": [
    {
     "name": "stdout",
     "output_type": "stream",
     "text": [
      "1690723276.1655295\n",
      "2023-07-30 16:21:16.165529\n"
     ]
    }
   ],
   "source": [
    "# st_mtime represents the last modified date\n",
    "from datetime import datetime\n",
    "print(os.stat(\"09) Os Module.ipynb\").st_mtime) # print out epoch time form.\n",
    "# use fromtimestamp() to take a clear result.\n",
    "print(datetime.fromtimestamp(os.stat(\"09) Os Module.ipynb\").st_mtime))"
   ]
  },
  {
   "cell_type": "code",
   "execution_count": null,
   "id": "f875afb5-9f1b-488d-80ac-e712adc27b6d",
   "metadata": {},
   "outputs": [],
   "source": [
    "#  this is an useful way to check all items in a folder to find.\n",
    "for dirpath, dirnames, filenames in os.walk(\"/Users/Mehmet Emin/Desktop/PYTHON COURSE\"):\n",
    "    print (\"Current Path:\", dirpath)\n",
    "    print(\"Directories:\",filenames )\n",
    "    print(\"Files:\" , filenames)\n",
    "    print()"
   ]
  },
  {
   "cell_type": "code",
   "execution_count": 20,
   "id": "fff49c9c-5699-4d63-9b3f-0ef5dbed4e3f",
   "metadata": {},
   "outputs": [],
   "source": [
    "# print(help(os))    : gives info about os module methods"
   ]
  }
 ],
 "metadata": {
  "kernelspec": {
   "display_name": "Python 3 (ipykernel)",
   "language": "python",
   "name": "python3"
  },
  "language_info": {
   "codemirror_mode": {
    "name": "ipython",
    "version": 3
   },
   "file_extension": ".py",
   "mimetype": "text/x-python",
   "name": "python",
   "nbconvert_exporter": "python",
   "pygments_lexer": "ipython3",
   "version": "3.11.2"
  }
 },
 "nbformat": 4,
 "nbformat_minor": 5
}
