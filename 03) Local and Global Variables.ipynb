{
 "cells": [
  {
   "cell_type": "markdown",
   "id": "4ce0e7d2-2ae1-4849-a2c7-ea7c65d7e736",
   "metadata": {},
   "source": [
    "# LOCAL, GLOBAL AND ENCLOSING VARIABLES"
   ]
  },
  {
   "cell_type": "code",
   "execution_count": 1,
   "id": "4194e238-de1c-4acd-88fa-fa1004a3831d",
   "metadata": {},
   "outputs": [
    {
     "name": "stdout",
     "output_type": "stream",
     "text": [
      "local_x\n",
      "global_x\n"
     ]
    }
   ],
   "source": [
    "x = \"global_x\"\n",
    "\n",
    "def test():\n",
    "    x = \"local_x\"\n",
    "    print(x)\n",
    "test()\n",
    "print(x)"
   ]
  },
  {
   "cell_type": "code",
   "execution_count": 2,
   "id": "ede51c51-ceae-4811-ba1b-41a3c617bd9c",
   "metadata": {},
   "outputs": [
    {
     "name": "stdout",
     "output_type": "stream",
     "text": [
      "local_x\n",
      "local_x\n"
     ]
    }
   ],
   "source": [
    "x = \"global_x\"\n",
    "\n",
    "def test():\n",
    "    global x\n",
    "    x = \"local_x\"\n",
    "    print(x)\n",
    "test()\n",
    "print(x)"
   ]
  },
  {
   "cell_type": "code",
   "execution_count": 6,
   "id": "62273bb1-c968-435d-be08-474d7c0fa424",
   "metadata": {},
   "outputs": [
    {
     "name": "stdout",
     "output_type": "stream",
     "text": [
      "inner x\n",
      "outer x\n"
     ]
    }
   ],
   "source": [
    "def outer():\n",
    "    x = \"outer x\"\n",
    "\n",
    "    def inner():\n",
    "        x = \"inner x\"\n",
    "        print(x)\n",
    "    inner()\n",
    "    print(x)\n",
    "outer()"
   ]
  },
  {
   "cell_type": "code",
   "execution_count": 7,
   "id": "782300ea-35bd-4b96-9ec1-2f4546ede39e",
   "metadata": {},
   "outputs": [
    {
     "name": "stdout",
     "output_type": "stream",
     "text": [
      "outer x\n",
      "outer x\n"
     ]
    }
   ],
   "source": [
    "# THIS EXAMPLE TELLS US ABOUT ENCLOSING SCOPE OF FUNCTIONS.\n",
    "def outer():\n",
    "    x = \"outer x\"\n",
    "\n",
    "    def inner():\n",
    "        # x = \"inner x\"\n",
    "        print(x)\n",
    "    inner()\n",
    "    print(x)\n",
    "outer()"
   ]
  },
  {
   "cell_type": "code",
   "execution_count": 10,
   "id": "c6b4e7bc-793c-449a-ac4d-6ab34bd72fd2",
   "metadata": {},
   "outputs": [
    {
     "ename": "NameError",
     "evalue": "name 'y' is not defined",
     "output_type": "error",
     "traceback": [
      "\u001b[1;31m---------------------------------------------------------------------------\u001b[0m",
      "\u001b[1;31mNameError\u001b[0m                                 Traceback (most recent call last)",
      "Cell \u001b[1;32mIn[10], line 8\u001b[0m\n\u001b[0;32m      6\u001b[0m     inner()\n\u001b[0;32m      7\u001b[0m     \u001b[38;5;28mprint\u001b[39m(y)\n\u001b[1;32m----> 8\u001b[0m \u001b[43mouter\u001b[49m\u001b[43m(\u001b[49m\u001b[43m)\u001b[49m\n",
      "Cell \u001b[1;32mIn[10], line 6\u001b[0m, in \u001b[0;36mouter\u001b[1;34m()\u001b[0m\n\u001b[0;32m      3\u001b[0m \u001b[38;5;28;01mdef\u001b[39;00m \u001b[38;5;21minner\u001b[39m():\n\u001b[0;32m      4\u001b[0m     \u001b[38;5;66;03m# y = \"inner y\"\u001b[39;00m\n\u001b[0;32m      5\u001b[0m     \u001b[38;5;28mprint\u001b[39m(y)\n\u001b[1;32m----> 6\u001b[0m \u001b[43minner\u001b[49m\u001b[43m(\u001b[49m\u001b[43m)\u001b[49m\n\u001b[0;32m      7\u001b[0m \u001b[38;5;28mprint\u001b[39m(y)\n",
      "Cell \u001b[1;32mIn[10], line 5\u001b[0m, in \u001b[0;36mouter.<locals>.inner\u001b[1;34m()\u001b[0m\n\u001b[0;32m      3\u001b[0m \u001b[38;5;28;01mdef\u001b[39;00m \u001b[38;5;21minner\u001b[39m():\n\u001b[0;32m      4\u001b[0m     \u001b[38;5;66;03m# y = \"inner y\"\u001b[39;00m\n\u001b[1;32m----> 5\u001b[0m     \u001b[38;5;28mprint\u001b[39m(\u001b[43my\u001b[49m)\n",
      "\u001b[1;31mNameError\u001b[0m: name 'y' is not defined"
     ]
    }
   ],
   "source": [
    "def outer():\n",
    "    # y = \"outer y\"\n",
    "    def inner():\n",
    "        # y = \"inner y\"\n",
    "        print(y)\n",
    "    inner()\n",
    "    print(y)\n",
    "outer()"
   ]
  },
  {
   "cell_type": "code",
   "execution_count": 1,
   "id": "d153b228-9483-418e-8e53-737f3db60401",
   "metadata": {},
   "outputs": [
    {
     "name": "stdout",
     "output_type": "stream",
     "text": [
      "inner x\n",
      "inner x\n"
     ]
    }
   ],
   "source": [
    "# This example is very important. When we have an inner function and want to change the x variable including outer function, we use nonlocal expression.\n",
    "def outer():\n",
    "    x = \"outer x\"\n",
    "\n",
    "    def inner():\n",
    "        nonlocal x\n",
    "        x = \"inner x\"\n",
    "        print(x)\n",
    "    inner()\n",
    "    print(x)\n",
    "outer()"
   ]
  },
  {
   "cell_type": "code",
   "execution_count": 3,
   "id": "b21c6ca5-d23c-4a17-addb-3d881a45e235",
   "metadata": {},
   "outputs": [
    {
     "name": "stdout",
     "output_type": "stream",
     "text": [
      "inner y\n",
      "outer y\n",
      "inner y\n",
      "************\n",
      "inner y\n",
      "inner y\n",
      "global y\n"
     ]
    }
   ],
   "source": [
    "# Difference between global and nonlocal:\n",
    "\n",
    "y = \"global y\"\n",
    "def outer():\n",
    "    y = \"outer y\"\n",
    "    def inner():\n",
    "        global y\n",
    "        y = \"inner y\"\n",
    "        print(y)\n",
    "    inner()\n",
    "    print(y)\n",
    "outer()\n",
    "print(y)\n",
    "print(\"************\")\n",
    "\n",
    "y = \"global y\"\n",
    "def outer():\n",
    "    y = \"outer y\"\n",
    "    def inner():\n",
    "        nonlocal y\n",
    "        y = \"inner y\"\n",
    "        print(y)\n",
    "    inner()\n",
    "    print(y)\n",
    "outer()\n",
    "print(y)"
   ]
  },
  {
   "cell_type": "markdown",
   "id": "c996f8ea-3d50-404a-a805-d874bcc8a7d0",
   "metadata": {},
   "source": [
    "## DIFFERENCE BETWEEN \"==\" AND \"IS\""
   ]
  },
  {
   "cell_type": "code",
   "execution_count": 15,
   "id": "c263783b-db60-457d-a9b7-35cd0cfca3d5",
   "metadata": {},
   "outputs": [
    {
     "name": "stdout",
     "output_type": "stream",
     "text": [
      "True\n",
      "False\n",
      "2733705249664\n",
      "2733705252736\n"
     ]
    }
   ],
   "source": [
    "# All same objects are equivalent, but all equivalent objects are not the same.\n",
    "my_list= [1,2,3,4]\n",
    "new_list= my_list.copy()\n",
    "print(my_list == new_list)\n",
    "print(my_list is new_list)\n",
    "print(id(my_list))\n",
    "print(id(new_list))\n",
    "# Also they have different id numbers."
   ]
  }
 ],
 "metadata": {
  "kernelspec": {
   "display_name": "Python 3 (ipykernel)",
   "language": "python",
   "name": "python3"
  },
  "language_info": {
   "codemirror_mode": {
    "name": "ipython",
    "version": 3
   },
   "file_extension": ".py",
   "mimetype": "text/x-python",
   "name": "python",
   "nbconvert_exporter": "python",
   "pygments_lexer": "ipython3",
   "version": "3.11.2"
  }
 },
 "nbformat": 4,
 "nbformat_minor": 5
}
