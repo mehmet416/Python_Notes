{
 "cells": [
  {
   "cell_type": "markdown",
   "id": "812552b0-8540-4d4d-830f-8cefead7c923",
   "metadata": {},
   "source": [
    "# OTHER EMBEDDED FUNCTIONS"
   ]
  },
  {
   "cell_type": "markdown",
   "id": "4885615b-cbaf-4b47-9c65-4644c6f1de6c",
   "metadata": {},
   "source": [
    "### 1) Map Function"
   ]
  },
  {
   "cell_type": "markdown",
   "id": "7986cfca-d7b8-4ca3-804f-19f452068361",
   "metadata": {},
   "source": [
    "In Python, the map() function is a built-in higher-order function that applies a given function to each item of an iterable (e.g., list, tuple) and returns a new iterator containing the results. It takes two arguments: the function to be applied and the iterable over which the function will be applied."
   ]
  },
  {
   "cell_type": "code",
   "execution_count": 2,
   "id": "2ea529de-a121-4e4a-b30e-f1858e4a67ef",
   "metadata": {},
   "outputs": [],
   "source": [
    "# The general syntax of the map() function is as follows:\n",
    "# map(function, iterable)"
   ]
  },
  {
   "cell_type": "code",
   "execution_count": 3,
   "id": "564e0f42-5718-45f2-8fc7-5458513ba0ca",
   "metadata": {},
   "outputs": [
    {
     "name": "stdout",
     "output_type": "stream",
     "text": [
      "<map object at 0x0000019CF423FEE0>\n",
      "[1, 4, 9, 16, 25]\n"
     ]
    }
   ],
   "source": [
    "# Example function to square a number\n",
    "def square(x):\n",
    "    return x ** 2\n",
    "\n",
    "# Using map() to square each element in a list\n",
    "numbers = [1, 2, 3, 4, 5]\n",
    "squared_numbers = map(square, numbers)\n",
    "\n",
    "print(squared_numbers)        # Output: <map object at 0x7f2258134a60>\n",
    "print(list(squared_numbers))  # Output: [1, 4, 9, 16, 25]\n"
   ]
  },
  {
   "cell_type": "markdown",
   "id": "17e6de0c-bb47-4b45-ad5f-27ab8c4bde0e",
   "metadata": {},
   "source": [
    "You can also use lambda functions (anonymous functions) with the map() function, making it more concise:"
   ]
  },
  {
   "cell_type": "code",
   "execution_count": 4,
   "id": "a45c9a3a-f6b7-4c1d-b8cc-08f87c981bb9",
   "metadata": {},
   "outputs": [
    {
     "name": "stdout",
     "output_type": "stream",
     "text": [
      "[1, 4, 9, 16, 25]\n"
     ]
    }
   ],
   "source": [
    "numbers = [1, 2, 3, 4, 5]\n",
    "squared_numbers = map(lambda x: x ** 2, numbers)\n",
    "\n",
    "print(list(squared_numbers))  # Output: [1, 4, 9, 16, 25]"
   ]
  },
  {
   "cell_type": "markdown",
   "id": "f1280aa4-778b-45c8-9e3a-18d89bd41533",
   "metadata": {},
   "source": [
    "Map function can take muliple arguments:"
   ]
  },
  {
   "cell_type": "code",
   "execution_count": 7,
   "id": "26550f43-4615-4a73-a708-a405ef4ea72a",
   "metadata": {},
   "outputs": [
    {
     "name": "stdout",
     "output_type": "stream",
     "text": [
      "[7, 10, 12, 12]\n"
     ]
    }
   ],
   "source": [
    "list1 = [1,2,3,4]\n",
    "list2 = [7,5,4,3]\n",
    "list1_times_list2 = map(lambda x,y: x*y, list1, list2)\n",
    "print(list(list1_times_list2))"
   ]
  },
  {
   "cell_type": "markdown",
   "id": "0327aab2-94a9-45b2-b037-f7cfa99c6ec9",
   "metadata": {},
   "source": [
    "### 2) Reduce Function"
   ]
  },
  {
   "cell_type": "markdown",
   "id": "fb51ed75-cb24-47ce-92d6-d275d30722f8",
   "metadata": {},
   "source": [
    "In Python, the reduce() function is another built-in higher-order function provided by the functools module. It is used for performing a cumulative computation on elements of an iterable (e.g., list, tuple) using a specified function. The reduce() function repeatedly applies the given function to the elements in the iterable from left to right until it reduces the iterable to a single value."
   ]
  },
  {
   "cell_type": "code",
   "execution_count": 8,
   "id": "9886b827-b0ef-45fc-ab5f-5fbfcf0f6f55",
   "metadata": {},
   "outputs": [],
   "source": [
    "# The general syntax of the reduce() function is as follows:\n",
    "# functools.reduce(function, iterable[, initializer])"
   ]
  },
  {
   "cell_type": "markdown",
   "id": "4a190202-05ae-4208-a3fb-c447358657c5",
   "metadata": {},
   "source": [
    "Before using the reduce() function, you need to import it from the functools module:"
   ]
  },
  {
   "cell_type": "code",
   "execution_count": 9,
   "id": "385d75a9-38e2-4ad8-83be-f04c9df29add",
   "metadata": {},
   "outputs": [],
   "source": [
    "from functools import reduce"
   ]
  },
  {
   "cell_type": "code",
   "execution_count": 10,
   "id": "48e8c220-1ab7-4da9-a073-2b6825e0fdf6",
   "metadata": {},
   "outputs": [
    {
     "name": "stdout",
     "output_type": "stream",
     "text": [
      "15\n"
     ]
    }
   ],
   "source": [
    "# Here's an example to illustrate how the reduce() function works:\n",
    "# Example function to add two numbers\n",
    "def add(x, y):\n",
    "    return x + y\n",
    "\n",
    "# Using reduce() to sum all elements in a list\n",
    "numbers = [1, 2, 3, 4, 5]\n",
    "sum_of_numbers = reduce(add, numbers)\n",
    "\n",
    "print(sum_of_numbers)  # Output: 15 (1 + 2 + 3 + 4 + 5)"
   ]
  },
  {
   "cell_type": "code",
   "execution_count": 11,
   "id": "530c2a51-5134-46de-a486-d2565e0428e5",
   "metadata": {},
   "outputs": [
    {
     "name": "stdout",
     "output_type": "stream",
     "text": [
      "25\n"
     ]
    }
   ],
   "source": [
    "# Finding the Maximum Value in a List:\n",
    "from functools import reduce\n",
    "\n",
    "# Example function to find the maximum of two numbers\n",
    "def find_max(x, y):\n",
    "    return x if x > y else y\n",
    "\n",
    "# Using reduce() to find the maximum value in a list\n",
    "numbers = [17, 2, 8, 25, 11]\n",
    "max_value = reduce(find_max, numbers)\n",
    "\n",
    "print(max_value)  # Output: 25"
   ]
  },
  {
   "cell_type": "code",
   "execution_count": 12,
   "id": "170eb9f9-26f9-4488-b4e5-9ae3c927bd6b",
   "metadata": {},
   "outputs": [
    {
     "name": "stdout",
     "output_type": "stream",
     "text": [
      "120\n"
     ]
    }
   ],
   "source": [
    "from functools import reduce\n",
    "\n",
    "# Example function to calculate the factorial of a number\n",
    "def factorial(x, y):\n",
    "    return x * y\n",
    "\n",
    "# Using reduce() to calculate the factorial of a number\n",
    "n = 5\n",
    "factorial_of_n = reduce(factorial, range(1, n + 1))\n",
    "\n",
    "print(factorial_of_n)  # Output: 120 (5! = 5 * 4 * 3 * 2 * 1)\n"
   ]
  },
  {
   "cell_type": "markdown",
   "id": "ed343e74-54b8-43ad-a666-c8d506332447",
   "metadata": {},
   "source": [
    "### 3) Filter Function"
   ]
  },
  {
   "cell_type": "markdown",
   "id": "4b7d1b72-2a34-473c-99ab-706c4dd10e97",
   "metadata": {},
   "source": [
    "In Python, the filter() function is another built-in higher-order function that allows you to filter elements from an iterable (e.g., list, tuple) based on a given function. The filter() function returns an iterator containing the elements from the iterable for which the function returns True."
   ]
  },
  {
   "cell_type": "code",
   "execution_count": 13,
   "id": "44d0c60f-5cbf-464a-9c41-ba0b73fce657",
   "metadata": {},
   "outputs": [],
   "source": [
    "# The general syntax of the filter() function is as follows:\n",
    "# filter(function, iterable)\n",
    "# note that the function inside filter must return true or false."
   ]
  },
  {
   "cell_type": "code",
   "execution_count": 14,
   "id": "c8d66328-b0b1-4145-836c-3523950fc105",
   "metadata": {},
   "outputs": [
    {
     "name": "stdout",
     "output_type": "stream",
     "text": [
      "[2, 4, 6, 8, 10]\n"
     ]
    }
   ],
   "source": [
    "# Example function to check if a number is even\n",
    "def is_even(x):\n",
    "    return x % 2 == 0\n",
    "\n",
    "# Using filter() to get all even numbers from a list\n",
    "numbers = [1, 2, 3, 4, 5, 6, 7, 8, 9, 10]\n",
    "even_numbers = filter(is_even, numbers)\n",
    "\n",
    "print(list(even_numbers))  # Output: [2, 4, 6, 8, 10]"
   ]
  },
  {
   "cell_type": "markdown",
   "id": "194affcc-4442-4a69-8ed3-8197e233a22c",
   "metadata": {},
   "source": [
    "You can also use lambda functions (anonymous functions) with the filter() function to make it more concise:"
   ]
  },
  {
   "cell_type": "code",
   "execution_count": 16,
   "id": "2e60567b-8c1e-4a4e-9fef-3eedf654bf3f",
   "metadata": {},
   "outputs": [
    {
     "name": "stdout",
     "output_type": "stream",
     "text": [
      "[2, 4, 6, 8, 10]\n"
     ]
    }
   ],
   "source": [
    "numbers = [1, 2, 3, 4, 5, 6, 7, 8, 9, 10]\n",
    "even_numbers = filter(lambda x: x % 2 == 0, numbers)\n",
    "\n",
    "print(list(even_numbers))  # Output: [2, 4, 6, 8, 10]"
   ]
  },
  {
   "cell_type": "markdown",
   "id": "ade14257-6389-4b96-96b8-6500406a4702",
   "metadata": {},
   "source": [
    "### 4) Zip Function"
   ]
  },
  {
   "cell_type": "markdown",
   "id": "0e486179-1713-4dc0-9708-fc2f8a50b7e5",
   "metadata": {},
   "source": [
    "In Python, the zip() function is a built-in function that is used to combine multiple iterables (e.g., lists, tuples) element-wise into a single iterator of tuples. The zip() function takes any number of iterables as arguments and returns an iterator that generates tuples containing elements from each of the input iterables."
   ]
  },
  {
   "cell_type": "code",
   "execution_count": 18,
   "id": "6eae31d0-0e9d-411f-bd40-b41a2f80d4bd",
   "metadata": {},
   "outputs": [],
   "source": [
    "# The general syntax of the zip() function is as follows\n",
    "# zip(iterable1, iterable2, ...)"
   ]
  },
  {
   "cell_type": "code",
   "execution_count": 19,
   "id": "502f42cc-d13e-4361-8d3f-d5cec5ec2d02",
   "metadata": {},
   "outputs": [
    {
     "name": "stdout",
     "output_type": "stream",
     "text": [
      "('Alice', 85, 'A')\n",
      "('Bob', 92, 'A+')\n",
      "('Charlie', 78, 'B')\n"
     ]
    }
   ],
   "source": [
    "# Here's an example to illustrate how the zip() function works:\n",
    "names = ['Alice', 'Bob', 'Charlie']\n",
    "scores = [85, 92, 78]\n",
    "grades = ['A', 'A+', 'B']\n",
    "\n",
    "# Using zip() to combine lists element-wise\n",
    "combined = zip(names, scores, grades)\n",
    "\n",
    "for item in combined:\n",
    "    print(item)\n",
    "\n",
    "# Output:\n",
    "# ('Alice', 85, 'A')\n",
    "# ('Bob', 92, 'A+')\n",
    "# ('Charlie', 78, 'B')"
   ]
  },
  {
   "cell_type": "markdown",
   "id": "a479de24-1270-42e4-8aad-2a5700d545c0",
   "metadata": {},
   "source": [
    "If you want to unzip the elements back into separate lists, you can use the zip() function with the * operator:"
   ]
  },
  {
   "cell_type": "code",
   "execution_count": 20,
   "id": "ac3535ed-a255-41f5-89b7-c8a19d870e92",
   "metadata": {},
   "outputs": [
    {
     "name": "stdout",
     "output_type": "stream",
     "text": [
      "('Alice', 'Bob', 'Charlie')\n",
      "(85, 92, 78)\n",
      "('A', 'A+', 'B')\n"
     ]
    }
   ],
   "source": [
    "combined = zip(names, scores, grades)\n",
    "unzipped_names, unzipped_scores, unzipped_grades = zip(*combined)\n",
    "\n",
    "print(unzipped_names)   # Output: ('Alice', 'Bob', 'Charlie')\n",
    "print(unzipped_scores)  # Output: (85, 92, 78)\n",
    "print(unzipped_grades)  # Output: ('A', 'A+', 'B')"
   ]
  },
  {
   "cell_type": "markdown",
   "id": "0f589b1b-a085-4ee4-a197-2f4dd457eef7",
   "metadata": {},
   "source": [
    "### 5) Enumerate Function"
   ]
  },
  {
   "cell_type": "markdown",
   "id": "cd5deaf9-a3f1-4ead-9444-24eeef2dd1f5",
   "metadata": {},
   "source": [
    "In Python, the enumerate() function is a built-in function that allows you to iterate over an iterable (e.g., list, tuple, string) while keeping track of the index of the current item. It returns an iterator of tuples, where each tuple contains the index and the corresponding item from the iterable."
   ]
  },
  {
   "cell_type": "code",
   "execution_count": 21,
   "id": "4046f895-095f-4428-8eb2-af0ee983cafc",
   "metadata": {},
   "outputs": [],
   "source": [
    "# The general syntax of the enumerate() function is as follows:\n",
    "# enumerate(iterable, start=0)"
   ]
  },
  {
   "cell_type": "code",
   "execution_count": 22,
   "id": "c3090149-7f64-4a2e-9cb4-b3605f14ee0c",
   "metadata": {},
   "outputs": [
    {
     "name": "stdout",
     "output_type": "stream",
     "text": [
      "Index 0: apple\n",
      "Index 1: banana\n",
      "Index 2: cherry\n"
     ]
    }
   ],
   "source": [
    "# Here's an example to illustrate how the enumerate() function works:\n",
    "fruits = ['apple', 'banana', 'cherry']\n",
    "\n",
    "# Using enumerate() to iterate over the list with index\n",
    "for index, fruit in enumerate(fruits):\n",
    "    print(f\"Index {index}: {fruit}\")\n",
    "\n",
    "# Output:\n",
    "# Index 0: apple\n",
    "# Index 1: banana\n",
    "# Index 2: cherry"
   ]
  },
  {
   "cell_type": "code",
   "execution_count": 23,
   "id": "f5af656b-0042-47e7-994c-c4d9ef408231",
   "metadata": {},
   "outputs": [
    {
     "name": "stdout",
     "output_type": "stream",
     "text": [
      "[(0, 'apple'), (1, 'banana'), (2, 'cherry')]\n",
      "{0: 'apple', 1: 'banana', 2: 'cherry'}\n"
     ]
    }
   ],
   "source": [
    "fruits = ['apple', 'banana', 'cherry']\n",
    "\n",
    "# Converting the result of enumerate to a list of tuples\n",
    "enum_list = list(enumerate(fruits))\n",
    "print(enum_list)\n",
    "# Output: [(0, 'apple'), (1, 'banana'), (2, 'cherry')]\n",
    "\n",
    "# Converting the result of enumerate to a dictionary\n",
    "enum_dict = dict(enumerate(fruits))\n",
    "print(enum_dict)\n",
    "# Output: {0: 'apple', 1: 'banana', 2: 'cherry'}"
   ]
  },
  {
   "cell_type": "markdown",
   "id": "681f084a-2211-4364-83db-ad88f1fbfb84",
   "metadata": {},
   "source": [
    "### 6) All and Any Functions"
   ]
  },
  {
   "cell_type": "markdown",
   "id": "d1c373aa-eb35-4f5a-88ac-0206fd810fbd",
   "metadata": {},
   "source": [
    "In Python, the all() and any() functions are built-in functions used to check the truthiness of elements in an iterable. Both functions take an iterable (e.g., list, tuple, set) as input and return a boolean value based on the evaluation of the elements in the iterable."
   ]
  },
  {
   "cell_type": "markdown",
   "id": "3bb40893-bf4f-4e34-97b0-caeaceac5f6d",
   "metadata": {},
   "source": [
    "all() function:<br>\n",
    "The all() function returns True if all elements in the iterable are truthy (i.e., evaluate to True).<br>\n",
    "If at least one element in the iterable is falsy (i.e., evaluates to False), \n",
    "the function returns False."
   ]
  },
  {
   "cell_type": "code",
   "execution_count": 25,
   "id": "73125bf3-65f2-4e52-9294-63a391f0e501",
   "metadata": {},
   "outputs": [],
   "source": [
    "# The general syntax of the all() function is as follows:\n",
    "# all(iterable)\n",
    "# iterable: The iterable (e.g., list, tuple, set) that you want to evaluate."
   ]
  },
  {
   "cell_type": "code",
   "execution_count": 24,
   "id": "53e62c86-ad60-4dbc-8a01-6be37b0bf24b",
   "metadata": {},
   "outputs": [
    {
     "name": "stdout",
     "output_type": "stream",
     "text": [
      "True\n"
     ]
    }
   ],
   "source": [
    "numbers = [2, 4, 6, 8, 10]\n",
    "\n",
    "# Using all() to check if all numbers in the list are even\n",
    "result = all(num % 2 == 0 for num in numbers)\n",
    "\n",
    "print(result)  # Output: True (all numbers are even)"
   ]
  },
  {
   "cell_type": "markdown",
   "id": "0e85aa21-d624-4e68-8eb7-74aa2969ed4d",
   "metadata": {},
   "source": [
    "any() function:<br>\n",
    "The any() function returns True if at least one element in the iterable is truthy (i.e., evaluates to True). <br>\n",
    "If all elements in the iterable are falsy (i.e., evaluate to False), the function returns False."
   ]
  },
  {
   "cell_type": "code",
   "execution_count": 26,
   "id": "a0369628-0666-4a51-8aea-4d58bb5934d5",
   "metadata": {},
   "outputs": [],
   "source": [
    "# The general syntax of the any() function is as follows:\n",
    "# any(iterable)"
   ]
  },
  {
   "cell_type": "code",
   "execution_count": 27,
   "id": "064edb8d-e0bd-41af-b128-856cd94fd994",
   "metadata": {},
   "outputs": [
    {
     "name": "stdout",
     "output_type": "stream",
     "text": [
      "True\n"
     ]
    }
   ],
   "source": [
    "numbers = [1, 2, 3, 4, 5]\n",
    "\n",
    "# Using any() to check if any number in the list is even\n",
    "result = any(num % 2 == 0 for num in numbers)\n",
    "\n",
    "print(result)  # Output: True (at least one number is even)"
   ]
  }
 ],
 "metadata": {
  "kernelspec": {
   "display_name": "Python 3 (ipykernel)",
   "language": "python",
   "name": "python3"
  },
  "language_info": {
   "codemirror_mode": {
    "name": "ipython",
    "version": 3
   },
   "file_extension": ".py",
   "mimetype": "text/x-python",
   "name": "python",
   "nbconvert_exporter": "python",
   "pygments_lexer": "ipython3",
   "version": "3.11.2"
  }
 },
 "nbformat": 4,
 "nbformat_minor": 5
}
