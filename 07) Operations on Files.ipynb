{
 "cells": [
  {
   "cell_type": "markdown",
   "id": "00d7d1c3-4eb0-46df-85fe-ba58b9281be4",
   "metadata": {},
   "source": [
    "# FILES"
   ]
  },
  {
   "cell_type": "markdown",
   "id": "d2316f0b-5f84-49c7-a1e7-5493894aac53",
   "metadata": {},
   "source": [
    "### In Python, file objects are used to interact with files. They allow you to read data from files, write data to files, or perform other operations on files. File objects provide methods and attributes that enable you to work with files efficiently.Here's an example of how to use file objects in Python: --> --> -->"
   ]
  },
  {
   "cell_type": "code",
   "execution_count": null,
   "id": "fdb3733e-c1f6-4a4d-bf26-26ffe9e972fc",
   "metadata": {},
   "outputs": [],
   "source": [
    "# Open a file for reading\n",
    "file_path = \"/path/to/file.txt\"\n",
    "file = open(file_path, \"r\")\n",
    "\n",
    "# Read the contents of the file\n",
    "content = file.read()\n",
    "print(content)\n",
    "\n",
    "# Close the file\n",
    "file.close()"
   ]
  },
  {
   "cell_type": "markdown",
   "id": "059e41e4-59b7-430f-8010-a1211a02e810",
   "metadata": {},
   "source": [
    "### In this example, we first open a file using the built-in \"open()\" function. The first argument is the file path, and the second argument is the mode. \"r\" indicates that we want to open the file in read mode. Other common modes include \"w\" for write mode and \"a\" for append mode."
   ]
  },
  {
   "cell_type": "markdown",
   "id": "b1368a50-e7d1-4574-ad3c-fddcddd1e95a",
   "metadata": {},
   "source": [
    "### Once the file is open, we can read its contents using the \"read()\" method. This method reads the entire content of the file as a string. After we finish working with the file, it's important to close it using the \"close()\" method. Closing the file ensures that any resources associated with the file are properly released.d."
   ]
  },
  {
   "cell_type": "code",
   "execution_count": null,
   "id": "7cbaa64f-c4eb-4317-a544-a209d5913a37",
   "metadata": {},
   "outputs": [],
   "source": []
  },
  {
   "cell_type": "markdown",
   "id": "bd82032c-b683-4ae8-80a4-db8c9d46b479",
   "metadata": {},
   "source": [
    "'r' - Open the file for reading.\n",
    "'w' - Open the file for writing.\n",
    "'a' - Open the file for appending.\n",
    "'r+' - Open the file for reading and writing."
   ]
  },
  {
   "cell_type": "code",
   "execution_count": null,
   "id": "f6de37bc-4f3d-44bd-9091-0a133899c066",
   "metadata": {},
   "outputs": [],
   "source": [
    "# Writing to a file:\n",
    "file_path = \"/path/to/file.txt\"\n",
    "file = open(file_path, \"w\")\n",
    "file.write(\"Hello, World!\")\n",
    "file.close()\n",
    "\n",
    "# Appending to a file:\n",
    "file_path = \"/path/to/file.txt\"\n",
    "file = open(file_path, \"a\")\n",
    "file.write(\"This is an appended line.\")\n",
    "file.close()\n",
    "\n",
    "# Reading lines from a file:\n",
    "file_path = \"/path/to/file.txt\"\n",
    "file = open(file_path, \"r\")\n",
    "lines = file.readlines()\n",
    "file.close()\n",
    "\n",
    "for line in lines:\n",
    "    print(line)\n",
    "\n",
    "# Seeking within a file:\n",
    "file_path = \"/path/to/file.txt\"\n",
    "file = open(file_path, \"r\")\n",
    "file.seek(10)  # Move the file pointer to the 10th byte\n",
    "content = file.read()\n",
    "file.close()\n",
    "\n",
    "print(content)\n",
    "# In the last example, we use the seek() method to move the file pointer to a specific position within the file before reading its contents."
   ]
  },
  {
   "cell_type": "markdown",
   "id": "c1a313d8-f9c0-4849-9421-7fb4f4bcea44",
   "metadata": {},
   "source": [
    "### Remember to handle exceptions and close the file properly to ensure efficient and safe file handling. Alternatively, you can use a with statement, which automatically closes the file for you. Using the with statement ensures that the file is automatically closed when you are done with it, even if an exception occurs."
   ]
  },
  {
   "cell_type": "code",
   "execution_count": null,
   "id": "f4c76cdf-f462-40a3-b7b9-f09ecb314968",
   "metadata": {},
   "outputs": [],
   "source": [
    "file_path = \"/path/to/file.txt\"\n",
    "with open(file_path, \"r\") as file:\n",
    "    content = file.read()\n",
    "\n",
    "print(content)"
   ]
  },
  {
   "cell_type": "code",
   "execution_count": null,
   "id": "83118167-36da-4574-8b43-1a4b4808a2a0",
   "metadata": {},
   "outputs": [],
   "source": [
    "# mode() method shows us in what mode file is running.\n",
    "f = open(\"test.txt\", \"r\")\n",
    "print(f.mode())\n",
    "f.close()"
   ]
  },
  {
   "cell_type": "markdown",
   "id": "45bd9676-b0a1-49fe-92e2-e0169c292740",
   "metadata": {},
   "source": [
    "### f_contents = f.read()   #items in the file are assigned to f_contents.\n",
    "### f_contents = f.readlines()   # items in the file are assigned to f_contents as a list. Every lines contains \"\\n\" at the end of the sentence. To remove them, use  print(line.strip())  # Strip newline character from each line\n",
    "### f_contents = f.readline()   # a line in the file is assigned to f_contents. Whenever we call f.readline() command, the next line will be assigned"
   ]
  },
  {
   "cell_type": "code",
   "execution_count": null,
   "id": "fe8f83a7-06a5-444b-82f9-4a1c6f13da84",
   "metadata": {},
   "outputs": [],
   "source": [
    "with open(\"test.txt\", \"r\") as f:\n",
    "    f_contents = f.readline()\n",
    "    print(f_contents, end=\"\") # The reason why we write end=\"\" is removing space between outputs. Otherwise, line outputs will be spaced between them.\n",
    "    f_contents = f.readline()\n",
    "    print(f_contents, end=\"\")\n",
    "    ...\n",
    "\n",
    "with open(\"test.txt\", \"r\") as f:\n",
    "    for line in f:\n",
    "        print(line, end=\"\")    # this is a better way to write the file rather than the above.\n",
    "\n",
    "\n",
    "#in this example, the value in the read(#) paranthesis limits the characters to the number. In the while loop every time we call  \"f_contents = f.read(size_to_open)\" command, \\\n",
    "#it will continue where its left off untill the there is no line remained.\n",
    "with open(\"test.txt\", \"r\") as f:\n",
    "    size_to_open = 100\n",
    "    f_contents = f.read(size_to_open)\n",
    "    while len(f_contents)>0:\n",
    "        print(f_contents, end=\"\")  # you can add any char in end=\"\" so that in every \"size_to_open\" chunks, there will be the char we want.\n",
    "        f_contents = f.read(size_to_open)"
   ]
  },
  {
   "cell_type": "markdown",
   "id": "ccf0f95b-334d-4177-9134-9c3feac605e4",
   "metadata": {},
   "source": [
    "### Delete Method for Filese"
   ]
  },
  {
   "cell_type": "code",
   "execution_count": null,
   "id": "62c76054-5164-4769-a78b-e95682c8d30b",
   "metadata": {},
   "outputs": [],
   "source": [
    "file_path = \"/path/to/file.txt\"\n",
    "\n",
    "with open(file_path, \"r\") as file:\n",
    "    lines = file.readlines()\n",
    "\n",
    "# Modify the desired portion (delete characters from 4th to 50th)\n",
    "modified_lines = []\n",
    "for line in lines:\n",
    "    modified_line = line[:3] + line[50:]\n",
    "    modified_lines.append(modified_line)\n",
    "\n",
    "with open(file_path, \"w\") as file:\n",
    "    file.writelines(modified_lines)"
   ]
  },
  {
   "cell_type": "markdown",
   "id": "c4b7bd9d-1681-41f9-8513-e53692c58063",
   "metadata": {},
   "source": [
    "### Picture Files"
   ]
  },
  {
   "cell_type": "code",
   "execution_count": null,
   "id": "c83f6028-26f3-441f-9e0f-d8c9b93737ca",
   "metadata": {},
   "outputs": [],
   "source": [
    "with open(\"my_picture.png\", \"rb\") as rf:\n",
    "    with open(\"my_picture_copy.png\", \"wb\") as wf:\n",
    "        for line in rf:\n",
    "            wf.write(line)\n",
    "# if we run the code above, we will get an error since the code is not compatible with png or jpg files.\n",
    "# to solve the problem, use read and write methods in binary system. \n",
    "with open(\"my_picture.png\", \"rb\") as rf:\n",
    "    with open(\"my_picture_copy.png\", \"wb\") as wf:\n",
    "        for line in rf:\n",
    "            wf.write(line)\n",
    "\n",
    "#alternative way:\n",
    "with open(\"test_file.txt\",\"r\") as f:\n",
    "    size_to_open = 1\n",
    "    f_contents = f.read(size_to_open)\n",
    "    while len(f_contents) > 0:\n",
    "        print(f_contents, end=\"*\")\n",
    "        f_contents = f.read(size_to_open)\n",
    "# same logic as we had before."
   ]
  },
  {
   "cell_type": "markdown",
   "id": "3d8b3cf7-40c4-4258-b6ed-fd6f9801d8dd",
   "metadata": {},
   "source": [
    "NOTE: 'a+'when this mode used, it creates a new file if there is not a file that name otherwise it appends to the existing file. Here is an example: "
   ]
  },
  {
   "cell_type": "code",
   "execution_count": null,
   "id": "0f22a81f-172a-4372-8a38-5f71453d32ed",
   "metadata": {},
   "outputs": [],
   "source": [
    "file_name = \"data.txt\"\n",
    "\n",
    "with open(file_name, 'a+') as file:\n",
    "    dosya.write(\"new data appended\\n\")\n",
    "\n",
    "    # read file\n",
    "    file.seek(0)\n",
    "    content = file.read()\n",
    "    print(content)\n"
   ]
  }
 ],
 "metadata": {
  "kernelspec": {
   "display_name": "Python 3 (ipykernel)",
   "language": "python",
   "name": "python3"
  },
  "language_info": {
   "codemirror_mode": {
    "name": "ipython",
    "version": 3
   },
   "file_extension": ".py",
   "mimetype": "text/x-python",
   "name": "python",
   "nbconvert_exporter": "python",
   "pygments_lexer": "ipython3",
   "version": "3.11.2"
  }
 },
 "nbformat": 4,
 "nbformat_minor": 5
}
