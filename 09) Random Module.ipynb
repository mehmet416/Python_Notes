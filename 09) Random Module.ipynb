{
 "cells": [
  {
   "cell_type": "markdown",
   "id": "185dea4b-f2ed-41d4-81dc-229fe82d5126",
   "metadata": {},
   "source": [
    "# RANDOM MODULE"
   ]
  },
  {
   "cell_type": "code",
   "execution_count": 5,
   "id": "482b5236-a99b-429f-81bc-5a6471b1a20f",
   "metadata": {},
   "outputs": [
    {
     "name": "stdout",
     "output_type": "stream",
     "text": [
      "0.992125552212487\n"
     ]
    }
   ],
   "source": [
    "# random() gives a float number between 0-1.\n",
    "import random\n",
    "number = random.random()\n",
    "print(number)"
   ]
  },
  {
   "cell_type": "code",
   "execution_count": null,
   "id": "42aea133-fd3b-4899-b6e1-3b46968fa70c",
   "metadata": {},
   "outputs": [],
   "source": [
    "# uniform() gives a float number between a stated range including border numbers."
   ]
  },
  {
   "cell_type": "code",
   "execution_count": 6,
   "id": "4036cc41-fc29-43dc-b438-1ec038032cde",
   "metadata": {},
   "outputs": [
    {
     "name": "stdout",
     "output_type": "stream",
     "text": [
      "5.363457347481832\n"
     ]
    }
   ],
   "source": [
    "import random\n",
    "number = random.uniform(1,10)\n",
    "print(number)"
   ]
  },
  {
   "cell_type": "code",
   "execution_count": 7,
   "id": "aaa00ad7-464c-43d0-8fe0-8335240a6603",
   "metadata": {},
   "outputs": [
    {
     "name": "stdout",
     "output_type": "stream",
     "text": [
      "2\n"
     ]
    }
   ],
   "source": [
    "# randint() gives a integer between a stated range including border numbers.\n",
    "import random\n",
    "number = random.randint(1,10)\n",
    "print(number)"
   ]
  },
  {
   "cell_type": "code",
   "execution_count": 8,
   "id": "984148e9-5502-4c83-b671-71c474ede5a7",
   "metadata": {},
   "outputs": [
    {
     "name": "stdout",
     "output_type": "stream",
     "text": [
      "kiwi\n"
     ]
    }
   ],
   "source": [
    "# choice() chooses an item from a list.\n",
    "import random\n",
    "fruits = [\"apple\",\"plum\",\"kiwi\",\"watermelon\",\"orange\"]\n",
    "f_chosen= random.choice(fruits)\n",
    "print(f_chosen)"
   ]
  },
  {
   "cell_type": "code",
   "execution_count": 11,
   "id": "63ce29e6-1732-42dc-b26e-1f16aa0869fa",
   "metadata": {},
   "outputs": [
    {
     "name": "stdout",
     "output_type": "stream",
     "text": [
      "['watermelon', 'watermelon']\n"
     ]
    }
   ],
   "source": [
    "# choices() chooses multiple items from a list\n",
    "import random\n",
    "fruits = [\"apple\",\"plum\",\"kiwi\",\"watermelon\",\"orange\"]\n",
    "f_chosen= random.choices(fruits, k=2) # note that choices are independent so they can be same.\n",
    "print(f_chosen)"
   ]
  },
  {
   "cell_type": "code",
   "execution_count": 13,
   "id": "11f4eacb-8532-478f-9321-f605eaf4ccf6",
   "metadata": {},
   "outputs": [
    {
     "name": "stdout",
     "output_type": "stream",
     "text": [
      "['red', 'red', 'red', 'black', 'green', 'black', 'red', 'black', 'black', 'black']\n"
     ]
    }
   ],
   "source": [
    "#we can adjust probability of an item by using weights=[] method\n",
    "colors = [\"red\",\"black\",\"green\"]\n",
    "c_chosen= random.choices(colors, k=10, weights=[6,6,2]) #probability of red = 6/14, black = 6/14, green = 2/14. \n",
    "print(c_chosen)"
   ]
  },
  {
   "cell_type": "code",
   "execution_count": 16,
   "id": "8706aee5-722b-413a-9ca8-45077b9f58d8",
   "metadata": {},
   "outputs": [
    {
     "name": "stdout",
     "output_type": "stream",
     "text": [
      "[8, 3, 4, 15, 10, 12, 5, 18, 31, 16, 6, 33, 2, 41, 38, 39, 35, 7, 9, 46, 22, 37, 45, 1, 43, 49, 13, 27, 21, 24, 28, 20, 34, 42, 25, 11, 40, 36, 30, 32, 14, 23, 48, 17, 47, 26, 29, 19, 50, 44]\n"
     ]
    }
   ],
   "source": [
    "# shuffle() mixes a list.\n",
    "nums = [i for i in range(1,51)]\n",
    "random.shuffle(nums)\n",
    "print(nums)"
   ]
  },
  {
   "cell_type": "code",
   "execution_count": 20,
   "id": "7c577d6a-8c1a-401b-b8c6-8e9686d23948",
   "metadata": {},
   "outputs": [
    {
     "name": "stdout",
     "output_type": "stream",
     "text": [
      "[4, 47, 42, 23, 49]\n"
     ]
    }
   ],
   "source": [
    "# sample() pulls multiple different samples from a list.\n",
    "hand = random.sample(nums, k=5)\n",
    "print(hand)"
   ]
  },
  {
   "cell_type": "markdown",
   "id": "601de829-9439-434a-b8e4-7b0c478bf855",
   "metadata": {},
   "source": [
    "### seed() method is used to initialize the pseudo-random number generator. It allows you to set a starting point for the random number sequence, ensuring that you get the same sequence of random numbers each time you run the program with the same seed value."
   ]
  },
  {
   "cell_type": "code",
   "execution_count": 39,
   "id": "c491f339-d2ff-4aa5-8b6b-288ceb1faf92",
   "metadata": {},
   "outputs": [
    {
     "name": "stdout",
     "output_type": "stream",
     "text": [
      "3\n",
      "10\n",
      "14\n"
     ]
    }
   ],
   "source": [
    "import random\n",
    "random.seed(1)\n",
    "print(random.randint(1,15))\n",
    "print(random.randint(1,15))\n",
    "print(random.randint(1,15)) # every time you run code, the outputs will be the same."
   ]
  }
 ],
 "metadata": {
  "kernelspec": {
   "display_name": "Python 3 (ipykernel)",
   "language": "python",
   "name": "python3"
  },
  "language_info": {
   "codemirror_mode": {
    "name": "ipython",
    "version": 3
   },
   "file_extension": ".py",
   "mimetype": "text/x-python",
   "name": "python",
   "nbconvert_exporter": "python",
   "pygments_lexer": "ipython3",
   "version": "3.11.2"
  }
 },
 "nbformat": 4,
 "nbformat_minor": 5
}
