{
 "cells": [
  {
   "cell_type": "markdown",
   "id": "3e2e861d-4754-419b-9a18-ed778e3ed600",
   "metadata": {},
   "source": [
    "# SQLITE3 MODULE / SQL DATABASES"
   ]
  },
  {
   "cell_type": "markdown",
   "id": "3a424a1f-c804-4d5d-afab-aac2b8709184",
   "metadata": {},
   "source": [
    "\n",
    "The sqlite3 module in Python provides an interface to work with SQLite databases. SQLite is a lightweight, serverless, self-contained, and file-based database engine, making it easy to integrate into Python applications. The sqlite3 module allows you to create, manage, and interact with SQLite databases using SQL commands."
   ]
  },
  {
   "cell_type": "markdown",
   "id": "7d48bc50-80d6-4e23-a2a1-33343adfd0f2",
   "metadata": {},
   "source": [
    "### 1) Constructing a Database and Tables"
   ]
  },
  {
   "cell_type": "markdown",
   "id": "365eb445-bdbc-4013-acc8-8809409be305",
   "metadata": {},
   "source": [
    "connect() method:<br>\n",
    "The connect() method is used to establish a connection to an SQLite database. It takes the database file path as an argument and returns a connection object that allows you to interact with the database."
   ]
  },
  {
   "cell_type": "code",
   "execution_count": null,
   "id": "3a7f9698-46e9-4852-91ac-061d607c3844",
   "metadata": {},
   "outputs": [],
   "source": [
    "import sqlite3\n",
    "\n",
    "# Connect to an SQLite database (creates the database if it doesn't exist)\n",
    "conn = sqlite3.connect(\"my_database.db\")"
   ]
  },
  {
   "cell_type": "markdown",
   "id": "1b9efe17-0a3d-4337-9118-3df56b6cc857",
   "metadata": {},
   "source": [
    "cursor() method:<br>\n",
    "The cursor() method is used to create a cursor object that allows you to execute SQL commands and fetch results from the database."
   ]
  },
  {
   "cell_type": "code",
   "execution_count": null,
   "id": "81357bd7-9793-4473-9bec-420c9c000fee",
   "metadata": {},
   "outputs": [],
   "source": [
    "import sqlite3\n",
    "\n",
    "# Connect to the database\n",
    "conn = sqlite3.connect(\"my_database.db\")\n",
    "\n",
    "# Create a cursor object\n",
    "cursor = conn.cursor()"
   ]
  },
  {
   "cell_type": "markdown",
   "id": "8b725a9c-fd49-478d-a688-6762cb361566",
   "metadata": {},
   "source": [
    "close() method:<br>\n",
    "The close() method is used to close the database connection and release any associated resources. The process is like what we do when working with files. When creating a database,\n",
    "do not forget to close it."
   ]
  },
  {
   "cell_type": "code",
   "execution_count": null,
   "id": "7d1e43e6-7139-45ef-9c1a-397d29157c89",
   "metadata": {},
   "outputs": [],
   "source": [
    "import sqlite3\n",
    "# This example is a general structrue of database processes\n",
    "\n",
    "# Connect to the database\n",
    "conn = sqlite3.connect(\"my_database.db\")\n",
    "\n",
    "# Create a cursor object\n",
    "cursor = conn.cursor()\n",
    "\n",
    "# ... Perform operations ...\n",
    "\n",
    "# Close the connection\n",
    "conn.close()"
   ]
  },
  {
   "cell_type": "markdown",
   "id": "fc0fc481-cc70-4ece-bf2f-76881cd17fe4",
   "metadata": {},
   "source": [
    "execute() method:<br>\n",
    "The execute() method is used to execute an SQL query or command. It takes an SQL query string as an argument and can be used to create tables, insert data, update data, and more."
   ]
  },
  {
   "cell_type": "code",
   "execution_count": null,
   "id": "8ae7a4e7-1ff1-4c53-9a2b-b33d3e79c333",
   "metadata": {},
   "outputs": [],
   "source": [
    "import sqlite3\n",
    "\n",
    "# Connect to the database\n",
    "conn = sqlite3.connect(\"my_database.db\")\n",
    "\n",
    "# Create a cursor object\n",
    "cursor = conn.cursor()\n",
    "\n",
    "# Execute an SQL query to create a table\n",
    "cursor.execute(\"CREATE TABLE students (id INTEGER PRIMARY KEY, name TEXT, age INTEGER)\")"
   ]
  },
  {
   "cell_type": "markdown",
   "id": "0fae3bd2-dbac-44a9-a8ed-fac5433df7ad",
   "metadata": {},
   "source": [
    " You can also create table in that way:"
   ]
  },
  {
   "cell_type": "code",
   "execution_count": null,
   "id": "4c0e3fd2-720e-42cb-8537-3ad1c4d61e2d",
   "metadata": {},
   "outputs": [],
   "source": [
    "# You can also create table in that way: \n",
    "import sqlite3\n",
    "\n",
    "# Connect to the database\n",
    "conn = sqlite3.connect(\"my_database.db\")\n",
    "\n",
    "# Create a cursor object\n",
    "cursor = conn.cursor()\n",
    "\n",
    "# Execute an SQL query to create a table\n",
    "cursor.execute(\"\"\"CREATE TABLE students (\n",
    "                  id INTEGER PRIMARY KEY,\n",
    "                  name TEXT,\n",
    "                  age INTEGER\n",
    "                  )\"\"\")"
   ]
  },
  {
   "cell_type": "markdown",
   "id": "636a7988-7904-4825-a536-a8a396023f12",
   "metadata": {},
   "source": [
    "### 2) Inserting, Deleting, and Updating Data "
   ]
  },
  {
   "cell_type": "markdown",
   "id": "d80cf054-7e73-4428-87f5-58509bd934d4",
   "metadata": {},
   "source": [
    "execute() method:<br>\n",
    "The execute() method is used to execute an SQL query or command. It takes an SQL query string as an argument and can be used to create tables, insert data, update data, and more."
   ]
  },
  {
   "cell_type": "code",
   "execution_count": null,
   "id": "bd76095f-3f6b-4f74-8b08-931be27b8475",
   "metadata": {},
   "outputs": [],
   "source": [
    "import sqlite3\n",
    "\n",
    "# Connect to the database\n",
    "conn = sqlite3.connect(\"my_database.db\")\n",
    "\n",
    "# Create a cursor object\n",
    "cursor = conn.cursor()\n",
    "\n",
    "# Execute an SQL query to create a table\n",
    "cursor.execute(\"CREATE TABLE students (id INTEGER PRIMARY KEY, name TEXT, age INTEGER)\")"
   ]
  },
  {
   "cell_type": "markdown",
   "id": "c7a8c229-5c26-4b32-8bd9-b31ee76cc9b8",
   "metadata": {},
   "source": [
    "Here are some of the common SQL statements you can use with the execute() method:"
   ]
  },
  {
   "cell_type": "code",
   "execution_count": null,
   "id": "94f8f246-71fb-4ac8-aba5-dc4e2e9f38b0",
   "metadata": {},
   "outputs": [],
   "source": [
    "# You can use the CREATE TABLE statement to create a new table in the database.\n",
    "import sqlite3\n",
    "\n",
    "# Connect to the database\n",
    "conn = sqlite3.connect(\"my_database.db\")\n",
    "\n",
    "# Create a cursor object\n",
    "cursor = conn.cursor()\n",
    "\n",
    "# Execute an SQL query to create a table\n",
    "cursor.execute(\"CREATE TABLE students (id INTEGER PRIMARY KEY, name TEXT, age INTEGER)\")\n",
    "# You can use CREATE TABLE IF NOT EXIST command to escape from name errors. \n",
    "-------------------------------------\n",
    "\n",
    "# You can use the INSERT INTO statement to insert data into a table.\n",
    "import sqlite3\n",
    "\n",
    "# Connect to the database\n",
    "conn = sqlite3.connect(\"my_database.db\")\n",
    "\n",
    "# Create a cursor object\n",
    "cursor = conn.cursor()\n",
    "\n",
    "# Execute an SQL query to insert data into the table\n",
    "cursor.execute(\"INSERT INTO students (name, age) VALUES ('Alice', 25)\")\n",
    "-------------------------------------\n",
    "\n",
    "# You can use the UPDATE statement to modify existing data in a table.\n",
    "import sqlite3\n",
    "\n",
    "# Connect to the database\n",
    "conn = sqlite3.connect(\"my_database.db\")\n",
    "\n",
    "# Create a cursor object\n",
    "cursor = conn.cursor()\n",
    "\n",
    "# Execute an SQL query to update data in the table\n",
    "cursor.execute(\"UPDATE students SET age = 26 WHERE name = 'Alice'\")  \n",
    "\n",
    "# An alternative way:\n",
    "age = 26\n",
    "name = 'Alice'\"\n",
    "cursor.execute(\"UPDATE students SET age = ? WHERE name = ?\", (age, name)) \n",
    "-------------------------------------\n",
    "\n",
    "# You can use the DELETE FROM statement to remove data from a table.\n",
    "import sqlite3\n",
    "\n",
    "# Connect to the database\n",
    "conn = sqlite3.connect(\"my_database.db\")\n",
    "\n",
    "# Create a cursor object\n",
    "cursor = conn.cursor()\n",
    "\n",
    "# Execute an SQL query to delete data from the table\n",
    "cursor.execute(\"DELETE FROM students WHERE age > 30\")\n",
    "\n",
    "# An alternative way:\n",
    "age = 30\n",
    "cursor.execute(\"DELETE FROM students WHERE age > ?\", (age,))\n",
    "-------------------------------------"
   ]
  },
  {
   "cell_type": "markdown",
   "id": "3de06ace-505f-46ed-ad42-6e9897187626",
   "metadata": {},
   "source": [
    "METHODS FOR INSERTING FROM ARGUMENTS\n",
    "\n",
    "When inserting data into a database using SQL queries, you have two common approaches: using parameterized queries with placeholders (often represented by ?), or using string formatting (such as f-strings). The choice between these two approaches depends on security, efficiency, and readability considerations."
   ]
  },
  {
   "cell_type": "markdown",
   "id": "81bfd6c9-2b44-4f41-addb-1e3d7724968d",
   "metadata": {},
   "source": [
    "1) String Formatting (f-strings):<br>\n",
    "String formatting using f-strings can also be used to insert data into an SQL query. However, this approach is less recommended because it may expose your code to SQL injection attacks if the data is not properly sanitized. When using string formatting, you need to be cautious and ensure that the data is sanitized and properly escaped before inserting it into the query."
   ]
  },
  {
   "cell_type": "code",
   "execution_count": null,
   "id": "5d2ad430-42a1-4a82-bed8-e00d1b9c5eba",
   "metadata": {},
   "outputs": [],
   "source": [
    "import sqlite3\n",
    "# not recommended for inserting data\n",
    "# Connect to the database\n",
    "conn = sqlite3.connect(\"my_database.db\")\n",
    "\n",
    "# Create a cursor object\n",
    "cursor = conn.cursor()\n",
    "\n",
    "# Data to be inserted\n",
    "name = \"Alice\"\n",
    "age = 25\n",
    "\n",
    "# Not recommended (vulnerable to SQL injection)\n",
    "cursor.execute(f\"INSERT INTO students (name, age) VALUES ('{name}', {age})\")\n",
    "\n",
    "# Commit the changes\n",
    "conn.commit()"
   ]
  },
  {
   "cell_type": "markdown",
   "id": "81a77891-9cbf-418f-be34-92d7b301ba0c",
   "metadata": {},
   "source": [
    "2) Parameterized Queries with Placeholders (?):<br>\n",
    "Parameterized queries use placeholders like ? in the SQL statement to represent values that will be supplied later. This approach is also known as parameter binding or prepared statements. It helps prevent SQL injection attacks and ensures proper escaping and handling of special characters in the data. Using parameterized queries is generally more secure and recommended when dealing with user inputs or external data."
   ]
  },
  {
   "cell_type": "code",
   "execution_count": null,
   "id": "fa82050c-bc2e-4dfe-bb6b-d53af6aee70b",
   "metadata": {},
   "outputs": [],
   "source": [
    "import sqlite3\n",
    "\n",
    "# Connect to the database\n",
    "conn = sqlite3.connect(\"my_database.db\")\n",
    "\n",
    "# Create a cursor object\n",
    "cursor = conn.cursor()\n",
    "\n",
    "# Data to be inserted\n",
    "name = \"Alice\"\n",
    "age = 25\n",
    "\n",
    "# Execute an SQL query with placeholders\n",
    "cursor.execute(\"INSERT INTO students (name, age) VALUES (?, ?)\", (name, age))\n",
    "\n",
    "# Commit the changes\n",
    "conn.commit()"
   ]
  },
  {
   "cell_type": "markdown",
   "id": "57525593-9679-40a8-b239-18b3f287eb2d",
   "metadata": {},
   "source": [
    "### 3) Pulling Data From a Database"
   ]
  },
  {
   "cell_type": "markdown",
   "id": "0e635e7b-d51c-4140-abe6-e447b21be2e5",
   "metadata": {},
   "source": [
    "You can use the SELECT statement to retrieve data from a table."
   ]
  },
  {
   "cell_type": "markdown",
   "id": "28a79fe8-fd60-47df-8675-823ef28db45c",
   "metadata": {},
   "source": [
    "SELECT * FROM : selects all data<br>\n",
    "SELECT arg1, arg2 FROM: selects arguments we want<br>\n",
    "SELECT * FROM database WHERE condition: selects arguments under a condition"
   ]
  },
  {
   "cell_type": "markdown",
   "id": "f1c62414-acf5-4462-b520-df3ecebd5dfe",
   "metadata": {},
   "source": [
    "fetchall() method:<br>\n",
    "The fetchall() method is used to retrieve all the rows resulting from an SQL query as a list of tuples"
   ]
  },
  {
   "cell_type": "code",
   "execution_count": null,
   "id": "ae07ed01-aa59-4d28-a999-54ac05a4b55e",
   "metadata": {},
   "outputs": [],
   "source": [
    "import sqlite3\n",
    "\n",
    "# Connect to the database\n",
    "conn = sqlite3.connect(\"my_database.db\")\n",
    "\n",
    "# Create a cursor object\n",
    "cursor = conn.cursor()\n",
    "\n",
    "# Execute an SQL query to fetch data from the table\n",
    "cursor.execute(\"SELECT * FROM students\")\n",
    "\n",
    "# Fetch all rows\n",
    "rows = cursor.fetchall()\n",
    "\n",
    "# Print the results\n",
    "for row in rows:\n",
    "    print(row)"
   ]
  },
  {
   "cell_type": "markdown",
   "id": "4685a2b0-c8ec-4076-aabb-005202196578",
   "metadata": {},
   "source": [
    "Fetch Methods:<br>\n",
    "\n",
    "fetchall() method:<br>\n",
    "The fetchall() method is used to retrieve all the rows resulting from an SQL query. It returns a list of tuples, where each tuple represents a row in the query result.\n",
    "\n",
    "fetchone() method:<br>\n",
    "The fetchone() method is used to retrieve a single row from the query result. It returns a tuple representing the first row returned by the query. If there are no more rows to fetch, it returns None.\n",
    "\n",
    "fetchmany(size) method:<br>\n",
    "The fetchmany() method is used to retrieve a specific number of rows from the query result. It takes an optional size parameter that specifies the maximum number of rows to fetch. If no size is specified, it fetches the number of rows defined by the arraysize attribute of the cursor (which is 1 by default)."
   ]
  },
  {
   "cell_type": "markdown",
   "id": "eccb4477-2943-4436-b374-333152380478",
   "metadata": {},
   "source": [
    "A General Example"
   ]
  },
  {
   "cell_type": "code",
   "execution_count": null,
   "id": "84265c15-e8a0-4ed4-8937-6671228700dd",
   "metadata": {},
   "outputs": [],
   "source": [
    "import sqlite3\n",
    "con = sqlite3.connect('sample.db')\n",
    "c = con.curser()\n",
    "\n",
    "def creating_table(table_name):\n",
    "    c.execute('CREATE TABLE IF NOT EXISTS ' + table_name + '(id INT, name TEXT, age INT)')\n",
    "\n",
    "def insert_to_table(id, name, age, table_name):\n",
    "    c.execute('INSERT INTO ' + table_name + ' VALUES(?, ?, ?)', (id, name, age))\n",
    "    con.commit()\n",
    "\n",
    "def delete_from_table(id, table_name):\n",
    "    c.execute('DELETE FROM ' + table_name + ' WHERE id=?', (id,))\n",
    "    con.commit()\n",
    "\n",
    "def update_table(id, name, age, table_name):\n",
    "    c.execute('UPDATE ' + table_name + ' SET name=?, age=? WHERE id=?', (name, age, id))\n",
    "    con.commit()\n",
    "\n",
    "def read_from_table(table_name):\n",
    "    c.execute('SELECT * FROM ' + table_name)\n",
    "    data = c.fetchall()\n",
    "    for row in data:\n",
    "        print(row)\n",
    "        \n",
    "def find_name(table_name, name):\n",
    "    c.execute('SELECT * FROM ' + table_name + ' WHERE name=?', (name,))\n",
    "    data = c.fetchall()\n",
    "    for row in data:\n",
    "        print(row)"
   ]
  }
 ],
 "metadata": {
  "kernelspec": {
   "display_name": "Python 3 (ipykernel)",
   "language": "python",
   "name": "python3"
  },
  "language_info": {
   "codemirror_mode": {
    "name": "ipython",
    "version": 3
   },
   "file_extension": ".py",
   "mimetype": "text/x-python",
   "name": "python",
   "nbconvert_exporter": "python",
   "pygments_lexer": "ipython3",
   "version": "3.11.2"
  }
 },
 "nbformat": 4,
 "nbformat_minor": 5
}
