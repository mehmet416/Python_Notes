{
 "cells": [
  {
   "cell_type": "markdown",
   "id": "b23bd6ce-26a9-4c8e-8fcb-b5af45d1bfa7",
   "metadata": {},
   "source": [
    "# REQUESTS AND BEAUTIFULSOUP MODULES AND WEB SCRAPING"
   ]
  },
  {
   "cell_type": "markdown",
   "id": "f65239f0-b021-4834-82d7-1b9161ad8573",
   "metadata": {},
   "source": [
    "Before using requests and BeautifulSoup modules, it is important to know some basic html tags. Here are some of them:"
   ]
  },
  {
   "cell_type": "code",
   "execution_count": null,
   "id": "4c014cdb-5b75-44a5-81ba-dc9462ea6ff7",
   "metadata": {},
   "outputs": [],
   "source": [
    "<div> Tag:\n",
    "Purpose: Used to create a block-level section in an HTML document.\n",
    "Example:\n",
    "<div>\n",
    "    This is a block-level section.\n",
    "</div>\n"
   ]
  },
  {
   "cell_type": "code",
   "execution_count": null,
   "id": "0b15de0a-25e6-4f62-abe4-d62c0965fc60",
   "metadata": {},
   "outputs": [],
   "source": [
    "<table> Tag:\n",
    "Purpose: Used to create an HTML table.\n",
    "\n",
    "<td> Tag:\n",
    "Purpose: Represents a table data cell in an HTML table.\n",
    "\n",
    "<tr> Tag:\n",
    "Purpose: Represents a table row in an HTML table.\n",
    "    \n",
    "Example:\n",
    "html\n",
    "Copy code\n",
    "<table>\n",
    "    <tr>\n",
    "        <td>Row 1, Cell 1</td>\n",
    "        <td>Row 1, Cell 2</td>\n",
    "    </tr>\n",
    "    <tr>\n",
    "        <td>Row 2, Cell 1</td>\n",
    "        <td>Row 2, Cell 2</td>\n",
    "    </tr>\n",
    "</table>"
   ]
  },
  {
   "cell_type": "code",
   "execution_count": null,
   "id": "1b227aed-9ff6-4418-93dc-75e9ee05a2df",
   "metadata": {},
   "outputs": [],
   "source": [
    "<a> Tag:\n",
    "Purpose: Used to create links (hyperlinks) in an HTML document.\n",
    "    \n",
    "Example:\n",
    "<a href=\"https://www.example.com\">This is a link.</a>"
   ]
  },
  {
   "cell_type": "code",
   "execution_count": null,
   "id": "6a9fbaf8-800f-4c9a-b1a0-25fc79202105",
   "metadata": {},
   "outputs": [],
   "source": [
    "<p> Tag:\n",
    "Purpose: Used to create paragraphs of text in an HTML document.\n",
    "\n",
    "Example\n",
    "<p>This is a text paragraph.</p>\n"
   ]
  },
  {
   "cell_type": "code",
   "execution_count": null,
   "id": "2521f869-fa96-4738-8de9-10659babc677",
   "metadata": {},
   "outputs": [],
   "source": [
    "<h1>, <h2>, <h3>, <h4>, <h5>, <h6> Tags:\n",
    "\n",
    "Purpose: Used to create headings of different levels in an HTML document.\n",
    "# Example: same logic in jupyter notebook"
   ]
  },
  {
   "cell_type": "code",
   "execution_count": null,
   "id": "1e61d666-0457-456a-8a8f-2789018d84ee",
   "metadata": {},
   "outputs": [],
   "source": [
    "<head> and <body> Tags:\n",
    "Purpose: Used to define the head and body sections of an HTML document.\n",
    "<!DOCTYPE html>\n",
    "<html>\n",
    "<head>\n",
    "    <title>Web Page Title</title>\n",
    "</head>\n",
    "<body>\n",
    "    <h1>Hello World!</h1>\n",
    "</body>\n",
    "</html>"
   ]
  },
  {
   "cell_type": "markdown",
   "id": "0ba7d113-f07f-4215-a523-6a2fea7e7309",
   "metadata": {},
   "source": [
    "### 1) Requests Module"
   ]
  },
  {
   "cell_type": "markdown",
   "id": "534f328f-7773-4871-8472-3935d466ccc4",
   "metadata": {},
   "source": [
    "The requests module in Python is a powerful library used to send HTTP requests and handle HTTP responses. It allows you to interact with web APIs, make HTTP GET, POST, PUT, DELETE, and other types of requests to fetch data from web servers, submit form data, and perform various web-related tasks. The requests module provides a more user-friendly and straightforward interface compared to the standard urllib library for working with HTTP."
   ]
  },
  {
   "cell_type": "markdown",
   "id": "dde2206c-d94d-45c1-bfec-6668c43face1",
   "metadata": {},
   "source": [
    "The main objective to use requests module is that it subtracts html data from a url that we provide. After obtaining source code, we use beautifulsoup module to process the data."
   ]
  },
  {
   "cell_type": "markdown",
   "id": "30025136-8213-41b0-8698-063c808d88e6",
   "metadata": {},
   "source": [
    "get(): This method subtracts data from the url."
   ]
  },
  {
   "cell_type": "code",
   "execution_count": 2,
   "id": "c8c58ae4-fe51-4654-91a7-29bde452bdff",
   "metadata": {},
   "outputs": [],
   "source": [
    "import requests \n",
    "\n",
    "url = \"https://www.python.org/\"\n",
    "\n",
    "response = requests.get(url)"
   ]
  },
  {
   "cell_type": "markdown",
   "id": "b4d4847d-4800-4825-8139-a3fc990fdd87",
   "metadata": {},
   "source": [
    "If we print out response object,  we will get <Response [200]> output. Otherwise we may have a problem with our connection, url etc.  "
   ]
  },
  {
   "cell_type": "code",
   "execution_count": 3,
   "id": "7c9d7fb9-e8be-4fda-88d6-e9f9631f8f4f",
   "metadata": {},
   "outputs": [
    {
     "name": "stdout",
     "output_type": "stream",
     "text": [
      "<Response [200]>\n"
     ]
    }
   ],
   "source": [
    "print(response)"
   ]
  },
  {
   "cell_type": "markdown",
   "id": "178f5cdc-dfe0-408b-81c2-2b3e44bd306d",
   "metadata": {},
   "source": [
    "We must use the latest \".content\" method in order to use this data we have pulled with the beutifulsoup module."
   ]
  },
  {
   "cell_type": "code",
   "execution_count": null,
   "id": "54346b92-d157-4460-9fd7-f22bfea5375a",
   "metadata": {},
   "outputs": [],
   "source": [
    "url_content = response.content\n",
    "print(url_content) # we will obtain source codes of the url when we run this code."
   ]
  },
  {
   "cell_type": "markdown",
   "id": "51fd8a9d-e6fc-4f8a-8e42-d00f28fcd7ac",
   "metadata": {},
   "source": [
    "### 2) Beautiful Soup Module"
   ]
  },
  {
   "cell_type": "markdown",
   "id": "d02e1113-4455-4323-825e-caa89f666597",
   "metadata": {},
   "source": [
    "Beautiful Soup is a Python library used for web scraping and parsing HTML and XML documents. It provides a convenient way to extract data from HTML and XML files by parsing the document and navigating the parsed data using Python objects. Beautiful Soup is widely used for web scraping tasks due to its simplicity and flexibility."
   ]
  },
  {
   "cell_type": "markdown",
   "id": "5c1182fe-c692-44d7-be3c-3cf88e25eb62",
   "metadata": {},
   "source": [
    "After obtaining content, Parse the HTML content with Beautiful Soup:  BeautifulSoup(url_content, \"html.parser\")"
   ]
  },
  {
   "cell_type": "markdown",
   "id": "6f51f6ff-c219-4aeb-907c-ab1e0c35bb31",
   "metadata": {},
   "source": [
    "Here are some other methods to extract and modify data:"
   ]
  },
  {
   "cell_type": "markdown",
   "id": "3c610b11-4d76-42ae-858c-942b12a417ba",
   "metadata": {},
   "source": [
    "find() method:<br>\n",
    "This method is used to find the first occurrence of an element that matches a given tag name or set of attributes."
   ]
  },
  {
   "cell_type": "code",
   "execution_count": 6,
   "id": "896ede44-6958-4a95-a8ca-39fbabd691c7",
   "metadata": {},
   "outputs": [
    {
     "name": "stdout",
     "output_type": "stream",
     "text": [
      "Hello, Beautiful Soup!\n",
      "This is a sample paragraph.\n"
     ]
    }
   ],
   "source": [
    "from bs4 import BeautifulSoup\n",
    "\n",
    "html_content = \"\"\"\n",
    "<div>\n",
    "    <h1>Hello, Beautiful Soup!</h1>\n",
    "    <p>This is a sample paragraph.</p>\n",
    "</div>\n",
    "\"\"\"\n",
    "\n",
    "soup = BeautifulSoup(html_content, 'html.parser')\n",
    "\n",
    "# Find the first <h1> tag\n",
    "h1_tag = soup.find('h1')\n",
    "print(h1_tag.text)  # Output: Hello, Beautiful Soup!\n",
    "\n",
    "# Find the first <p> tag\n",
    "p_tag = soup.find('p')\n",
    "print(p_tag.text)   # Output: This is a sample paragraph."
   ]
  },
  {
   "cell_type": "markdown",
   "id": "b66bdc93-6a1b-4233-814a-c0fabe8293d1",
   "metadata": {},
   "source": [
    "find_all() method:<br>\n",
    "This method is used to find all occurrences of elements that match a given tag name or set of attributes. It returns a list of matching elements."
   ]
  },
  {
   "cell_type": "code",
   "execution_count": 7,
   "id": "77caefcb-ba49-4ff3-8581-6a83ff818508",
   "metadata": {},
   "outputs": [
    {
     "name": "stdout",
     "output_type": "stream",
     "text": [
      "Item 1\n",
      "Item 2\n",
      "Item 3\n"
     ]
    }
   ],
   "source": [
    "from bs4 import BeautifulSoup\n",
    "\n",
    "html_content = \"\"\"\n",
    "<ul>\n",
    "    <li>Item 1</li>\n",
    "    <li>Item 2</li>\n",
    "    <li>Item 3</li>\n",
    "</ul>\n",
    "\"\"\"\n",
    "\n",
    "soup = BeautifulSoup(html_content, 'html.parser')\n",
    "\n",
    "# Find all <li> tags\n",
    "li_tags = soup.find_all('li')\n",
    "\n",
    "for li in li_tags:\n",
    "    print(li.text)\n",
    "# Output:\n",
    "# Item 1\n",
    "# Item 2\n",
    "# Item 3"
   ]
  },
  {
   "cell_type": "markdown",
   "id": "3a528899-53fb-4851-9cbb-f099d29b3eaa",
   "metadata": {},
   "source": [
    "prettify() method:<br>\n",
    "This method is used to prettify the HTML or XML content, making it more readable with proper indentation"
   ]
  },
  {
   "cell_type": "code",
   "execution_count": 9,
   "id": "215bbb42-d0e8-433d-8021-a93896c328a0",
   "metadata": {},
   "outputs": [
    {
     "name": "stdout",
     "output_type": "stream",
     "text": [
      "<div>\n",
      " <h1>\n",
      "  Hello, Beautiful Soup!\n",
      " </h1>\n",
      " <p>\n",
      "  This is a sample paragraph.\n",
      " </p>\n",
      "</div>\n",
      "\n"
     ]
    }
   ],
   "source": [
    "from bs4 import BeautifulSoup\n",
    "\n",
    "html_content = \"<div><h1>Hello, Beautiful Soup!</h1><p>This is a sample paragraph.</p></div>\"\n",
    "\n",
    "soup = BeautifulSoup(html_content, 'html.parser')\n",
    "\n",
    "# Prettify the HTML content\n",
    "prettified_html = soup.prettify()\n",
    "print(prettified_html)\n",
    "# Output:\n",
    "# <div>\n",
    "#  <h1>Hello, Beautiful Soup!</h1>\n",
    "#  <p>This is a sample paragraph.</p>\n",
    "# </div>"
   ]
  },
  {
   "cell_type": "markdown",
   "id": "db49229d-009a-4e45-b2b3-6b3a8f97c15a",
   "metadata": {},
   "source": [
    "get() method:<br>\n",
    "This method is used to retrieve the value of a specific attribute of an element."
   ]
  },
  {
   "cell_type": "code",
   "execution_count": 12,
   "id": "6b983062-ddb5-4e90-b5e1-cb2f988e50d8",
   "metadata": {},
   "outputs": [
    {
     "name": "stdout",
     "output_type": "stream",
     "text": [
      "<a href=\"https://www.example.com\">Click here</a>\n",
      "https://www.example.com\n",
      "https://www.example.com\n",
      "https://www.example.com\n"
     ]
    }
   ],
   "source": [
    "from bs4 import BeautifulSoup\n",
    "\n",
    "html_content = \"\"\"\n",
    "<a href=\"https://www.example.com\">Click here</a>\n",
    "\"\"\"\n",
    "\n",
    "soup = BeautifulSoup(html_content, 'html.parser')\n",
    "\n",
    "# Get the value of the 'href' attribute of the <a> tag\n",
    "link = soup.find('a')\n",
    "print(link)\n",
    "print(link.get('href')) \n",
    "print(link['href'])          # same result as above\n",
    "print(soup.a.get('href'))    # same result as above"
   ]
  },
  {
   "cell_type": "markdown",
   "id": "e32d889e-d5d9-4c36-b088-d94d27c77927",
   "metadata": {},
   "source": [
    "In Beautiful Soup, the .text method is used to extract the textual content of an HTML or XML element. When you parse an HTML or XML document using Beautiful Soup, it creates a tree-like data structure that represents the structure of the document. Each element in the document is represented as a Python object with various attributes and methods, and .text is one of those methods"
   ]
  },
  {
   "cell_type": "code",
   "execution_count": 14,
   "id": "64307d61-0281-437b-9ccf-2e57809c1437",
   "metadata": {},
   "outputs": [
    {
     "name": "stdout",
     "output_type": "stream",
     "text": [
      "Hello, Beautiful Soup!\n",
      "This is a sample paragraph.\n"
     ]
    }
   ],
   "source": [
    "from bs4 import BeautifulSoup\n",
    "\n",
    "html_content = \"\"\"\n",
    "<div>\n",
    "    <h1>Hello, Beautiful Soup!</h1>\n",
    "    <p>This is a sample paragraph.</p>\n",
    "</div>\n",
    "\"\"\"\n",
    "\n",
    "soup = BeautifulSoup(html_content, 'html.parser')\n",
    "\n",
    "# Extract the text of the <h1> tag\n",
    "h1_text = soup.h1.text\n",
    "print(h1_text)\n",
    "# Output: Hello, Beautiful Soup!\n",
    "\n",
    "# Extract the text of the <p> tag\n",
    "p_text = soup.p.text\n",
    "print(p_text)\n",
    "# Output: This is a sample paragraph."
   ]
  },
  {
   "cell_type": "markdown",
   "id": "6235211d-a95d-4613-bb8e-d5b089e65d6c",
   "metadata": {},
   "source": [
    "Here is a general example:"
   ]
  },
  {
   "cell_type": "code",
   "execution_count": null,
   "id": "b4e2e4e7-7513-4b0c-bb84-469eb82c67f7",
   "metadata": {},
   "outputs": [],
   "source": [
    "from bs4 import BeautifulSoup\n",
    "\n",
    "# Sample HTML content\n",
    "html_content = \"\"\"\n",
    "<html>\n",
    "<head>\n",
    "    <title>Sample Page</title>\n",
    "</head>\n",
    "<body>\n",
    "    <h1>Hello, Beautiful Soup!</h1>\n",
    "    <p>This is a sample paragraph.</p>\n",
    "    <ul>\n",
    "        <li>Item 1</li>\n",
    "        <li>Item 2</li>\n",
    "    </ul>\n",
    "</body>\n",
    "</html>\n",
    "\"\"\"\n",
    "\n",
    "# Parse the HTML content with Beautiful Soup\n",
    "soup = BeautifulSoup(html_content, 'html.parser')\n",
    "\n",
    "# Extract data from the parsed document\n",
    "title = soup.title.text\n",
    "heading = soup.h1.text\n",
    "paragraph = soup.p.text\n",
    "items = [li.text for li in soup.ul.find_all('li')]\n",
    "\n",
    "# Print the extracted data\n",
    "print(\"Title:\", title)\n",
    "print(\"Heading:\", heading)\n",
    "print(\"Paragraph:\", paragraph)\n",
    "print(\"Items:\", items)\n"
   ]
  },
  {
   "cell_type": "markdown",
   "id": "70ca4cd8-8d24-4cff-a358-41e96de66088",
   "metadata": {},
   "source": [
    "### Filtering Findall"
   ]
  },
  {
   "cell_type": "markdown",
   "id": "6b25e5ee-5a69-4f1c-bbce-9e55d6f364e6",
   "metadata": {},
   "source": [
    "When you use the find_all() method in Beautiful Soup, you can search more precisely by specifying additional parameters, such as the class attribute, to filter the results. This allows you to find only the elements that match specific criteria, such as having a particular class value."
   ]
  },
  {
   "cell_type": "code",
   "execution_count": 15,
   "id": "a001b094-0562-48c1-b112-b2e8486af903",
   "metadata": {},
   "outputs": [
    {
     "name": "stdout",
     "output_type": "stream",
     "text": [
      "This is the first yp-example div.\n",
      "This is the second yp-example div.\n",
      "This is the third yp-example div.\n"
     ]
    }
   ],
   "source": [
    "# Here's an example of how to search for <div> tags with class=\"yp-example\":\n",
    "from bs4 import BeautifulSoup\n",
    "\n",
    "html_content = \"\"\"\n",
    "<div class=\"yp-example\">This is the first yp-example div.</div>\n",
    "<div class=\"another-class yp-example\">This is the second yp-example div.</div>\n",
    "<div class=\"yp-example\">This is the third yp-example div.</div>\n",
    "\"\"\"\n",
    "\n",
    "soup = BeautifulSoup(html_content, 'html.parser')\n",
    "\n",
    "# Find all <div> tags with class=\"yp-example\"\n",
    "div_tags_with_class = soup.find_all('div', class_='yp-example')\n",
    "\n",
    "for div_tag in div_tags_with_class:\n",
    "    print(div_tag.text)"
   ]
  },
  {
   "cell_type": "code",
   "execution_count": null,
   "id": "d90dac0b-9376-4fc3-adb1-39a9f0a1aa2a",
   "metadata": {},
   "outputs": [],
   "source": []
  }
 ],
 "metadata": {
  "kernelspec": {
   "display_name": "Python 3 (ipykernel)",
   "language": "python",
   "name": "python3"
  },
  "language_info": {
   "codemirror_mode": {
    "name": "ipython",
    "version": 3
   },
   "file_extension": ".py",
   "mimetype": "text/x-python",
   "name": "python",
   "nbconvert_exporter": "python",
   "pygments_lexer": "ipython3",
   "version": "3.11.2"
  }
 },
 "nbformat": 4,
 "nbformat_minor": 5
}
