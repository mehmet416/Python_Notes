{
 "cells": [
  {
   "cell_type": "markdown",
   "id": "1f338f55-fd6a-43ad-8d96-c6c21c9abeab",
   "metadata": {},
   "source": [
    "# COMPREHENSIONS AND GENERATOR EXPRESSIONS"
   ]
  },
  {
   "cell_type": "markdown",
   "id": "62bea691-99de-4bd1-8d72-9d0c43d736c6",
   "metadata": {},
   "source": [
    "### Here are some methods to create a list with the square of only even numbers [1,2,3,4,5,6]"
   ]
  },
  {
   "cell_type": "code",
   "execution_count": 2,
   "id": "2bf1067e-9e8a-4b20-8454-331fa1003f77",
   "metadata": {},
   "outputs": [
    {
     "name": "stdout",
     "output_type": "stream",
     "text": [
      "[4, 16, 36]\n"
     ]
    }
   ],
   "source": [
    "#1- for loop\n",
    "my_list = [1,2,3,4,5,6]\n",
    "new_list = []\n",
    "for i in my_list:\n",
    "    if i% 2 == 0:\n",
    "        new_list.append(i**2)\n",
    "print(new_list)"
   ]
  },
  {
   "cell_type": "code",
   "execution_count": 4,
   "id": "4d7c52bc-6c27-41db-a7f4-67dbceb84d9f",
   "metadata": {},
   "outputs": [
    {
     "name": "stdout",
     "output_type": "stream",
     "text": [
      "[4, 16, 36]\n"
     ]
    }
   ],
   "source": [
    "# 2- list comprehension\n",
    "new_list = [i**2 for i in my_list if i%2==0]\n",
    "print(new_list)"
   ]
  },
  {
   "cell_type": "code",
   "execution_count": 7,
   "id": "ebcffec1-b4f2-45e5-8e43-f16363708021",
   "metadata": {},
   "outputs": [
    {
     "name": "stdout",
     "output_type": "stream",
     "text": [
      "[4, 16, 36]\n"
     ]
    }
   ],
   "source": [
    "#3- map function\n",
    "new_list = map(lambda n: n**2, filter(lambda x: x%2==0, my_list))\n",
    "print(list(new_list))"
   ]
  },
  {
   "cell_type": "markdown",
   "id": "9884ea55-8109-4b26-ab6d-cc5e39891d84",
   "metadata": {},
   "source": [
    "### Map, Filter and Zip Methods"
   ]
  },
  {
   "cell_type": "markdown",
   "id": "a35c27b3-beaf-4af7-b4a2-5f0b00136045",
   "metadata": {},
   "source": [
    "##### The map() function applies a given function to each item of an iterable and returns an iterator that yields the results."
   ]
  },
  {
   "cell_type": "code",
   "execution_count": 30,
   "id": "94aa5b79-122a-46e0-b850-903e76cfdb74",
   "metadata": {},
   "outputs": [
    {
     "name": "stdout",
     "output_type": "stream",
     "text": [
      "[77.0, 86.0, 59.0, 68.0]\n"
     ]
    }
   ],
   "source": [
    "celsius_temps = [25, 30, 15, 20]\n",
    "fahrenheit_temps = map(lambda x: (9/5) * x + 32, celsius_temps)\n",
    "print(list(fahrenheit_temps))\n",
    "\n",
    "#note that to use the list we created by using map method, convert it to list \"list(fahrenheit_temps)\" since we should assign it to an list item."
   ]
  },
  {
   "cell_type": "markdown",
   "id": "ac0cac52-3779-4bf5-ab9a-65bf31fa5647",
   "metadata": {},
   "source": [
    "##### The filter() function constructs an iterator from elements of an iterable for which a given function returns True."
   ]
  },
  {
   "cell_type": "code",
   "execution_count": 31,
   "id": "74916e5c-dd13-443f-ac19-d965400df854",
   "metadata": {},
   "outputs": [
    {
     "name": "stdout",
     "output_type": "stream",
     "text": [
      "[2, 4]\n"
     ]
    }
   ],
   "source": [
    "numbers = [1, 2, 3, 4, 5]\n",
    "even_numbers = filter(lambda x: x % 2 == 0, numbers)\n",
    "print(list(even_numbers))"
   ]
  },
  {
   "cell_type": "code",
   "execution_count": 32,
   "id": "23731a0c-f062-4f2a-8f66-c2eabd719ae3",
   "metadata": {},
   "outputs": [
    {
     "name": "stdout",
     "output_type": "stream",
     "text": [
      "['Alice', 'Andrew', 'Alex']\n"
     ]
    }
   ],
   "source": [
    "names = ['Alice', 'Bob', 'Andrew', 'Alex', 'Mark']\n",
    "filtered_names = filter(lambda x: x.startswith('A'), names)\n",
    "print(list(filtered_names))"
   ]
  },
  {
   "cell_type": "markdown",
   "id": "21dca0c8-c036-444b-8c14-c3ddbfc8ba1d",
   "metadata": {},
   "source": [
    "##### The zip() function returns an iterator that generates tuples, where each tuple contains elements from the input iterables."
   ]
  },
  {
   "cell_type": "code",
   "execution_count": 33,
   "id": "2fa3bcb6-4fb2-41dd-9926-2eb60569df8d",
   "metadata": {},
   "outputs": [
    {
     "name": "stdout",
     "output_type": "stream",
     "text": [
      "[('apple', 1.0), ('banana', 0.5), ('cherry', 2.0)]\n"
     ]
    }
   ],
   "source": [
    "fruits = ['apple', 'banana', 'cherry']\n",
    "prices = [1.0, 0.5, 2.0]\n",
    "\n",
    "zipped = zip(fruits, prices)\n",
    "print(list(zipped))"
   ]
  },
  {
   "cell_type": "code",
   "execution_count": 35,
   "id": "8cd6da66-b841-4b22-8f4d-2960a5046609",
   "metadata": {},
   "outputs": [
    {
     "name": "stdout",
     "output_type": "stream",
     "text": [
      "[('Alice', 25, 'USA'), ('Bob', 30, 'UK'), ('Charlie', 35, 'Canada')]\n"
     ]
    }
   ],
   "source": [
    "names = ['Alice', 'Bob', 'Charlie']\n",
    "ages = [25, 30, 35]\n",
    "countries = ['USA', 'UK', 'Canada']\n",
    "\n",
    "zipped = zip(names, ages, countries)\n",
    "print(list(zipped))"
   ]
  },
  {
   "cell_type": "code",
   "execution_count": 34,
   "id": "87cdc3f8-71ad-40f7-bb15-06a300305bb6",
   "metadata": {},
   "outputs": [
    {
     "name": "stdout",
     "output_type": "stream",
     "text": [
      "('apple', 'banana', 'cherry')\n",
      "(1.0, 0.5, 2.0)\n"
     ]
    }
   ],
   "source": [
    "zipped = [('apple', 1.0), ('banana', 0.5), ('cherry', 2.0)]\n",
    "\n",
    "fruits, prices = zip(*zipped)\n",
    "print(fruits)\n",
    "print(prices)\n",
    "#In this example, the zip(*zipped) statement with the asterisk * operator is used to unzip the zipped iterable. \n",
    "#It separates the elements of the zipped iterable into separate iterables (fruits and prices in this case)."
   ]
  },
  {
   "cell_type": "markdown",
   "id": "048abb26-a06c-4d48-bb75-6e4ad95fa6c6",
   "metadata": {},
   "source": [
    "### Another example with 2 lists"
   ]
  },
  {
   "cell_type": "code",
   "execution_count": 10,
   "id": "8c5d3228-ab62-465b-a225-3386c360db25",
   "metadata": {},
   "outputs": [
    {
     "name": "stdout",
     "output_type": "stream",
     "text": [
      "[('a', 0), ('a', 1), ('a', 2), ('a', 3), ('b', 0), ('b', 1), ('b', 2), ('b', 3), ('c', 0), ('c', 1), ('c', 2), ('c', 3), ('d', 0), ('d', 1), ('d', 2), ('d', 3)]\n"
     ]
    }
   ],
   "source": [
    "# make a list that have pairs of a letter and a number from [a,b,c,d] , [1,2,3,4]\n",
    "\n",
    "my_list = [(letter,num) for letter in \"abcd\" for num in range(4)]\n",
    "print(my_list)"
   ]
  },
  {
   "cell_type": "markdown",
   "id": "360771c5-0d29-4594-ae01-1fb544c4cc29",
   "metadata": {},
   "source": [
    "### Dictionary Comprehension"
   ]
  },
  {
   "cell_type": "code",
   "execution_count": 26,
   "id": "f3607f82-38db-4205-aec1-427ffbe43722",
   "metadata": {
    "scrolled": true
   },
   "outputs": [
    {
     "name": "stdout",
     "output_type": "stream",
     "text": [
      "{'Bruce': 'Batman', 'Peter': 'Spiderman', 'Wade': 'Deadpool', 'Logan': 'Wolverine', 'Clark': 'Superman'}\n"
     ]
    }
   ],
   "source": [
    "names=[\"Bruce\", \"Peter\", \"Wade\", \"Logan\", \"Clark\"]\n",
    "heros=[\"Batman\",\"Spiderman\",\"Deadpool\",\"Wolverine\",\"Superman\"]\n",
    "my_dict= dict()\n",
    "for name, hero in zip(names,heros):\n",
    "    my_dict[name]=hero\n",
    "print(my_dict)"
   ]
  },
  {
   "cell_type": "code",
   "execution_count": 28,
   "id": "4b39a867-e1c9-4c77-9f4c-db3e063aca4c",
   "metadata": {},
   "outputs": [
    {
     "name": "stdout",
     "output_type": "stream",
     "text": [
      "{'Bruce': 'Batman', 'Wade': 'Deadpool', 'Logan': 'Wolverine', 'Clark': 'Superman'}\n"
     ]
    }
   ],
   "source": [
    "# dict comprehension \n",
    "my_list = {name:hero for name, hero in zip(names,heros) if name!=\"Peter\"}\n",
    "print(my_list)"
   ]
  },
  {
   "cell_type": "markdown",
   "id": "a4770da1-4b10-42f3-a33e-8a1c9c03dafb",
   "metadata": {},
   "source": [
    "### Generator Expressions"
   ]
  },
  {
   "cell_type": "markdown",
   "id": "feb18993-7d1a-4709-a553-ad0edf1eb5fd",
   "metadata": {},
   "source": [
    "##### A generator expression is similar to a list comprehension, but it returns a generator object instead of a list. It allows you to generate values on-the-fly as you iterate over it. One great advantage of generator expressions is that they are more efficient since when the variable is needed, it calls it.n:"
   ]
  },
  {
   "cell_type": "code",
   "execution_count": 37,
   "id": "3e8031b7-df2c-40d0-a282-faa3bf07006d",
   "metadata": {},
   "outputs": [
    {
     "name": "stdout",
     "output_type": "stream",
     "text": [
      "[2, 4, 6, 8]\n"
     ]
    }
   ],
   "source": [
    "even_numbers= (x for x in range(1, 10) if x % 2 == 0)\n",
    "print(list(even_numbers))"
   ]
  },
  {
   "cell_type": "markdown",
   "id": "b2d5a877-caf9-4d45-bcdd-ba9f532283b8",
   "metadata": {},
   "source": [
    "##### Yield Statement:\n",
    "The yield statement is used in generator functions to define a function that behaves as an iterator. When a generator function is called, it returns a generator object, which can be used to iterate over the sequence of values produced by the function."
   ]
  },
  {
   "cell_type": "code",
   "execution_count": 38,
   "id": "f786a89b-0269-4254-880e-8040e8123de4",
   "metadata": {},
   "outputs": [
    {
     "name": "stdout",
     "output_type": "stream",
     "text": [
      "0\n",
      "1\n",
      "4\n"
     ]
    }
   ],
   "source": [
    "# Example 1: Generate a sequence of squares using a generator function:\n",
    "def squares(n):\n",
    "    for i in range(n):\n",
    "        yield i**2\n",
    "\n",
    "squares_gen = squares(5)\n",
    "print(next(squares_gen))\n",
    "print(next(squares_gen))\n",
    "print(next(squares_gen))"
   ]
  },
  {
   "cell_type": "code",
   "execution_count": 39,
   "id": "cb4ebd8b-b8e1-4407-a414-95ef4779bb54",
   "metadata": {},
   "outputs": [
    {
     "name": "stdout",
     "output_type": "stream",
     "text": [
      "14\n",
      "81\n",
      "92\n"
     ]
    }
   ],
   "source": [
    "# Example 2: Generate an infinite sequence of random numbers using a generator function:\n",
    "import random\n",
    "\n",
    "def random_numbers():\n",
    "    while True:\n",
    "        yield random.randint(1, 100)\n",
    "\n",
    "rand_gen = random_numbers()\n",
    "print(next(rand_gen))\n",
    "print(next(rand_gen))\n",
    "print(next(rand_gen))"
   ]
  },
  {
   "cell_type": "markdown",
   "id": "14ee6b19-f272-4f03-9183-23cbbe307853",
   "metadata": {},
   "source": [
    "##### In both examples, the yield statement is used to produce a value from the generator function. The \"next()\" function is then used to retrieve the next value from the generator object."
   ]
  },
  {
   "cell_type": "code",
   "execution_count": 60,
   "id": "157676c3-60f0-416d-a0be-be0430188fcf",
   "metadata": {},
   "outputs": [
    {
     "name": "stdout",
     "output_type": "stream",
     "text": [
      "832040\n",
      "0.14801621437072754\n"
     ]
    }
   ],
   "source": [
    "#fibonacci sequence examples to understand the efficiency of generator expressions:\n",
    "# case1\n",
    "import time\n",
    "start = time.time()\n",
    "\n",
    "def fibo(n):\n",
    "    if n == 1:\n",
    "        return 1\n",
    "    elif n == 2:\n",
    "        return 1\n",
    "    else:\n",
    "        return fibo(n-1)+fibo(n-2)\n",
    "print(fibo(30))\n",
    "end= time.time()\n",
    "print(end-start)"
   ]
  },
  {
   "cell_type": "code",
   "execution_count": 62,
   "id": "2e77412c-19c1-4d55-9cda-adf2af768bb4",
   "metadata": {},
   "outputs": [
    {
     "name": "stdout",
     "output_type": "stream",
     "text": [
      "43466557686937456435688527675040625802564660517371780402481729089536555417949051890403879840079255169295922593080322634775209689623239873322471161642996440906533187938298969649928516003704476137795166849228875\n",
      "1000\n",
      "0.0\n"
     ]
    }
   ],
   "source": [
    "import time\n",
    "start = time.time()\n",
    "def fibo():\n",
    "    a, b = 1, 1\n",
    "    while True:\n",
    "        yield a\n",
    "        a, b = b, a + b\n",
    "\n",
    "fib = fibo()\n",
    "counter = 1\n",
    "\n",
    "while True:\n",
    "    term = next(fib)\n",
    "    if counter==1000:\n",
    "        print(term, counter, sep=\"\\n\")\n",
    "        break\n",
    "    counter += 1\n",
    "end= time.time()\n",
    "print(end-start)"
   ]
  },
  {
   "cell_type": "code",
   "execution_count": 63,
   "id": "2ef3c236-58f9-4d36-8b02-17011b58c748",
   "metadata": {},
   "outputs": [],
   "source": [
    "#notice that both solutions give the expected answers, but first solution cannot compute 1000th term while second solution gives out less then 1ms."
   ]
  }
 ],
 "metadata": {
  "kernelspec": {
   "display_name": "Python 3 (ipykernel)",
   "language": "python",
   "name": "python3"
  },
  "language_info": {
   "codemirror_mode": {
    "name": "ipython",
    "version": 3
   },
   "file_extension": ".py",
   "mimetype": "text/x-python",
   "name": "python",
   "nbconvert_exporter": "python",
   "pygments_lexer": "ipython3",
   "version": "3.11.2"
  }
 },
 "nbformat": 4,
 "nbformat_minor": 5
}
