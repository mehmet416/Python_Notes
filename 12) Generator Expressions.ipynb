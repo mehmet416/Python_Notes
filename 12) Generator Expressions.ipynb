{
 "cells": [
  {
   "cell_type": "markdown",
   "id": "1896835b-dd97-458c-ad9d-a1569dc7d99a",
   "metadata": {},
   "source": [
    "# GENERATOR EXPRESSIONS"
   ]
  },
  {
   "cell_type": "markdown",
   "id": "890c4205-94ca-427c-b15c-3f8130b3bef9",
   "metadata": {},
   "source": [
    "Generator expressions in Python are a concise way to create iterators. They allow you to define and create generators on the fly, without explicitly writing a separate generator function. Generator expressions are similar to list comprehensions, but they generate values lazily on demand instead of creating a list."
   ]
  },
  {
   "cell_type": "code",
   "execution_count": 1,
   "id": "0a22b614-e7bc-4ec6-b458-60c0d84e2b7c",
   "metadata": {},
   "outputs": [
    {
     "name": "stdout",
     "output_type": "stream",
     "text": [
      "[1, 4, 9, 16, 25]\n"
     ]
    }
   ],
   "source": [
    "def square_nums(nums):\n",
    "    result=[]\n",
    "    for i in nums:\n",
    "        result.append(i*i)\n",
    "    return result\n",
    "my_nums=square_nums([1,2,3,4,5])\n",
    "print(my_nums)"
   ]
  },
  {
   "cell_type": "code",
   "execution_count": 5,
   "id": "ccc3e071-9f31-4b61-94e0-20a9b0b8e2bc",
   "metadata": {},
   "outputs": [
    {
     "name": "stdout",
     "output_type": "stream",
     "text": [
      "<generator object square_nums at 0x00000236F037B6B0>\n",
      "1\n",
      "4\n",
      "9\n",
      "16\n",
      "25\n"
     ]
    }
   ],
   "source": [
    "def square_nums(nums):\n",
    "    for i in nums:\n",
    "        yield i*i\n",
    "my_nums=square_nums([1,2,3,4,5])\n",
    "print(my_nums) # it returns a generator object\n",
    "# to access a value of the function, use next()\n",
    "print (next(my_nums))\n",
    "print (next(my_nums))\n",
    "print (next(my_nums))\n",
    "print (next(my_nums))\n",
    "print (next(my_nums)) # every time you call the function, it generates the next value."
   ]
  },
  {
   "cell_type": "code",
   "execution_count": 9,
   "id": "1b10765e-0118-42c8-b732-34e20d2080de",
   "metadata": {},
   "outputs": [
    {
     "name": "stdout",
     "output_type": "stream",
     "text": [
      "1\n",
      "4\n",
      "9\n",
      "16\n",
      "25\n"
     ]
    }
   ],
   "source": [
    "# if we do not want to write next every time to reach the next value, we can use a for loop\n",
    "def square_nums(nums):\n",
    "    for i in nums:\n",
    "        yield i*i\n",
    "my_nums=square_nums([1,2,3,4,5])\n",
    "for num in my_nums:\n",
    "    print(num)"
   ]
  },
  {
   "cell_type": "code",
   "execution_count": 11,
   "id": "58f5aca0-a694-494e-80e6-d42ad8fbe85d",
   "metadata": {},
   "outputs": [
    {
     "name": "stdout",
     "output_type": "stream",
     "text": [
      "[1, 4, 9, 16, 25]\n"
     ]
    }
   ],
   "source": [
    "# we can access the list form of a generator expression by using list method. Note that if we use this method we will lose efficiency of generator expressions.\n",
    "def square_nums(nums):\n",
    "    for i in nums:\n",
    "        yield i*i\n",
    "my_nums=square_nums([1,2,3,4,5])\n",
    "print(list(my_nums))"
   ]
  },
  {
   "cell_type": "code",
   "execution_count": 13,
   "id": "db37a89a-cd39-4f60-aa50-02c9cd038630",
   "metadata": {},
   "outputs": [
    {
     "name": "stdout",
     "output_type": "stream",
     "text": [
      "[1, 4, 9, 16, 25]\n",
      "<generator object <genexpr> at 0x00000236F037A260>\n",
      "[1, 4, 9, 16, 25]\n"
     ]
    }
   ],
   "source": [
    "# list comprehension \n",
    "my_nums = [i*i for i in [1,2,3,4,5] ]\n",
    "print(my_nums)\n",
    "\n",
    "# general expression \n",
    "my_nums = (i*i for i in [1,2,3,4,5] )\n",
    "print(my_nums)\n",
    "print(list(my_nums))"
   ]
  },
  {
   "cell_type": "markdown",
   "id": "f0242715-b99a-40f5-b5a6-b991ce3c4aff",
   "metadata": {},
   "source": [
    "### Here we have an example that shows the efficiency of generator expressions over list method."
   ]
  },
  {
   "cell_type": "code",
   "execution_count": 1,
   "id": "3cf45eca-1832-4fb1-912e-fb7dcf08d076",
   "metadata": {},
   "outputs": [
    {
     "name": "stdout",
     "output_type": "stream",
     "text": [
      "Memory usage: 65.69921875 MB\n",
      "Memory usage: 290.0625 MB\n",
      "Took 0.5347023010253906 Seconds\n"
     ]
    }
   ],
   "source": [
    "import psutil\n",
    "import random\n",
    "import time\n",
    "\n",
    "import psutil\n",
    "def print_memory_usage():\n",
    "    process = psutil.Process()\n",
    "    print(f\"Memory usage: {process.memory_info().rss / 1024 / 1024} MB\")\n",
    "\n",
    "\n",
    "names = ['John', 'Corey', 'Adam', 'Steve', 'Rick', 'Thomas']\n",
    "majors = ['Math', 'Engineering', 'CompSci', 'Arts', 'Business']\n",
    "\n",
    "\n",
    "\n",
    "def people_list(num_people):\n",
    "    result = []\n",
    "    for i in range(num_people):\n",
    "        person = {\n",
    "                    'id': i,\n",
    "                    'name': random.choice(names),\n",
    "                    'major': random.choice(majors)\n",
    "                }\n",
    "        result.append(person)\n",
    "    return result\n",
    "\n",
    "def people_generator(num_people):\n",
    "    for i in range(num_people):\n",
    "        person = {\n",
    "                    'id': i,\n",
    "                    'name': random.choice(names),\n",
    "                    'major': random.choice(majors)\n",
    "                }\n",
    "        yield person\n",
    "\n",
    "print_memory_usage()\n",
    "\n",
    "t1 = time.time()\n",
    "people = people_list(1000000)\n",
    "t2 = time.time()\n",
    "\n",
    "# t1 = time.time()\n",
    "# people = people_generator(1000000)\n",
    "# t2 = time.time()\n",
    "\n",
    "print_memory_usage()\n",
    "print(f'Took {t2-t1} Seconds')\n"
   ]
  },
  {
   "cell_type": "code",
   "execution_count": 6,
   "id": "7fd6ab56-1eb0-4d0c-a5b3-4d6141be822d",
   "metadata": {},
   "outputs": [
    {
     "name": "stdout",
     "output_type": "stream",
     "text": [
      "Memory usage: 73.48046875 MB\n",
      "Memory usage: 73.48046875 MB\n",
      "Took 0.0 Seconds\n"
     ]
    }
   ],
   "source": [
    "import psutil\n",
    "import random\n",
    "import time\n",
    "\n",
    "import psutil\n",
    "def print_memory_usage():\n",
    "    process = psutil.Process()\n",
    "    print(f\"Memory usage: {process.memory_info().rss / 1024 / 1024} MB\")\n",
    "\n",
    "\n",
    "names = ['John', 'Corey', 'Adam', 'Steve', 'Rick', 'Thomas']\n",
    "majors = ['Math', 'Engineering', 'CompSci', 'Arts', 'Business']\n",
    "\n",
    "\n",
    "\n",
    "def people_list(num_people):\n",
    "    result = []\n",
    "    for i in range(num_people):\n",
    "        person = {\n",
    "                    'id': i,\n",
    "                    'name': random.choice(names),\n",
    "                    'major': random.choice(majors)\n",
    "                }\n",
    "        result.append(person)\n",
    "    return result\n",
    "\n",
    "def people_generator(num_people):\n",
    "    for i in range(num_people):\n",
    "        person = {\n",
    "                    'id': i,\n",
    "                    'name': random.choice(names),\n",
    "                    'major': random.choice(majors)\n",
    "                }\n",
    "        yield person\n",
    "\n",
    "print_memory_usage()\n",
    "\n",
    "# t1 = time.time()\n",
    "# people = people_list(1000000)\n",
    "# t2 = time.time()\n",
    "\n",
    "t1 = time.time()\n",
    "people = people_generator(1000000)\n",
    "t2 = time.time()\n",
    "\n",
    "print_memory_usage()\n",
    "print(f'Took {t2-t1} Seconds')\n"
   ]
  },
  {
   "cell_type": "code",
   "execution_count": null,
   "id": "730e450c-ff71-43cf-ac7d-cc9a2fc8c0e2",
   "metadata": {},
   "outputs": [],
   "source": []
  }
 ],
 "metadata": {
  "kernelspec": {
   "display_name": "Python 3 (ipykernel)",
   "language": "python",
   "name": "python3"
  },
  "language_info": {
   "codemirror_mode": {
    "name": "ipython",
    "version": 3
   },
   "file_extension": ".py",
   "mimetype": "text/x-python",
   "name": "python",
   "nbconvert_exporter": "python",
   "pygments_lexer": "ipython3",
   "version": "3.11.2"
  }
 },
 "nbformat": 4,
 "nbformat_minor": 5
}
