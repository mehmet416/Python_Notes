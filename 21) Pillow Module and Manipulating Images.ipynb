{
 "cells": [
  {
   "cell_type": "markdown",
   "id": "fe6f729b-df85-45c0-9775-91a08871b35d",
   "metadata": {},
   "source": [
    "# PILLOW MODULE AND MANIPULATING IMAGES"
   ]
  },
  {
   "cell_type": "markdown",
   "id": "cb47c7c4-9431-4dd9-ad19-0cc7d806d10d",
   "metadata": {},
   "source": [
    "Pillow is a powerful Python Imaging Library (PIL) fork that allows you to perform various image processing tasks, such as opening, manipulating, and saving images in different formats."
   ]
  },
  {
   "cell_type": "markdown",
   "id": "2250bf3e-f145-41fc-ba55-2ef5697d3f0b",
   "metadata": {},
   "source": [
    "Here's a brief overview of some common image manipulation tasks using Pillow along with example code snippets:"
   ]
  },
  {
   "cell_type": "markdown",
   "id": "44d2d7e8-6130-45de-9fcd-b8db0c192345",
   "metadata": {},
   "source": [
    "1) Opening and Displaying Images"
   ]
  },
  {
   "cell_type": "code",
   "execution_count": null,
   "id": "efdd9d28-9862-45f7-8f29-cd613ea90161",
   "metadata": {},
   "outputs": [],
   "source": [
    "from PIL import Image\n",
    "\n",
    "# Open an image\n",
    "image = Image.open(\"path/to/image.jpg\")\n",
    "\n",
    "# Display the image\n",
    "image.show()"
   ]
  },
  {
   "cell_type": "markdown",
   "id": "5b7a0110-eba9-4ee2-a99d-8f7898867958",
   "metadata": {},
   "source": [
    "2) Resizing Images"
   ]
  },
  {
   "cell_type": "code",
   "execution_count": null,
   "id": "e54f7986-c68c-423e-bea6-5cc6ff6f5958",
   "metadata": {},
   "outputs": [],
   "source": [
    "from PIL import Image\n",
    "\n",
    "# Open an image\n",
    "image = Image.open(\"path/to/image.jpg\")\n",
    "\n",
    "# Resize the image\n",
    "size = (300,300)\n",
    "resized_image = image.resize(size)\n",
    "\n",
    "# Save the resized image\n",
    "resized_image.save(\"path/to/resized_image.jpg\")\n",
    "\n",
    "# or you can directly save the image\n",
    "image.resize(size).save(\"path/to/resized_image.jpg\")"
   ]
  },
  {
   "cell_type": "markdown",
   "id": "545a27b8-ff3b-4049-a49c-949e61fc3358",
   "metadata": {},
   "source": [
    "3) Cropping Images"
   ]
  },
  {
   "cell_type": "code",
   "execution_count": null,
   "id": "1cbb7b75-6e04-4b43-8f07-95378329d0c5",
   "metadata": {},
   "outputs": [],
   "source": [
    "from PIL import Image\n",
    "\n",
    "# Open an image\n",
    "image = Image.open(\"path/to/image.jpg\")\n",
    "\n",
    "# Crop the image (left, upper, right, lower)\n",
    "cropped_image = image.crop((100, 100, 400, 300))\n",
    "\n",
    "# Save the cropped image\n",
    "cropped_image.save(\"path/to/cropped_image.jpg\")"
   ]
  },
  {
   "cell_type": "markdown",
   "id": "749278fb-d3f3-42cb-b475-fed7d4db329d",
   "metadata": {},
   "source": [
    "4) Rotating Images"
   ]
  },
  {
   "cell_type": "code",
   "execution_count": null,
   "id": "5396304e-25db-4163-8528-f9628557e8a9",
   "metadata": {},
   "outputs": [],
   "source": [
    "from PIL import Image\n",
    "\n",
    "# Open an image\n",
    "image = Image.open(\"path/to/image.jpg\")\n",
    "\n",
    "# Rotate the image by 90 degrees\n",
    "rotated_image = image.rotate(90)\n",
    "\n",
    "# Save the rotated image\n",
    "rotated_image.save(\"path/to/rotated_image.jpg\")"
   ]
  },
  {
   "cell_type": "markdown",
   "id": "335e3cb5-7839-4442-9b36-c02099fa07a8",
   "metadata": {},
   "source": [
    "5) Converting to Black and White Images"
   ]
  },
  {
   "cell_type": "code",
   "execution_count": null,
   "id": "fc483511-9607-4283-99a8-1d225fcfd99a",
   "metadata": {},
   "outputs": [],
   "source": [
    "from PIL import Image\n",
    "\n",
    "# Open an image\n",
    "image = Image.open(\"path/to/image.jpg\")\n",
    "\n",
    "# Apply a filter (Black and White)\n",
    "black_white = image.convert(mode='L')\n",
    "\n",
    "# Save the black and white image\n",
    "black_white.save(\"path/to/black_white.jpg\")"
   ]
  },
  {
   "cell_type": "markdown",
   "id": "2fe2dcfd-7fb9-4b08-b7a7-fa0ecf7046ed",
   "metadata": {},
   "source": [
    "6) Blurring Images"
   ]
  },
  {
   "cell_type": "code",
   "execution_count": null,
   "id": "f9575a84-fad6-4cfa-a131-c8a359a79808",
   "metadata": {},
   "outputs": [],
   "source": [
    "from PIL import Image, ImageFilter\n",
    "\n",
    "# Open an image\n",
    "image = Image.open(\"path/to/image.jpg\")\n",
    "\n",
    "# Apply a filter (Blur)\n",
    "blurred_image = image.filter(ImageFilter.GaussianBlur(10)) # to increase the blur effect, rise the number. Its default value is 2. \n",
    "\n",
    "# Save the blurred image\n",
    "blurred_image.save(\"path/to/blurred_image.jpg\")"
   ]
  }
 ],
 "metadata": {
  "kernelspec": {
   "display_name": "Python 3 (ipykernel)",
   "language": "python",
   "name": "python3"
  },
  "language_info": {
   "codemirror_mode": {
    "name": "ipython",
    "version": 3
   },
   "file_extension": ".py",
   "mimetype": "text/x-python",
   "name": "python",
   "nbconvert_exporter": "python",
   "pygments_lexer": "ipython3",
   "version": "3.11.2"
  }
 },
 "nbformat": 4,
 "nbformat_minor": 5
}
