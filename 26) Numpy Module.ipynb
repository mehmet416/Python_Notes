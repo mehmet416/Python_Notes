{
 "cells": [
  {
   "cell_type": "markdown",
   "id": "66a03aef-1040-4e30-b485-3ff20f500971",
   "metadata": {},
   "source": [
    "# NUMPY MODULE"
   ]
  },
  {
   "cell_type": "markdown",
   "id": "fa8456c0-b968-49eb-b654-1e420e6f0770",
   "metadata": {},
   "source": [
    "NumPy is a powerful Python library for numerical and scientific computing. It provides support for multi-dimensional arrays and matrices, along with a wide range of mathematical functions to operate on these arrays efficiently. Let's go over some of the key methods and features of NumPy with examples:"
   ]
  },
  {
   "cell_type": "code",
   "execution_count": 2,
   "id": "096c7e59-ed9c-43f7-971a-06570e86f358",
   "metadata": {},
   "outputs": [],
   "source": [
    "import numpy as np\n",
    "# numpy module is generally used as \"np\""
   ]
  },
  {
   "cell_type": "markdown",
   "id": "3246c7e8-0fa9-4f3b-abea-67f4d3d142c0",
   "metadata": {},
   "source": [
    "**Advantages of NumPy:**\n",
    "\n",
    "* **Performance:** NumPy operations are implemented in C and optimized for performance. This makes NumPy significantly faster than using Python's built-in data structures for numerical computations.<br>\n",
    "* **Multidimensional Arrays:** NumPy provides efficient multi-dimensional arrays (ndarrays) that allow you to work with data of higher dimensions (such as matrices and tensors) more easily.<br>\n",
    "\n",
    "* **Memory Efficiency:** NumPy arrays are more memory-efficient than Python lists, mainly because they store elements of the same data type. This also results in better cache utilization and overall faster computations.<br>\n",
    "\n",
    "* **Vectorization:** NumPy encourages vectorized operations, where you can perform operations on entire arrays at once, eliminating the need for explicit looping. This simplifies code and improves performance.\r\n",
    "cikit-learn."
   ]
  },
  {
   "cell_type": "markdown",
   "id": "87d46d00-123f-4041-819d-c25e882c6164",
   "metadata": {
    "jp-MarkdownHeadingCollapsed": true
   },
   "source": [
    "## 1) Creating a Basic Array"
   ]
  },
  {
   "cell_type": "markdown",
   "id": "10bb2f22-c32a-4a1a-9fa3-e2612755cde1",
   "metadata": {},
   "source": [
    "To create a NumPy array, you can use the function np.array()."
   ]
  },
  {
   "cell_type": "code",
   "execution_count": 4,
   "id": "87d3ed04-f74a-4536-87d2-6beba74c633e",
   "metadata": {},
   "outputs": [
    {
     "name": "stdout",
     "output_type": "stream",
     "text": [
      "[1 2 3]\n"
     ]
    }
   ],
   "source": [
    "import numpy as np\n",
    "a = np.array([1, 2, 3])\n",
    "print(a)"
   ]
  },
  {
   "cell_type": "code",
   "execution_count": 46,
   "id": "6a6d3023-b09a-42ee-8e83-ab2892f84033",
   "metadata": {},
   "outputs": [
    {
     "name": "stdout",
     "output_type": "stream",
     "text": [
      "[1 2 3 4]\n",
      "\n",
      "[[1 2 3 4]\n",
      " [5 6 7 8]]\n"
     ]
    }
   ],
   "source": [
    "my_list = [1,2,3,4]\n",
    "arr = np.array(my_list)\n",
    "print(arr)\n",
    "print()\n",
    "my_list = [[1,2,3,4],[5,6,7,8]]\n",
    "arr = np.array(my_list)\n",
    "print(arr)\n"
   ]
  },
  {
   "cell_type": "code",
   "execution_count": 51,
   "id": "99a63173-bb30-4b4a-a3f5-901bbc38f31b",
   "metadata": {},
   "outputs": [
    {
     "data": {
      "text/plain": [
       "array([[1, 2, 3],\n",
       "       [4, 5, 6]])"
      ]
     },
     "execution_count": 51,
     "metadata": {},
     "output_type": "execute_result"
    }
   ],
   "source": [
    "# 2D arrays\n",
    "np.array([[1,2,3],[4,5,6]])"
   ]
  },
  {
   "cell_type": "code",
   "execution_count": 50,
   "id": "783c3100-67a6-440b-b94c-003cc4644f30",
   "metadata": {},
   "outputs": [
    {
     "data": {
      "text/plain": [
       "array([[[1, 2],\n",
       "        [3, 4]],\n",
       "\n",
       "       [[5, 6],\n",
       "        [7, 8]]])"
      ]
     },
     "execution_count": 50,
     "metadata": {},
     "output_type": "execute_result"
    }
   ],
   "source": [
    "# 3D arrays \n",
    "np.array([[[1,2],[3,4]],[[5,6],[7,8]]])"
   ]
  },
  {
   "cell_type": "code",
   "execution_count": 53,
   "id": "ce5f6431-3123-45ee-93f5-cbeb32cf5dbb",
   "metadata": {},
   "outputs": [
    {
     "data": {
      "text/plain": [
       "2"
      ]
     },
     "execution_count": 53,
     "metadata": {},
     "output_type": "execute_result"
    }
   ],
   "source": [
    "# Get Dimension\n",
    "a =np.array([[1,2,3],[4,5,6]])\n",
    "a.ndim"
   ]
  },
  {
   "cell_type": "code",
   "execution_count": 55,
   "id": "904bdbe6-0490-48d0-8494-7469077b18f6",
   "metadata": {},
   "outputs": [
    {
     "name": "stdout",
     "output_type": "stream",
     "text": [
      "a--> (2, 3) \n",
      " b--> (2, 3)\n"
     ]
    }
   ],
   "source": [
    "# Get Shape\n",
    "a = np.array([[1,2,3],[4,5,6]])\n",
    "b = np.array([[2,3,4],[5,6,7]])\n",
    "print(\"a-->\",a.shape,\"\\n\", \"b-->\",b.shape)"
   ]
  },
  {
   "cell_type": "markdown",
   "id": "5a190f09-803d-4381-bcd6-38d53eb50b44",
   "metadata": {},
   "source": [
    "**Arrays Filled with zeros, ones and other nums**"
   ]
  },
  {
   "cell_type": "code",
   "execution_count": 11,
   "id": "4bd9bf22-db7c-4755-a2a8-355692b64297",
   "metadata": {},
   "outputs": [
    {
     "data": {
      "text/plain": [
       "array([0., 0.])"
      ]
     },
     "execution_count": 11,
     "metadata": {},
     "output_type": "execute_result"
    }
   ],
   "source": [
    "# Besides creating an array from a sequence of elements, you can easily create an array filled with 0’s:\n",
    "np.zeros(2)"
   ]
  },
  {
   "cell_type": "code",
   "execution_count": 12,
   "id": "337ae50b-3c03-4864-8146-0846aefab8be",
   "metadata": {},
   "outputs": [
    {
     "data": {
      "text/plain": [
       "array([[0., 0., 0.],\n",
       "       [0., 0., 0.]])"
      ]
     },
     "execution_count": 12,
     "metadata": {},
     "output_type": "execute_result"
    }
   ],
   "source": [
    "np.zeros((2,3))"
   ]
  },
  {
   "cell_type": "code",
   "execution_count": 13,
   "id": "8e7d4981-6f2c-4fe1-8aef-a82ed716c167",
   "metadata": {},
   "outputs": [
    {
     "data": {
      "text/plain": [
       "array([[[0., 0., 0., 0.],\n",
       "        [0., 0., 0., 0.],\n",
       "        [0., 0., 0., 0.]],\n",
       "\n",
       "       [[0., 0., 0., 0.],\n",
       "        [0., 0., 0., 0.],\n",
       "        [0., 0., 0., 0.]]])"
      ]
     },
     "execution_count": 13,
     "metadata": {},
     "output_type": "execute_result"
    }
   ],
   "source": [
    "np.zeros((2,3,4))"
   ]
  },
  {
   "cell_type": "code",
   "execution_count": 14,
   "id": "9b202aa6-24a4-4599-9ca3-34f8bab4fe2b",
   "metadata": {},
   "outputs": [
    {
     "data": {
      "text/plain": [
       "array([1., 1.])"
      ]
     },
     "execution_count": 14,
     "metadata": {},
     "output_type": "execute_result"
    }
   ],
   "source": [
    "# Or an array filled with 1’s:\n",
    "np.ones(2)"
   ]
  },
  {
   "cell_type": "code",
   "execution_count": 29,
   "id": "da86bdb0-a0cb-4cfd-b43a-add9eb163dac",
   "metadata": {},
   "outputs": [
    {
     "data": {
      "text/plain": [
       "array([[99, 99],\n",
       "       [99, 99]])"
      ]
     },
     "execution_count": 29,
     "metadata": {},
     "output_type": "execute_result"
    }
   ],
   "source": [
    "# Any other number\n",
    "np.full((2,2), 99)"
   ]
  },
  {
   "cell_type": "code",
   "execution_count": 31,
   "id": "1b668415-e0c8-46b6-8037-5383e1319d48",
   "metadata": {},
   "outputs": [
    {
     "data": {
      "text/plain": [
       "array([[4, 4, 4],\n",
       "       [4, 4, 4]])"
      ]
     },
     "execution_count": 31,
     "metadata": {},
     "output_type": "execute_result"
    }
   ],
   "source": [
    "a = np.array([[1,2,3],[4,5,6]]) \n",
    "# Any other number (full_like)\n",
    "np.full_like(a, 4)"
   ]
  },
  {
   "cell_type": "code",
   "execution_count": 19,
   "id": "aaf49214-40c3-4d66-9727-9530389f6c32",
   "metadata": {},
   "outputs": [
    {
     "data": {
      "text/plain": [
       "array([1., 1.])"
      ]
     },
     "execution_count": 19,
     "metadata": {},
     "output_type": "execute_result"
    }
   ],
   "source": [
    "# Or even an empty array! The function empty creates an array whose initial content is random and depends on the state of the memory. \n",
    "# The reason to use empty over zeros (or something similar) is speed - just make sure to fill every element afterwards!\n",
    "np.empty(2) "
   ]
  },
  {
   "cell_type": "code",
   "execution_count": 20,
   "id": "3d91f643-eb49-45f1-b49d-4e285dfedeff",
   "metadata": {},
   "outputs": [
    {
     "data": {
      "text/plain": [
       "array([0, 1, 2, 3])"
      ]
     },
     "execution_count": 20,
     "metadata": {},
     "output_type": "execute_result"
    }
   ],
   "source": [
    "# You can create an array with a range of elements:\n",
    "np.arange(4)"
   ]
  },
  {
   "cell_type": "code",
   "execution_count": 28,
   "id": "4880ea6b-150b-4995-91ac-f230ee43b574",
   "metadata": {},
   "outputs": [
    {
     "data": {
      "text/plain": [
       "array([2, 4, 6, 8])"
      ]
     },
     "execution_count": 28,
     "metadata": {},
     "output_type": "execute_result"
    }
   ],
   "source": [
    "# And even an array that contains a range of evenly spaced intervals. To do this, you will specify the first number, last number, and the step size.\n",
    "np.arange(2, 9, 2,)"
   ]
  },
  {
   "cell_type": "code",
   "execution_count": 30,
   "id": "652205ea-b271-461c-8830-168efa26b9e3",
   "metadata": {},
   "outputs": [
    {
     "data": {
      "text/plain": [
       "array([[2, 4],\n",
       "       [6, 8]])"
      ]
     },
     "execution_count": 30,
     "metadata": {},
     "output_type": "execute_result"
    }
   ],
   "source": [
    "np.arange(2, 9, 2).reshape(2,2)"
   ]
  },
  {
   "cell_type": "code",
   "execution_count": 31,
   "id": "32c2a2dd-028e-4842-b5a1-3879c8291213",
   "metadata": {},
   "outputs": [
    {
     "data": {
      "text/plain": [
       "array([ 0. ,  2.5,  5. ,  7.5, 10. ])"
      ]
     },
     "execution_count": 31,
     "metadata": {},
     "output_type": "execute_result"
    }
   ],
   "source": [
    "# You can also use np.linspace() to create an array with values that are spaced linearly in a specified interval:\n",
    "np.linspace(0, 10, num=5)"
   ]
  },
  {
   "cell_type": "markdown",
   "id": "5497aa37-69b0-4e28-a5c5-e2f1d51902ca",
   "metadata": {},
   "source": [
    "**Specifying your data type**\n",
    "\n",
    "While the default data type is floating point (np.float64), you can explicitly specify which data type you want using the **dtype** keyword."
   ]
  },
  {
   "cell_type": "code",
   "execution_count": 32,
   "id": "15ca72b1-9415-4f06-8441-7d3a23f50f3f",
   "metadata": {},
   "outputs": [
    {
     "data": {
      "text/plain": [
       "array([1, 1], dtype=int64)"
      ]
     },
     "execution_count": 32,
     "metadata": {},
     "output_type": "execute_result"
    }
   ],
   "source": [
    "x = np.ones(2, dtype=np.int64)\n",
    "x"
   ]
  },
  {
   "cell_type": "markdown",
   "id": "5fe6d166-68a8-4ebc-b229-e90da5f88caa",
   "metadata": {},
   "source": [
    "**What does int8, int32, int64 mean?**\n",
    "These terms refer to different data types for representing integers with varying ranges of values. The numbers in these terms represent the number of bits used to store each integer, which in turn determines the range of values that can be represented using that data type. For example: \n",
    "* int8 (8-bit integer):<br>\n",
    "* \r\n",
    "Uses 8 bits (1 byte) to store each intege<br>\n",
    "* .\r\n",
    "Range: From -128 to 127 (inclusiv\n",
    "\n",
    "The more bit, the more possible data to storage, also the more memory usage.e)."
   ]
  },
  {
   "cell_type": "code",
   "execution_count": 38,
   "id": "fb56212a-4649-41a9-9034-35d5bbfead89",
   "metadata": {},
   "outputs": [
    {
     "name": "stderr",
     "output_type": "stream",
     "text": [
      "C:\\Users\\Mehmet Emin\\AppData\\Local\\Temp\\ipykernel_14384\\1788730000.py:2: DeprecationWarning: NumPy will stop allowing conversion of out-of-bound Python integers to integer arrays.  The conversion of -129 to int8 will fail in the future.\n",
      "For the old behavior, usually:\n",
      "    np.array(value).astype(dtype)\n",
      "will give the desired result (the cast overflows).\n",
      "  np.array([127,12,0,-12,-128, -129, 128], dtype= np.int8)\n",
      "C:\\Users\\Mehmet Emin\\AppData\\Local\\Temp\\ipykernel_14384\\1788730000.py:2: DeprecationWarning: NumPy will stop allowing conversion of out-of-bound Python integers to integer arrays.  The conversion of 128 to int8 will fail in the future.\n",
      "For the old behavior, usually:\n",
      "    np.array(value).astype(dtype)\n",
      "will give the desired result (the cast overflows).\n",
      "  np.array([127,12,0,-12,-128, -129, 128], dtype= np.int8)\n"
     ]
    },
    {
     "data": {
      "text/plain": [
       "array([ 127,   12,    0,  -12, -128,  127, -128], dtype=int8)"
      ]
     },
     "execution_count": 38,
     "metadata": {},
     "output_type": "execute_result"
    }
   ],
   "source": [
    "# Make sure that you use the right dtype for your data\n",
    "np.array([127,12,0,-12,-128, -129, 128], dtype= np.int8)"
   ]
  },
  {
   "cell_type": "code",
   "execution_count": 39,
   "id": "a500afcc-14a0-4fc9-a3e8-664d70b5b2d4",
   "metadata": {},
   "outputs": [
    {
     "data": {
      "text/plain": [
       "array([ 127,   12,    0,  -12, -128, -129,  128])"
      ]
     },
     "execution_count": 39,
     "metadata": {},
     "output_type": "execute_result"
    }
   ],
   "source": [
    "np.array([127,12,0,-12,-128, -129, 128], dtype= np.int32)"
   ]
  },
  {
   "cell_type": "markdown",
   "id": "f4de443e-74ce-4d25-a9fa-777e73f37397",
   "metadata": {},
   "source": [
    " **Using Multiple Datatype in Arrays**<br>\n",
    " It is possible to use multiple datatypes in arrays with some ways, but generally arrays use one type of data since it is more efficient.\n",
    " Use .dtype method to see what datatype an array uses"
   ]
  },
  {
   "cell_type": "code",
   "execution_count": 42,
   "id": "c07d36e0-8b28-45da-af87-50722258d905",
   "metadata": {},
   "outputs": [
    {
     "name": "stdout",
     "output_type": "stream",
     "text": [
      "[(1, 2. , b'Hello') (2, 3.5, b'World')]\n",
      "[('x', '<i4'), ('y', '<f8'), ('z', 'S10')]\n"
     ]
    }
   ],
   "source": [
    "# Structured Arrays\n",
    "\n",
    "data = np.array([(1, 2.0, 'Hello'), (2, 3.5, 'World')], dtype=[('x', int), ('y', float), ('z', 'S10')])\n",
    "print(data)\n",
    "print(data.dtype)"
   ]
  },
  {
   "cell_type": "code",
   "execution_count": 43,
   "id": "04a46995-d1b2-465f-9c1e-3a5f3c6b2dcd",
   "metadata": {},
   "outputs": [
    {
     "name": "stdout",
     "output_type": "stream",
     "text": [
      "[1 'Hello' 3.14 list([1, 2, 3])]\n",
      "object\n"
     ]
    }
   ],
   "source": [
    "# Object Arrays\n",
    "data = np.array([1, 'Hello', 3.14, [1, 2, 3]], dtype=object)\n",
    "print(data)\n",
    "print(data.dtype)"
   ]
  },
  {
   "cell_type": "markdown",
   "id": "ffbbc773-7c92-4697-a110-3c160cfdfe83",
   "metadata": {},
   "source": [
    "**2D array creation functions**"
   ]
  },
  {
   "cell_type": "markdown",
   "id": "c8e3bb30-f38a-4c14-817e-8f7a66dc3710",
   "metadata": {},
   "source": [
    "The 2D array creation functions e.g. **numpy.eye**, **np.identity**, **numpy.diag**, and **numpy.vander** define properties of special matrices represented as 2D arrays."
   ]
  },
  {
   "cell_type": "markdown",
   "id": "053840b4-585e-4237-9e45-5d76d8784735",
   "metadata": {},
   "source": [
    "* np.eye(n, m) defines a 2D identity matrix. The elements where i=j (row index and column index are equal) are 1 and the rest are 0, as such:\n",
    "* np.identity(n) also gives the same result, but np.eye is more flexible."
   ]
  },
  {
   "cell_type": "code",
   "execution_count": 3,
   "id": "2a78ab95-44d7-41a0-9178-d9645c40e0a1",
   "metadata": {},
   "outputs": [
    {
     "data": {
      "text/plain": [
       "array([[1., 0., 0.],\n",
       "       [0., 1., 0.],\n",
       "       [0., 0., 1.]])"
      ]
     },
     "execution_count": 3,
     "metadata": {},
     "output_type": "execute_result"
    }
   ],
   "source": [
    "np.eye(3)"
   ]
  },
  {
   "cell_type": "code",
   "execution_count": 4,
   "id": "36a08497-1f71-469f-9de0-221b70a52bfb",
   "metadata": {},
   "outputs": [
    {
     "data": {
      "text/plain": [
       "array([[1., 0., 0., 0., 0.],\n",
       "       [0., 1., 0., 0., 0.],\n",
       "       [0., 0., 1., 0., 0.]])"
      ]
     },
     "execution_count": 4,
     "metadata": {},
     "output_type": "execute_result"
    }
   ],
   "source": [
    "np.eye(3, 5)"
   ]
  },
  {
   "cell_type": "code",
   "execution_count": 26,
   "id": "09e4a454-7b9b-464d-bc69-938317e2c22d",
   "metadata": {},
   "outputs": [
    {
     "data": {
      "text/plain": [
       "array([[0., 1., 0., 0., 0.],\n",
       "       [0., 0., 1., 0., 0.],\n",
       "       [0., 0., 0., 1., 0.]])"
      ]
     },
     "execution_count": 26,
     "metadata": {},
     "output_type": "execute_result"
    }
   ],
   "source": [
    "np.eye(3,5, k=1)"
   ]
  },
  {
   "cell_type": "code",
   "execution_count": 28,
   "id": "3c7c0d2f-a2fb-4149-b97f-f468d0919a07",
   "metadata": {},
   "outputs": [
    {
     "data": {
      "text/plain": [
       "array([[1., 0., 0., 0., 0.],\n",
       "       [0., 1., 0., 0., 0.],\n",
       "       [0., 0., 1., 0., 0.],\n",
       "       [0., 0., 0., 1., 0.],\n",
       "       [0., 0., 0., 0., 1.]])"
      ]
     },
     "execution_count": 28,
     "metadata": {},
     "output_type": "execute_result"
    }
   ],
   "source": [
    "np.identity(5)"
   ]
  },
  {
   "cell_type": "markdown",
   "id": "5f5430d0-1591-4881-88c7-ed84d8104243",
   "metadata": {},
   "source": [
    "* numpy.diag can define either a square 2D array with given values along the diagonal or if given a 2D array returns a 1D array that is only the diagonal elements. The two array creation functions can be helpful while doing linear algebra, as such:"
   ]
  },
  {
   "cell_type": "code",
   "execution_count": 5,
   "id": "de6af686-4376-40a5-a17b-b48b30588d88",
   "metadata": {},
   "outputs": [
    {
     "data": {
      "text/plain": [
       "array([[1, 0, 0],\n",
       "       [0, 2, 0],\n",
       "       [0, 0, 3]])"
      ]
     },
     "execution_count": 5,
     "metadata": {},
     "output_type": "execute_result"
    }
   ],
   "source": [
    "np.diag([1, 2, 3])"
   ]
  },
  {
   "cell_type": "code",
   "execution_count": 6,
   "id": "6eeaabf3-9204-4ba1-96f3-20a659bb3e10",
   "metadata": {},
   "outputs": [
    {
     "data": {
      "text/plain": [
       "array([[0, 1, 0, 0],\n",
       "       [0, 0, 2, 0],\n",
       "       [0, 0, 0, 3],\n",
       "       [0, 0, 0, 0]])"
      ]
     },
     "execution_count": 6,
     "metadata": {},
     "output_type": "execute_result"
    }
   ],
   "source": [
    "np.diag([1, 2, 3], 1)"
   ]
  },
  {
   "cell_type": "code",
   "execution_count": 7,
   "id": "e480d73f-1554-47fa-b11f-b2f4f352d4c7",
   "metadata": {},
   "outputs": [
    {
     "data": {
      "text/plain": [
       "array([1, 4])"
      ]
     },
     "execution_count": 7,
     "metadata": {},
     "output_type": "execute_result"
    }
   ],
   "source": [
    "a = np.array([[1, 2], [3, 4]])\n",
    "np.diag(a)"
   ]
  },
  {
   "cell_type": "markdown",
   "id": "030581e2-4fd9-4516-a4e9-f30984fdd93f",
   "metadata": {},
   "source": [
    "* vander(x, n) defines a Vandermonde matrix as a 2D NumPy array. Each column of the Vandermonde matrix is a decreasing power of the input 1D array or list or tuple, x where the highest polynomial order is n-1. This array creation routine is helpful in generating linear least squares models, as such:"
   ]
  },
  {
   "cell_type": "code",
   "execution_count": 8,
   "id": "ac6c164f-8012-4cef-8700-993f84c1b1c5",
   "metadata": {},
   "outputs": [
    {
     "data": {
      "text/plain": [
       "array([[0. , 1. ],\n",
       "       [0.5, 1. ],\n",
       "       [1. , 1. ],\n",
       "       [1.5, 1. ],\n",
       "       [2. , 1. ]])"
      ]
     },
     "execution_count": 8,
     "metadata": {},
     "output_type": "execute_result"
    }
   ],
   "source": [
    "np.vander(np.linspace(0, 2, 5), 2)"
   ]
  },
  {
   "cell_type": "code",
   "execution_count": 9,
   "id": "ea1d91e1-400b-4356-9299-ac5dafef6d02",
   "metadata": {},
   "outputs": [
    {
     "data": {
      "text/plain": [
       "array([[1, 1],\n",
       "       [2, 1],\n",
       "       [3, 1],\n",
       "       [4, 1]])"
      ]
     },
     "execution_count": 9,
     "metadata": {},
     "output_type": "execute_result"
    }
   ],
   "source": [
    "np.vander([1, 2, 3, 4], 2)"
   ]
  },
  {
   "cell_type": "code",
   "execution_count": 10,
   "id": "c28047ed-c4d6-4ada-b061-efc270b725a3",
   "metadata": {},
   "outputs": [
    {
     "data": {
      "text/plain": [
       "array([[ 1,  1,  1,  1],\n",
       "       [ 8,  4,  2,  1],\n",
       "       [27,  9,  3,  1],\n",
       "       [64, 16,  4,  1]])"
      ]
     },
     "execution_count": 10,
     "metadata": {},
     "output_type": "execute_result"
    }
   ],
   "source": [
    "np.vander((1, 2, 3, 4), 4)"
   ]
  },
  {
   "cell_type": "markdown",
   "id": "18ca4bf1-25ab-4605-9bac-c44d8032c6b7",
   "metadata": {},
   "source": [
    "**Random Array Creation**"
   ]
  },
  {
   "cell_type": "markdown",
   "id": "8d1ab44e-72b8-4145-acdd-b1e342da8b91",
   "metadata": {},
   "source": [
    "* np.random.rand(shape) - Generating Random Numbers:<br>\n",
    "This function generates random numbers between 0 and 1 and returns a NumPy array with the specified shape.\n",
    "* np.random.randn(shape) - Generating Random Numbers:<br>\n",
    "This function generates random numbers between -1 and 1 and returns a NumPy array with the specified shape in Gausian Distribution."
   ]
  },
  {
   "cell_type": "code",
   "execution_count": 12,
   "id": "7660492b-51fa-4915-b3fe-a5ec70fd602a",
   "metadata": {},
   "outputs": [
    {
     "data": {
      "text/plain": [
       "array([[0.67385044, 0.78605789, 0.33857567, 0.5990439 ],\n",
       "       [0.64897366, 0.38778215, 0.55968051, 0.211053  ],\n",
       "       [0.37132441, 0.55158923, 0.75097415, 0.02688612]])"
      ]
     },
     "execution_count": 12,
     "metadata": {},
     "output_type": "execute_result"
    }
   ],
   "source": [
    "np.random.rand(3, 4)"
   ]
  },
  {
   "cell_type": "code",
   "execution_count": 19,
   "id": "11afe248-fcdd-418d-afc4-8f984b380a37",
   "metadata": {},
   "outputs": [
    {
     "data": {
      "text/plain": [
       "array([[-0.93656865, -0.947621  ,  1.62435384, -1.20960401],\n",
       "       [ 0.56801077,  0.19870332, -0.2337022 , -0.21184441],\n",
       "       [ 0.19264891,  0.69436724,  0.35338066, -0.87407165]])"
      ]
     },
     "execution_count": 19,
     "metadata": {},
     "output_type": "execute_result"
    }
   ],
   "source": [
    "np.random.randn(3,4)"
   ]
  },
  {
   "cell_type": "markdown",
   "id": "e0c78cdd-2df3-4c44-890e-2d0226aca8ac",
   "metadata": {},
   "source": [
    "* np.random.randint(low, high, size) - Generating Random Integers in a Range:<br>\n",
    "This function generates random integers within a specified range (low inclusive, high exclusive)."
   ]
  },
  {
   "cell_type": "code",
   "execution_count": 15,
   "id": "906970b4-da2a-4016-907b-c9b4f9a16f52",
   "metadata": {},
   "outputs": [
    {
     "data": {
      "text/plain": [
       "array([1, 2, 6, 8, 5])"
      ]
     },
     "execution_count": 15,
     "metadata": {},
     "output_type": "execute_result"
    }
   ],
   "source": [
    "np.random.randint(1, 10, size=5)"
   ]
  },
  {
   "cell_type": "code",
   "execution_count": 20,
   "id": "aee47a27-8cf1-4d7b-9a25-6a8be6d71bca",
   "metadata": {},
   "outputs": [
    {
     "data": {
      "text/plain": [
       "array([[4, 9, 1],\n",
       "       [9, 1, 7]])"
      ]
     },
     "execution_count": 20,
     "metadata": {},
     "output_type": "execute_result"
    }
   ],
   "source": [
    "np.random.randint(1, 10, size=(2,3))"
   ]
  },
  {
   "cell_type": "markdown",
   "id": "40c48002-57b5-4d55-92a1-56e44cda5677",
   "metadata": {},
   "source": [
    "* np.random.normal(mean, std, size) - Generating Random Numbers from Normal Distribution:<br>\n",
    "This function generates random numbers following a normal distribution with the specified mean and standard deviation."
   ]
  },
  {
   "cell_type": "code",
   "execution_count": 18,
   "id": "95a839df-f8a5-418d-bd06-30aa9af07b18",
   "metadata": {},
   "outputs": [
    {
     "data": {
      "text/plain": [
       "array([ 0.46517874, -1.17532182,  0.34156089, -0.42629541,  0.79734876,\n",
       "        0.07225738,  1.01425164,  0.11053314,  2.14015886,  0.07784012])"
      ]
     },
     "execution_count": 18,
     "metadata": {},
     "output_type": "execute_result"
    }
   ],
   "source": [
    "np.random.normal(0, 1, size=10)"
   ]
  },
  {
   "cell_type": "markdown",
   "id": "5f3589f7-8bca-4f9b-9097-612cb142e154",
   "metadata": {},
   "source": [
    "**Itemsize and Size**"
   ]
  },
  {
   "cell_type": "markdown",
   "id": "0185fde2-2e42-4beb-b3ed-caff77ec3499",
   "metadata": {},
   "source": [
    "* itemsize:<br>\n",
    "The itemsize attribute of a NumPy array represents the number of bytes used to store each individual element (item) in the array. It gives you the memory size of a single element in the array. Use .nbytes to get total size."
   ]
  },
  {
   "cell_type": "code",
   "execution_count": 21,
   "id": "cdb3a2f3-485e-4b60-ac25-22ff62dc76d1",
   "metadata": {},
   "outputs": [
    {
     "data": {
      "text/plain": [
       "4"
      ]
     },
     "execution_count": 21,
     "metadata": {},
     "output_type": "execute_result"
    }
   ],
   "source": [
    "int_array = np.array([1, 2, 3, 4], dtype=np.int32)\n",
    "int_array.itemsize  # Returns 4"
   ]
  },
  {
   "cell_type": "code",
   "execution_count": 25,
   "id": "306f1359-f392-429a-a40e-add40b82fcf1",
   "metadata": {},
   "outputs": [
    {
     "data": {
      "text/plain": [
       "16"
      ]
     },
     "execution_count": 25,
     "metadata": {},
     "output_type": "execute_result"
    }
   ],
   "source": [
    "int_array.nbytes  #items*itemsize"
   ]
  },
  {
   "cell_type": "markdown",
   "id": "8273ea83-5638-45b0-97db-af0bffadcf64",
   "metadata": {},
   "source": [
    "* size:<br>\n",
    "The size attribute of a NumPy array gives the total number of elements in the array. It indicates the count of elements, regardless of their individual sizes."
   ]
  },
  {
   "cell_type": "code",
   "execution_count": 23,
   "id": "cf8acc86-39e7-42a0-afe1-e8bf4b640dad",
   "metadata": {},
   "outputs": [
    {
     "data": {
      "text/plain": [
       "6"
      ]
     },
     "execution_count": 23,
     "metadata": {},
     "output_type": "execute_result"
    }
   ],
   "source": [
    "arr = np.array([[1, 2, 3], [4, 5, 6]])\n",
    "arr.size  # Returns 6 (two rows with three elements each)"
   ]
  },
  {
   "cell_type": "markdown",
   "id": "2f43c733-e5d0-4ca3-abdc-e0d7f8808c38",
   "metadata": {
    "jp-MarkdownHeadingCollapsed": true
   },
   "source": [
    "## 2) Indexing and Slicing"
   ]
  },
  {
   "cell_type": "markdown",
   "id": "9be84fcc-eb58-4a39-810d-5d1947474454",
   "metadata": {},
   "source": [
    "**Single element indexing**<br>\n",
    "Single element indexing works exactly like that for other standard Python sequences. It is 0-based, and accepts negative indices for indexing from the end of the array."
   ]
  },
  {
   "cell_type": "code",
   "execution_count": 35,
   "id": "a58fa933-4994-4708-834c-1876ec2ae032",
   "metadata": {},
   "outputs": [
    {
     "name": "stdout",
     "output_type": "stream",
     "text": [
      "[0 1 2 3 4 5 6 7 8 9]\n"
     ]
    },
    {
     "data": {
      "text/plain": [
       "2"
      ]
     },
     "execution_count": 35,
     "metadata": {},
     "output_type": "execute_result"
    }
   ],
   "source": [
    "x = np.arange(10)\n",
    "print(x)\n",
    "x[2]"
   ]
  },
  {
   "cell_type": "code",
   "execution_count": 33,
   "id": "9720ca2c-4fc8-4958-8312-c5f0adaf4ee3",
   "metadata": {},
   "outputs": [
    {
     "data": {
      "text/plain": [
       "8"
      ]
     },
     "execution_count": 33,
     "metadata": {},
     "output_type": "execute_result"
    }
   ],
   "source": [
    "x[-2]"
   ]
  },
  {
   "cell_type": "code",
   "execution_count": 36,
   "id": "af8f75c7-d0d2-4e07-ae87-f664dfdbc971",
   "metadata": {},
   "outputs": [
    {
     "name": "stdout",
     "output_type": "stream",
     "text": [
      "[[0 1 2 3 4]\n",
      " [5 6 7 8 9]]\n"
     ]
    },
    {
     "data": {
      "text/plain": [
       "8"
      ]
     },
     "execution_count": 36,
     "metadata": {},
     "output_type": "execute_result"
    }
   ],
   "source": [
    "x.shape = (2, 5)  # now x is 2-dimensional\n",
    "print(x)\n",
    "x[1, 3]"
   ]
  },
  {
   "cell_type": "markdown",
   "id": "80801c77-b625-4754-b9c0-a5f5893192a5",
   "metadata": {},
   "source": [
    "Note that if one indexes a multidimensional array with fewer indices than dimensions, one gets a subdimensional array. For example:"
   ]
  },
  {
   "cell_type": "code",
   "execution_count": 37,
   "id": "20486ab1-1172-4b63-8eeb-5b9cc89f2626",
   "metadata": {},
   "outputs": [
    {
     "data": {
      "text/plain": [
       "array([0, 1, 2, 3, 4])"
      ]
     },
     "execution_count": 37,
     "metadata": {},
     "output_type": "execute_result"
    }
   ],
   "source": [
    "x[0]"
   ]
  },
  {
   "cell_type": "markdown",
   "id": "55517952-0794-4029-be39-cfbb3dedbf74",
   "metadata": {},
   "source": [
    "note that x[0, 2] == x[0][2] though the second case is more inefficient as a new temporary array is created after the first index that is subsequently indexed by 2."
   ]
  },
  {
   "cell_type": "code",
   "execution_count": 38,
   "id": "e3b480d7-a703-4147-afef-a92d26673a77",
   "metadata": {},
   "outputs": [
    {
     "data": {
      "text/plain": [
       "2"
      ]
     },
     "execution_count": 38,
     "metadata": {},
     "output_type": "execute_result"
    }
   ],
   "source": [
    "x[0][2]"
   ]
  },
  {
   "cell_type": "markdown",
   "id": "acc2327e-1d88-4a43-8309-81b6425014f1",
   "metadata": {},
   "source": [
    "**Slicing and Striding**"
   ]
  },
  {
   "cell_type": "markdown",
   "id": "21574089-d19d-4b90-ad9f-f3bf8e0024e9",
   "metadata": {},
   "source": [
    "Basic slicing extends Python’s basic concept of slicing to N dimensions. Basic slicing occurs when obj is a slice object (constructed by start:stop:step notation inside of brackets), an integer, or a tuple of slice objects and integers.<br>\n",
    "The basic slice syntax is i:j:k where i is the starting index, j is the stopping index, and k is the step (k is not 0\n",
    ")."
   ]
  },
  {
   "cell_type": "code",
   "execution_count": 39,
   "id": "4e0b22d9-a5ca-4431-bfb1-e84144cadd20",
   "metadata": {},
   "outputs": [
    {
     "data": {
      "text/plain": [
       "array([1, 3, 5])"
      ]
     },
     "execution_count": 39,
     "metadata": {},
     "output_type": "execute_result"
    }
   ],
   "source": [
    "x = np.array([0, 1, 2, 3, 4, 5, 6, 7, 8, 9])\n",
    "x[1:7:2]"
   ]
  },
  {
   "cell_type": "code",
   "execution_count": 40,
   "id": "f42fda20-37dd-403f-a4a1-8051f7ef8ad1",
   "metadata": {},
   "outputs": [
    {
     "data": {
      "text/plain": [
       "array([8, 9])"
      ]
     },
     "execution_count": 40,
     "metadata": {},
     "output_type": "execute_result"
    }
   ],
   "source": [
    "# Negative i and j are interpreted as n + i and n + j where n is the number of elements in the corresponding dimension. \n",
    "# Negative k makes stepping go towards smaller indices. From the above example:\n",
    "x[-2:10]"
   ]
  },
  {
   "cell_type": "code",
   "execution_count": 41,
   "id": "13b19714-f394-4b0e-8005-2697eb31b477",
   "metadata": {},
   "outputs": [
    {
     "data": {
      "text/plain": [
       "array([7, 6, 5, 4])"
      ]
     },
     "execution_count": 41,
     "metadata": {},
     "output_type": "execute_result"
    }
   ],
   "source": [
    "x[-3:3:-1]"
   ]
  },
  {
   "cell_type": "markdown",
   "id": "c2a7882a-734d-4bb8-ac25-a7462955a51b",
   "metadata": {},
   "source": [
    "If the number of objects in the selection tuple is less than N, then : is assumed for any subsequent dimensions. For example:"
   ]
  },
  {
   "cell_type": "code",
   "execution_count": 42,
   "id": "bbdb125c-6c2f-4bf4-85a1-fc75fb8c8cfd",
   "metadata": {},
   "outputs": [
    {
     "name": "stdout",
     "output_type": "stream",
     "text": [
      "[[[1]\n",
      "  [2]\n",
      "  [3]]\n",
      "\n",
      " [[4]\n",
      "  [5]\n",
      "  [6]]]\n"
     ]
    },
    {
     "data": {
      "text/plain": [
       "(2, 3, 1)"
      ]
     },
     "execution_count": 42,
     "metadata": {},
     "output_type": "execute_result"
    }
   ],
   "source": [
    "x = np.array([[[1],[2],[3]], [[4],[5],[6]]])\n",
    "print(x)\n",
    "x.shape"
   ]
  },
  {
   "cell_type": "code",
   "execution_count": 43,
   "id": "32d436d0-0555-4961-86bb-cc8cf68f485c",
   "metadata": {},
   "outputs": [
    {
     "data": {
      "text/plain": [
       "array([[[4],\n",
       "        [5],\n",
       "        [6]]])"
      ]
     },
     "execution_count": 43,
     "metadata": {},
     "output_type": "execute_result"
    }
   ],
   "source": [
    "x[1:2]"
   ]
  },
  {
   "cell_type": "code",
   "execution_count": 44,
   "id": "72f44673-44f5-4f2f-91c9-c84ffb0eaef0",
   "metadata": {},
   "outputs": [
    {
     "name": "stdout",
     "output_type": "stream",
     "text": [
      "[[1 2 3]\n",
      " [4 5 6]\n",
      " [7 8 9]]\n",
      "2\n",
      "[[4 5]\n",
      " [7 8]]\n"
     ]
    }
   ],
   "source": [
    "matrix = np.array([[1, 2, 3], [4, 5, 6], [7, 8, 9]])\n",
    "print(matrix)\n",
    "print(matrix[0, 1])  # Access element at row 0, column 1 (2)\n",
    "print(matrix[1:, :2])  # Extract subarray from rows 1 and 2, and columns 0 and 1"
   ]
  },
  {
   "cell_type": "code",
   "execution_count": 46,
   "id": "e3b20873-be19-4a78-8dab-ca7f40eda6d5",
   "metadata": {},
   "outputs": [
    {
     "name": "stdout",
     "output_type": "stream",
     "text": [
      "[[ 1  2  3  4  5  6  7]\n",
      " [ 8  9 10 11 12 13 14]]\n",
      "13\n",
      "[1 2 3 4 5 6 7]\n",
      "[ 3 10]\n",
      "[2 4 6]\n"
     ]
    }
   ],
   "source": [
    "a = np.array([[1,2,3,4,5,6,7],[8,9,10,11,12,13,14]])\n",
    "print(a)\n",
    "# Get a specific element [r, c]\n",
    "print(a[1, 5])\n",
    "\n",
    "# Get a specific row \n",
    "print(a[0, :])\n",
    "\n",
    "# Get a specific column\n",
    "print(a[:, 2])\n",
    "\n",
    "# Getting a little more fancy [startindex:endindex:stepsize]\n",
    "print(a[0, 1:-1:2])\n"
   ]
  },
  {
   "cell_type": "code",
   "execution_count": 85,
   "id": "a0054a99-3145-4ca1-8fe5-38863f162c8f",
   "metadata": {},
   "outputs": [
    {
     "name": "stdout",
     "output_type": "stream",
     "text": [
      "[[[1 2]\n",
      "  [3 4]]\n",
      "\n",
      " [[5 6]\n",
      "  [7 8]]]\n"
     ]
    },
    {
     "ename": "ValueError",
     "evalue": "setting an array element with a sequence. The requested array has an inhomogeneous shape after 1 dimensions. The detected shape was (2,) + inhomogeneous part.",
     "output_type": "error",
     "traceback": [
      "\u001b[1;31m---------------------------------------------------------------------------\u001b[0m",
      "\u001b[1;31mValueError\u001b[0m                                Traceback (most recent call last)",
      "Cell \u001b[1;32mIn[85], line 5\u001b[0m\n\u001b[0;32m      2\u001b[0m \u001b[38;5;28mprint\u001b[39m(b)\n\u001b[0;32m      4\u001b[0m \u001b[38;5;66;03m# replace \u001b[39;00m\n\u001b[1;32m----> 5\u001b[0m \u001b[43mb\u001b[49m\u001b[43m[\u001b[49m\u001b[43m:\u001b[49m\u001b[43m,\u001b[49m\u001b[38;5;241;43m1\u001b[39;49m\u001b[43m,\u001b[49m\u001b[43m:\u001b[49m\u001b[43m]\u001b[49m \u001b[38;5;241m=\u001b[39m [[\u001b[38;5;241m9\u001b[39m,\u001b[38;5;241m9\u001b[39m,\u001b[38;5;241m9\u001b[39m],[\u001b[38;5;241m8\u001b[39m,\u001b[38;5;241m8\u001b[39m]]\n",
      "\u001b[1;31mValueError\u001b[0m: setting an array element with a sequence. The requested array has an inhomogeneous shape after 1 dimensions. The detected shape was (2,) + inhomogeneous part."
     ]
    }
   ],
   "source": [
    "b = np.array([[[1,2],[3,4]],[[5,6],[7,8]]])\n",
    "print(b)\n",
    "\n",
    "# replace \n",
    "b[:,1,:] = [[9,9,9],[8,8]]"
   ]
  },
  {
   "cell_type": "code",
   "execution_count": 48,
   "id": "245336ee-7266-4459-a5ab-4e7cc05d39af",
   "metadata": {},
   "outputs": [
    {
     "data": {
      "text/plain": [
       "array([[[1, 2],\n",
       "        [9, 9]],\n",
       "\n",
       "       [[5, 6],\n",
       "        [8, 8]]])"
      ]
     },
     "execution_count": 48,
     "metadata": {},
     "output_type": "execute_result"
    }
   ],
   "source": [
    "# replace \n",
    "b[:,1,:] = [[9,9],[8,8]]\n",
    "b"
   ]
  },
  {
   "cell_type": "markdown",
   "id": "9ca05b14-798e-4ad9-a2dc-2f592328c136",
   "metadata": {},
   "source": [
    "**Choosing Specific Elements**"
   ]
  },
  {
   "cell_type": "markdown",
   "id": "facc45b1-65cc-42d2-98a5-47e1f77c3194",
   "metadata": {},
   "source": [
    "* np.take() function is used to retrieve specific elements from an array based on their indices. It can be especially useful when you want to extract elements from an array using a list of indices."
   ]
  },
  {
   "cell_type": "code",
   "execution_count": 78,
   "id": "edf18077-a5ca-4905-9a77-0b6622af0951",
   "metadata": {},
   "outputs": [
    {
     "name": "stdout",
     "output_type": "stream",
     "text": [
      "Selected Elements:\n",
      "[20 40]\n"
     ]
    }
   ],
   "source": [
    "arr = np.array([10, 20, 30, 40, 50])\n",
    "indices = [1, 3]\n",
    "\n",
    "selected_elements = np.take(arr, indices)\n",
    "\n",
    "print(\"Selected Elements:\")\n",
    "print(selected_elements)\n"
   ]
  },
  {
   "cell_type": "code",
   "execution_count": 79,
   "id": "7e429a3a-5d98-498c-88c1-31f88ad57a4f",
   "metadata": {},
   "outputs": [
    {
     "name": "stdout",
     "output_type": "stream",
     "text": [
      "Selected Elements:\n",
      "[[1 3]\n",
      " [2 3]]\n"
     ]
    }
   ],
   "source": [
    "arr = np.array([[1, 2, 3], [4, 5, 6], [7, 8, 9]])\n",
    "row_indices = [0, 2]\n",
    "col_indices = [1, 2]\n",
    "\n",
    "selected_elements = np.take(arr, [row_indices, col_indices])\n",
    "\n",
    "print(\"Selected Elements:\")\n",
    "print(selected_elements)"
   ]
  },
  {
   "cell_type": "markdown",
   "id": "68bb94f8-4c79-4481-a82b-a1345e22a450",
   "metadata": {},
   "source": [
    "* Fancy Indexing: Turns whole matrix into a list and chooses wanted elements"
   ]
  },
  {
   "cell_type": "code",
   "execution_count": 81,
   "id": "39a455e2-09c1-4cad-961d-dbf8602b3a70",
   "metadata": {},
   "outputs": [
    {
     "name": "stdout",
     "output_type": "stream",
     "text": [
      "[ 1  2  5 10 12 14]\n"
     ]
    }
   ],
   "source": [
    "arr = np.array([[1, 2, 3, 4, 5, 6, 7], [8, 9, 10, 11, 12, 13, 14]])\n",
    "indices = [0, 1, 4, 9, 11, 13]\n",
    "selected_values = arr.flat[indices]\n",
    "print(selected_values)"
   ]
  },
  {
   "cell_type": "markdown",
   "id": "2ac2acb2-5ab5-4dc2-997e-6e7277a49244",
   "metadata": {},
   "source": [
    "* Slicing Method"
   ]
  },
  {
   "cell_type": "code",
   "execution_count": 83,
   "id": "21f4c01c-02ef-4bec-9109-f1a24f9eb175",
   "metadata": {},
   "outputs": [
    {
     "name": "stdout",
     "output_type": "stream",
     "text": [
      "[ 1  2  5 10 12 14]\n"
     ]
    }
   ],
   "source": [
    "arr = np.array([[1, 2, 3, 4, 5, 6, 7], [8, 9, 10, 11, 12, 13, 14]])\n",
    "selected_values = arr[[0, 0, 0, 1, 1, 1], [0, 1, 4, 2, 4, -1]]\n",
    "print(selected_values)"
   ]
  },
  {
   "cell_type": "markdown",
   "id": "1696f39f-bd65-47e1-ae74-6f5c70364c81",
   "metadata": {},
   "source": [
    "NOTE: **numpy.indices** will create a set of arrays (stacked as a one-higher dimensioned array), one per dimension with each representing variation in that dimension:"
   ]
  },
  {
   "cell_type": "code",
   "execution_count": 84,
   "id": "17c60cd3-d4c7-44c2-975f-6d630654de4c",
   "metadata": {},
   "outputs": [
    {
     "data": {
      "text/plain": [
       "array([[[0, 0, 0],\n",
       "        [1, 1, 1],\n",
       "        [2, 2, 2]],\n",
       "\n",
       "       [[0, 1, 2],\n",
       "        [0, 1, 2],\n",
       "        [0, 1, 2]]])"
      ]
     },
     "execution_count": 84,
     "metadata": {},
     "output_type": "execute_result"
    }
   ],
   "source": [
    "np.indices((3,3))"
   ]
  },
  {
   "cell_type": "markdown",
   "id": "af74d6e7-4c7f-4961-8b30-2c5a84155f33",
   "metadata": {
    "jp-MarkdownHeadingCollapsed": true
   },
   "source": [
    "## 3) Replicating, Joining, or Mutating Existing Arrays"
   ]
  },
  {
   "cell_type": "markdown",
   "id": "831977d1-aab4-4874-993f-29a0e493a730",
   "metadata": {
    "jp-MarkdownHeadingCollapsed": true
   },
   "source": [
    "#### **Replicating Arrays:** copy(), np.repeat(), np.tile()"
   ]
  },
  {
   "cell_type": "markdown",
   "id": "88105462-93e4-4224-a2eb-dd0ff9320aee",
   "metadata": {},
   "source": [
    "* Use copy() when you want to change over an array and do not want to this change affect the original one."
   ]
  },
  {
   "cell_type": "code",
   "execution_count": 87,
   "id": "3d94708f-2482-4ec3-be49-13df4b604a71",
   "metadata": {},
   "outputs": [
    {
     "name": "stdout",
     "output_type": "stream",
     "text": [
      "[100   2   3   4   5]\n",
      "[100   2   3   4   5]\n",
      "[1 2 3 4 5]\n"
     ]
    }
   ],
   "source": [
    "original_arr = np.array([1, 2, 3, 4, 5])\n",
    "\n",
    "# Creating a new variable referencing the same array (not a copy)\n",
    "new_arr_ref = original_arr\n",
    "\n",
    "# Creating an independent copy of the array using copy()\n",
    "new_arr_copy = original_arr.copy()\n",
    "\n",
    "# Modifying the new_arr_ref will also modify the original_arr\n",
    "new_arr_ref[0] = 100\n",
    "\n",
    "print(original_arr)\n",
    "print(new_arr_ref)\n",
    "print(new_arr_copy)"
   ]
  },
  {
   "cell_type": "markdown",
   "id": "c2775f60-978f-4cc7-89c6-74225ee81b8f",
   "metadata": {},
   "source": [
    "* np.repeat()"
   ]
  },
  {
   "cell_type": "code",
   "execution_count": 89,
   "id": "8d6dcf84-da63-4e42-8a00-b5761dbaeee6",
   "metadata": {},
   "outputs": [
    {
     "name": "stdout",
     "output_type": "stream",
     "text": [
      "[1 1 1 2 2 2 3 3 3]\n"
     ]
    }
   ],
   "source": [
    "arr = np.array([1, 2, 3])\n",
    "\n",
    "# Repeating each element three times\n",
    "repeated_arr = np.repeat(arr, 3)\n",
    "print(repeated_arr)"
   ]
  },
  {
   "cell_type": "code",
   "execution_count": 91,
   "id": "eaa1e5f6-3b22-4130-b876-d4c90346babe",
   "metadata": {},
   "outputs": [
    {
     "name": "stdout",
     "output_type": "stream",
     "text": [
      "[[1 2]\n",
      " [1 2]\n",
      " [3 4]\n",
      " [3 4]]\n"
     ]
    }
   ],
   "source": [
    "arr = np.array([[1, 2], [3, 4]])\n",
    "\n",
    "repeated_arr = np.repeat(arr, 2, axis=0)\n",
    "print(repeated_arr)"
   ]
  },
  {
   "cell_type": "code",
   "execution_count": 92,
   "id": "86c0acce-3766-4739-90a8-464dc45e124f",
   "metadata": {},
   "outputs": [
    {
     "name": "stdout",
     "output_type": "stream",
     "text": [
      "[[1 1 2 2]\n",
      " [3 3 4 4]]\n"
     ]
    }
   ],
   "source": [
    "arr = np.array([[1, 2], [3, 4]])\n",
    "\n",
    "repeated_arr = np.repeat(arr, 2, axis=1)\n",
    "print(repeated_arr)"
   ]
  },
  {
   "cell_type": "markdown",
   "id": "3f6ad030-6781-4a1a-b52b-81c94e2983a9",
   "metadata": {},
   "source": [
    "* np.tile()"
   ]
  },
  {
   "cell_type": "code",
   "execution_count": 95,
   "id": "a95841c4-0465-416f-9d32-d0c6a0204a7a",
   "metadata": {},
   "outputs": [
    {
     "name": "stdout",
     "output_type": "stream",
     "text": [
      "[1 2 3 1 2 3]\n"
     ]
    }
   ],
   "source": [
    "arr = np.array([1, 2, 3])\n",
    "# Creating a 2x3 array by tiling the original array\n",
    "tiled_arr = np.tile(arr, 2)\n",
    "print(tiled_arr)"
   ]
  },
  {
   "cell_type": "code",
   "execution_count": 97,
   "id": "ce7ef9e3-fefc-429b-b831-1c1b62eeb316",
   "metadata": {},
   "outputs": [
    {
     "name": "stdout",
     "output_type": "stream",
     "text": [
      "[[1 2 3]\n",
      " [1 2 3]]\n"
     ]
    }
   ],
   "source": [
    "arr = np.array([1, 2, 3])\n",
    "# Creating a 2x3 array by tiling the original array\n",
    "tiled_arr = np.tile(arr, (2,1))\n",
    "print(tiled_arr)"
   ]
  },
  {
   "cell_type": "code",
   "execution_count": 98,
   "id": "18d92aa9-d63e-4eba-bf1c-7b732599373b",
   "metadata": {},
   "outputs": [
    {
     "name": "stdout",
     "output_type": "stream",
     "text": [
      "[[1 2 1 2 1 2]\n",
      " [3 4 3 4 3 4]\n",
      " [1 2 1 2 1 2]\n",
      " [3 4 3 4 3 4]]\n"
     ]
    }
   ],
   "source": [
    "arr = np.array([[1, 2], [3, 4]])\n",
    "\n",
    "tiled_arr = np.tile(arr, (2, 3))\n",
    "print(tiled_arr)"
   ]
  },
  {
   "cell_type": "markdown",
   "id": "88d06ba5-0cc4-4e51-b922-538ef3f3500a",
   "metadata": {
    "jp-MarkdownHeadingCollapsed": true
   },
   "source": [
    "#### **Joining Arrays:** np.concatenate(),  np.vstack(),  np.hstack()\n"
   ]
  },
  {
   "cell_type": "code",
   "execution_count": 101,
   "id": "5c0803ab-edb5-4ceb-837b-b9c6f21eeb9c",
   "metadata": {},
   "outputs": [
    {
     "name": "stdout",
     "output_type": "stream",
     "text": [
      "Concatenated Array:\n",
      "[[1 2]\n",
      " [3 4]\n",
      " [5 6]\n",
      " [7 8]]\n",
      "[[1 2 5 6]\n",
      " [3 4 7 8]]\n"
     ]
    }
   ],
   "source": [
    "arr1 = np.array([[1, 2], [3, 4]])\n",
    "arr2 = np.array([[5, 6],[7,8]])\n",
    "\n",
    "# Concatenating arrays horizontally (column-wise)\n",
    "concatenated_arr = np.concatenate((arr1, arr2), axis=0)\n",
    "concatenated_arr2 = np.concatenate((arr1, arr2), axis=1)\n",
    "print(\"Concatenated Array:\")\n",
    "print(concatenated_arr)\n",
    "print(concatenated_arr2)"
   ]
  },
  {
   "cell_type": "code",
   "execution_count": 102,
   "id": "833d2a4e-175d-4034-9dcd-1349a2cc94ac",
   "metadata": {},
   "outputs": [
    {
     "name": "stdout",
     "output_type": "stream",
     "text": [
      "Stacked Array:\n",
      "[[1 2]\n",
      " [3 4]\n",
      " [5 6]\n",
      " [7 8]]\n"
     ]
    }
   ],
   "source": [
    "# Stacking arrays vertically (row-wise)\n",
    "stacked_arr = np.vstack((arr1, arr2))\n",
    "print(\"Stacked Array:\")\n",
    "print(stacked_arr)"
   ]
  },
  {
   "cell_type": "code",
   "execution_count": 103,
   "id": "5c98746f-e21d-450e-8881-05343f745ee7",
   "metadata": {},
   "outputs": [
    {
     "name": "stdout",
     "output_type": "stream",
     "text": [
      "Stacked Array:\n",
      "[[1 2 5 6]\n",
      " [3 4 7 8]]\n"
     ]
    }
   ],
   "source": [
    "# Stacking arrays horizontally (column-wise)\n",
    "stacked_arr = np.hstack((arr1, arr2))\n",
    "print(\"Stacked Array:\")\n",
    "print(stacked_arr)"
   ]
  },
  {
   "cell_type": "markdown",
   "id": "d8a339a5-9b55-4af6-a02e-98ab4252440d",
   "metadata": {
    "jp-MarkdownHeadingCollapsed": true
   },
   "source": [
    "#### **Mutating Arrays**"
   ]
  },
  {
   "cell_type": "code",
   "execution_count": 104,
   "id": "1008a495-dbb7-4c9c-b61f-6fb0c578d0f3",
   "metadata": {},
   "outputs": [
    {
     "name": "stdout",
     "output_type": "stream",
     "text": [
      "Modified Array:\n",
      "[1 2 7 4 5]\n",
      "Modified Slice:\n",
      "[1 0 0 0 5]\n"
     ]
    }
   ],
   "source": [
    "arr = np.array([1, 2, 3, 4, 5])\n",
    "\n",
    "# Changing an element at a specific index\n",
    "arr[2] = 7\n",
    "print(\"Modified Array:\")\n",
    "print(arr)\n",
    "\n",
    "# Modifying a slice of the array\n",
    "arr[1:4] = 0\n",
    "print(\"Modified Slice:\")\n",
    "print(arr)\n"
   ]
  },
  {
   "cell_type": "code",
   "execution_count": 105,
   "id": "5a791b15-55c9-40db-81cd-496ba0e59637",
   "metadata": {},
   "outputs": [
    {
     "name": "stdout",
     "output_type": "stream",
     "text": [
      "Broadcasted Array:\n",
      "[[6 7]\n",
      " [8 9]]\n"
     ]
    }
   ],
   "source": [
    "# Broadcasting\n",
    "arr = np.array([[1, 2], [3, 4]])\n",
    "\n",
    "# Broadcasting a scalar value to the entire array\n",
    "arr += 5\n",
    "print(\"Broadcasted Array:\")\n",
    "print(arr)\n"
   ]
  },
  {
   "cell_type": "markdown",
   "id": "c450247b-abd1-45bc-93dd-e2da751b2c8d",
   "metadata": {
    "jp-MarkdownHeadingCollapsed": true
   },
   "source": [
    "#### **Reshaping Arrays**"
   ]
  },
  {
   "cell_type": "code",
   "execution_count": 108,
   "id": "e3057bc8-d242-4bfc-9639-9630d311df88",
   "metadata": {},
   "outputs": [
    {
     "name": "stdout",
     "output_type": "stream",
     "text": [
      "Reshaped Array:\n",
      "[[1 2]\n",
      " [3 4]\n",
      " [5 6]]\n",
      "Flattened Array:\n",
      "[1 2 3 4 5 6]\n"
     ]
    }
   ],
   "source": [
    "\n",
    "arr = np.array([[1, 2, 3], [4, 5, 6]])\n",
    "\n",
    "# Reshaping array to a different shape\n",
    "reshaped_arr = np.reshape(arr, (3, 2))\n",
    "print(\"Reshaped Array:\")\n",
    "print(reshaped_arr)\n",
    "\n",
    "# Flattening the array to a 1D array\n",
    "flattened_arr = np.ravel(arr)\n",
    "print(\"Flattened Array:\")\n",
    "print(flattened_arr)"
   ]
  },
  {
   "cell_type": "markdown",
   "id": "99a00cb6-eced-48f7-8eb3-5b37c5fd9e03",
   "metadata": {
    "jp-MarkdownHeadingCollapsed": true
   },
   "source": [
    "## 4) Mathematics"
   ]
  },
  {
   "cell_type": "markdown",
   "id": "a359b1e0-e93c-4e96-83ba-0b33be97f318",
   "metadata": {},
   "source": [
    "**Basic Arithmetic Operations:** <br>\n",
    "NumPy supports basic arithmetic operations such as addition, subtraction, multiplication, and division on arrays. These operations are element-wise."
   ]
  },
  {
   "cell_type": "code",
   "execution_count": 51,
   "id": "9c775088-ea2f-41e4-8af3-02419d8208c5",
   "metadata": {},
   "outputs": [
    {
     "name": "stdout",
     "output_type": "stream",
     "text": [
      "[[ 5  7]\n",
      " [ 9 11]]\n",
      "[[-3 -3]\n",
      " [-3 -3]]\n",
      "[[ 4 10]\n",
      " [18 28]]\n",
      "[[4.   2.5 ]\n",
      " [2.   1.75]]\n"
     ]
    }
   ],
   "source": [
    "import numpy as np\n",
    "\n",
    "arr1 = np.array([[1,2],[3,4]])\n",
    "arr2 = np.array([[4,5],[6,7]])\n",
    "\n",
    "addition = arr1 + arr2\n",
    "subtraction = arr1 - arr2\n",
    "multiplication = arr1 * arr2\n",
    "division = arr2 / arr1\n",
    "\n",
    "print(addition)       # [5 7 9]\n",
    "print(subtraction)    # [-3 -3 -3]\n",
    "print(multiplication) # [4 10 18]\n",
    "print(division)       # [4.  2.5 2.]\n"
   ]
  },
  {
   "cell_type": "markdown",
   "id": "c2255ea4-aedb-4eba-a4fe-e422b82c27d1",
   "metadata": {},
   "source": [
    "**Universal Functions (ufuncs):** <br>\n",
    "NumPy's universal functions (ufuncs) are functions that operate element-wise on arrays, performing fast mathematical computations."
   ]
  },
  {
   "cell_type": "code",
   "execution_count": 54,
   "id": "a3a5dbfa-b0ab-417c-a990-6ccc7f05a0b6",
   "metadata": {},
   "outputs": [
    {
     "name": "stdout",
     "output_type": "stream",
     "text": [
      "[ 1  4  9 16]\n",
      "[1.         1.41421356 1.73205081 2.        ]\n",
      "[ 2.71828183  7.3890561  20.08553692 54.59815003]\n",
      "[0.         0.69314718 1.09861229 1.38629436]\n"
     ]
    }
   ],
   "source": [
    "arr = np.array([1, 2, 3, 4])\n",
    "\n",
    "squared = np.square(arr)   # Element-wise square\n",
    "sqrt = np.sqrt(arr)         # Element-wise square root\n",
    "exp = np.exp(arr)           # Element-wise exponential\n",
    "log = np.log(arr)           # Element-wise natural logarithm\n",
    "print(squared, sqrt, exp, log, sep=\"\\n\")"
   ]
  },
  {
   "cell_type": "markdown",
   "id": "aa0e903d-6970-4857-b1db-5cb7037170e7",
   "metadata": {},
   "source": [
    "**Aggregate Functions:** <br>\n",
    "NumPy provides functions to compute aggregate values across an array, like sum, mean, median, maximum, and minimum."
   ]
  },
  {
   "cell_type": "code",
   "execution_count": 56,
   "id": "3ba17ea1-b0ee-4cb8-b050-44f7fab1a692",
   "metadata": {},
   "outputs": [
    {
     "name": "stdout",
     "output_type": "stream",
     "text": [
      "15\n",
      "3.0\n",
      "3.0\n",
      "5\n",
      "1\n"
     ]
    }
   ],
   "source": [
    "arr = np.array([1, 2, 3, 4, 5])\n",
    "\n",
    "sum_arr = np.sum(arr)\n",
    "mean_arr = np.mean(arr)\n",
    "median_arr = np.median(arr)\n",
    "max_arr = np.max(arr)\n",
    "min_arr = np.min(arr)\n",
    "print(sum_arr, mean_arr, median_arr,max_arr, min_arr, sep=\"\\n\" )"
   ]
  },
  {
   "cell_type": "code",
   "execution_count": 58,
   "id": "7c8eeb3d-90eb-487c-9c48-0a31872a34b1",
   "metadata": {},
   "outputs": [
    {
     "data": {
      "text/plain": [
       "5.0"
      ]
     },
     "execution_count": 58,
     "metadata": {},
     "output_type": "execute_result"
    }
   ],
   "source": [
    "arr = np.array([[6,2,7], [4,3,6]])\n",
    "np.median(arr) # firstly it sorts number and then finds median [2,3,4,6,6,7]"
   ]
  },
  {
   "cell_type": "markdown",
   "id": "03277260-f306-4417-bba6-85b9b03718ae",
   "metadata": {},
   "source": [
    "**Axis Parameter**<br>\n",
    "The axis parameter allows you to control the direction of operations, such as summation, mean calculation, and more, along specific axes.\n",
    "* axis=0 --> operation among **columns**\n",
    "* axis=1 --> operation among **rows**"
   ]
  },
  {
   "cell_type": "code",
   "execution_count": 59,
   "id": "dbf7c0dc-8617-4a60-8fe4-fbec7b8b6990",
   "metadata": {},
   "outputs": [
    {
     "name": "stdout",
     "output_type": "stream",
     "text": [
      "[5 7 9]\n",
      "[ 6 15]\n"
     ]
    }
   ],
   "source": [
    "arr = np.array([[1, 2, 3], [4, 5, 6]])\n",
    "\n",
    "# Sum along axis 0 (sum of columns)\n",
    "sum_along_axis_0 = np.sum(arr, axis=0)\n",
    "print(sum_along_axis_0)  # Output: [5 7 9]\n",
    "\n",
    "# Sum along axis 1 (sum of rows)\n",
    "sum_along_axis_1 = np.sum(arr, axis=1)\n",
    "print(sum_along_axis_1)  # Output: [ 6 15]\n"
   ]
  },
  {
   "cell_type": "code",
   "execution_count": 60,
   "id": "42f3d569-7cbe-4ccf-846b-695c2c61c34b",
   "metadata": {},
   "outputs": [
    {
     "name": "stdout",
     "output_type": "stream",
     "text": [
      "[4 5 6]\n",
      "[1 4]\n"
     ]
    }
   ],
   "source": [
    "arr = np.array([[1, 2, 3], [4, 5, 6]])\n",
    "\n",
    "# Maximum along axis 0 (maximum value in each column)\n",
    "max_along_axis_0 = np.max(arr, axis=0)\n",
    "print(max_along_axis_0)  # Output: [4 5 6]\n",
    "\n",
    "# Minimum along axis 1 (minimum value in each row)\n",
    "min_along_axis_1 = np.min(arr, axis=1)\n",
    "print(min_along_axis_1)  # Output: [1 4]"
   ]
  },
  {
   "cell_type": "markdown",
   "id": "9bf5374a-ccfd-40f0-ac51-2d2964c68a8d",
   "metadata": {
    "jp-MarkdownHeadingCollapsed": true
   },
   "source": [
    "## 5) Linear Algebra"
   ]
  },
  {
   "cell_type": "markdown",
   "id": "b01c7632-7e26-4b7d-8221-7e93a7ef3afb",
   "metadata": {},
   "source": [
    "**Matrix Multiplication:** <br>\n",
    "There are several methods for matrix multipication: dot(), matmul(). Both of them can be used for 2D matrices, but use dot() for dot product of vectors."
   ]
  },
  {
   "cell_type": "code",
   "execution_count": 62,
   "id": "01c12437-b4d6-4ac0-889c-334e40fee963",
   "metadata": {},
   "outputs": [
    {
     "name": "stdout",
     "output_type": "stream",
     "text": [
      "[[19 22]\n",
      " [43 50]]\n"
     ]
    }
   ],
   "source": [
    "A = np.array([[1, 2], [3, 4]])\n",
    "B = np.array([[5, 6], [7, 8]])\n",
    "\n",
    "result = np.dot(A, B)  # or equivalently: A @ B\n",
    "print(result)\n"
   ]
  },
  {
   "cell_type": "code",
   "execution_count": 63,
   "id": "c9cb3d25-8211-4651-83d5-bc6c42cd7eaa",
   "metadata": {},
   "outputs": [
    {
     "data": {
      "text/plain": [
       "array([[19, 22],\n",
       "       [43, 50]])"
      ]
     },
     "execution_count": 63,
     "metadata": {},
     "output_type": "execute_result"
    }
   ],
   "source": [
    "A@B"
   ]
  },
  {
   "cell_type": "code",
   "execution_count": 64,
   "id": "d1cd6afa-04ff-4fa4-8e34-bb01d8669e49",
   "metadata": {},
   "outputs": [
    {
     "data": {
      "text/plain": [
       "array([[19, 22],\n",
       "       [43, 50]])"
      ]
     },
     "execution_count": 64,
     "metadata": {},
     "output_type": "execute_result"
    }
   ],
   "source": [
    "np.matmul(A,B)"
   ]
  },
  {
   "cell_type": "markdown",
   "id": "24c9d6b2-0bdf-453b-8833-7e0581d10d0c",
   "metadata": {},
   "source": [
    "**Matrix Inversion**"
   ]
  },
  {
   "cell_type": "code",
   "execution_count": 65,
   "id": "6090c876-a667-4535-a3fd-6f05a0343eda",
   "metadata": {},
   "outputs": [
    {
     "name": "stdout",
     "output_type": "stream",
     "text": [
      "[[-2.   1. ]\n",
      " [ 1.5 -0.5]]\n"
     ]
    }
   ],
   "source": [
    "import numpy as np\n",
    "\n",
    "A = np.array([[1, 2], [3, 4]])\n",
    "A_inv = np.linalg.inv(A)\n",
    "\n",
    "print(A_inv)"
   ]
  },
  {
   "cell_type": "markdown",
   "id": "683a4024-8a1c-46c5-a13d-9421b12a6962",
   "metadata": {},
   "source": [
    "**Determinant**"
   ]
  },
  {
   "cell_type": "code",
   "execution_count": 66,
   "id": "b1006ce9-cb4b-4827-8d86-2ded89e43b09",
   "metadata": {},
   "outputs": [
    {
     "name": "stdout",
     "output_type": "stream",
     "text": [
      "-2.0000000000000004\n"
     ]
    }
   ],
   "source": [
    "A = np.array([[1, 2], [3, 4]])\n",
    "det_A = np.linalg.det(A)\n",
    "\n",
    "print(det_A)"
   ]
  },
  {
   "cell_type": "markdown",
   "id": "6dbb8ff8-4446-44b0-9bcd-7ca7e3ae5938",
   "metadata": {},
   "source": [
    "**Transpose**"
   ]
  },
  {
   "cell_type": "code",
   "execution_count": 77,
   "id": "9c3e1e9a-c3cb-4946-aa33-26b2a052147d",
   "metadata": {},
   "outputs": [
    {
     "data": {
      "text/plain": [
       "array([[1, 4],\n",
       "       [2, 5],\n",
       "       [3, 6]])"
      ]
     },
     "execution_count": 77,
     "metadata": {},
     "output_type": "execute_result"
    }
   ],
   "source": [
    "arr = np.array([[1, 2, 3], [4, 5, 6]])\n",
    "# transposed_arr = np.transpose(arr)\n",
    "arr.transpose()"
   ]
  },
  {
   "cell_type": "markdown",
   "id": "277e77c1-f6c4-42b4-a13e-116d4d7105fc",
   "metadata": {},
   "source": [
    "**Eigenvalues and Eigenvectors**\n"
   ]
  },
  {
   "cell_type": "code",
   "execution_count": 67,
   "id": "4aea4328-dbf9-4a4b-ac3c-1b1410cccf5b",
   "metadata": {},
   "outputs": [
    {
     "name": "stdout",
     "output_type": "stream",
     "text": [
      "Eigenvalues: [2.+1.73205081j 2.-1.73205081j]\n",
      "Eigenvectors: [[-0.70710678+0.j         -0.70710678-0.j        ]\n",
      " [ 0.35355339+0.61237244j  0.35355339-0.61237244j]]\n"
     ]
    }
   ],
   "source": [
    "A = np.array([[1, -2], [2, 3]])\n",
    "eigenvalues, eigenvectors = np.linalg.eig(A)\n",
    "\n",
    "print(\"Eigenvalues:\", eigenvalues)\n",
    "print(\"Eigenvectors:\", eigenvectors)\n"
   ]
  },
  {
   "cell_type": "markdown",
   "id": "a7f22de2-467d-49bb-9269-0f679529debc",
   "metadata": {},
   "source": [
    "**Solving Linear Equations**"
   ]
  },
  {
   "cell_type": "code",
   "execution_count": 68,
   "id": "9b3cc163-34d2-4ac4-b3dc-194872470013",
   "metadata": {},
   "outputs": [
    {
     "name": "stdout",
     "output_type": "stream",
     "text": [
      "[1. 1.]\n"
     ]
    }
   ],
   "source": [
    "A = np.array([[2, 1], [1, 1]])\n",
    "b = np.array([3, 2])\n",
    "\n",
    "x = np.linalg.solve(A, b)\n",
    "\n",
    "print(x)"
   ]
  },
  {
   "cell_type": "markdown",
   "id": "d2b926bb-a21f-4800-bc1a-6fb38004737c",
   "metadata": {},
   "source": [
    "**Singular Value Decomposition (SVD)**"
   ]
  },
  {
   "cell_type": "code",
   "execution_count": 69,
   "id": "7f603fad-1cb9-421e-b820-51e237134615",
   "metadata": {},
   "outputs": [
    {
     "name": "stdout",
     "output_type": "stream",
     "text": [
      "U: [[-0.3863177  -0.92236578]\n",
      " [-0.92236578  0.3863177 ]]\n",
      "S: [9.508032   0.77286964]\n",
      "V: [[-0.42866713 -0.56630692 -0.7039467 ]\n",
      " [ 0.80596391  0.11238241 -0.58119908]\n",
      " [ 0.40824829 -0.81649658  0.40824829]]\n"
     ]
    }
   ],
   "source": [
    "A = np.array([[1, 2, 3], [4, 5, 6]])\n",
    "U, S, V = np.linalg.svd(A)\n",
    "\n",
    "print(\"U:\", U)\n",
    "print(\"S:\", S)\n",
    "print(\"V:\", V)"
   ]
  },
  {
   "cell_type": "markdown",
   "id": "37a529c3-312e-496a-8e3a-e29997227136",
   "metadata": {},
   "source": [
    "**QR Decomposition**"
   ]
  },
  {
   "cell_type": "code",
   "execution_count": 70,
   "id": "98b19cb2-9d61-45ef-89a2-b50f95b1b551",
   "metadata": {},
   "outputs": [
    {
     "name": "stdout",
     "output_type": "stream",
     "text": [
      "Q: [[-0.31622777 -0.9486833 ]\n",
      " [-0.9486833   0.31622777]]\n",
      "R: [[-3.16227766 -4.42718872]\n",
      " [ 0.         -0.63245553]]\n"
     ]
    }
   ],
   "source": [
    "A = np.array([[1, 2], [3, 4]])\n",
    "Q, R = np.linalg.qr(A)\n",
    "\n",
    "print(\"Q:\", Q)\n",
    "print(\"R:\", R)"
   ]
  },
  {
   "cell_type": "markdown",
   "id": "85473cf3-e9e5-49f7-83f5-7b91c63d54f3",
   "metadata": {},
   "source": [
    "**Cholesky Decomposition**"
   ]
  },
  {
   "cell_type": "code",
   "execution_count": 71,
   "id": "67bc676a-529f-435b-b161-a90b20d6b285",
   "metadata": {},
   "outputs": [
    {
     "name": "stdout",
     "output_type": "stream",
     "text": [
      "L (Cholesky Factor): [[2. 0.]\n",
      " [1. 2.]]\n"
     ]
    }
   ],
   "source": [
    "A = np.array([[4, 2], [2, 5]])\n",
    "L = np.linalg.cholesky(A)\n",
    "\n",
    "print(\"L (Cholesky Factor):\", L)"
   ]
  },
  {
   "cell_type": "markdown",
   "id": "7d1deda6-e92c-4233-8f45-caab10757de2",
   "metadata": {},
   "source": [
    "**Matrix Rank**"
   ]
  },
  {
   "cell_type": "code",
   "execution_count": 72,
   "id": "d8bc77d7-f29c-41d0-aaa6-c0318aa0727d",
   "metadata": {},
   "outputs": [
    {
     "name": "stdout",
     "output_type": "stream",
     "text": [
      "Matrix Rank: 2\n"
     ]
    }
   ],
   "source": [
    "A = np.array([[1, 2], [3, 4]])\n",
    "rank_A = np.linalg.matrix_rank(A)\n",
    "\n",
    "print(\"Matrix Rank:\", rank_A)"
   ]
  },
  {
   "cell_type": "markdown",
   "id": "39bc38e2-11f3-4672-940a-a5285cab7f0b",
   "metadata": {},
   "source": [
    "**Norms**"
   ]
  },
  {
   "cell_type": "code",
   "execution_count": 73,
   "id": "994015cd-d45c-4678-bcda-6c262e72ce17",
   "metadata": {},
   "outputs": [
    {
     "name": "stdout",
     "output_type": "stream",
     "text": [
      "Frobenius Norm: 5.477225575051661\n",
      "L2 Norm: 5.477225575051661\n",
      "L1 Norm: 6.0\n"
     ]
    }
   ],
   "source": [
    "A = np.array([[1, 2], [3, 4]])\n",
    "\n",
    "# Frobenius norm\n",
    "norm_frobenius = np.linalg.norm(A, 'fro')\n",
    "print(\"Frobenius Norm:\", norm_frobenius)\n",
    "\n",
    "# L2 norm (default)\n",
    "norm_l2 = np.linalg.norm(A)\n",
    "print(\"L2 Norm:\", norm_l2)\n",
    "\n",
    "# L1 norm\n",
    "norm_l1 = np.linalg.norm(A, ord=1)\n",
    "print(\"L1 Norm:\", norm_l1)"
   ]
  },
  {
   "cell_type": "markdown",
   "id": "38f8e086-6929-452e-b3e0-78adcb468ac3",
   "metadata": {},
   "source": [
    "**Pseudo-Inverse (Moore-Penrose Inverse)**"
   ]
  },
  {
   "cell_type": "code",
   "execution_count": 76,
   "id": "7bdd1bbb-e9ee-43bf-b811-ed07005d8409",
   "metadata": {},
   "outputs": [
    {
     "name": "stdout",
     "output_type": "stream",
     "text": [
      "Pseudo-Inverse: [[-2.   1. ]\n",
      " [ 1.5 -0.5]]\n"
     ]
    }
   ],
   "source": [
    "A = np.array([[1, 2], [3, 4]])\n",
    "A_pseudo_inv = np.linalg.pinv(A)\n",
    "\n",
    "print(\"Pseudo-Inverse:\", A_pseudo_inv)"
   ]
  },
  {
   "cell_type": "code",
   "execution_count": null,
   "id": "cc29c1df-2a84-4c56-b3aa-f7a143161cd2",
   "metadata": {},
   "outputs": [],
   "source": []
  }
 ],
 "metadata": {
  "kernelspec": {
   "display_name": "Python 3 (ipykernel)",
   "language": "python",
   "name": "python3"
  },
  "language_info": {
   "codemirror_mode": {
    "name": "ipython",
    "version": 3
   },
   "file_extension": ".py",
   "mimetype": "text/x-python",
   "name": "python",
   "nbconvert_exporter": "python",
   "pygments_lexer": "ipython3",
   "version": "3.11.2"
  }
 },
 "nbformat": 4,
 "nbformat_minor": 5
}
