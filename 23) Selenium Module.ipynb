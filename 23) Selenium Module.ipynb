{
 "cells": [
  {
   "cell_type": "markdown",
   "id": "836ba3ff-011f-4cb7-83a2-f834017406f1",
   "metadata": {},
   "source": [
    "# SELENIUM MODULE"
   ]
  },
  {
   "cell_type": "markdown",
   "id": "df4eb59d-aa0d-4daf-a74c-8b9c189ed29c",
   "metadata": {},
   "source": [
    "Selenium is a popular Python module used for automating web browsers. It provides a convenient way to interact with web elements, navigate through web pages, fill out forms, and perform various tasks on websites. Selenium is widely used for web scraping, testing web applications, and automating repetitive tasks on websites. It supports multiple web browsers such as Chrome, Firefox, Edge, etc."
   ]
  },
  {
   "cell_type": "markdown",
   "id": "c5f78660-01d5-4bcc-9599-12156b8a83f9",
   "metadata": {},
   "source": [
    "Here is a documentation for selenium module: https://selenium-python.readthedocs.io/index.html"
   ]
  },
  {
   "cell_type": "markdown",
   "id": "b2905ebb-d82c-41c7-bc68-cb344223fb21",
   "metadata": {
    "jp-MarkdownHeadingCollapsed": true
   },
   "source": [
    "## Selenium Setup"
   ]
  },
  {
   "cell_type": "markdown",
   "id": "b9491f73-74b5-4b28-a8c0-1634afb398ba",
   "metadata": {},
   "source": [
    "1) Download selenium module from cmd"
   ]
  },
  {
   "cell_type": "code",
   "execution_count": null,
   "id": "28c5910a-59d4-496d-8ccf-5484882282c9",
   "metadata": {},
   "outputs": [],
   "source": [
    "pip install selenium"
   ]
  },
  {
   "cell_type": "markdown",
   "id": "b0a96a5f-26fa-4cb3-9eb8-41f16e63015c",
   "metadata": {},
   "source": [
    "2) Download a driver according to your web browser (ex: chromedriver for google chrome). Also make sure that your driver is competible with latest version of your browser."
   ]
  },
  {
   "cell_type": "markdown",
   "id": "b81b69c6-bf2a-4f15-a659-092814ba87a0",
   "metadata": {},
   "source": [
    "3) Define path of driver you download. Follow these steps: \n",
    " - get direction of the file in your computer.\n",
    " - go to advanced system settings - environment variables - choose \"path\" variable from user variables and copy the new direction to \"path\""
   ]
  },
  {
   "cell_type": "markdown",
   "id": "915166d8-ebdd-4e01-a5e8-cf84ec60bc17",
   "metadata": {},
   "source": [
    "Now we are ready to connect the internet and open a driver on web browser."
   ]
  },
  {
   "cell_type": "markdown",
   "id": "bbb94cb2-e936-4a03-9eeb-b3ed31101831",
   "metadata": {
    "jp-MarkdownHeadingCollapsed": true
   },
   "source": [
    "## Web Driver Initialization and Navigating to a URL"
   ]
  },
  {
   "cell_type": "code",
   "execution_count": null,
   "id": "c5e4f4e3-d938-4372-82ce-0c1022b5ad44",
   "metadata": {},
   "outputs": [],
   "source": [
    "from selenium import webdriver\n",
    "\n",
    "driver = webdriver.Chrome()\n",
    "url = \"https://www.google.com\"\n",
    "driver.get(url) # when i run this code, the url will automatically be opened. "
   ]
  },
  {
   "cell_type": "markdown",
   "id": "72be5118-7684-4633-99e4-3b9cc983dc41",
   "metadata": {},
   "source": [
    "Use close method to close the tab and use quit method to stop the driver."
   ]
  },
  {
   "cell_type": "code",
   "execution_count": null,
   "id": "c835abea-87d1-4041-aae6-015a1f6837a8",
   "metadata": {},
   "outputs": [],
   "source": [
    "from selenium import webdriver\n",
    "import time\n",
    "driver = webdriver.Chrome()\n",
    "url = \"https://www.google.com\"\n",
    "driver.get(url)\n",
    "time.sleep(2)\n",
    "driver.close()\n",
    "# 2 seconds later, the tab we get will be closed \n",
    "\n",
    "from selenium import webdriver\n",
    "import time\n",
    "driver = webdriver.Chrome()\n",
    "url = \"https://www.google.com\"\n",
    "driver.get(url)\n",
    "time.sleep(2)\n",
    "driver.quit()\n",
    "# 2 seconds, the driver will finish "
   ]
  },
  {
   "cell_type": "markdown",
   "id": "2b54405b-02a3-4bd1-83c0-5e1f4fc2e1c0",
   "metadata": {
    "jp-MarkdownHeadingCollapsed": true
   },
   "source": [
    "## Locating Elements"
   ]
  },
  {
   "cell_type": "markdown",
   "id": "660aa203-65a5-4c57-b4ab-9372f1204e66",
   "metadata": {},
   "source": [
    "There are various strategies to locate elements in a page. You can use the most appropriate one for your case. Selenium provides the following method to locate elements in a page:"
   ]
  },
  {
   "cell_type": "markdown",
   "id": "b715ca8b-941c-4b93-b27a-07367db3336d",
   "metadata": {},
   "source": [
    "-find_element\n",
    "\n",
    "To find multiple elements (these methods will return a list):\n",
    "\n",
    "-find_elements"
   ]
  },
  {
   "cell_type": "code",
   "execution_count": null,
   "id": "4ee446c4-9c97-4d0d-ae27-c62649937bad",
   "metadata": {},
   "outputs": [],
   "source": [
    "# Example usage:\n",
    "\n",
    "from selenium.webdriver.common.by import By\n",
    "\n",
    "driver.find_element(By.XPATH, '//button[text()=\"Some text\"]')\n",
    "driver.find_elements(By.XPATH, '//button')"
   ]
  },
  {
   "cell_type": "markdown",
   "id": "6d2b1473-dd5b-4428-b028-dcaa7df83f5e",
   "metadata": {},
   "source": [
    "The ‘By’ class is used to specify which attribute is used to locate elements on a page. These are the various ways the attributes are used to locate elements on a page:"
   ]
  },
  {
   "cell_type": "code",
   "execution_count": null,
   "id": "b66b639b-5738-4586-ac78-1196074a8c15",
   "metadata": {},
   "outputs": [],
   "source": [
    "find_element(By.ID, \"id\")\n",
    "find_element(By.NAME, \"name\")\n",
    "find_element(By.XPATH, \"xpath\")\n",
    "find_element(By.LINK_TEXT, \"link text\")\n",
    "find_element(By.PARTIAL_LINK_TEXT, \"partial link text\")\n",
    "find_element(By.TAG_NAME, \"tag name\")\n",
    "find_element(By.CLASS_NAME, \"class name\")\n",
    "find_element(By.CSS_SELECTOR, \"css selector\")"
   ]
  },
  {
   "cell_type": "markdown",
   "id": "f8d75253-169c-4354-a51b-722edba5c2c7",
   "metadata": {},
   "source": [
    "You can search for elements using multiple attributes simultaneously using the find_element() method in Selenium. One approach is to use CSS selectors with attribute selectors to match elements based on multiple attributes. Here's an example of how you can achieve this:"
   ]
  },
  {
   "cell_type": "code",
   "execution_count": null,
   "id": "75f95e2d-f895-4e4f-bf6c-4310c25d771b",
   "metadata": {},
   "outputs": [],
   "source": [
    "element = driver.find_element(By.CSS_SELECTOR, '[id=\"id\"][name=\"name\"]')"
   ]
  },
  {
   "cell_type": "markdown",
   "id": "1a18dd93-8053-42a9-a890-15b21b19e995",
   "metadata": {},
   "source": [
    "In the example above, the CSS selector [id=\"id\"][name=\"name\"] is used to locate an element with both the specified ID and NAME attributes. You can customize the attributes and values in the selector as needed."
   ]
  },
  {
   "cell_type": "markdown",
   "id": "5a0a284d-5517-4955-9401-acadfd141f58",
   "metadata": {
    "jp-MarkdownHeadingCollapsed": true
   },
   "source": [
    "## Navigating"
   ]
  },
  {
   "cell_type": "markdown",
   "id": "195d8802-758c-49c6-b2a2-4aa5fe52d34b",
   "metadata": {},
   "source": [
    "#### 1. Interacting with the page"
   ]
  },
  {
   "cell_type": "markdown",
   "id": "a216e441-23e5-4959-b94e-536bb613a31f",
   "metadata": {},
   "source": [
    "So, you’ve got an element. What can you do with it? First of all, you may want to enter some text into a text field:"
   ]
  },
  {
   "cell_type": "code",
   "execution_count": null,
   "id": "f9e87332-4e4f-4a6c-92e6-a834f91daba1",
   "metadata": {},
   "outputs": [],
   "source": [
    "element.send_keys(\"some text\")"
   ]
  },
  {
   "cell_type": "markdown",
   "id": "74fe1fed-288f-4f5b-bdfe-fdffa921d315",
   "metadata": {},
   "source": [
    "You can simulate pressing the arrow keys by using the “Keys” class:"
   ]
  },
  {
   "cell_type": "code",
   "execution_count": null,
   "id": "7278da28-7718-419a-99d8-09c19d5f91f4",
   "metadata": {},
   "outputs": [],
   "source": [
    "element.send_keys(\" and some\", Keys.ARROW_DOWN)"
   ]
  },
  {
   "cell_type": "markdown",
   "id": "9aed11ef-4eb6-4b30-b0a9-79bd658fb2cc",
   "metadata": {},
   "source": [
    "You can easily clear the contents of a text field or textarea with the clear method:"
   ]
  },
  {
   "cell_type": "code",
   "execution_count": null,
   "id": "1e93288a-3924-4254-96c1-42f48a696356",
   "metadata": {},
   "outputs": [],
   "source": [
    "element.clear()"
   ]
  },
  {
   "cell_type": "markdown",
   "id": "5f8cd314-6a16-4dbb-8d80-0247e0e463d2",
   "metadata": {},
   "source": [
    "You can click buttons or links at the content you found:"
   ]
  },
  {
   "cell_type": "code",
   "execution_count": null,
   "id": "bba02a3c-a76b-445e-82e0-ba94d3299bed",
   "metadata": {},
   "outputs": [],
   "source": [
    "element.click()"
   ]
  },
  {
   "cell_type": "markdown",
   "id": "6f223546-3ee1-4ec4-a46a-f1ee471a07ca",
   "metadata": {},
   "source": [
    "#### 2. Filling in forms"
   ]
  },
  {
   "cell_type": "markdown",
   "id": "cac76b33-cfbb-4944-add7-0788dc35a50e",
   "metadata": {},
   "source": [
    "We’ve already seen how to enter text into a textarea or text field, but what about the other elements? You can “toggle” the state of the drop down, and you can use “setSelected” to set something like an OPTION tag selected. Dealing with SELECT tags isn’t too bad:"
   ]
  },
  {
   "cell_type": "code",
   "execution_count": null,
   "id": "415ec39e-27e8-4cd6-a268-2851d547104b",
   "metadata": {},
   "outputs": [],
   "source": [
    "element = driver.find_element(By.XPATH, \"//select[@name='name']\")\n",
    "all_options = element.find_elements(By.TAG_NAME, \"option\")\n",
    "for option in all_options:\n",
    "    print(\"Value is: %s\" % option.get_attribute(\"value\"))\n",
    "    option.click()"
   ]
  },
  {
   "cell_type": "markdown",
   "id": "1ea2283b-94fb-4185-b1bc-f376337ccf65",
   "metadata": {},
   "source": [
    "This will find the first “SELECT” element on the page, and cycle through each of its OPTIONs in turn, printing out their values, and selecting each in turn.\n",
    "\n",
    "As you can see, this isn’t the most efficient way of dealing with SELECT elements. WebDriver’s support classes include one called a “Select”, which provides useful methods for interacting with these:"
   ]
  },
  {
   "cell_type": "code",
   "execution_count": null,
   "id": "28582b53-90ce-41cf-aa14-3202588aa0e7",
   "metadata": {},
   "outputs": [],
   "source": [
    "from selenium.webdriver.support.ui import Select\n",
    "select = Select(driver.find_element(By.NAME, 'name'))\n",
    "select.select_by_index(index)\n",
    "select.select_by_visible_text(\"text\")\n",
    "select.select_by_value(value)\n",
    "\n",
    "# WebDriver also provides features for deselecting all the selected options:\n",
    "\n",
    "select = Select(driver.find_element(By.ID, 'id'))\n",
    "select.deselect_all()"
   ]
  },
  {
   "cell_type": "markdown",
   "id": "dade653b-2859-4c60-8c6d-33d626255297",
   "metadata": {},
   "source": [
    "#### 3. Drag and drop"
   ]
  },
  {
   "cell_type": "markdown",
   "id": "e3bbaeb5-5d80-422b-8f70-ce3a4ef92996",
   "metadata": {},
   "source": [
    "You can use drag and drop, either moving an element by a certain amount, or on to another element:"
   ]
  },
  {
   "cell_type": "code",
   "execution_count": null,
   "id": "925ed60e-44ca-457a-a72d-f56ad86eec57",
   "metadata": {},
   "outputs": [],
   "source": [
    "element = driver.find_element(By.NAME, \"source\")\n",
    "target = driver.find_element(By.NAME, \"target\")\n",
    "\n",
    "from selenium.webdriver import ActionChains\n",
    "action_chains = ActionChains(driver)\n",
    "action_chains.drag_and_drop(element, target).perform()"
   ]
  },
  {
   "cell_type": "markdown",
   "id": "64498475-8c55-433c-8c5e-40e035a4e94c",
   "metadata": {},
   "source": [
    "#### 4. Moving between windows and frames"
   ]
  },
  {
   "cell_type": "markdown",
   "id": "fe7ed60b-f1a9-4176-9afb-4512cd807173",
   "metadata": {},
   "source": [
    "It’s rare for a modern web application not to have any frames or to be constrained to a single window. WebDriver supports moving between named windows using the “switch_to.window” method:"
   ]
  },
  {
   "cell_type": "code",
   "execution_count": null,
   "id": "25f864f1-71a8-4946-8800-ba429ef09d91",
   "metadata": {},
   "outputs": [],
   "source": [
    "driver.switch_to.window(\"windowName\")"
   ]
  },
  {
   "cell_type": "markdown",
   "id": "4b29aa6d-f7e4-45aa-b515-7ed9f9791010",
   "metadata": {},
   "source": [
    "You can also swing from frame to frame (or into iframes):"
   ]
  },
  {
   "cell_type": "code",
   "execution_count": null,
   "id": "73d0344e-314d-48c3-8646-7d8ebec912b5",
   "metadata": {},
   "outputs": [],
   "source": [
    "driver.switch_to.frame(\"frameName\")\n",
    "# It’s possible to access subframes by separating the path with a dot, and you can specify the frame by its index too. That is:\n",
    "\n",
    "driver.switch_to.frame(\"frameName.0.child\")"
   ]
  },
  {
   "cell_type": "markdown",
   "id": "24734114-8e17-4ce5-8dca-14d91fff352d",
   "metadata": {},
   "source": [
    "Once we are done with working on frames, we will have to come back to the parent frame which can be done using:"
   ]
  },
  {
   "cell_type": "code",
   "execution_count": null,
   "id": "dd1c9bba-f54b-474c-aaaa-14c0fdaa282a",
   "metadata": {},
   "outputs": [],
   "source": [
    "driver.switch_to.default_content()"
   ]
  },
  {
   "cell_type": "markdown",
   "id": "c3e6394b-aece-4f31-b84f-2d65f3b92808",
   "metadata": {},
   "source": [
    "#### 5.Navigation: history and location"
   ]
  },
  {
   "cell_type": "markdown",
   "id": "e44ac899-0d32-4666-ab5e-889738c6e88b",
   "metadata": {},
   "source": [
    "To move backward and forward in your browser’s history:"
   ]
  },
  {
   "cell_type": "code",
   "execution_count": null,
   "id": "dddc2c41-6cc6-4dad-b767-23b2b5e1c785",
   "metadata": {},
   "outputs": [],
   "source": [
    "driver.forward()\n",
    "driver.back()"
   ]
  },
  {
   "cell_type": "markdown",
   "id": "c95f92a1-e24b-4a2a-88a3-b585b284aeef",
   "metadata": {},
   "source": [
    "#### 6. Cookies"
   ]
  },
  {
   "cell_type": "markdown",
   "id": "c4ad2728-3594-4197-9892-9cdd2173cdd5",
   "metadata": {},
   "source": [
    "Before moving to the next section of the tutorial, you may be interested in understanding how to use cookies. First of all, you need to be on the domain that the cookie will be valid for:"
   ]
  },
  {
   "cell_type": "code",
   "execution_count": null,
   "id": "bd19c497-4023-4e66-818a-3649ebe382a5",
   "metadata": {},
   "outputs": [],
   "source": [
    "# Go to the correct domain\n",
    "driver.get(\"http://www.example.com\")\n",
    "\n",
    "# Now set the cookie. This one's valid for the entire domain\n",
    "cookie = {'name' : 'foo', 'value' : 'bar'}\n",
    "driver.add_cookie(cookie)\n",
    "\n",
    "# And now output all the available cookies for the current URL\n",
    "driver.get_cookies()"
   ]
  },
  {
   "cell_type": "markdown",
   "id": "07fbb117-7851-41f5-b0f6-6fc96fc4e9fe",
   "metadata": {},
   "source": [
    "## Waits"
   ]
  },
  {
   "cell_type": "markdown",
   "id": "378a0bc1-68a4-4261-b960-eef1a7749670",
   "metadata": {},
   "source": [
    "#### 1. Explicit Waits"
   ]
  },
  {
   "cell_type": "markdown",
   "id": "d07b250c-9fe3-4d31-ae36-369ca12562a3",
   "metadata": {},
   "source": [
    "An explicit wait is a code you define to wait for a certain condition to occur before proceeding further in the code. The extreme case of this is time.sleep(), which sets the condition to an exact time period to wait. There are some convenience methods provided that help you write code that will wait only as long as required. WebDriverWait in combination with ExpectedCondition is one way this can be accomplished."
   ]
  },
  {
   "cell_type": "code",
   "execution_count": null,
   "id": "f3cb0755-715d-4b67-aae3-ae7e1a44d5da",
   "metadata": {},
   "outputs": [],
   "source": [
    "from selenium import webdriver\n",
    "from selenium.webdriver.common.by import By\n",
    "from selenium.webdriver.support.wait import WebDriverWait\n",
    "from selenium.webdriver.support import expected_conditions as EC\n",
    "\n",
    "driver = webdriver.Firefox()\n",
    "driver.get(\"http://somedomain/url_that_delays_loading\")\n",
    "try:\n",
    "    element = WebDriverWait(driver, 10).until(\n",
    "        EC.presence_of_element_located((By.ID, \"myDynamicElement\"))\n",
    "    )\n",
    "finally:\n",
    "    driver.quit()"
   ]
  },
  {
   "cell_type": "markdown",
   "id": "5d4d0ecd-4be3-479e-8d49-67869a954072",
   "metadata": {},
   "source": [
    "#### 2. Implicit Waits"
   ]
  },
  {
   "cell_type": "markdown",
   "id": "e2449d7b-674f-45d8-8f24-dd5c1c8df61f",
   "metadata": {},
   "source": [
    "An implicit wait tells WebDriver to poll the DOM for a certain amount of time when trying to find any element (or elements) not immediately available. The default setting is 0 (zero). Once set, the implicit wait is set for the life of the WebDriver object."
   ]
  },
  {
   "cell_type": "code",
   "execution_count": null,
   "id": "fd451a36-2f00-41ce-b16f-9a4742455e3b",
   "metadata": {},
   "outputs": [],
   "source": [
    "from selenium import webdriver\n",
    "\n",
    "driver = webdriver.Firefox()\n",
    "driver.implicitly_wait(10) # seconds\n",
    "driver.get(\"http://somedomain/url_that_delays_loading\")\n",
    "myDynamicElement = driver.find_element_by_id(\"myDynamicElement\")"
   ]
  },
  {
   "cell_type": "markdown",
   "id": "186ffa33-9557-490f-89d0-f2323fb8146c",
   "metadata": {
    "jp-MarkdownHeadingCollapsed": true
   },
   "source": [
    "## Appendix"
   ]
  },
  {
   "cell_type": "markdown",
   "id": "f2229f24-3c81-411a-8e94-ecf223dfeee5",
   "metadata": {},
   "source": [
    "#### How to take screenshot of the current window ?"
   ]
  },
  {
   "cell_type": "code",
   "execution_count": null,
   "id": "8a13223e-25df-4a99-99a6-1a8ae9455dfc",
   "metadata": {},
   "outputs": [],
   "source": [
    "from selenium import webdriver\n",
    "\n",
    "driver = webdriver.Firefox()\n",
    "driver.get('http://www.python.org/')\n",
    "driver.save_screenshot('screenshot.png')\n",
    "driver.quit()"
   ]
  },
  {
   "cell_type": "markdown",
   "id": "803b7bf9-098d-4c47-8579-1e824abae17d",
   "metadata": {},
   "source": [
    "#### How to scroll down to the bottom of a page ?"
   ]
  },
  {
   "cell_type": "code",
   "execution_count": null,
   "id": "32c6410a-85e0-4207-9fc2-816067cbd939",
   "metadata": {},
   "outputs": [],
   "source": [
    "driver = webdriver.Chrome(executable_path=\"/path/to/chromedriver\")"
   ]
  },
  {
   "cell_type": "markdown",
   "id": "b8dd3ab0-058e-4f5f-b268-cf7f19814c4d",
   "metadata": {},
   "source": [
    "If you want to scroll down until end of the page, use this algorith:"
   ]
  },
  {
   "cell_type": "code",
   "execution_count": null,
   "id": "89f444e5-e544-4164-924e-6bfdb16851f6",
   "metadata": {},
   "outputs": [],
   "source": [
    "lenOfPage = driver.execute_script(\"window.scrollTo(0, document.body.scrollHeight);var lenOfPage=document.body.scrollHeight;return lenOfPage;\")\n",
    "match = False\n",
    "while not match:\n",
    "    lastCount = lenOfPage\n",
    "    time.sleep(3)\n",
    "    lenOfPage = driver.execute_script(\"window.scrollTo(0, document.body.scrollHeight);var lenOfPage=document.body.scrollHeight;return lenOfPage;\")\n",
    "    if lastCount==lenOfPage:\n",
    "        match=True"
   ]
  },
  {
   "cell_type": "markdown",
   "id": "ec441825-3c56-4c34-991e-8c4d0313abda",
   "metadata": {},
   "source": [
    "There may be an inner scroll bar in some websites and if we want to use this scroll bar, use this method: "
   ]
  },
  {
   "cell_type": "code",
   "execution_count": 1,
   "id": "4e8145e0-7b56-4834-9d7f-5f663b1f6aea",
   "metadata": {},
   "outputs": [],
   "source": [
    "# 1. Inspect the main page. Find the html block that contains inner page. (ex: <div class=\"_aano\">==$0...)"
   ]
  },
  {
   "cell_type": "code",
   "execution_count": null,
   "id": "907a20e4-ca00-4724-b770-81708cbf6d26",
   "metadata": {},
   "outputs": [],
   "source": [
    "# 2. Define a new_scroll_bar area and use sama algorithm.\n",
    "\n",
    "jscommand = '''\n",
    "following = document.querySelector(\"._aano\");\n",
    "following.scrollTo(0, following.scrollHeight);\n",
    "var lenOfPage = following.scrollHeight;\n",
    "return lenOfPage;\n",
    "'''\n",
    "lenOfPage = driver.execute_script(jscommand)\n",
    "match = False\n",
    "while not match:\n",
    "    lastCount = lenOfPage\n",
    "    time.sleep(3)\n",
    "    lenOfPage = driver.execute_script(jscommand)\n",
    "    if lastCount==lenOfPage:\n",
    "        match=True"
   ]
  }
 ],
 "metadata": {
  "kernelspec": {
   "display_name": "Python 3 (ipykernel)",
   "language": "python",
   "name": "python3"
  },
  "language_info": {
   "codemirror_mode": {
    "name": "ipython",
    "version": 3
   },
   "file_extension": ".py",
   "mimetype": "text/x-python",
   "name": "python",
   "nbconvert_exporter": "python",
   "pygments_lexer": "ipython3",
   "version": "3.11.2"
  }
 },
 "nbformat": 4,
 "nbformat_minor": 5
}
