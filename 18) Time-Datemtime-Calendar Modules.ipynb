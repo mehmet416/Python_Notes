{
 "cells": [
  {
   "cell_type": "markdown",
   "id": "c1b62614-2395-438d-8597-26552a8b7ebe",
   "metadata": {},
   "source": [
    "# TIME-DATETIME-CALENDAR MODULES"
   ]
  },
  {
   "cell_type": "markdown",
   "id": "837cb41e-a9c7-474b-976b-7722a20d6d2b",
   "metadata": {},
   "source": [
    "## 1) Time Module"
   ]
  },
  {
   "cell_type": "markdown",
   "id": "ed284af0-0ac2-467c-bf13-ca7c1679aa50",
   "metadata": {},
   "source": [
    "The time module in Python is a built-in module that provides various functions to work with time-related tasks. It allows you to perform operations related to measuring time, formatting time, and introducing delays in your Python programs."
   ]
  },
  {
   "cell_type": "markdown",
   "id": "5292a662-99ab-4ade-a5a1-776eba5c460e",
   "metadata": {},
   "source": [
    "Here are some of the commonly used methods and functions provided by the time module:"
   ]
  },
  {
   "cell_type": "markdown",
   "id": "2b5a0e13-3b86-4a89-9c12-82c510f94b41",
   "metadata": {},
   "source": [
    "1) time() function:<br>\n",
    "The time() function returns the current time in seconds since the \"epoch\" (January 1, 1970, 00:00:00 UTC). It is often used for measuring the execution time of code or for timestamping events."
   ]
  },
  {
   "cell_type": "code",
   "execution_count": 1,
   "id": "853b4e28-421f-4892-aadb-7e9c40a871ad",
   "metadata": {},
   "outputs": [
    {
     "name": "stdout",
     "output_type": "stream",
     "text": [
      "1690623246.560383\n"
     ]
    }
   ],
   "source": [
    "import time\n",
    "\n",
    "current_time = time.time()\n",
    "print(current_time)"
   ]
  },
  {
   "cell_type": "markdown",
   "id": "4cfa0877-d22f-4f1c-aaf4-52fc32b73538",
   "metadata": {},
   "source": [
    "2) sleep() function:<br>\n",
    "The sleep() function suspends the execution of the program for a specified number of seconds. It is useful for introducing delays or waiting periods in your code."
   ]
  },
  {
   "cell_type": "code",
   "execution_count": 3,
   "id": "39e795f5-8f4d-4c98-9826-696bdfb0acde",
   "metadata": {},
   "outputs": [
    {
     "name": "stdout",
     "output_type": "stream",
     "text": [
      "Start\n",
      "End\n"
     ]
    }
   ],
   "source": [
    "import time\n",
    "\n",
    "print(\"Start\")\n",
    "time.sleep(2)  # Wait for 2 seconds\n",
    "print(\"End\")"
   ]
  },
  {
   "cell_type": "markdown",
   "id": "bddd0bf9-f63b-4e71-b0ec-11a25a0d037d",
   "metadata": {},
   "source": [
    "3) ctime() function:<br>\n",
    "The ctime() function converts a timestamp (seconds since the epoch) to a human-readable string representing the local time."
   ]
  },
  {
   "cell_type": "code",
   "execution_count": 4,
   "id": "32468d87-39e8-43f8-87bf-066e9d0d9814",
   "metadata": {},
   "outputs": [
    {
     "name": "stdout",
     "output_type": "stream",
     "text": [
      "Sat Jul 29 12:36:02 2023\n"
     ]
    }
   ],
   "source": [
    "import time\n",
    "\n",
    "current_time = time.time()\n",
    "formatted_time = time.ctime(current_time)\n",
    "print(formatted_time)"
   ]
  },
  {
   "cell_type": "markdown",
   "id": "60d3668c-089f-40ab-a2ea-be13d2dc9a98",
   "metadata": {},
   "source": [
    "4) gmtime() and localtime() functions:<br>\n",
    "The gmtime() function returns the current time as a named tuple in UTC (Coordinated Universal Time), and the localtime() function returns the current time as a named tuple in the local time zone."
   ]
  },
  {
   "cell_type": "code",
   "execution_count": 5,
   "id": "d7d465e0-b854-4876-8135-88254dfa73f2",
   "metadata": {},
   "outputs": [
    {
     "name": "stdout",
     "output_type": "stream",
     "text": [
      "UTC Time: time.struct_time(tm_year=2023, tm_mon=7, tm_mday=29, tm_hour=9, tm_min=37, tm_sec=36, tm_wday=5, tm_yday=210, tm_isdst=0)\n",
      "Local Time: time.struct_time(tm_year=2023, tm_mon=7, tm_mday=29, tm_hour=12, tm_min=37, tm_sec=36, tm_wday=5, tm_yday=210, tm_isdst=0)\n"
     ]
    }
   ],
   "source": [
    "import time\n",
    "\n",
    "utc_time = time.gmtime()\n",
    "local_time = time.localtime()\n",
    "\n",
    "print(\"UTC Time:\", utc_time)\n",
    "print(\"Local Time:\", local_time)"
   ]
  },
  {
   "cell_type": "markdown",
   "id": "aff9ec58-bfbf-4bb8-82ab-c9baf90eafed",
   "metadata": {},
   "source": [
    "These are just a few of the methods provided by the time module. It is essential to note that the time module deals with time in seconds and is not suitable for high-precision timing or performance measurements. For more precise timing and performance measurements, you can use the timeit module or datetime module in Python."
   ]
  },
  {
   "cell_type": "markdown",
   "id": "8dc774ea-bfda-48be-b07f-300398638c94",
   "metadata": {},
   "source": [
    "## 2) Datetime Module"
   ]
  },
  {
   "cell_type": "markdown",
   "id": "b225e899-584a-4f5e-a664-fd1fa7f1d8c2",
   "metadata": {},
   "source": [
    "The datetime module in Python is a built-in module that provides classes and functions for working with dates and times. It offers a wide range of methods to handle date and time data, perform various operations, and format date and time strings.\n",
    "\n",
    "Here are some of the commonly used classes and methods provided by the datetime module:"
   ]
  },
  {
   "cell_type": "markdown",
   "id": "ba61bf41-c692-45c6-83b4-d2cbec579cf4",
   "metadata": {},
   "source": [
    "1) datetime class:<br>\n",
    "The datetime class represents a date and time, combining the information of the date and time of day into a single object. It has attributes like year, month, day, hour, minute, second, and microsecond."
   ]
  },
  {
   "cell_type": "code",
   "execution_count": 7,
   "id": "4b2d0a24-637b-48d3-ac04-d19b2cc8b1bc",
   "metadata": {},
   "outputs": [
    {
     "name": "stdout",
     "output_type": "stream",
     "text": [
      "2023-07-29 12:40:35.581271\n"
     ]
    }
   ],
   "source": [
    "from datetime import datetime\n",
    "\n",
    "# Get the current date and time\n",
    "current_datetime = datetime.now()\n",
    "print(current_datetime)"
   ]
  },
  {
   "cell_type": "markdown",
   "id": "e3a90dc4-22b7-4dc8-8b39-5da36369498a",
   "metadata": {},
   "source": [
    "2) date class:<br>\n",
    "The date class represents a date without any time information. It has attributes like year, month, and day."
   ]
  },
  {
   "cell_type": "code",
   "execution_count": 8,
   "id": "de23f1a2-873e-4130-a9c6-8db21282182c",
   "metadata": {},
   "outputs": [
    {
     "name": "stdout",
     "output_type": "stream",
     "text": [
      "2023-07-15\n"
     ]
    }
   ],
   "source": [
    "from datetime import date\n",
    "\n",
    "# Create a date object\n",
    "my_date = date(2023, 7, 15)\n",
    "print(my_date)"
   ]
  },
  {
   "cell_type": "markdown",
   "id": "db26551a-efff-4db2-bad4-01051df88c6c",
   "metadata": {},
   "source": [
    "3) time class:<br>\n",
    "The time class represents a time of day without any date information. It has attributes like hour, minute, second, and microsecond."
   ]
  },
  {
   "cell_type": "code",
   "execution_count": 9,
   "id": "5b4b8ee2-f389-45e0-b119-dc9b7745e6c8",
   "metadata": {},
   "outputs": [
    {
     "name": "stdout",
     "output_type": "stream",
     "text": [
      "12:30:45\n"
     ]
    }
   ],
   "source": [
    "from datetime import time\n",
    "\n",
    "# Create a time object\n",
    "my_time = time(12, 30, 45)\n",
    "print(my_time)"
   ]
  },
  {
   "cell_type": "markdown",
   "id": "0aebbad7-30b9-4a9a-83aa-e2c224b9d4c4",
   "metadata": {},
   "source": [
    "4) timedelta class:<br>\n",
    "The timedelta class represents a duration or difference between two dates or times. It is useful for performing arithmetic operations on dates and times."
   ]
  },
  {
   "cell_type": "code",
   "execution_count": 10,
   "id": "9b74c622-f89f-4b4c-85d0-2b10220fc0d0",
   "metadata": {},
   "outputs": [
    {
     "name": "stdout",
     "output_type": "stream",
     "text": [
      "2023-08-03 12:42:47.856483\n"
     ]
    }
   ],
   "source": [
    "from datetime import datetime, timedelta\n",
    "\n",
    "# Get the current date and time\n",
    "current_datetime = datetime.now()\n",
    "\n",
    "# Create a timedelta of 5 days\n",
    "five_days = timedelta(days=5)\n",
    "\n",
    "# Add 5 days to the current date\n",
    "new_date = current_datetime + five_days\n",
    "print(new_date)"
   ]
  },
  {
   "cell_type": "markdown",
   "id": "521ec556-a50c-4b23-8889-8094a0043af5",
   "metadata": {},
   "source": [
    "5) strftime() method:<br>\n",
    "The strftime() method is used to format a datetime object as a custom string representation. It allows you to convert a datetime object to a formatted string."
   ]
  },
  {
   "cell_type": "code",
   "execution_count": 15,
   "id": "10ce2ae3-0f05-4464-9b4a-8e8260cdc1c0",
   "metadata": {},
   "outputs": [
    {
     "name": "stdout",
     "output_type": "stream",
     "text": [
      "2023-07-29 12:45:33\n"
     ]
    }
   ],
   "source": [
    "from datetime import datetime\n",
    "\n",
    "# Get the current date and time\n",
    "current_datetime = datetime.now()\n",
    "\n",
    "# Format the datetime as a string\n",
    "formatted_datetime = current_datetime.strftime(\"%Y-%m-%d %H:%M:%S\")\n",
    "print(formatted_datetime)"
   ]
  },
  {
   "cell_type": "markdown",
   "id": "a0876545-daf7-4a58-8385-01d6276ae7ff",
   "metadata": {},
   "source": [
    "6) strptime() function:<br>\n",
    "The strptime() function is used to parse a string representation of a date and time and convert it into a datetime object."
   ]
  },
  {
   "cell_type": "code",
   "execution_count": 13,
   "id": "d9f95e52-7884-4bb6-9d65-c155d97149a2",
   "metadata": {},
   "outputs": [
    {
     "name": "stdout",
     "output_type": "stream",
     "text": [
      "2023-07-15 12:30:45\n"
     ]
    }
   ],
   "source": [
    "from datetime import datetime\n",
    "\n",
    "# Parse a string representation of a date and time\n",
    "date_string = \"2023-07-15 12:30:45\"\n",
    "parsed_datetime = datetime.strptime(date_string, \"%Y-%m-%d %H:%M:%S\")\n",
    "print(parsed_datetime)"
   ]
  },
  {
   "cell_type": "markdown",
   "id": "9976e19d-2928-4128-9fec-353e57f8c49b",
   "metadata": {},
   "source": [
    "7) today() method:<br>\n",
    "The today() method returns the current date as a datetime object with the time set to midnight."
   ]
  },
  {
   "cell_type": "code",
   "execution_count": 40,
   "id": "c1ca1a2e-e492-413d-a0ce-3c618a92a47b",
   "metadata": {},
   "outputs": [
    {
     "name": "stdout",
     "output_type": "stream",
     "text": [
      "2023-07-29 13:51:59.699223\n",
      "2023-07-29\n",
      "29\n",
      "7\n",
      "2023\n"
     ]
    }
   ],
   "source": [
    "from datetime import datetime\n",
    "\n",
    "current_date = datetime.today() # inculding both date and time \n",
    "current_date2 = date.today()  #including only date\n",
    "print(current_date)\n",
    "print(current_date2)\n",
    "print(current_date.day)\n",
    "print(current_date.month)\n",
    "print(current_date.year)"
   ]
  },
  {
   "cell_type": "markdown",
   "id": "6384be51-89d9-47eb-b96f-184d7698da34",
   "metadata": {},
   "source": [
    "8) combine() method:<br>\n",
    "The combine() method is used to create a datetime object by combining a date object and a time object."
   ]
  },
  {
   "cell_type": "code",
   "execution_count": 24,
   "id": "76455021-e7ce-4c1f-9875-5b335f86baf9",
   "metadata": {},
   "outputs": [
    {
     "name": "stdout",
     "output_type": "stream",
     "text": [
      "2023-07-15 12:30:45\n"
     ]
    }
   ],
   "source": [
    "from datetime import date, time, datetime\n",
    "\n",
    "my_date = date(2023, 7, 15)\n",
    "my_time = time(12, 30, 45)\n",
    "\n",
    "my_datetime = datetime.combine(my_date, my_time)\n",
    "print(my_datetime)"
   ]
  },
  {
   "cell_type": "markdown",
   "id": "8df3afb4-e090-48f9-9f02-5304a26ab475",
   "metadata": {},
   "source": [
    "9) replace() method:<br>\n",
    "The replace() method creates a new datetime object with some fields replaced by the provided values."
   ]
  },
  {
   "cell_type": "code",
   "execution_count": 26,
   "id": "3fa7e9f6-228e-4a72-a43f-2be01254eee4",
   "metadata": {},
   "outputs": [
    {
     "name": "stdout",
     "output_type": "stream",
     "text": [
      "2024-08-29 12:52:26.048731\n"
     ]
    }
   ],
   "source": [
    "from datetime import datetime\n",
    "\n",
    "current_datetime = datetime.now()\n",
    "\n",
    "# Replace the year and month with new values\n",
    "new_datetime = current_datetime.replace(year=2024, month=8)\n",
    "print(new_datetime)"
   ]
  },
  {
   "cell_type": "markdown",
   "id": "1dcdc88f-b00d-4403-8f0f-f72c5a5dfde9",
   "metadata": {},
   "source": [
    "10) weekday() method:<br>\n",
    "The weekday() method returns the day of the week as an integer, where Monday is 0 and Sunday is 6."
   ]
  },
  {
   "cell_type": "code",
   "execution_count": 27,
   "id": "b11ecd5f-9ac3-44cc-a3d5-eb5d0b2b0af9",
   "metadata": {},
   "outputs": [
    {
     "name": "stdout",
     "output_type": "stream",
     "text": [
      "Saturday\n"
     ]
    }
   ],
   "source": [
    "from datetime import datetime\n",
    "\n",
    "current_datetime = datetime.now()\n",
    "weekday_number = current_datetime.weekday()\n",
    "\n",
    "# Convert the integer to the day name\n",
    "days = ['Monday', 'Tuesday', 'Wednesday', 'Thursday', 'Friday', 'Saturday', 'Sunday']\n",
    "weekday_name = days[weekday_number]\n",
    "\n",
    "print(weekday_name)"
   ]
  },
  {
   "cell_type": "markdown",
   "id": "76eec23b-fce2-4f02-9590-7a38cd9949b5",
   "metadata": {},
   "source": [
    "## 3) Calendar Module "
   ]
  },
  {
   "cell_type": "markdown",
   "id": "37715605-6c05-4b18-95ef-bb83f73ce86b",
   "metadata": {},
   "source": [
    "The calendar module in Python is a built-in module that provides various functions and classes for working with calendars, dates, and related operations. It allows you to work with different types of calendars, perform calendar-related calculations, and generate calendar data for specific months or years.\r\n",
    "\r\n",
    "Here are some of the commonly used methods and classes provided by the calendar module:"
   ]
  },
  {
   "cell_type": "markdown",
   "id": "99a8e3c9-d2a3-4d64-a6aa-bb1b282d047a",
   "metadata": {},
   "source": [
    "1) calendar.month(year, month, w=0, l=0):<br>\n",
    "This function returns a multiline string representation of a month's calendar for the specified year and month. The w parameter specifies the width of each date field, and the l parameter specifies the number of lines for each week."
   ]
  },
  {
   "cell_type": "code",
   "execution_count": 33,
   "id": "e2d57785-d8b2-4f12-bba4-5b4a17e519e7",
   "metadata": {},
   "outputs": [
    {
     "name": "stdout",
     "output_type": "stream",
     "text": [
      "     July 2023\n",
      "Mo Tu We Th Fr Sa Su\n",
      "                1  2\n",
      " 3  4  5  6  7  8  9\n",
      "10 11 12 13 14 15 16\n",
      "17 18 19 20 21 22 23\n",
      "24 25 26 27 28 29 30\n",
      "31\n",
      "\n"
     ]
    }
   ],
   "source": [
    "import calendar\n",
    "\n",
    "# Generate the calendar for July 2023\n",
    "cal = calendar.month(2023, 7)\n",
    "print(cal)"
   ]
  },
  {
   "cell_type": "markdown",
   "id": "6b00fa49-da6a-4459-8abd-c995de9b9d5f",
   "metadata": {},
   "source": [
    "2) calendar.monthcalendar(year, month):<br>\n",
    "This function returns a list of lists representing a month's calendar for the specified year and month. Each inner list corresponds to a week, and days are represented as integers. Days outside the specified month are represented as 0."
   ]
  },
  {
   "cell_type": "code",
   "execution_count": 29,
   "id": "7e6e1a7f-f7ce-4bed-96fe-1f86ddf600a2",
   "metadata": {},
   "outputs": [
    {
     "name": "stdout",
     "output_type": "stream",
     "text": [
      "[[0, 0, 0, 0, 0, 1, 2], [3, 4, 5, 6, 7, 8, 9], [10, 11, 12, 13, 14, 15, 16], [17, 18, 19, 20, 21, 22, 23], [24, 25, 26, 27, 28, 29, 30], [31, 0, 0, 0, 0, 0, 0]]\n"
     ]
    }
   ],
   "source": [
    "import calendar\n",
    "\n",
    "# Get the calendar data for July 2023 as a list of lists\n",
    "month_calendar = calendar.monthcalendar(2023, 7)\n",
    "print(month_calendar)"
   ]
  },
  {
   "cell_type": "markdown",
   "id": "24bffd13-6aff-4384-9095-cf0d57e884c0",
   "metadata": {},
   "source": [
    "3) calendar.calendar(year, w=2, l=1, c=6):<br>\n",
    "This function returns a multiline string representation of a full year's calendar for the specified year. The w parameter specifies the width of each date field, the l parameter specifies the number of lines for each month, and the c parameter specifies the number of months in each row."
   ]
  },
  {
   "cell_type": "code",
   "execution_count": 30,
   "id": "212eae11-4a5d-4221-a330-f127833cb319",
   "metadata": {},
   "outputs": [
    {
     "name": "stdout",
     "output_type": "stream",
     "text": [
      "                                  2023\n",
      "\n",
      "      January                   February                   March\n",
      "Mo Tu We Th Fr Sa Su      Mo Tu We Th Fr Sa Su      Mo Tu We Th Fr Sa Su\n",
      "                   1             1  2  3  4  5             1  2  3  4  5\n",
      " 2  3  4  5  6  7  8       6  7  8  9 10 11 12       6  7  8  9 10 11 12\n",
      " 9 10 11 12 13 14 15      13 14 15 16 17 18 19      13 14 15 16 17 18 19\n",
      "16 17 18 19 20 21 22      20 21 22 23 24 25 26      20 21 22 23 24 25 26\n",
      "23 24 25 26 27 28 29      27 28                     27 28 29 30 31\n",
      "30 31\n",
      "\n",
      "       April                      May                       June\n",
      "Mo Tu We Th Fr Sa Su      Mo Tu We Th Fr Sa Su      Mo Tu We Th Fr Sa Su\n",
      "                1  2       1  2  3  4  5  6  7                1  2  3  4\n",
      " 3  4  5  6  7  8  9       8  9 10 11 12 13 14       5  6  7  8  9 10 11\n",
      "10 11 12 13 14 15 16      15 16 17 18 19 20 21      12 13 14 15 16 17 18\n",
      "17 18 19 20 21 22 23      22 23 24 25 26 27 28      19 20 21 22 23 24 25\n",
      "24 25 26 27 28 29 30      29 30 31                  26 27 28 29 30\n",
      "\n",
      "        July                     August                  September\n",
      "Mo Tu We Th Fr Sa Su      Mo Tu We Th Fr Sa Su      Mo Tu We Th Fr Sa Su\n",
      "                1  2          1  2  3  4  5  6                   1  2  3\n",
      " 3  4  5  6  7  8  9       7  8  9 10 11 12 13       4  5  6  7  8  9 10\n",
      "10 11 12 13 14 15 16      14 15 16 17 18 19 20      11 12 13 14 15 16 17\n",
      "17 18 19 20 21 22 23      21 22 23 24 25 26 27      18 19 20 21 22 23 24\n",
      "24 25 26 27 28 29 30      28 29 30 31               25 26 27 28 29 30\n",
      "31\n",
      "\n",
      "      October                   November                  December\n",
      "Mo Tu We Th Fr Sa Su      Mo Tu We Th Fr Sa Su      Mo Tu We Th Fr Sa Su\n",
      "                   1             1  2  3  4  5                   1  2  3\n",
      " 2  3  4  5  6  7  8       6  7  8  9 10 11 12       4  5  6  7  8  9 10\n",
      " 9 10 11 12 13 14 15      13 14 15 16 17 18 19      11 12 13 14 15 16 17\n",
      "16 17 18 19 20 21 22      20 21 22 23 24 25 26      18 19 20 21 22 23 24\n",
      "23 24 25 26 27 28 29      27 28 29 30               25 26 27 28 29 30 31\n",
      "30 31\n",
      "\n"
     ]
    }
   ],
   "source": [
    "import calendar\n",
    "\n",
    "# Generate the calendar for the year 2023\n",
    "year_calendar = calendar.calendar(2023)\n",
    "print(year_calendar)"
   ]
  },
  {
   "cell_type": "markdown",
   "id": "413dce2f-b0eb-4709-bde3-132fe79571a6",
   "metadata": {},
   "source": [
    "4) calendar.isleap(year):<br>\n",
    "This function checks if the specified year is a leap year and returns True if it is, otherwise False."
   ]
  },
  {
   "cell_type": "code",
   "execution_count": 34,
   "id": "4399948f-f219-41d7-84c4-eafab9672e17",
   "metadata": {},
   "outputs": [
    {
     "name": "stdout",
     "output_type": "stream",
     "text": [
      "True\n"
     ]
    }
   ],
   "source": [
    "import calendar\n",
    "\n",
    "# Check if the year 2024 is a leap year\n",
    "is_leap_year = calendar.isleap(2024)\n",
    "print(is_leap_year)  # Output: True"
   ]
  },
  {
   "cell_type": "markdown",
   "id": "dc9afa95-6ce8-47ec-87d4-7add10073456",
   "metadata": {},
   "source": [
    "5) calendar.weekday(year, month, day):<br>\n",
    "This function returns the day of the week (0 for Monday, 1 for Tuesday, ..., 6 for Sunday) for the specified date."
   ]
  },
  {
   "cell_type": "code",
   "execution_count": 35,
   "id": "7da77396-f168-42df-a819-6863bb03985b",
   "metadata": {},
   "outputs": [
    {
     "name": "stdout",
     "output_type": "stream",
     "text": [
      "5\n"
     ]
    }
   ],
   "source": [
    "import calendar\n",
    "\n",
    "# Get the day of the week for July 15, 2023\n",
    "day_of_week = calendar.weekday(2023, 7, 15)\n",
    "print(day_of_week)  # Output: 5 (Saturday)"
   ]
  },
  {
   "cell_type": "markdown",
   "id": "7d8ec355-3329-4d06-834e-bec2f44e5f7e",
   "metadata": {},
   "source": [
    "6) calendar.month_name and calendar.day_name:<br>\n",
    "These are lists that provide the full names of months and days of the week, respectively."
   ]
  },
  {
   "cell_type": "code",
   "execution_count": 43,
   "id": "41baa244-0f1f-437c-8156-8b7e45c0fb29",
   "metadata": {},
   "outputs": [
    {
     "name": "stdout",
     "output_type": "stream",
     "text": [
      "July\n",
      "Friday\n"
     ]
    }
   ],
   "source": [
    "import calendar\n",
    "\n",
    "# Get the full name of the 7th month (July)\n",
    "month_name = calendar.month_name[7]\n",
    "print(month_name)  # Output: 'July'\n",
    "\n",
    "# Get the full name of the 5th day of the week (Friday)\n",
    "day_name = calendar.day_name[4]\n",
    "print(day_name)  # Output: 'Friday'"
   ]
  },
  {
   "cell_type": "markdown",
   "id": "86115938-d740-4515-ac5c-d6cb15b77df3",
   "metadata": {},
   "source": [
    "7) monthrange(yaer, month):<br>\n",
    "It is used to determine the starting weekday and the number of days in a specified month of a given year. The method returns a tuple containing two values:"
   ]
  },
  {
   "cell_type": "markdown",
   "id": "e7b45a15-b6c6-4b28-9f84-aa9e611cb89d",
   "metadata": {},
   "source": [
    "The method returns a tuple (weekday, num_days):\n",
    "\n",
    "weekday: An integer representing the starting weekday of the month (0 for Monday, 1 for Tuesday, ..., 6 for Sunday).<br>\n",
    "num_days: An integer representing the number of days in the specified month."
   ]
  },
  {
   "cell_type": "code",
   "execution_count": 41,
   "id": "123750ee-fdd4-451d-b1a7-d07ade1596dc",
   "metadata": {},
   "outputs": [
    {
     "name": "stdout",
     "output_type": "stream",
     "text": [
      "The starting weekday of July 2023 is: Saturday\n",
      "The number of days in July 2023 is: 31\n"
     ]
    }
   ],
   "source": [
    "import calendar\n",
    "\n",
    "year = 2023\n",
    "month = 7  # July\n",
    "\n",
    "# Get the starting weekday and the number of days in July 2023\n",
    "weekday, num_days = calendar.monthrange(year, month)\n",
    "\n",
    "# Print the results\n",
    "print(f\"The starting weekday of July 2023 is: {calendar.day_name[weekday]}\")\n",
    "print(f\"The number of days in July 2023 is: {num_days}\")"
   ]
  },
  {
   "cell_type": "code",
   "execution_count": 44,
   "id": "fe5c8f83-c7b3-438f-bbef-8fac3bea95c3",
   "metadata": {},
   "outputs": [
    {
     "name": "stdout",
     "output_type": "stream",
     "text": [
      "2023-08-01 4554.17\n",
      "2023-09-01 4103.51\n",
      "2023-10-01 3647.96\n",
      "2023-11-01 3187.48\n",
      "2023-12-01 2722.01\n",
      "2024-01-01 2251.5\n",
      "2024-02-01 1775.89\n",
      "2024-03-01 1295.13\n",
      "2024-04-01 809.16\n",
      "2024-05-01 317.93\n",
      "2024-06-01 0\n"
     ]
    }
   ],
   "source": [
    "# Here is an example about calculating end_day of credit card balance payment with interest\n",
    "import datetime\n",
    "import calendar\n",
    "\n",
    "balance = 5000\n",
    "interest_rate = 13 * 0.01\n",
    "monthly_payment = 500\n",
    "\n",
    "today= datetime.date.today()\n",
    "days_in_current_month = calendar.monthrange(today.year, today.month)\n",
    "days_till_end_month = days_in_current_month[1] - today.day\n",
    "start_date = today + datetime.timedelta(days=days_till_end_month + 1)\n",
    "end_date = start_date\n",
    "\n",
    "while balance>0:\n",
    "    interest_charge = interest_rate/12 * balance\n",
    "    balance += interest_charge\n",
    "    balance -= monthly_payment\n",
    "    balance = round(balance, 2)\n",
    "    if balance < 0:\n",
    "        balance = 0\n",
    "    print(end_date, balance)\n",
    "\n",
    "    days_in_current_month = calendar.monthrange(end_date.year, end_date.month)\n",
    "    end_date += datetime.timedelta(days=days_in_current_month[1])"
   ]
  }
 ],
 "metadata": {
  "kernelspec": {
   "display_name": "Python 3 (ipykernel)",
   "language": "python",
   "name": "python3"
  },
  "language_info": {
   "codemirror_mode": {
    "name": "ipython",
    "version": 3
   },
   "file_extension": ".py",
   "mimetype": "text/x-python",
   "name": "python",
   "nbconvert_exporter": "python",
   "pygments_lexer": "ipython3",
   "version": "3.11.2"
  }
 },
 "nbformat": 4,
 "nbformat_minor": 5
}
