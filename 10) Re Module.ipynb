{
 "cells": [
  {
   "cell_type": "markdown",
   "id": "587b25c8-769f-4410-b4d1-5603a08de924",
   "metadata": {},
   "source": [
    "# RE MODULE"
   ]
  },
  {
   "cell_type": "markdown",
   "id": "16c204da-481d-4ee8-b3e1-848136c275b3",
   "metadata": {},
   "source": [
    "### re (regular expressions) module in Python provides support for regular expressions, which are powerful tools for pattern matching and manipulation of strings. Regular expressions allow you to search for specific patterns in text and perform various operations like finding, replacing, and splitting strings based on those patterns. Here's an overview of the re module and some important methods:"
   ]
  },
  {
   "cell_type": "code",
   "execution_count": 1,
   "id": "82ccc36d-43d8-47da-9c85-6dd6908f5604",
   "metadata": {},
   "outputs": [],
   "source": [
    "# search(): Returns a match object if the regular expression matches the string, or None if it does not match.\n",
    "# findall(): Returns a list of all the matches for the regular expression in the string.\n",
    "# split(): Splits the string into a list of strings, based on the matches for the regular expression.\n",
    "# sub(): Replaces all the matches for the regular expression in the string with a new string.\n",
    "# compile(): Compiles a regular expression pattern into a regular expression object. This can be useful for improving performance, as the compiled object can be reused multiple times.\n",
    "# match(): Returns a match object if the regular expression matches the beginning of the string, or None if it does not match. This is different from the search() method, which will match the regular expression anywhere in the string.\n",
    "# group(): Returns a specific group from a match object. Groups are numbered starting from 1, and the first group is the entire match.\n",
    "# groups(): Returns a tuple of all the groups from a match object.\n",
    "# flags: Specifies flags that control the behavior of the regular expression. For example, the re.IGNORECASE flag can be used to make the regular expression case-insensitive."
   ]
  },
  {
   "cell_type": "markdown",
   "id": "eb7bcdab-2238-4175-9071-d6008365c910",
   "metadata": {},
   "source": [
    "### When using re.compile(), you compile the regular expression pattern into a pattern object. This pattern object has various methods (e.g., search(), findall()) that can be used for matching and manipulating strings."
   ]
  },
  {
   "cell_type": "code",
   "execution_count": 3,
   "id": "24986be1-efab-433d-814c-dd9be036d731",
   "metadata": {},
   "outputs": [
    {
     "name": "stdout",
     "output_type": "stream",
     "text": [
      "Pattern found!\n"
     ]
    }
   ],
   "source": [
    "import re\n",
    "pattern = re.compile(r'abc') #we can also use pattern = r'abc' and it would give the same result, but pattern = re.compile(r'abc') is more efficient for large datasets\n",
    "string = \"abcdef\"\n",
    "\n",
    "match = pattern.search(string)\n",
    "if match:\n",
    "    print(\"Pattern found!\")\n",
    "else:\n",
    "    print(\"Pattern not found.\")"
   ]
  },
  {
   "cell_type": "code",
   "execution_count": 57,
   "id": "202f27ea-7f70-4943-abbc-157539c521ff",
   "metadata": {},
   "outputs": [],
   "source": [
    "# if you use compile(), you will not need to use re.findall(pattern, string). Instead, you can use pattern.findall(string)"
   ]
  },
  {
   "cell_type": "code",
   "execution_count": 4,
   "id": "d692aaf5-8626-40b8-93ac-40463d74fa03",
   "metadata": {},
   "outputs": [
    {
     "name": "stdout",
     "output_type": "stream",
     "text": [
      "['3']\n",
      "['10']\n",
      "['3']\n",
      "['10']\n"
     ]
    }
   ],
   "source": [
    "import re\n",
    "\n",
    "pattern = re.compile(r\"\\d+\")\n",
    "string1 = \"I have 3 cats.\"\n",
    "string2 = \"There are 10 dogs.\"\n",
    "\n",
    "matches1 = pattern.findall(string1)\n",
    "matches2 = pattern.findall(string2)\n",
    "\n",
    "print(matches1)  # Output: ['3']\n",
    "print(matches2)  # Output: ['10']\n",
    "\n",
    "# Example without re.compile():\n",
    "import re\n",
    "\n",
    "string1 = \"I have 3 cats.\"\n",
    "string2 = \"There are 10 dogs.\"\n",
    "\n",
    "matches1 = re.findall(r\"\\d+\", string1)\n",
    "matches2 = re.findall(r\"\\d+\", string2)\n",
    "\n",
    "print(matches1)  # Output: ['3']\n",
    "print(matches2)  # Output: ['10']"
   ]
  },
  {
   "cell_type": "code",
   "execution_count": 19,
   "id": "99467938-1aab-4002-840e-b6d35822559a",
   "metadata": {},
   "outputs": [
    {
     "name": "stdout",
     "output_type": "stream",
     "text": [
      "<callable_iterator object at 0x00000118948DA980>\n"
     ]
    }
   ],
   "source": []
  },
  {
   "cell_type": "markdown",
   "id": "573ed155-3cd3-46b9-8c81-a7ab865b394b",
   "metadata": {},
   "source": [
    "### re.match(pattern, string, flags=0): This method tries to match the pattern at the beginning of the string. It returns a match object if the pattern matches, or None if it doesn't."
   ]
  },
  {
   "cell_type": "code",
   "execution_count": 8,
   "id": "27ef62ac-f24b-46a4-a289-9da2a44c29b1",
   "metadata": {},
   "outputs": [
    {
     "name": "stdout",
     "output_type": "stream",
     "text": [
      "<re.Match object; span=(0, 5), match='Hello'>\n",
      "Match found!\n"
     ]
    }
   ],
   "source": [
    "import re\n",
    "\n",
    "pattern = r\"Hello\"\n",
    "string = \"Hello, World!\"\n",
    "\n",
    "match = re.match(pattern, string)\n",
    "print(match)\n",
    "if match:\n",
    "    print(\"Match found!\")\n",
    "else:\n",
    "    print(\"No match.\")"
   ]
  },
  {
   "cell_type": "markdown",
   "id": "99bf1d2a-c322-4474-9a3e-cbb74e8238ac",
   "metadata": {},
   "source": [
    "### re.search(pattern, string, flags=0): This method searches the pattern in the entire string. It returns a match object if the pattern is found, or None otherwise."
   ]
  },
  {
   "cell_type": "code",
   "execution_count": 7,
   "id": "25e025ab-987d-4911-b411-131eb52df7e8",
   "metadata": {},
   "outputs": [
    {
     "name": "stdout",
     "output_type": "stream",
     "text": [
      "<re.Match object; span=(7, 12), match='World'>\n",
      "Pattern found!\n"
     ]
    }
   ],
   "source": [
    "import re\n",
    "\n",
    "pattern = r\"World\"\n",
    "string = \"Hello, World!\"\n",
    "\n",
    "match = re.search(pattern, string)\n",
    "print(match)\n",
    "if match:\n",
    "    print(\"Pattern found!\")\n",
    "else:\n",
    "    print(\"Pattern not found.\")"
   ]
  },
  {
   "cell_type": "markdown",
   "id": "2e98587f-a772-4388-90f8-0a2e5fe03749",
   "metadata": {},
   "source": [
    "### Flags"
   ]
  },
  {
   "cell_type": "code",
   "execution_count": 94,
   "id": "9481a3bc-b38e-4254-8416-7459bb23dd11",
   "metadata": {},
   "outputs": [
    {
     "name": "stdout",
     "output_type": "stream",
     "text": [
      "None\n",
      "<re.Match object; span=(0, 5), match='Start'>\n"
     ]
    }
   ],
   "source": [
    "import re\n",
    "sentence = \"Start a sentence and bring it to the end.\"\n",
    "pattern = re.compile(r\"start\")\n",
    "matches = pattern.search(sentence)\n",
    "print(matches) # since pattern is sensetive to uppercase, it returns to none\n",
    "\n",
    "pattern = re.compile(r\"start\", re.IGNORECASE) #to avoid this case, use re.IGNORECASE or re.I flag.\n",
    "matches = pattern.search(sentence)\n",
    "print(matches) # since pattern is sensetive to uppercase, it returns to none"
   ]
  },
  {
   "cell_type": "markdown",
   "id": "e2f01272-7f50-4f06-be10-2d1246f01855",
   "metadata": {},
   "source": [
    "### Difference between match and search methods:\n",
    "The main difference between search() and match() is that search() looks for a match anywhere in the string, while match() only looks for a match at the beginning of the string. It's important to choose the appropriate method based on your specific matching requirements."
   ]
  },
  {
   "cell_type": "markdown",
   "id": "bc832169-f6ef-4307-93e3-317ba980d714",
   "metadata": {},
   "source": [
    "### re.findall(pattern, string, flags=0): This method finds all occurrences of the pattern in the string and returns them as a list of strings."
   ]
  },
  {
   "cell_type": "code",
   "execution_count": 9,
   "id": "42c34c6d-c485-44c9-8b15-091e1a044cd4",
   "metadata": {},
   "outputs": [
    {
     "name": "stdout",
     "output_type": "stream",
     "text": [
      "['3', '2']\n"
     ]
    }
   ],
   "source": [
    "import re\n",
    "\n",
    "pattern = r\"\\d+\"\n",
    "string = \"I have 3 cats and 2 dogs.\"\n",
    "\n",
    "numbers = re.findall(pattern, string)\n",
    "print(numbers)  # Output: ['3', '2']"
   ]
  },
  {
   "cell_type": "markdown",
   "id": "2f33c292-4f9c-4f88-9743-09719b936c45",
   "metadata": {},
   "source": [
    "### re.finditer() method in Python is used to find all occurrences of a pattern in a string and return an iterator yielding match objects for each match found. It's similar to the re.findall() method, but instead of returning a list of matching strings, it returns an iterator of match objects that provide more detailed information about each match."
   ]
  },
  {
   "cell_type": "code",
   "execution_count": 56,
   "id": "2d88f67d-45df-4923-bc30-5f49eeaa8f1e",
   "metadata": {},
   "outputs": [
    {
     "name": "stdout",
     "output_type": "stream",
     "text": [
      "<re.Match object; span=(7, 8), match='3'>\n",
      "3\n",
      "7\n",
      "8\n",
      "<re.Match object; span=(18, 19), match='2'>\n",
      "2\n",
      "18\n",
      "19\n"
     ]
    }
   ],
   "source": [
    "import re\n",
    "\n",
    "pattern = r\"\\d+\"\n",
    "string = \"I have 3 cats and 2 dogs.\"\n",
    "\n",
    "matches = re.finditer(pattern, string)\n",
    "for match in matches:\n",
    "    print(match)\n",
    "    print(match.group())  # Output: '3', '2'\n",
    "    print(match.start())  # Output: 7, 18\n",
    "    print(match.end())    # Output: 8, 19\n",
    "# Inside the loop, we can access the matched string using match.group(). \n",
    "# The start() method returns the starting index of the match in the string, and end() method returns the index immediately following the end of the match."
   ]
  },
  {
   "cell_type": "markdown",
   "id": "de22af70-2bdd-48e9-ae48-8a84eabfb797",
   "metadata": {},
   "source": [
    "### MetaCharacters (Need to be escaped): When searching these characters, we need to use \\ before them to escape the chararcter.\r\n",
    ". ^ $ * + ? { } [ ] \\ | ( )"
   ]
  },
  {
   "cell_type": "code",
   "execution_count": 55,
   "id": "1f9616cf-783a-4685-b8a5-d4e19023c7ad",
   "metadata": {},
   "outputs": [
    {
     "name": "stdout",
     "output_type": "stream",
     "text": [
      "<re.Match object; span=(0, 1), match='h'>\n",
      "<re.Match object; span=(1, 2), match='i'>\n",
      "<re.Match object; span=(2, 3), match='.'>\n",
      "<re.Match object; span=(4, 5), match='i'>\n",
      "<re.Match object; span=(5, 6), match=' '>\n",
      "<re.Match object; span=(6, 7), match='h'>\n",
      "<re.Match object; span=(7, 8), match='a'>\n",
      "<re.Match object; span=(8, 9), match='v'>\n",
      "<re.Match object; span=(9, 10), match='e'>\n",
      "<re.Match object; span=(10, 11), match=' '>\n",
      "<re.Match object; span=(11, 12), match='3'>\n",
      "<re.Match object; span=(12, 13), match=' '>\n",
      "<re.Match object; span=(13, 14), match='d'>\n",
      "<re.Match object; span=(14, 15), match='o'>\n",
      "<re.Match object; span=(15, 16), match='g'>\n",
      "<re.Match object; span=(16, 17), match='s'>\n",
      "<re.Match object; span=(17, 18), match=' '>\n",
      "<re.Match object; span=(18, 19), match='a'>\n",
      "<re.Match object; span=(19, 20), match='n'>\n",
      "<re.Match object; span=(20, 21), match='d'>\n",
      "<re.Match object; span=(21, 22), match=' '>\n",
      "<re.Match object; span=(22, 23), match=' '>\n",
      "<re.Match object; span=(23, 24), match='2'>\n",
      "<re.Match object; span=(24, 25), match=' '>\n",
      "<re.Match object; span=(25, 26), match='c'>\n",
      "<re.Match object; span=(26, 27), match='a'>\n",
      "<re.Match object; span=(27, 28), match='t'>\n",
      "<re.Match object; span=(28, 29), match='s'>\n",
      "<re.Match object; span=(29, 30), match='.'>\n"
     ]
    }
   ],
   "source": [
    "pattern = r\".\"\n",
    "string = '''hi.\n",
    "i have 3 dogs and  2 cats.\n",
    "'''\n",
    "\n",
    "matches = re.finditer(pattern, string)  # or you can use mathces=pattern.finditer(string) if pattern = re.compile(r\"\\.\")\n",
    "for match in matches:\n",
    "    print(match)"
   ]
  },
  {
   "cell_type": "code",
   "execution_count": 54,
   "id": "69fdcb76-e1e8-4d8e-987f-4ef092b09899",
   "metadata": {},
   "outputs": [
    {
     "name": "stdout",
     "output_type": "stream",
     "text": [
      "<re.Match object; span=(2, 3), match='.'>\n",
      "<re.Match object; span=(29, 30), match='.'>\n"
     ]
    }
   ],
   "source": [
    "pattern =re.compile( r\"\\.\")\n",
    "string = '''hi.\n",
    "i have 3 dogs and  2 cats.\n",
    "'''\n",
    "\n",
    "matches = pattern.finditer(string)\n",
    "for match in matches:\n",
    "    print(match)"
   ]
  },
  {
   "cell_type": "markdown",
   "id": "1386dc6b-9518-4b36-a928-43ed8c84d444",
   "metadata": {},
   "source": [
    "### Cases for Patterns:\n",
    "pattern = r\"character\""
   ]
  },
  {
   "cell_type": "code",
   "execution_count": 26,
   "id": "ecf869bc-4a72-4d5e-b4fa-d1d40c469862",
   "metadata": {},
   "outputs": [],
   "source": [
    "# # if character = \n",
    "# .    - any character except new line\n",
    "# \\d   - digit(0-9)\n",
    "# \\d+  - whole number adjacent\n",
    "# \\D   - not a digit(0-9)\n",
    "# \\w   - word character(a-z, A-Z, 0-9, _)\n",
    "# \\W   - not a word character \n",
    "# \\s   - whitespace(space, tab, newline)\n",
    "# \\S   - not whitespace\n",
    "# \\b   - word boundry\n",
    "# \\B   - not a word boundry\n",
    "\n",
    "# ^    - beginning of a string\n",
    "# $    - end of a string"
   ]
  },
  {
   "cell_type": "code",
   "execution_count": 37,
   "id": "79ac05a0-2cb1-4557-af89-c50d0f923c78",
   "metadata": {},
   "outputs": [
    {
     "name": "stdout",
     "output_type": "stream",
     "text": [
      "555.222.4564\n",
      "666.333.6677\n",
      "345.658.2342\n",
      "mathew+12@email.com\n",
      "yuri23@emial.com\n",
      "steven_2432@email.com\n",
      "Matthew Anderson\n",
      "Yuri Johanson\n",
      "Steven Neil\n"
     ]
    }
   ],
   "source": [
    "# an important example\n",
    "import re\n",
    "text= '''\n",
    "Matthew Anderson\n",
    "555.222.4564\n",
    "mathew+12@email.com\n",
    "\n",
    "Yuri Johanson\n",
    "666.333.6677\n",
    "yuri23@emial.com\n",
    "\n",
    "Steven Neil\n",
    "345.658.2342\n",
    "steven_2432@email.com\n",
    "'''\n",
    "pattern = re.compile(r\"\\d\\d\\d.\\d\\d\\d.\\d\\d\\d\\d\") # pattern for phone numbers\n",
    "matches= re.findall(pattern, text)\n",
    "for match in matches:\n",
    "    print(match)\n",
    "pattern = re.compile(r\"\\b[A-Za-z0-9._%+-]+@[A-Za-z0-9.-]+\\.[A-Za-z]{2,}\\b\") # pattern for mail adresses\n",
    "matches= re.findall(pattern, text)\n",
    "for match in matches:\n",
    "    print(match)\n",
    "pattern = re.compile(r\"([A-Z][a-z]+ [A-Z][a-z]+)\") # pattern for names\n",
    "matches= re.findall(pattern, text)\n",
    "for match in matches:\n",
    "    print(match)"
   ]
  },
  {
   "cell_type": "code",
   "execution_count": 87,
   "id": "9ca6a16b-f4c9-46b0-8a3b-5e4486a8d089",
   "metadata": {},
   "outputs": [
    {
     "name": "stdout",
     "output_type": "stream",
     "text": [
      "123.345.6789\n",
      "431-346-9786\n"
     ]
    }
   ],
   "source": [
    "# another example\n",
    "phone_nums ='''\n",
    "123.345.6789\n",
    "431-346-9786\n",
    "875*235*7544\n",
    "324--453-7568\n",
    "'''\n",
    "pattern = re.compile(r\"\\d\\d\\d[.-]\\d\\d\\d[.-]\\d\\d\\d\\d\") # pattern for phone numbers\n",
    "matches= re.findall(pattern, phone_nums)\n",
    "for match in matches:\n",
    "    print(match)\n",
    "# when we use [.-], we limited our seperators to either . or - so that other numbers didn't match."
   ]
  },
  {
   "cell_type": "markdown",
   "id": "0a6b24d6-f2cf-4e12-8840-10e7d6ea5ec3",
   "metadata": {},
   "source": [
    "### - between two characters indicates a range we search. To specify our search, use [1st boundry - 2nd boundry]"
   ]
  },
  {
   "cell_type": "code",
   "execution_count": 88,
   "id": "73a2c2fe-996b-485e-81c7-d47058c3dab2",
   "metadata": {},
   "outputs": [
    {
     "name": "stdout",
     "output_type": "stream",
     "text": [
      "<re.Match object; span=(2, 8), match='atthew'>\n",
      "<re.Match object; span=(10, 17), match='nderson'>\n",
      "<re.Match object; span=(31, 37), match='mathew'>\n",
      "<re.Match object; span=(41, 46), match='email'>\n",
      "<re.Match object; span=(47, 50), match='com'>\n",
      "<re.Match object; span=(53, 56), match='uri'>\n",
      "<re.Match object; span=(58, 65), match='ohanson'>\n",
      "<re.Match object; span=(79, 83), match='yuri'>\n",
      "<re.Match object; span=(86, 91), match='emial'>\n",
      "<re.Match object; span=(92, 95), match='com'>\n",
      "<re.Match object; span=(98, 103), match='teven'>\n",
      "<re.Match object; span=(105, 108), match='eil'>\n",
      "<re.Match object; span=(122, 128), match='steven'>\n",
      "<re.Match object; span=(134, 139), match='email'>\n",
      "<re.Match object; span=(140, 143), match='com'>\n"
     ]
    }
   ],
   "source": [
    "text= '''\n",
    "Matthew Anderson\n",
    "555.222.4564\n",
    "mathew+12@email.com\n",
    "\n",
    "Yuri Johanson\n",
    "666.333.6677\n",
    "yuri23@emial.com\n",
    "\n",
    "Steven Neil\n",
    "345.658.2342\n",
    "steven_2432@email.com\n",
    "'''\n",
    "pattern = re.compile(r\"[a-z]+\") # + indicating that the preceding element should occur one or more times. \n",
    "matches = re.finditer(pattern, text)\n",
    "for match in matches:\n",
    "    print(match)"
   ]
  },
  {
   "cell_type": "code",
   "execution_count": 50,
   "id": "f7e442c9-b755-4354-806c-18c1030b45da",
   "metadata": {},
   "outputs": [
    {
     "name": "stdout",
     "output_type": "stream",
     "text": [
      "<re.Match object; span=(5, 8), match='pat'>\n",
      "<re.Match object; span=(9, 12), match='cat'>\n",
      "<re.Match object; span=(13, 16), match='sat'>\n"
     ]
    }
   ],
   "source": [
    "# ^ negates the characters between []\n",
    "text= '''\n",
    "bat\n",
    "pat\n",
    "cat\n",
    "sat\n",
    "'''\n",
    "pattern = re.compile(r\"[^b]at\") \n",
    "matches = re.finditer(pattern, text)\n",
    "for match in matches:\n",
    "    print(match)"
   ]
  },
  {
   "cell_type": "code",
   "execution_count": null,
   "id": "69be9c1e-c3bf-48bb-bb14-8c9d0794084f",
   "metadata": {},
   "outputs": [],
   "source": [
    "# BRACKETS\n",
    "# |     - Either or\n",
    "# ()    - Groups\n",
    "\n",
    "# QUANTIFIERS\n",
    "# *     - 0 or more\n",
    "# +     - 1 or more\n",
    "# ?     - 0 or one\n",
    "# {3}   - exact number\n",
    "# {3,4} - range of numbers {max,min}"
   ]
  },
  {
   "cell_type": "code",
   "execution_count": 68,
   "id": "9130329d-5cd5-465d-bff3-0421dc8d6bc1",
   "metadata": {},
   "outputs": [
    {
     "name": "stdout",
     "output_type": "stream",
     "text": [
      "<re.Match object; span=(1, 13), match='123.345.6789'>\n",
      "<re.Match object; span=(14, 26), match='431-346-9786'>\n",
      "<re.Match object; span=(27, 39), match='875*235*7544'>\n"
     ]
    }
   ],
   "source": [
    "phone_nums ='''\n",
    "123.345.6789\n",
    "431-346-9786\n",
    "875*235*7544\n",
    "324--453-7568\n",
    "'''\n",
    "pattern =re.compile( r'\\d{3}.\\d{3}.\\d{4}') # pattern for phone numbers\n",
    "matches= pattern.finditer(phone_nums)\n",
    "for match in matches:\n",
    "    print(match)"
   ]
  },
  {
   "cell_type": "code",
   "execution_count": 71,
   "id": "ce90b18b-5140-4a57-b4c6-1f8a423ef12a",
   "metadata": {},
   "outputs": [
    {
     "name": "stdout",
     "output_type": "stream",
     "text": [
      "<re.Match object; span=(1, 12), match='Mr. Schafer'>\n",
      "<re.Match object; span=(13, 21), match='Mr Smith'>\n",
      "\n",
      "<re.Match object; span=(1, 12), match='Mr. Schafer'>\n",
      "<re.Match object; span=(13, 21), match='Mr Smith'>\n",
      "<re.Match object; span=(22, 30), match='Ms Davis'>\n",
      "<re.Match object; span=(31, 44), match='Mrs. Robinson'>\n",
      "\n",
      "<re.Match object; span=(1, 12), match='Mr. Schafer'>\n",
      "<re.Match object; span=(13, 21), match='Mr Smith'>\n",
      "<re.Match object; span=(22, 30), match='Ms Davis'>\n",
      "<re.Match object; span=(31, 44), match='Mrs. Robinson'>\n",
      "<re.Match object; span=(45, 50), match='Mr. T'>\n"
     ]
    }
   ],
   "source": [
    "text= '''\n",
    "Mr. Schafer\n",
    "Mr Smith\n",
    "Ms Davis\n",
    "Mrs. Robinson\n",
    "Mr. T\n",
    "'''\n",
    "pattern = re.compile(r\"Mr\\.?\\s[A-Z]\\w+\")\n",
    "matches = pattern.finditer(text)\n",
    "for match in matches:\n",
    "    print(match)\n",
    "print()\n",
    "# including ms and mrs\n",
    "pattern = re.compile(r\"(Mr|Mrs|Ms)\\.?\\s[A-Z]\\w+\")\n",
    "matches = pattern.finditer(text)\n",
    "for match in matches:\n",
    "    print(match)\n",
    "print()\n",
    "#  including mr. t\n",
    "pattern = re.compile(r\"(Mr|Mrs|Ms)\\.?\\s[A-Z]\\w*\")\n",
    "matches = pattern.finditer(text)\n",
    "for match in matches:\n",
    "    print(match)\n"
   ]
  },
  {
   "cell_type": "code",
   "execution_count": 89,
   "id": "4358dbbb-0795-4f40-b491-2e52bb801a94",
   "metadata": {},
   "outputs": [
    {
     "name": "stdout",
     "output_type": "stream",
     "text": [
      "<re.Match object; span=(1, 24), match='CoreyMSchafer@gmail.com'>\n",
      "<re.Match object; span=(25, 53), match='corey.schafer@university.edu'>\n",
      "<re.Match object; span=(54, 83), match='corey-321-schafer@my-work.net'>\n"
     ]
    }
   ],
   "source": [
    "emails= '''\n",
    "CoreyMSchafer@gmail.com\n",
    "corey.schafer@university.edu\n",
    "corey-321-schafer@my-work.net\n",
    "'''\n",
    "pattern = re.compile(r\"[a-zA-z0-9.-]+@[a-zA-Z-]+\\.(com|net|edu)\")\n",
    "matches = pattern.finditer(emails)\n",
    "for match in matches:\n",
    "    print(match)"
   ]
  },
  {
   "cell_type": "code",
   "execution_count": 84,
   "id": "9f268cf0-14bf-49c4-9a13-824142f445f8",
   "metadata": {},
   "outputs": [
    {
     "name": "stdout",
     "output_type": "stream",
     "text": [
      "https://www.google.com\n",
      "www.\n",
      "google\n",
      ".com\n",
      "http://coreyms.com\n",
      "None\n",
      "coreyms\n",
      ".com\n",
      "https://youtube.com\n",
      "None\n",
      "youtube\n",
      ".com\n",
      "https://www.nasa.gov\n",
      "www.\n",
      "nasa\n",
      ".gov\n"
     ]
    }
   ],
   "source": [
    "urls = '''\n",
    "https://www.google.com\n",
    "http://coreyms.com\n",
    "https://youtube.com\n",
    "https://www.nasa.gov\n",
    "'''\n",
    "pattern = re.compile(r\"https?://(www\\.)?(\\w+)(\\.\\w+)\") #(www\\.) group 1   (\\w+) group 2   (\\.\\w+) group 3   \n",
    "matches = pattern.finditer(urls)\n",
    "for match in matches:\n",
    "    print(match.group(0)) # group zero returns the entire group\n",
    "    print(match.group(1))\n",
    "    print(match.group(2)) # since it is optional, it returns none if it there is no group 2\n",
    "    print(match.group(3))"
   ]
  },
  {
   "cell_type": "code",
   "execution_count": 86,
   "id": "2ffed22b-344b-4472-9775-47e0388c2b73",
   "metadata": {},
   "outputs": [
    {
     "name": "stdout",
     "output_type": "stream",
     "text": [
      "\n",
      "google.com\n",
      "coreyms.com\n",
      "youtube.com\n",
      "nasa.gov\n",
      "\n",
      "\n",
      "https://www.google.com\n",
      "http://coreyms.com\n",
      "https://youtube.com\n",
      "https://www.nasa.gov\n",
      "\n"
     ]
    }
   ],
   "source": [
    "subbed_urls =pattern.sub(r\"\\2\\3\", urls) #\\2\\3 indicating the number of groups that we want to substitute\n",
    "print(subbed_urls)\n",
    "print(urls)"
   ]
  },
  {
   "cell_type": "markdown",
   "id": "46b52f3a-65f2-42aa-bf80-60bc4dbff4bb",
   "metadata": {},
   "source": [
    "### re.sub(pattern, repl, string, count=0, flags=0): This method replaces all occurrences of the pattern in the string with the specified replacement string (repl). The count parameter limits the number of replacements made."
   ]
  },
  {
   "cell_type": "code",
   "execution_count": 17,
   "id": "bda1a33a-4b19-4ae9-9c35-86e2d9981e29",
   "metadata": {},
   "outputs": [
    {
     "name": "stdout",
     "output_type": "stream",
     "text": [
      "I have an orange and an orange pie. orange orange orange orangeapple\n"
     ]
    }
   ],
   "source": [
    "import re\n",
    "\n",
    "pattern = r\"apple\"\n",
    "string = \"I have an apple and an apple pie. apple apple apple appleapple\"\n",
    "\n",
    "new_string = re.sub(pattern, \"orange\", string, count=6)\n",
    "print(new_string)  # Output: \"I have an orange and an orange pie.\""
   ]
  }
 ],
 "metadata": {
  "kernelspec": {
   "display_name": "Python 3 (ipykernel)",
   "language": "python",
   "name": "python3"
  },
  "language_info": {
   "codemirror_mode": {
    "name": "ipython",
    "version": 3
   },
   "file_extension": ".py",
   "mimetype": "text/x-python",
   "name": "python",
   "nbconvert_exporter": "python",
   "pygments_lexer": "ipython3",
   "version": "3.11.2"
  }
 },
 "nbformat": 4,
 "nbformat_minor": 5
}
