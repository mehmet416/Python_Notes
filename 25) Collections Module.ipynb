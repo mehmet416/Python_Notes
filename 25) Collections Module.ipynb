{
 "cells": [
  {
   "cell_type": "markdown",
   "id": "b7dd29c3-41ab-45cf-a8e8-aee2796631cd",
   "metadata": {},
   "source": [
    "# COLLECTIONS MODULE"
   ]
  },
  {
   "cell_type": "markdown",
   "id": "bf8b3238-b7f7-4fd6-9cca-e85791635eea",
   "metadata": {},
   "source": [
    "The collections module in Python provides specialized container datatypes that go beyond the built-in data types like lists, dictionaries, and tuples. These specialized data structures offer additional functionalities and are designed for specific use cases. Here are some of the key data structures provided by the collections module, along with examples of their usage:\n",
    "\n",
    "* **Counter**\n",
    "* **Named Tuple**\n",
    "* **Default Dict**\n",
    "* **Ordered Dict**\n",
    "* **Deque**"
   ]
  },
  {
   "cell_type": "markdown",
   "id": "8c8a6491-709a-4539-867c-439b98fe19cd",
   "metadata": {
    "jp-MarkdownHeadingCollapsed": true
   },
   "source": [
    "### **1) Counter** \n",
    "class from the collections module in Python is used to count the occurrences of elements in a collection, typically in a list, tuple, or even a string. It creates a dictionary-like object where elements are keys and their counts are values. Here are some examples of using the Counter class:"
   ]
  },
  {
   "cell_type": "code",
   "execution_count": 2,
   "id": "cf7803f7-8136-48e4-803f-b4287a180698",
   "metadata": {},
   "outputs": [
    {
     "name": "stdout",
     "output_type": "stream",
     "text": [
      "Counter({'apple': 3, 'banana': 2, 'orange': 1})\n"
     ]
    }
   ],
   "source": [
    "from collections import Counter\n",
    "\n",
    "# Example 1: Counting elements in a list\n",
    "fruit_list = [\"apple\", \"banana\", \"apple\", \"orange\", \"banana\", \"apple\"]\n",
    "fruit_counter = Counter(fruit_list)\n",
    "\n",
    "print(fruit_counter)\n",
    "# Output: Counter({'apple': 3, 'banana': 2, 'orange': 1})\n",
    "\n"
   ]
  },
  {
   "cell_type": "code",
   "execution_count": 3,
   "id": "578e0df1-4b23-4df8-99c3-7cd5f30001cf",
   "metadata": {},
   "outputs": [
    {
     "name": "stdout",
     "output_type": "stream",
     "text": [
      "Counter({'l': 3, 'o': 2, 'h': 1, 'e': 1, ' ': 1, 'w': 1, 'r': 1, 'd': 1})\n"
     ]
    }
   ],
   "source": [
    "# Example 2: Counting characters in a string\n",
    "text = \"hello world\"\n",
    "char_counter = Counter(text)\n",
    "\n",
    "print(char_counter)\n",
    "# Output: Counter({'l': 3, 'o': 2, 'h': 1, 'e': 1, ' ': 1, 'w': 1, 'r': 1, 'd': 1})\n"
   ]
  },
  {
   "cell_type": "code",
   "execution_count": 4,
   "id": "02791dbf-b544-438c-8b18-dc10785c74f1",
   "metadata": {},
   "outputs": [
    {
     "name": "stdout",
     "output_type": "stream",
     "text": [
      "Counter({'Python': 2, 'is': 1, 'a': 1, 'powerful': 1, 'programming': 1, 'language': 1})\n"
     ]
    }
   ],
   "source": [
    "# Example 3: Counting words in a sentence\n",
    "sentence = \"Python is a powerful programming language Python\"\n",
    "word_list = sentence.split()\n",
    "word_counter = Counter(word_list)\n",
    "\n",
    "print(word_counter)\n",
    "# Output: Counter({'Python': 2, 'is': 1, 'a': 1, 'powerful': 1, 'programming': 1, 'language': 1})\n"
   ]
  },
  {
   "cell_type": "code",
   "execution_count": 5,
   "id": "7f31a77d-2538-48ea-bbd4-c887a503198f",
   "metadata": {},
   "outputs": [
    {
     "name": "stdout",
     "output_type": "stream",
     "text": [
      "Counter({'a': 4, 'b': 4, 'c': 4})\n"
     ]
    }
   ],
   "source": [
    "# Example 4: Combining Counters\n",
    "counter1 = Counter(a=3, b=2, c=1)\n",
    "counter2 = Counter(a=1, b=2, c=3)\n",
    "combined_counter = counter1 + counter2\n",
    "\n",
    "print(combined_counter)\n",
    "# Output: Counter({'a': 4, 'b': 4, 'c': 4})\n"
   ]
  },
  {
   "cell_type": "code",
   "execution_count": 6,
   "id": "b48a68d1-31c5-4903-a6aa-7288a3c5a743",
   "metadata": {},
   "outputs": [
    {
     "name": "stdout",
     "output_type": "stream",
     "text": [
      "[('l', 3), ('o', 2)]\n"
     ]
    }
   ],
   "source": [
    "# Example 5: Most common elements\n",
    "common_elements = char_counter.most_common(2)\n",
    "print(common_elements)\n",
    "# Output: [('l', 3), ('o', 2)]"
   ]
  },
  {
   "cell_type": "code",
   "execution_count": 8,
   "id": "fa699005-656c-433e-b887-58254a796e9d",
   "metadata": {},
   "outputs": [
    {
     "name": "stdout",
     "output_type": "stream",
     "text": [
      "['h', 'e', 'l', 'l', 'l', 'o', 'o', ' ', 'w', 'r', 'd']\n"
     ]
    }
   ],
   "source": [
    "# Example 6: list elements\n",
    "\n",
    "text = \"hello world\"\n",
    "c = Counter(text)\n",
    "print(list(c.elements()))"
   ]
  },
  {
   "cell_type": "markdown",
   "id": "cca6a791-49ad-43d0-ba3c-4089015ca7c3",
   "metadata": {
    "jp-MarkdownHeadingCollapsed": true
   },
   "source": [
    "### **2) Named Tuple**\n",
    "named tuple is a subclass of the tuple class that allows you to define simple classes for storing data in a more readable and self-documenting way. Each field in a named tuple has a name and a corresponding index. Named tuples are immutable, just like regular tuples, which means their values cannot be changed after creation. They are defined using the collections.namedtuple factory function. Here are some examples of using named tuples:"
   ]
  },
  {
   "cell_type": "code",
   "execution_count": 9,
   "id": "19fd5b9a-b78e-472c-842f-756de3af70f7",
   "metadata": {},
   "outputs": [
    {
     "name": "stdout",
     "output_type": "stream",
     "text": [
      "Alice\n",
      "25\n",
      "30\n",
      "Bob 25 male\n"
     ]
    }
   ],
   "source": [
    "from collections import namedtuple\n",
    "\n",
    "# Define a named tuple type\n",
    "Person = namedtuple(\"Person\", [\"name\", \"age\", \"gender\"])\n",
    "\n",
    "# Create instances of the named tuple\n",
    "person1 = Person(\"Alice\", 30, \"female\")\n",
    "person2 = Person(\"Bob\", 25, \"male\")\n",
    "\n",
    "# Accessing fields using dot notation\n",
    "print(person1.name)   # Output: Alice\n",
    "print(person2.age)    # Output: 25\n",
    "\n",
    "# Named tuple objects are also tuples\n",
    "print(person1[1])     # Output: 30\n",
    "\n",
    "# Named tuple objects are immutable\n",
    "# person1.name = \"Carol\"  # This will raise an AttributeError\n",
    "\n",
    "# Unpacking named tuples\n",
    "name, age, gender = person2\n",
    "print(name, age, gender)  # Output: Bob 25 male\n"
   ]
  },
  {
   "cell_type": "code",
   "execution_count": 16,
   "id": "3aa35a32-38d8-4515-8c95-ed0b082444fe",
   "metadata": {},
   "outputs": [
    {
     "name": "stdout",
     "output_type": "stream",
     "text": [
      "1 2\n"
     ]
    }
   ],
   "source": [
    "from collections import namedtuple\n",
    "\n",
    "point = namedtuple('point', 'x, y')\n",
    "p = point(1, 2)\n",
    "print(p.x, p.y)"
   ]
  },
  {
   "cell_type": "markdown",
   "id": "6f10c6f6-42ad-4282-adf3-52234bf84007",
   "metadata": {
    "jp-MarkdownHeadingCollapsed": true
   },
   "source": [
    "### **3) Default Dict**\n",
    "defaultdict is a class from the collections module in Python that is a subclass of the built-in dict class. It provides a convenient way to create dictionaries with default values for keys that do not exist. This can be very useful for scenarios where you want to avoid KeyError exceptions when accessing non-existing keys. If you call a non-defined key, it will return default value that we defined. Here are some examples of using defaultdict:"
   ]
  },
  {
   "cell_type": "code",
   "execution_count": 12,
   "id": "72a264ae-f3be-4fc4-ad9a-1f567944f7a2",
   "metadata": {},
   "outputs": [
    {
     "name": "stdout",
     "output_type": "stream",
     "text": [
      "defaultdict(<class 'int'>, {'one': 1, 'two': 2})\n",
      "0\n"
     ]
    }
   ],
   "source": [
    "from collections import defaultdict\n",
    "\n",
    "# Example 1: Using int as default factory\n",
    "number_dict = defaultdict(int)\n",
    "number_dict[\"one\"] += 1\n",
    "number_dict[\"two\"] += 2\n",
    "\n",
    "print(number_dict)\n",
    "# Output: defaultdict(<class 'int'>, {'one': 1, 'two': 2, 'three': 0})\n",
    "\n",
    "print(number_dict[\"three\"])"
   ]
  },
  {
   "cell_type": "code",
   "execution_count": 13,
   "id": "c3909d14-c344-4081-9817-185bc8428d1a",
   "metadata": {},
   "outputs": [
    {
     "name": "stdout",
     "output_type": "stream",
     "text": [
      "defaultdict(<class 'list'>, {'fruits': ['apple', 'banana']})\n"
     ]
    }
   ],
   "source": [
    "# Example 2: Using list as default factory\n",
    "list_dict = defaultdict(list)\n",
    "list_dict[\"fruits\"].append(\"apple\")\n",
    "list_dict[\"fruits\"].append(\"banana\")\n",
    "\n",
    "print(list_dict)\n",
    "# Output: defaultdict(<class 'list'>, {'fruits': ['apple', 'banana']})\n"
   ]
  },
  {
   "cell_type": "code",
   "execution_count": 14,
   "id": "38b711b1-b27d-433f-aaf6-656f35516c8a",
   "metadata": {},
   "outputs": [
    {
     "name": "stdout",
     "output_type": "stream",
     "text": [
      "defaultdict(<function <lambda> at 0x00000232AC07DEE0>, {'colors': {'blue', 'red'}})\n"
     ]
    }
   ],
   "source": [
    "# Example 3: Using lambda function as default factory\n",
    "dict_of_sets = defaultdict(lambda: set())\n",
    "dict_of_sets[\"colors\"].add(\"red\")\n",
    "dict_of_sets[\"colors\"].add(\"blue\")\n",
    "\n",
    "print(dict_of_sets)\n",
    "# Output: defaultdict(<function <lambda> at 0x...>, {'colors': {'red', 'blue'}})\n"
   ]
  },
  {
   "cell_type": "code",
   "execution_count": 15,
   "id": "e5849456-bc63-4626-a97c-60bbd44e1578",
   "metadata": {},
   "outputs": [
    {
     "name": "stdout",
     "output_type": "stream",
     "text": [
      "7\n"
     ]
    }
   ],
   "source": [
    "d = defaultdict(lambda : 7)\n",
    "d['one'] = 1\n",
    "print(d[\"two\"])"
   ]
  },
  {
   "cell_type": "markdown",
   "id": "a7a5658e-2ee6-4bef-bbb8-e84bc9f77938",
   "metadata": {},
   "source": [
    "In these examples, notice that we didn't need to explicitly create keys with default values. Instead, when we accessed a key that didn't exist, a default value was automatically created based on the specified default factory. You can use various types as default factories, including int, list, set, and custom functions.\n",
    "\n",
    "defaultdict is particularly useful when working with data structures where you need to store multiple values for a key (like a list or set) or where you want to keep track of counts without the need for manually initializing each key. It simplifies the code and makes it more readable by eliminating the need for checking whether a key exists before accessing or modifying it."
   ]
  },
  {
   "cell_type": "markdown",
   "id": "79bfc6ad-5a62-4a1e-828a-a6ad2cfaf979",
   "metadata": {
    "jp-MarkdownHeadingCollapsed": true
   },
   "source": [
    "### **4) Ordered Dict**\n",
    "OrderedDict is a class from the collections module in Python that is a dictionary subclass that maintains the order of keys in the order they were inserted. Unlike the built-in dict class, which does not guarantee any specific order of keys, an OrderedDict remembers the order of insertion. This can be very useful when you need to maintain a specific order for the keys in your dictionary. However, after Python 3.7 released, this property provided defaulty by dictionaries. So there is no need to use this dict type if you have 3.7 or higher version of python. Here are some examples of using OrderedDict:"
   ]
  },
  {
   "cell_type": "code",
   "execution_count": null,
   "id": "5009dccf-80d7-4bc8-8461-f657a72f4cd7",
   "metadata": {},
   "outputs": [],
   "source": [
    "from collections import OrderedDict\n",
    "\n",
    "# Example 1: Using OrderedDict to maintain insertion order\n",
    "ordered_dict = OrderedDict()\n",
    "ordered_dict[\"a\"] = 1\n",
    "ordered_dict[\"b\"] = 2\n",
    "ordered_dict[\"c\"] = 3\n",
    "\n",
    "print(ordered_dict)\n",
    "# Output: OrderedDict([('a', 1), ('b', 2), ('c', 3)])\n",
    "\n",
    "# Example 2: Initializing OrderedDict with a list of tuples\n",
    "data = [(\"apple\", 3), (\"banana\", 2), (\"orange\", 5)]\n",
    "fruit_dict = OrderedDict(data)\n",
    "\n",
    "print(fruit_dict)\n",
    "# Output: OrderedDict([('apple', 3), ('banana', 2), ('orange', 5)])\n",
    "\n",
    "# Example 3: Reordering keys in an OrderedDict\n",
    "ordered_dict.move_to_end(\"a\")  # Move key 'a' to the end\n",
    "\n",
    "print(ordered_dict)\n",
    "# Output: OrderedDict([('b', 2), ('c', 3), ('a', 1)])\n"
   ]
  },
  {
   "cell_type": "markdown",
   "id": "e0b01991-a88b-41d4-b650-6851a1fce0b8",
   "metadata": {
    "jp-MarkdownHeadingCollapsed": true
   },
   "source": [
    "### **5) Deque** \n",
    "deque class from the collections module in Python represents a double-ended queue, which is an ordered collection of elements that allows efficient adding and removing of elements from both ends. The name \"deque\" stands for \"double-ended queue.\" Deques provide O(1) time complexity for adding or removing elements from either end, making them useful for scenarios where you need efficient queue or stack operations. Here are some examples of using deque:"
   ]
  },
  {
   "cell_type": "code",
   "execution_count": 17,
   "id": "0cd6823d-dd40-42b6-98ce-66fbcfa8eb2d",
   "metadata": {},
   "outputs": [
    {
     "name": "stdout",
     "output_type": "stream",
     "text": [
      "deque([0, 1, 2, 3, 4, 5])\n",
      "5\n",
      "0\n"
     ]
    }
   ],
   "source": [
    "from collections import deque\n",
    "\n",
    "# Example 1: Creating and using a deque\n",
    "my_deque = deque([1, 2, 3, 4])\n",
    "my_deque.append(5)         # Add to the right end\n",
    "my_deque.appendleft(0)     # Add to the left end\n",
    "\n",
    "print(my_deque)\n",
    "# Output: deque([0, 1, 2, 3, 4, 5])\n",
    "\n",
    "popped_element = my_deque.pop()        # Remove from the right end\n",
    "popped_left_element = my_deque.popleft()  # Remove from the left end\n",
    "\n",
    "print(popped_element)           # Output: 5\n",
    "print(popped_left_element)      # Output: 0\n"
   ]
  },
  {
   "cell_type": "code",
   "execution_count": 19,
   "id": "0226599e-f3cb-45eb-88af-eeb07c9046ae",
   "metadata": {},
   "outputs": [
    {
     "name": "stdout",
     "output_type": "stream",
     "text": [
      "deque([2, 3, 4, 1])\n",
      "deque([3, 4, 1, 2])\n"
     ]
    }
   ],
   "source": [
    "# Example 2: Rotating the deque\n",
    "my_deque.rotate(2)  # Rotate to the right by 2 positions\n",
    "\n",
    "print(my_deque)\n",
    "# Output: deque([3, 4, 1, 2])\n",
    "\n",
    "my_deque.rotate(-1)  # Rotate to the left by 1 position\n",
    "print(my_deque)\n",
    "# Output: deque([4, 1, 2, 3])"
   ]
  },
  {
   "cell_type": "code",
   "execution_count": 21,
   "id": "f5a4fe5e-ccfd-4756-840f-ea51a3b6bfcc",
   "metadata": {},
   "outputs": [
    {
     "name": "stdout",
     "output_type": "stream",
     "text": [
      "apple\n",
      "blue\n"
     ]
    }
   ],
   "source": [
    "# Example 3: Using deque as a queue\n",
    "queue = deque()\n",
    "queue.append(\"apple\")\n",
    "queue.append(\"banana\")\n",
    "queue.append(\"orange\")\n",
    "\n",
    "print(queue.popleft())  # Output: apple\n",
    "\n",
    "# Example 4: Using deque as a stack\n",
    "stack = deque()\n",
    "stack.append(\"red\")\n",
    "stack.append(\"green\")\n",
    "stack.append(\"blue\")\n",
    "\n",
    "print(stack.pop())  # Output: blue"
   ]
  },
  {
   "cell_type": "code",
   "execution_count": 22,
   "id": "a5294215-df2d-4634-985f-c0c73880c786",
   "metadata": {},
   "outputs": [
    {
     "name": "stdout",
     "output_type": "stream",
     "text": [
      "deque([1, 2, 3, 4, 5, 6])\n",
      "deque([3, 2, 1, 4, 5, 6])\n"
     ]
    }
   ],
   "source": [
    "# # Example 5: Extending deque\n",
    "my_deque = deque([1, 2, 3])\n",
    "my_deque.extend([4, 5, 6])\n",
    "\n",
    "print(my_deque)\n",
    "# Output: deque([1, 2, 3, 4, 5, 6])\n",
    "\n",
    "my_deque = deque([4, 5, 6])\n",
    "my_deque.extendleft([1, 2, 3])\n",
    "\n",
    "print(my_deque)\n",
    "# Output: deque([3, 2, 1, 4, 5, 6])\n"
   ]
  },
  {
   "cell_type": "markdown",
   "id": "ebbfcd1c-65fa-42ae-9b04-2c4c9f7e0a86",
   "metadata": {},
   "source": [
    "All other list properties can be applied to deques"
   ]
  }
 ],
 "metadata": {
  "kernelspec": {
   "display_name": "Python 3 (ipykernel)",
   "language": "python",
   "name": "python3"
  },
  "language_info": {
   "codemirror_mode": {
    "name": "ipython",
    "version": 3
   },
   "file_extension": ".py",
   "mimetype": "text/x-python",
   "name": "python",
   "nbconvert_exporter": "python",
   "pygments_lexer": "ipython3",
   "version": "3.11.2"
  }
 },
 "nbformat": 4,
 "nbformat_minor": 5
}
