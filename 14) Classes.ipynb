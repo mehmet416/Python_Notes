{
 "cells": [
  {
   "cell_type": "markdown",
   "id": "005486e4-5085-4a65-a499-a79dcab919c4",
   "metadata": {},
   "source": [
    "# CLASSES"
   ]
  },
  {
   "cell_type": "markdown",
   "id": "fbee4f8f-53a3-4709-8b15-dbb047ea963f",
   "metadata": {},
   "source": [
    "### Class Definition:\n",
    "\n",
    "Classes are used to create custom data types in Python.\n",
    "A class is a blueprint for creating objects with shared attributes and methods.\n",
    "You can define a class using the class keyword."
   ]
  },
  {
   "cell_type": "code",
   "execution_count": 2,
   "id": "1b00991a-2a3f-4274-8e4c-bf6f95657290",
   "metadata": {},
   "outputs": [
    {
     "name": "stdout",
     "output_type": "stream",
     "text": [
      "<class '__main__.Person'>\n"
     ]
    }
   ],
   "source": [
    "class Person:\n",
    "    pass\n",
    "person1 = Person()\n",
    "print(type(person1))"
   ]
  },
  {
   "cell_type": "markdown",
   "id": "e3288c4b-175b-483c-b8a4-e4492b793402",
   "metadata": {},
   "source": [
    "### Instance Creation:\n",
    "\n",
    "An instance is an individual object created from a class.\n",
    "Instances have their own unique attributes and can call class methods."
   ]
  },
  {
   "cell_type": "code",
   "execution_count": 3,
   "id": "2dd9c727-81a2-484c-89c7-5bc241a23414",
   "metadata": {},
   "outputs": [],
   "source": [
    "person1 = Person()\n",
    "person2 = Person()"
   ]
  },
  {
   "cell_type": "code",
   "execution_count": 4,
   "id": "fe5486d8-dc1d-4d02-92b7-bef4660cf134",
   "metadata": {},
   "outputs": [],
   "source": [
    "person1.first = \"John\"\n",
    "person1.last = \"Richard\"\n",
    "person1.email = \"john.richard@email.com\"\n",
    "person1.wage = 5000\n",
    "\n",
    "person2.first = \"Test\"\n",
    "person2.last = \"user\"\n",
    "person2.email = \"test.user@email.com\"\n",
    "person2.wage = 6000\n"
   ]
  },
  {
   "cell_type": "markdown",
   "id": "57eb0d3b-654c-458b-905e-3c19680686c8",
   "metadata": {},
   "source": [
    "### We have a more efficient way to attribute special methods."
   ]
  },
  {
   "cell_type": "markdown",
   "id": "82dc0d21-7a6c-4894-8a6e-3497075e7cd1",
   "metadata": {},
   "source": [
    "### Constructor (__init__ method):\n",
    "\n",
    "The __init__ method is a special method used to initialize instance attributes when an object is created.\n",
    "It is automatically called when an instance is created."
   ]
  },
  {
   "cell_type": "code",
   "execution_count": 11,
   "id": "55a2b24f-1cfd-43f1-ab75-efcf1eca9798",
   "metadata": {},
   "outputs": [
    {
     "name": "stdout",
     "output_type": "stream",
     "text": [
      "John\n",
      "Test\n",
      "John.Richard@email.com\n",
      "Test.User@email.com\n"
     ]
    }
   ],
   "source": [
    "class Person:\n",
    "    def __init__(self, first, last, wage):\n",
    "        self.first = first \n",
    "        self.last = last \n",
    "        self.email = first + \".\"+ last+ \"@email.com\"\n",
    "        self.wage = wage \n",
    "\n",
    "person1 = Person(\"John\", \"Richard\", 5000 )\n",
    "person2 = Person(\"Test\", \"User\", 6000)\n",
    "print(person1.first)\n",
    "print(person2.first)\n",
    "print(person1.email)\n",
    "print(person2.email)"
   ]
  },
  {
   "cell_type": "markdown",
   "id": "07d700a4-5cd2-43fa-89c9-02480bae3288",
   "metadata": {},
   "source": [
    "### Instance Methods:\n",
    "\n",
    "Instance methods are functions defined within a class and can access and modify instance attributes. The first parameter of an instance method is always self."
   ]
  },
  {
   "cell_type": "code",
   "execution_count": 13,
   "id": "a47df2cd-fe09-4777-a83d-dfc8f083c8b5",
   "metadata": {},
   "outputs": [
    {
     "name": "stdout",
     "output_type": "stream",
     "text": [
      "John Richard\n"
     ]
    }
   ],
   "source": [
    "class Person:\n",
    "    def __init__(self, first, last, wage):\n",
    "        self.first = first \n",
    "        self.last = last \n",
    "        self.email = first + \".\"+ last+ \"@email.com\"\n",
    "        self.wage = wage \n",
    "    def fullname(self):\n",
    "        return f\"{self.first} {self.last}\"\n",
    "person1 = Person(\"John\", \"Richard\", 5000 )\n",
    "print(person1.fullname())"
   ]
  },
  {
   "cell_type": "code",
   "execution_count": 14,
   "id": "b582fb35-2aa8-4c3e-b18c-bbbfbc6db8db",
   "metadata": {},
   "outputs": [
    {
     "name": "stdout",
     "output_type": "stream",
     "text": [
      "John Richard\n",
      "John Richard\n"
     ]
    }
   ],
   "source": [
    "# note that Person.fullname(person1) gives the same result as person1.fullname()\n",
    "# also when we want to create a new method, do not forget to write self in the paranthesis since we apply the function to the instance we created before. \n",
    "print(person1.fullname())\n",
    "print(Person.fullname(person1))"
   ]
  },
  {
   "cell_type": "markdown",
   "id": "1fb0d19c-6d4f-472f-bf6c-1c0a09a63b65",
   "metadata": {},
   "source": [
    "### Class Variables"
   ]
  },
  {
   "cell_type": "markdown",
   "id": "ff183a7f-9e96-49be-a6b2-fd3f2a49fcc0",
   "metadata": {},
   "source": [
    "Class variables are shared among all instances of a class.\n",
    "\n",
    "They are defined within the class but outside any instance methods\n",
    "\r\n",
    "Class variables are the same for all objects (instances) of the class.\r\n"
   ]
  },
  {
   "cell_type": "code",
   "execution_count": 20,
   "id": "1668d1e2-e042-43d6-a052-010305f31b82",
   "metadata": {},
   "outputs": [],
   "source": [
    "class Employee:\n",
    "    # Class variable\n",
    "    raise_amount = 1.04\n",
    "\n",
    "    def __init__(self, first, last, salary):\n",
    "        self.first = first\n",
    "        self.last = last\n",
    "        self.salary = salary\n",
    "\n",
    "    def apply_raise(self):\n",
    "        # Accessing the class variable using the class name\n",
    "        self.salary = self.salary * Employee.raise_amount # note that if we do not put Employee at the begining of raise_amount, we will get an error since raise amount defined in class"
   ]
  },
  {
   "cell_type": "markdown",
   "id": "1c9919f4-739b-4658-94f7-fcd1b5bf2486",
   "metadata": {},
   "source": [
    "Accessing Class Variables:\r\n",
    "\r\n",
    "Class variables can be accessed using the class name or any instance of the class.\r\n",
    "When accessing a class variable through an instance, Python first looks for the variable in the instance's namespace and then in the class's namespace."
   ]
  },
  {
   "cell_type": "code",
   "execution_count": 21,
   "id": "f9a70d04-fb31-41b7-af6d-26f39778bcb7",
   "metadata": {},
   "outputs": [
    {
     "name": "stdout",
     "output_type": "stream",
     "text": [
      "1.04\n",
      "1.04\n"
     ]
    }
   ],
   "source": [
    "emp1 = Employee(\"John\", \"Doe\", 50000)\n",
    "emp2 = Employee(\"Jane\", \"Smith\", 60000)\n",
    "\n",
    "# Accessing the class variable through an instance\n",
    "print(emp1.raise_amount)  # Output: 1.04\n",
    "\n",
    "# Accessing the class variable directly through the class name\n",
    "print(Employee.raise_amount)  # Output: 1.04"
   ]
  },
  {
   "cell_type": "markdown",
   "id": "ac85fcac-72b0-4fd5-9891-8be49940f45d",
   "metadata": {},
   "source": [
    "Modifying Class Variables:\n",
    "\n",
    "Class variables can be modified through the class or any instance.\n",
    "When modified through an instance, a new instance variable is created, and it shadows the class variable for that specific instance.\n",
    "To modify the class variable for all instances, you should modify it through the class itself."
   ]
  },
  {
   "cell_type": "code",
   "execution_count": 28,
   "id": "cd173733-eb84-46a1-a9cc-3cd495ac9ce6",
   "metadata": {},
   "outputs": [
    {
     "name": "stdout",
     "output_type": "stream",
     "text": [
      "1.05\n",
      "1.04\n",
      "1.04\n"
     ]
    }
   ],
   "source": [
    "emp1.raise_amount = 1.05  # Modifying class variable for emp1 instance only\n",
    "\n",
    "print(emp1.raise_amount)  # Output: 1.05\n",
    "print(emp2.raise_amount)  # Output: 1.04\n",
    "\n",
    "print(Employee.raise_amount)  # Output: 1.04 (Class variable remains unchanged)"
   ]
  },
  {
   "cell_type": "markdown",
   "id": "6bdc5eca-cb76-43d8-a7af-50a831a2765c",
   "metadata": {},
   "source": [
    "Namespace and Attribute Lookup:\n",
    "\n",
    "When accessing an attribute (variable) on an object (instance), Python first looks for it in the instance's namespace, then in the class's namespace, and finally in the base classes' namespaces (in the order of method resolution)."
   ]
  },
  {
   "cell_type": "code",
   "execution_count": 30,
   "id": "99ebeb18-b6a2-44d0-8c09-f560028463d9",
   "metadata": {},
   "outputs": [
    {
     "name": "stdout",
     "output_type": "stream",
     "text": [
      "{'first': 'John', 'last': 'Doe', 'salary': 50000, 'raise_amount': 1.05}\n",
      "{'first': 'Jane', 'last': 'Smith', 'salary': 60000}\n",
      "{'__module__': '__main__', 'raise_amount': 1.04, '__init__': <function Employee.__init__ at 0x000001DAD88DC7C0>, 'apply_raise': <function Employee.apply_raise at 0x000001DAD88DCC20>, '__dict__': <attribute '__dict__' of 'Employee' objects>, '__weakref__': <attribute '__weakref__' of 'Employee' objects>, '__doc__': None}\n"
     ]
    }
   ],
   "source": [
    "print(emp1.__dict__)  # Output: {'first': 'John', 'last': 'Doe', 'salary': 50000, 'raise_amount': 1.05}\n",
    "print(emp2.__dict__)  # Output: {'first': 'Jane', 'last': 'Smith', 'salary': 60000}\n",
    "print(Employee.__dict__)"
   ]
  },
  {
   "cell_type": "markdown",
   "id": "5fc5714c-f57a-47cf-8393-25329c8447ce",
   "metadata": {},
   "source": [
    "How can we find number of instances we created by using a class? <br>\n",
    "Create a class variable as a counter and increase counter in __init__ function. Sınce  whenever we create a sample, class will run __init__ function."
   ]
  },
  {
   "cell_type": "code",
   "execution_count": 33,
   "id": "2d03a02f-c2e2-4567-953f-d64c2984e983",
   "metadata": {},
   "outputs": [
    {
     "name": "stdout",
     "output_type": "stream",
     "text": [
      "0\n",
      "2\n"
     ]
    }
   ],
   "source": [
    "class Employee:\n",
    "    emp_num = 0\n",
    "    def __init__(self, first, last, salary):\n",
    "        self.first = first\n",
    "        self.last = last\n",
    "        self.salary = salary\n",
    "        Employee.emp_num+=1\n",
    "print(Employee.emp_num)\n",
    "emp1 = Employee(\"John\", \"Doe\", 50000)\n",
    "emp2 = Employee(\"Jane\", \"Smith\", 60000)\n",
    "print(Employee.emp_num)"
   ]
  },
  {
   "cell_type": "markdown",
   "id": "166f77ea-010d-4e5b-98e9-7bf521c74266",
   "metadata": {},
   "source": [
    "### Class Methods"
   ]
  },
  {
   "cell_type": "markdown",
   "id": "3cf421cc-9ba8-47b7-b173-495e0d2b2142",
   "metadata": {},
   "source": [
    "Class methods are methods that are bound to the class and not the instance (object) of the class. <br>\n",
    "They take the class itself as the first argument, typically named \"cls\".<br>\n",
    "Class methods are defined using the @classmethod decorator."
   ]
  },
  {
   "cell_type": "markdown",
   "id": "2e4c42c0-ac65-479c-a272-33b44ba23769",
   "metadata": {},
   "source": [
    "Accessing Class Methods:\n",
    "\n",
    "Class methods can be called using the class name.<br>\n",
    "They automatically receive the class as the first argument (i.e., cls)."
   ]
  },
  {
   "cell_type": "code",
   "execution_count": 37,
   "id": "9bbec261-e31c-4a3c-854e-6c39ed0cb224",
   "metadata": {},
   "outputs": [
    {
     "name": "stdout",
     "output_type": "stream",
     "text": [
      "1.04\n",
      "1.05\n"
     ]
    }
   ],
   "source": [
    "class Employee:\n",
    "    raise_amount = 1.04\n",
    "\n",
    "    def __init__(self, first, last, salary):\n",
    "        self.first = first\n",
    "        self.last = last\n",
    "        self.salary = salary\n",
    "\n",
    "    @classmethod\n",
    "    def set_raise_amount(cls, amount):\n",
    "        cls.raise_amount = amount\n",
    "print(Employee.raise_amount)\n",
    "Employee.set_raise_amount(1.05)\n",
    "print(Employee.raise_amount)"
   ]
  },
  {
   "cell_type": "markdown",
   "id": "e3553738-abc8-4764-a1ba-72912c417cf8",
   "metadata": {},
   "source": [
    "Alternative Constructor using Class Methods:\n",
    "\n",
    "Class methods are commonly used as alternative constructors to create objects using different input formats.<br>\n",
    "They provide flexibility when creating instances."
   ]
  },
  {
   "cell_type": "code",
   "execution_count": 47,
   "id": "69f65034-044e-4466-b905-566269bdedc6",
   "metadata": {},
   "outputs": [
    {
     "name": "stdout",
     "output_type": "stream",
     "text": [
      "John Doe 50000\n",
      "1\n"
     ]
    }
   ],
   "source": [
    "class Employee:\n",
    "    employees=0\n",
    "    def __init__(self, first, last, salary):\n",
    "        self.first = first\n",
    "        self.last = last\n",
    "        self.salary = salary\n",
    "        Employee.employees+=1\n",
    "\n",
    "    @classmethod\n",
    "    def from_string(cls, emp_string):\n",
    "        first, last, salary = emp_string.split(\"-\")\n",
    "        return cls(first, last, int(salary))\n",
    "    @classmethod\n",
    "    def emp_num(cls):\n",
    "        return cls.employees\n",
    "emp_string = \"John-Doe-50000\"\n",
    "emp3 = Employee.from_string(emp_string)  # Creating Employee instance from string\n",
    "print(emp3.first, emp3.last, emp3.salary)\n",
    "print(Employee.emp_num())"
   ]
  },
  {
   "cell_type": "markdown",
   "id": "cdb036e4-7783-4ee3-b8e1-3c903a92f666",
   "metadata": {},
   "source": [
    "### Static Methods"
   ]
  },
  {
   "cell_type": "markdown",
   "id": "bb4001f0-4783-4c01-86f4-5ef75b03c7a8",
   "metadata": {},
   "source": [
    "Static methods are methods that don't have access to the class or instance; they behave like regular functions but are included in the class for organization purposes.<br>\n",
    "They don't require any specific parameters like \"self\" or \"cls\".<br>\n",
    "Static methods are defined using the @staticmethod decorator.<br>"
   ]
  },
  {
   "cell_type": "code",
   "execution_count": 51,
   "id": "0352f36c-f867-4607-a43c-da362c727081",
   "metadata": {},
   "outputs": [],
   "source": [
    "class Employee:\n",
    "    def __init__(self, first, last, salary):\n",
    "        self.first = first\n",
    "        self.last = last\n",
    "        self.salary = salary\n",
    "        Employee.employees+=1\n",
    "\n",
    "    @staticmethod\n",
    "    def is_workday(day):\n",
    "        # Some logic to check if the given day is a workday\n",
    "        return day.weekday() not in [5, 6]"
   ]
  },
  {
   "cell_type": "markdown",
   "id": "ac4e6b03-0cdd-4d56-ab8b-08b9a5c099e1",
   "metadata": {},
   "source": [
    "Accessing Static Methods:\n",
    "\n",
    "Static methods can be called using the class name."
   ]
  },
  {
   "cell_type": "code",
   "execution_count": 52,
   "id": "928a9afd-7519-4fb3-bfb1-db4835878028",
   "metadata": {},
   "outputs": [
    {
     "name": "stdout",
     "output_type": "stream",
     "text": [
      "True\n"
     ]
    }
   ],
   "source": [
    "import datetime\n",
    "\n",
    "emp_date = datetime.date(2023, 7, 20)\n",
    "print(Employee.is_workday(emp_date))  # Output: True (if it's a workday)\n"
   ]
  },
  {
   "cell_type": "markdown",
   "id": "2f5bc2b4-870d-42ec-9772-6fbea9f72cec",
   "metadata": {},
   "source": [
    "Class methods and static methods offer flexibility in defining and using methods that are related to the class but don't depend on the state of the instance. They are powerful tools for organizing code and creating alternative ways to create instances or perform tasks associated with the class."
   ]
  }
 ],
 "metadata": {
  "kernelspec": {
   "display_name": "Python 3 (ipykernel)",
   "language": "python",
   "name": "python3"
  },
  "language_info": {
   "codemirror_mode": {
    "name": "ipython",
    "version": 3
   },
   "file_extension": ".py",
   "mimetype": "text/x-python",
   "name": "python",
   "nbconvert_exporter": "python",
   "pygments_lexer": "ipython3",
   "version": "3.11.2"
  }
 },
 "nbformat": 4,
 "nbformat_minor": 5
}
