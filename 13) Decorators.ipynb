{
 "cells": [
  {
   "cell_type": "markdown",
   "id": "ec9a3ddd-842e-449d-816d-0142b1dfae5e",
   "metadata": {},
   "source": [
    "# DECORATORS"
   ]
  },
  {
   "cell_type": "markdown",
   "id": "323acf85-8512-4035-a512-48238f8162aa",
   "metadata": {},
   "source": [
    "Decorators are a way to modify or enhance the behavior of functions or classes by wrapping them with another function. Decorators allow you to add functionality to existing code without modifying the original code directly. They are implemented using the \"@decorator_name\" syntax and can be applied to functions or classes."
   ]
  },
  {
   "cell_type": "code",
   "execution_count": 37,
   "id": "1784987e-e274-42ec-a0e3-1a0b3fae2641",
   "metadata": {},
   "outputs": [
    {
     "name": "stdout",
     "output_type": "stream",
     "text": [
      "some operations before func\n",
      "function is working\n",
      "some operations after func\n"
     ]
    },
    {
     "data": {
      "text/plain": [
       "'\\n@decorator_function\\ndef function():\\n    print(\"function is working\")\\n\\n# this would give the same result.\\n'"
      ]
     },
     "execution_count": 37,
     "metadata": {},
     "output_type": "execute_result"
    }
   ],
   "source": [
    "# basic logic behing decorators\n",
    "def decorator_func(func):\n",
    "    def wrapper():\n",
    "        print(\"some operations before func\")\n",
    "        result = func()\n",
    "        print(\"some operations after func\")\n",
    "        return result\n",
    "    return wrapper\n",
    "\n",
    "def function():\n",
    "    print(\"function is working\")\n",
    "\n",
    "function2 = decorator_func(function)\n",
    "function2()\n",
    "\n",
    "'''\n",
    "@decorator_function\n",
    "def function():\n",
    "    print(\"function is working\")\n",
    "\n",
    "# this would give the same result.\n",
    "'''"
   ]
  },
  {
   "cell_type": "code",
   "execution_count": 9,
   "id": "32eb56dd-8758-4ae6-aaac-15f21b40c07f",
   "metadata": {},
   "outputs": [
    {
     "name": "stdout",
     "output_type": "stream",
     "text": [
      "wrapper executed this before display\n",
      "display function ran\n"
     ]
    }
   ],
   "source": [
    "# Here's an example to illustrate the use of decorators:\n",
    "def decorator_function(original_function):\n",
    "    def wrapper_function():\n",
    "        print(f'wrapper executed this before {original_function.__name__}')\n",
    "        return original_function()\n",
    "    return wrapper_function\n",
    "\n",
    "def display():\n",
    "    print('display function ran')\n",
    "\n",
    "\n",
    "decorated_display = decorator_function(display)\n",
    "decorated_display()"
   ]
  },
  {
   "cell_type": "markdown",
   "id": "cbdb3cfd-7e89-4dcf-bed8-89dc63b7e7ff",
   "metadata": {},
   "source": [
    "Decorates are generally used in that way:"
   ]
  },
  {
   "cell_type": "code",
   "execution_count": 8,
   "id": "2fb65c39-be1f-4b30-8f6f-1386f8a46200",
   "metadata": {},
   "outputs": [
    {
     "name": "stdout",
     "output_type": "stream",
     "text": [
      "wrapper executed this before display\n",
      "display function ran\n"
     ]
    }
   ],
   "source": [
    "def decorator_function(original_function):\n",
    "    def wrapper_function():\n",
    "        print(f'wrapper executed this before {original_function.__name__}')\n",
    "        return original_function()\n",
    "    return wrapper_function\n",
    "@decorator_function  # indicating display = decorator_function(display)\n",
    "def display():\n",
    "    print('display function ran')\n",
    "display()"
   ]
  },
  {
   "cell_type": "markdown",
   "id": "ca78fcdf-9163-44e2-8c58-d9c5adbb78ce",
   "metadata": {},
   "source": [
    "### \"@decorator_function\"  this statement means \"display = decorator_function(display)\" "
   ]
  },
  {
   "cell_type": "code",
   "execution_count": 16,
   "id": "537d25a4-3280-49d7-8b99-0c271a95330c",
   "metadata": {},
   "outputs": [
    {
     "ename": "TypeError",
     "evalue": "decorator_function.<locals>.wrapper_function() takes 0 positional arguments but 2 were given",
     "output_type": "error",
     "traceback": [
      "\u001b[1;31m---------------------------------------------------------------------------\u001b[0m",
      "\u001b[1;31mTypeError\u001b[0m                                 Traceback (most recent call last)",
      "Cell \u001b[1;32mIn[16], line 10\u001b[0m\n\u001b[0;32m      7\u001b[0m \u001b[38;5;129m@decorator_function\u001b[39m\n\u001b[0;32m      8\u001b[0m \u001b[38;5;28;01mdef\u001b[39;00m \u001b[38;5;21mdisplay_info\u001b[39m(name, age):\n\u001b[0;32m      9\u001b[0m     \u001b[38;5;28mprint\u001b[39m(\u001b[38;5;124mf\u001b[39m\u001b[38;5;124m'\u001b[39m\u001b[38;5;124mdisplay_info ran with arguments (\u001b[39m\u001b[38;5;132;01m{\u001b[39;00mname\u001b[38;5;132;01m}\u001b[39;00m\u001b[38;5;124m, \u001b[39m\u001b[38;5;132;01m{\u001b[39;00mage\u001b[38;5;132;01m}\u001b[39;00m\u001b[38;5;124m)\u001b[39m\u001b[38;5;124m'\u001b[39m)\n\u001b[1;32m---> 10\u001b[0m \u001b[43mdisplay_info\u001b[49m\u001b[43m(\u001b[49m\u001b[38;5;124;43m\"\u001b[39;49m\u001b[38;5;124;43mJohn\u001b[39;49m\u001b[38;5;124;43m\"\u001b[39;49m\u001b[43m,\u001b[49m\u001b[43m \u001b[49m\u001b[38;5;241;43m25\u001b[39;49m\u001b[43m)\u001b[49m \n",
      "\u001b[1;31mTypeError\u001b[0m: decorator_function.<locals>.wrapper_function() takes 0 positional arguments but 2 were given"
     ]
    }
   ],
   "source": [
    "def decorator_function(original_function):\n",
    "    def wrapper_function():\n",
    "        print(f'wrapper executed this before {original_function.__name__}')\n",
    "        return original_function()\n",
    "    return wrapper_function\n",
    "\n",
    "@decorator_function\n",
    "def display_info(name, age):\n",
    "    print(f'display_info ran with arguments ({name}, {age})')\n",
    "display_info(\"John\", 25) "
   ]
  },
  {
   "cell_type": "code",
   "execution_count": 17,
   "id": "d5c9aeda-34a2-4c19-a1c7-ea25fe580f51",
   "metadata": {},
   "outputs": [
    {
     "name": "stdout",
     "output_type": "stream",
     "text": [
      "wrapper executed this before display_info\n",
      "display_info ran with arguments (John, 25)\n"
     ]
    }
   ],
   "source": [
    "# since wrapper function does not take any item, we get an error.\n",
    "# to escape this error, use *args and **kwargs in wraper_function\n",
    "def decorator_function(original_function):\n",
    "    def wrapper_function(*args, **kwargs):\n",
    "        print(f'wrapper executed this before {original_function.__name__}')\n",
    "        return original_function(*args, **kwargs)\n",
    "    return wrapper_function\n",
    "\n",
    "@decorator_function\n",
    "def display_info(name, age):\n",
    "    print(f'display_info ran with arguments ({name}, {age})')\n",
    "display_info(\"John\", 25) "
   ]
  },
  {
   "cell_type": "markdown",
   "id": "8fe1d47e-7661-4982-8b36-99528e8e34e1",
   "metadata": {},
   "source": [
    "### Decorators also can used with classes"
   ]
  },
  {
   "cell_type": "code",
   "execution_count": 18,
   "id": "a24035cb-3e2d-40c2-add4-f3d436dbde43",
   "metadata": {},
   "outputs": [
    {
     "name": "stdout",
     "output_type": "stream",
     "text": [
      "call method executed this before display_info\n",
      "display_info ran with arguments (John, 25)\n"
     ]
    }
   ],
   "source": [
    "class decorated_class(object):\n",
    "    def __init__(self, original_function):\n",
    "        self.original_function = original_function\n",
    "\n",
    "    def __call__(self, *args, **kwargs):\n",
    "        print('call method executed this before {}'.format(self.original_function.__name__))\n",
    "        return self.original_function(*args, **kwargs)\n",
    "@decorated_class\n",
    "def display_info(name, age):\n",
    "    print(f'display_info ran with arguments ({name}, {age})')\n",
    "display_info(\"John\", 25) "
   ]
  },
  {
   "cell_type": "code",
   "execution_count": 32,
   "id": "86eeee63-eb2a-4da3-b7e4-ac197aa5de4f",
   "metadata": {},
   "outputs": [
    {
     "name": "stdout",
     "output_type": "stream",
     "text": [
      "factorial ran in 0.0 seconds\n",
      "93326215443944152681699238856266700490715968264381621468592963895217599993229915608941463976156518286253697920827223758251185210916864000000000000000000000000\n"
     ]
    }
   ],
   "source": [
    "def how_much_time(func):\n",
    "    import time\n",
    "    def wrapper(*args, **kwargs):\n",
    "        t1 = time.time()\n",
    "        result = func(*args, **kwargs)\n",
    "        t2 = time.time()\n",
    "        print(f'{func.__name__} ran in {t2-t1} seconds')\n",
    "        return result\n",
    "    return wrapper\n",
    "@how_much_time\n",
    "def factorial(n):\n",
    "    import math\n",
    "    return math.factorial(n)\n",
    "\n",
    "print(factorial(100))"
   ]
  },
  {
   "cell_type": "markdown",
   "id": "f54b7026-25d4-4282-abbc-4adbdcb6cda8",
   "metadata": {},
   "source": [
    "### Decorators with Arguments"
   ]
  },
  {
   "cell_type": "code",
   "execution_count": 2,
   "id": "fb2e6157-bad5-4515-9939-dea652c41fa9",
   "metadata": {},
   "outputs": [
    {
     "name": "stdout",
     "output_type": "stream",
     "text": [
      "TESTING:  Executed before display_info\n",
      "display_info ran with arguments John , 25\n",
      "TESTING:  Executed after display_info \n",
      "\n"
     ]
    }
   ],
   "source": [
    "def prefix_decorator(prefix):\n",
    "    def decorator_function(original_function):\n",
    "        def wrapper_function(*args, **kwargs):\n",
    "            print(prefix, 'Executed before', original_function.__name__)\n",
    "            result = original_function(*args, **kwargs)\n",
    "            print(prefix, 'Executed after', original_function.__name__, '\\n')\n",
    "            return result\n",
    "        return wrapper_function\n",
    "    return decorator_function\n",
    "\n",
    "@prefix_decorator(\"TESTING: \")\n",
    "def display_info(name, age):\n",
    "    print(f\"display_info ran with arguments {name} , {age}\")\n",
    "\n",
    "display_info(\"John\", 25) "
   ]
  }
 ],
 "metadata": {
  "kernelspec": {
   "display_name": "Python 3 (ipykernel)",
   "language": "python",
   "name": "python3"
  },
  "language_info": {
   "codemirror_mode": {
    "name": "ipython",
    "version": 3
   },
   "file_extension": ".py",
   "mimetype": "text/x-python",
   "name": "python",
   "nbconvert_exporter": "python",
   "pygments_lexer": "ipython3",
   "version": "3.11.2"
  }
 },
 "nbformat": 4,
 "nbformat_minor": 5
}
